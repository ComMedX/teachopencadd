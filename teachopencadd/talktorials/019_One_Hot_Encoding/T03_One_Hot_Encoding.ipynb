{
 "cells": [
  {
   "cell_type": "markdown",
   "metadata": {},
   "source": [
    "# Talktorial 3\n",
    "\n",
    "# The One-Hot Encoding Concept\n",
    "\n",
    "#### CADD Seminar 2020, AG Volkamer, Charité/FU Berlin \n",
    "\n",
    "#### SAKSHI MISRA\n",
    "\n",
    "Berlin,25 May 2020"
   ]
  },
  {
   "cell_type": "markdown",
   "metadata": {},
   "source": [
    "![green-divider](https://user-images.githubusercontent.com/7065401/52071924-c003ad80-2562-11e9-8297-1c6595f8a7ff.png)"
   ]
  },
  {
   "cell_type": "markdown",
   "metadata": {},
   "source": [
    "\n",
    "# Aim of this talkatorial\n",
    "\n",
    "The aim of the talkatorial is to perform One Hot Encoding using various different implementation on ChEMBL dataset to achieve more understanding on the One Hot Encoding Concept and why it is useful as a pre-processing step in various Machine Learning algorithm.\n",
    "\n",
    "<img src=\"./images/logo.png\" width=\"300\" align='center'>\n",
    "\n",
    "# Learning goals\n",
    "\n",
    "\n",
    "## Theory\n",
    "\n",
    "* ChEMBL database\n",
    "* SMILES structures\n",
    "    - Canonical Smiles\n",
    "* What is Categorical Data?\n",
    "    - What is the Problem with Categorical Data?\n",
    "    - How to Convert Categorical Data to Numerical Data?\n",
    "* One Hot Encoding Concept\n",
    "    - Why Use a One Hot Encoding?\n",
    "    - Example\n",
    "    - Advantages of Using One Hot Encoding\n",
    "    - Disadvantages of Using One Hot Encoding\n",
    "* Other similar Transformation\n",
    "    - Integer Encoding (Label Encoder)\n",
    "    - Example\n",
    "* Differences between Label and One Hot Encoding\n",
    "* Further Readings\n",
    "\n",
    "\n",
    "## Practical\n",
    "\n",
    "* Import necessary packages\n",
    "* Load and draw molecules\n",
    "* Apply One Hot encoding using own implementation\n",
    "  - Visualization of One Hot Encoded Matrix using Own Implementation (unequal dimension)\n",
    "* Function defined to Preprocess the Data\n",
    "* Apply One Hot encoding using own implementation on Preprocessed Data\n",
    "  - Visualization of One Hot Encoded Matrix using Own Implementation (equal dimension)\n",
    "* Apply One Hot encoding using implementation in [Scikit-learn](https://scikitlearn.org/stable/modules/generated/sklearn.preprocessing.LabelEncoder.html)\n",
    "  - Visualization of One Hot Encoded Matrix uisng Scikit-learn implementation\n",
    "* Apply One Hot encoding using implementation in [keras](https://keras.io/)\n",
    "  - Visualization of One Hot Encoded Matrix using keras implementation\n",
    " \n",
    "\n",
    "\n",
    "# References\n",
    "\n",
    "- Theoretical Background:\n",
    "     - Example using OneHotEncoder function from Scikit Learn (https://machinelearningmastery.com/how-to-one-hot-encode-sequence-data-in-python/)\n",
    "\n",
    "- Packages used:\n",
    "     -  rdkit (https://www.rdkit.org/docs/GettingStartedInPython.html)\n",
    "     - Scikit-learn (https://scikit-learn.org/stable/)\n",
    "     - keras (https://keras.io/)\n",
    "     - Matplotlib (https://matplotlib.org/)\n",
    "- Smiles Encoder function (https://iwatobipen.wordpress.com/2017/01/22/encode-and-decode-smiles-strings/)\n",
    "\n",
    "- Images used:\n",
    "     - Figure 1- One Hot Encdoing of Touelene ()\n",
    "     - Figure 2- One hot Encoding example (https://towardsdatascience.com/building-a-one-hot-encoding-layer-with-tensorflow-f907d686bf39)\n",
    "     - Figure 3- Label encoding example  (https://towardsdatascience.com/know-about-categorical-encoding-even-new-ones-c266227b9cbd)\n",
    "\n"
   ]
  },
  {
   "cell_type": "markdown",
   "metadata": {},
   "source": [
    "![green-divider](https://user-images.githubusercontent.com/7065401/52071924-c003ad80-2562-11e9-8297-1c6595f8a7ff.png)"
   ]
  },
  {
   "cell_type": "markdown",
   "metadata": {},
   "source": [
    "# Theory\n",
    "\n",
    "## ChEMBL database\n",
    "\n",
    "[ChEMBL](https://www.ebi.ac.uk/chembl/) is an open large-scale bioactivity database\n",
    "\n",
    "\n",
    "## SMILES structures\n",
    "[SMILES](https://en.wikipedia.org/wiki/Simplified_molecular-input_line-entry_system) (Simplified Molecular Input Line Entry System) notation is a chemical notation that allows a user to represent a chemical structure in a linear way that can be used by the computer.\n",
    "\n",
    " > ### Canonical Smiles\n",
    "\n",
    "--- \n",
    "\n",
    "## What is Categorical Data?\n",
    "Categorical data are variables that contain label values rather than numeric values.\n",
    "Some examples include:\n",
    "\n",
    "- A “pet” variable with the values: “dog” and “cat“.\n",
    "- A “color” variable with the values: “red“, “green” and “blue“.\n",
    "- A “place” variable with the values: “first”, “second” and “third“.\n",
    "\n",
    "Talking about in terms of bioinformatics, if we are using Machine learning Classifier to classify Cancerous and Normal Tissues cells, we can have label values say \"Lung Cancer\", \"Breast Cancer\", \"Liver Cancer\" and \"Healthy Controls\".\n",
    "We first need to One Hot Encode these Categorical label values and then we can apply Binary or Multi-Class Classifier to achieve classification results.\n",
    "\n",
    "> ### What is the Problem with Categorical Data?\n",
    "Machine Learning is, after all, a bunch of mathematical operations translated to a computer via low-level programming languages.Computers are brilliant when dealing with numbers. So, we must somehow convert our input data to numbers. \n",
    "There are many machine learning algorithms which cannot operate on categorical data directly so they must be converted to a numerical form. They require all input variables and output variables to be numeric.\n",
    "\n",
    "> ### How to Convert Categorical Data to Numerical Data?\n",
    "There are many ways to convert categorical values into numerical values.Each approach has its own positive and negative impact on the feature set. Hereby, I would be focussing on 2 main methods: `One-Hot-Encoding` and `Label-Encoder`.\n",
    "Both of these encoders are part of SciKit-learn library (one of the most widely used Python library) and are used to convert text or categorical data into numerical data which the model expects and perform better with.\n",
    "\n",
    "---\n",
    "\n",
    "## One Hot Encoding Concept\n",
    "One hot encoding is a vector representation where all the elements of the vector are 0 except one, which has 1 as its value. For example, [0 0 0 1 0 0] is a one-hot vector.\n",
    "Simply, One hot encoding also known as Binary encdoing, is a binary representation of categorical variables as binary vectors.\n",
    "\n",
    "Example shown here represents Toluene structure, its SMILES representation and how One Hot Encoding can be done with the SMILES structure\n",
    "\n",
    "<div style=\"text-align: center;\">\n",
    "    <img src=\"images/OneHotEncoding.png\" style=\"max-width: 800px; width:200%;\" />\n",
    "</div>\n",
    " \n",
    "*Figure 1:* Visual demonstration of how one can encode SMILES strings.\n",
    "\n",
    "Lets take a deeper look into the concept with the help of a simple example that will describe the basic concept One Hot Encoding, why it is useful and how one can approach towards it.\n",
    "\n",
    "> ### Why Use a One Hot Encoding?\n",
    "A one hot encoding allows the representation of categorical data to be more expressive.\n",
    "Its difficult for many machine learning algorithms to work with categorical data directly that's why the label values which are categorical must be converted into numbers first as a preprocessing step. This is required for both input and output variables that are categorical.\n",
    "We could use an integer encoding directly. This may work for problems where there is a natural ordinal relationship between the categories, and in turn the integer values, such as labels for temperature ‘cold’, warm’, and ‘hot’.\n",
    "There may be problems when there is no ordinal relationship and allowing the representation to lean on any such relationship might be damaging to learning to solve the problem. An example might be the labels ‘dog’ and ‘cat\n",
    "\n",
    "> ### Example\n",
    "Lets take a look at a very simple example to understand this concept.\n",
    "Lets assume we have the “color” variable which has three labels, `RED` , `YELLOW` and `GREEN`.\n",
    "All these labels must be converted into numeric form in order to work with our Machine Lerning algorithm, this can be done by creating three new columns having all the three labels and use “1” value for the color and “0” values for the other colors.\n",
    "\n",
    "\n",
    "<div style=\"text-align: center;\">\n",
    "    <img src=\"images/OneHotEncoding_eg.png\" style=\"max-width: 700px; width:150%;\" />\n",
    "</div>\n",
    "\n",
    "*Figure 2:* Visual demonstration of Simple example.\n",
    "\n",
    "\n",
    "\n",
    "\n",
    "> ###  Advantages of Using One Hot Encoding \n",
    "-  Machine Learning Algorithms are applicable (The major advantage of using One Hot Encoding is that we can apply all the types of Machine Learning algorithm to our dataset and analyse it further)\n",
    "-  Binary representation (We can create binary representation of our label values)\n",
    "\n",
    "\n",
    "> ###  Disadvantages of Using One Hot Encoding \n",
    "-  Increase dimensionality (After adding several columns based on variables, the dataset will be having more dimensions than before and in result it can increase the computational cost)\n",
    "-  Increase [Sparsity](https://en.wikipedia.org/wiki/Sparse_matrix) (sparse array is a matrix in which most of the elements are zero, One Hot Encoding will increase the sparsity of our dataset)\n",
    "\n",
    "---\n",
    "\n",
    "## Other similar Transformation\n",
    "\n",
    "### Integer Encoding (Label Encoder)\n",
    "\n",
    "This is called a label encoding or an integer encoding and is easily reversible.\n",
    "[Label Encoding](https://scikit-learn.org/stable/modules/generated/sklearn.preprocessing.LabelEncoder.html) is also a popular encoding technique for handling categorical variables. In this technique, each label is assigned a unique integer based on alphabetical ordering, so that machines can work with it properly.\n",
    "Machine learning algorithms can then decide in a better way on how labels must be operated. \n",
    "It is an important preprocessing step for the structured dataset in supervised learning.\n",
    "\n",
    "> ### Example\n",
    "For example as shown below, for a variable like color we can assign “red” as 1, “green” as 2, and “yellow” as 3.\n",
    "\n",
    "\n",
    "![OneHotEncoding Example](images/label_encoding_example.png)\n",
    "\n",
    "*Figure 3:* Visual demonstration of Simple example.\n",
    "\n",
    "> ### Advantages of Using Label Encoding\n",
    "\n",
    "---\n",
    "\n",
    "\n",
    "## Difference between Label and One Hot Encoding\n",
    "\n",
    "\n",
    "\n",
    "\n",
    "--- \n",
    "\n",
    "## Further Readings\n",
    "\n",
    "This section lists some resources for further reading\n",
    "\n",
    "- [What is one hot encoding and when is it used in data science?](https://www.quora.com/What-is-one-hot-encoding-and-when-is-it-used-in-data-science)\n",
    "- [Categorical encoding using Label-Encoding and One-Hot-Encoder](https://towardsdatascience.com/categorical-encoding-using-label-encoding-and-one-hot-encoder-911ef77fb5bd#:~:text=One%2DHot%20Encoding%20in%20Python&text=OneHotEncoder%20from%20SciKit%20library%20only,apply%20OneHotEncoder%20on%20column%20Bridge_Types_Cat.)\n",
    "- [How one can use matplotlib.pyplot.imshow() in Python](https://www.geeksforgeeks.org/matplotlib-pyplot-imshow-in-python/)"
   ]
  },
  {
   "cell_type": "markdown",
   "metadata": {},
   "source": [
    "![green-divider](https://user-images.githubusercontent.com/7065401/52071924-c003ad80-2562-11e9-8297-1c6595f8a7ff.png)"
   ]
  },
  {
   "cell_type": "markdown",
   "metadata": {},
   "source": [
    "# Practical\n",
    "\n",
    "## Imports"
   ]
  },
  {
   "cell_type": "code",
   "execution_count": 1,
   "metadata": {},
   "outputs": [
    {
     "name": "stderr",
     "output_type": "stream",
     "text": [
      "Using TensorFlow backend.\n"
     ]
    },
    {
     "name": "stdout",
     "output_type": "stream",
     "text": [
      "All packages are installed successfully\n"
     ]
    }
   ],
   "source": [
    "# importing all the necessary libraries\n",
    "import pandas as pd\n",
    "import numpy as np\n",
    "from rdkit.Chem import Draw\n",
    "from rdkit.Chem import PandasTools\n",
    "import matplotlib.pyplot as plt\n",
    "from sklearn.preprocessing import LabelEncoder\n",
    "from sklearn.preprocessing import OneHotEncoder\n",
    "from keras.utils import to_categorical\n",
    "print('All packages are installed successfully')"
   ]
  },
  {
   "cell_type": "code",
   "execution_count": 2,
   "metadata": {},
   "outputs": [],
   "source": [
    "# extension used to solve lint errors\n",
    "%load_ext pycodestyle_magic"
   ]
  },
  {
   "cell_type": "code",
   "execution_count": 3,
   "metadata": {},
   "outputs": [],
   "source": [
    "%pycodestyle_on"
   ]
  },
  {
   "cell_type": "code",
   "execution_count": null,
   "metadata": {},
   "outputs": [],
   "source": []
  },
  {
   "cell_type": "markdown",
   "metadata": {},
   "source": [
    "![green-divider](https://user-images.githubusercontent.com/7065401/52071924-c003ad80-2562-11e9-8297-1c6595f8a7ff.png)\n",
    "## Load and draw molecules\n",
    "\n",
    "Using `Pandas` library, we will first load the data from the [GitHub data repository](https://github.com/volkamerlab/CADDSeminar_2020/blob/master/data/CHEMBL25_activities_EGFR.csv) and then we can draw the molecules using `rdkit.draw` function.\n",
    "Finally we can apply different implementations of `One Hot Encoding` into the SMILES structures.\n",
    "\n",
    "Let's load the data and quickly analyze it's columns and values, also if there is any missing values:"
   ]
  },
  {
   "cell_type": "code",
   "execution_count": 4,
   "metadata": {},
   "outputs": [],
   "source": [
    "# Load data using absolute path\n",
    "df = pd.read_csv('../../data/CHEMBL25_activities_EGFR.csv',\n",
    "                 lineterminator='\\n', index_col=0)"
   ]
  },
  {
   "cell_type": "code",
   "execution_count": 5,
   "metadata": {},
   "outputs": [],
   "source": [
    "# below command used to remove warnings\n",
    "pd.options.mode.chained_assignment = None"
   ]
  },
  {
   "cell_type": "code",
   "execution_count": 6,
   "metadata": {},
   "outputs": [
    {
     "name": "stdout",
     "output_type": "stream",
     "text": [
      "(3906, 5)\n"
     ]
    }
   ],
   "source": [
    "# Check the dimension of the data\n",
    "print(df.shape)"
   ]
  },
  {
   "cell_type": "code",
   "execution_count": 7,
   "metadata": {},
   "outputs": [
    {
     "name": "stdout",
     "output_type": "stream",
     "text": [
      "<class 'pandas.core.frame.DataFrame'>\n",
      "Int64Index: 3906 entries, 1777 to 2783\n",
      "Data columns (total 5 columns):\n",
      "chembl_id           3906 non-null object\n",
      "IC50                3906 non-null float64\n",
      "units               3906 non-null object\n",
      "canonical_smiles    3906 non-null object\n",
      "pIC50\r",
      "              3906 non-null float64\n",
      "dtypes: float64(2), object(3)\n",
      "memory usage: 183.1+ KB\n"
     ]
    }
   ],
   "source": [
    "# Check for any missing values\n",
    "df.info()"
   ]
  },
  {
   "cell_type": "code",
   "execution_count": 8,
   "metadata": {},
   "outputs": [
    {
     "data": {
      "text/html": [
       "<div>\n",
       "<style scoped>\n",
       "    .dataframe tbody tr th:only-of-type {\n",
       "        vertical-align: middle;\n",
       "    }\n",
       "\n",
       "    .dataframe tbody tr th {\n",
       "        vertical-align: top;\n",
       "    }\n",
       "\n",
       "    .dataframe thead th {\n",
       "        text-align: right;\n",
       "    }\n",
       "</style>\n",
       "<table border=\"1\" class=\"dataframe\">\n",
       "  <thead>\n",
       "    <tr style=\"text-align: right;\">\n",
       "      <th></th>\n",
       "      <th>chembl_id</th>\n",
       "      <th>IC50</th>\n",
       "      <th>units</th>\n",
       "      <th>canonical_smiles</th>\n",
       "      <th>pIC50</th>\n",
       "    </tr>\n",
       "  </thead>\n",
       "  <tbody>\n",
       "    <tr>\n",
       "      <th>1777</th>\n",
       "      <td>CHEMBL207869</td>\n",
       "      <td>77.0</td>\n",
       "      <td>nM</td>\n",
       "      <td>Clc1c(OCc2cc(F)ccc2)ccc(Nc2c(C#Cc3ncccn3)cncn2)c1</td>\n",
       "      <td>7.113509</td>\n",
       "    </tr>\n",
       "    <tr>\n",
       "      <th>5785</th>\n",
       "      <td>CHEMBL3940060</td>\n",
       "      <td>330.0</td>\n",
       "      <td>nM</td>\n",
       "      <td>ClCC(=O)OCCN1C(=O)Oc2c1cc1c(Nc3cc(Cl)c(F)cc3)n...</td>\n",
       "      <td>6.481486</td>\n",
       "    </tr>\n",
       "    <tr>\n",
       "      <th>6373</th>\n",
       "      <td>CHEMBL3678951</td>\n",
       "      <td>1.0</td>\n",
       "      <td>nM</td>\n",
       "      <td>FC(F)(F)c1cc(Nc2n(C(C)C)c3nc(Nc4ccc(N5CC[NH+](...</td>\n",
       "      <td>9.000000</td>\n",
       "    </tr>\n",
       "    <tr>\n",
       "      <th>2442</th>\n",
       "      <td>CHEMBL504034</td>\n",
       "      <td>40.0</td>\n",
       "      <td>nM</td>\n",
       "      <td>Clc1c(OCc2cc(F)ccc2)ccc(Nc2ncnc3c2sc(C#C[C@H]2...</td>\n",
       "      <td>7.397940</td>\n",
       "    </tr>\n",
       "    <tr>\n",
       "      <th>1084</th>\n",
       "      <td>CHEMBL158797</td>\n",
       "      <td>43000.0</td>\n",
       "      <td>nM</td>\n",
       "      <td>S(Sc1n(C)c2c(c1C(=O)NCC(O)CO)cccc2)c1n(C)c2c(c...</td>\n",
       "      <td>4.366531</td>\n",
       "    </tr>\n",
       "  </tbody>\n",
       "</table>\n",
       "</div>"
      ],
      "text/plain": [
       "          chembl_id     IC50 units  \\\n",
       "1777   CHEMBL207869     77.0    nM   \n",
       "5785  CHEMBL3940060    330.0    nM   \n",
       "6373  CHEMBL3678951      1.0    nM   \n",
       "2442   CHEMBL504034     40.0    nM   \n",
       "1084   CHEMBL158797  43000.0    nM   \n",
       "\n",
       "                                       canonical_smiles   pIC50\\r  \n",
       "1777  Clc1c(OCc2cc(F)ccc2)ccc(Nc2c(C#Cc3ncccn3)cncn2)c1  7.113509  \n",
       "5785  ClCC(=O)OCCN1C(=O)Oc2c1cc1c(Nc3cc(Cl)c(F)cc3)n...  6.481486  \n",
       "6373  FC(F)(F)c1cc(Nc2n(C(C)C)c3nc(Nc4ccc(N5CC[NH+](...  9.000000  \n",
       "2442  Clc1c(OCc2cc(F)ccc2)ccc(Nc2ncnc3c2sc(C#C[C@H]2...  7.397940  \n",
       "1084  S(Sc1n(C)c2c(c1C(=O)NCC(O)CO)cccc2)c1n(C)c2c(c...  4.366531  "
      ]
     },
     "execution_count": 8,
     "metadata": {},
     "output_type": "execute_result"
    }
   ],
   "source": [
    "# Visualizing the dataframe\n",
    "df.head()"
   ]
  },
  {
   "cell_type": "code",
   "execution_count": 9,
   "metadata": {
    "scrolled": false
   },
   "outputs": [
    {
     "data": {
      "image/png": "[encoded data removed]",
      "text/plain": [
       "<PIL.PngImagePlugin.PngImageFile image mode=RGB size=1000x400 at 0x2C376B4E9B0>"
      ]
     },
     "execution_count": 9,
     "metadata": {},
     "output_type": "execute_result"
    }
   ],
   "source": [
    "# Using pandas tools and Draw method we can visualize our molecules\n",
    "PandasTools.AddMoleculeColumnToFrame(df, smilesCol='canonical_smiles')\n",
    "Draw.MolsToGridImage(list(df.ROMol[0:10]),\n",
    "                     legends=list(df.chembl_id[0:20]), molsPerRow=5)"
   ]
  },
  {
   "cell_type": "code",
   "execution_count": 10,
   "metadata": {
    "scrolled": true
   },
   "outputs": [
    {
     "data": {
      "text/html": [
       "<div>\n",
       "<style scoped>\n",
       "    .dataframe tbody tr th:only-of-type {\n",
       "        vertical-align: middle;\n",
       "    }\n",
       "\n",
       "    .dataframe tbody tr th {\n",
       "        vertical-align: top;\n",
       "    }\n",
       "\n",
       "    .dataframe thead th {\n",
       "        text-align: right;\n",
       "    }\n",
       "</style>\n",
       "<table border=\"1\" class=\"dataframe\">\n",
       "  <thead>\n",
       "    <tr style=\"text-align: right;\">\n",
       "      <th></th>\n",
       "      <th>chembl_id</th>\n",
       "      <th>IC50</th>\n",
       "      <th>units</th>\n",
       "      <th>canonical_smiles</th>\n",
       "      <th>pIC50</th>\n",
       "      <th>2D_Figures</th>\n",
       "    </tr>\n",
       "  </thead>\n",
       "  <tbody>\n",
       "    <tr>\n",
       "      <th>1777</th>\n",
       "      <td>CHEMBL207869</td>\n",
       "      <td>77.0</td>\n",
       "      <td>nM</td>\n",
       "      <td>Clc1c(OCc2cc(F)ccc2)ccc(Nc2c(C#Cc3ncccn3)cncn2)c1</td>\n",
       "      <td>7.113509</td>\n",
       "      <td><img data-content=\"rdkit/molecule\" src=\"data:image/png;base64,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\" alt=\"Mol\"/></td>\n",
       "    </tr>\n",
       "    <tr>\n",
       "      <th>5785</th>\n",
       "      <td>CHEMBL3940060</td>\n",
       "      <td>330.0</td>\n",
       "      <td>nM</td>\n",
       "      <td>ClCC(=O)OCCN1C(=O)Oc2c1cc1c(Nc3cc(Cl)c(F)cc3)n...</td>\n",
       "      <td>6.481486</td>\n",
       "      <td><img data-content=\"rdkit/molecule\" src=\"data:image/png;base64,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\" alt=\"Mol\"/></td>\n",
       "    </tr>\n",
       "    <tr>\n",
       "      <th>6373</th>\n",
       "      <td>CHEMBL3678951</td>\n",
       "      <td>1.0</td>\n",
       "      <td>nM</td>\n",
       "      <td>FC(F)(F)c1cc(Nc2n(C(C)C)c3nc(Nc4ccc(N5CC[NH+](...</td>\n",
       "      <td>9.000000</td>\n",
       "      <td><img data-content=\"rdkit/molecule\" src=\"data:image/png;base64,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\" alt=\"Mol\"/></td>\n",
       "    </tr>\n",
       "    <tr>\n",
       "      <th>2442</th>\n",
       "      <td>CHEMBL504034</td>\n",
       "      <td>40.0</td>\n",
       "      <td>nM</td>\n",
       "      <td>Clc1c(OCc2cc(F)ccc2)ccc(Nc2ncnc3c2sc(C#C[C@H]2...</td>\n",
       "      <td>7.397940</td>\n",
       "      <td><img data-content=\"rdkit/molecule\" src=\"data:image/png;base64,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\" alt=\"Mol\"/></td>\n",
       "    </tr>\n",
       "    <tr>\n",
       "      <th>1084</th>\n",
       "      <td>CHEMBL158797</td>\n",
       "      <td>43000.0</td>\n",
       "      <td>nM</td>\n",
       "      <td>S(Sc1n(C)c2c(c1C(=O)NCC(O)CO)cccc2)c1n(C)c2c(c...</td>\n",
       "      <td>4.366531</td>\n",
       "      <td><img data-content=\"rdkit/molecule\" src=\"data:image/png;base64,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\" alt=\"Mol\"/></td>\n",
       "    </tr>\n",
       "  </tbody>\n",
       "</table>\n",
       "</div>"
      ],
      "text/plain": [
       "          chembl_id     IC50 units  \\\n",
       "1777   CHEMBL207869     77.0    nM   \n",
       "5785  CHEMBL3940060    330.0    nM   \n",
       "6373  CHEMBL3678951      1.0    nM   \n",
       "2442   CHEMBL504034     40.0    nM   \n",
       "1084   CHEMBL158797  43000.0    nM   \n",
       "\n",
       "                                       canonical_smiles   pIC50\\r  \\\n",
       "1777  Clc1c(OCc2cc(F)ccc2)ccc(Nc2c(C#Cc3ncccn3)cncn2)c1  7.113509   \n",
       "5785  ClCC(=O)OCCN1C(=O)Oc2c1cc1c(Nc3cc(Cl)c(F)cc3)n...  6.481486   \n",
       "6373  FC(F)(F)c1cc(Nc2n(C(C)C)c3nc(Nc4ccc(N5CC[NH+](...  9.000000   \n",
       "2442  Clc1c(OCc2cc(F)ccc2)ccc(Nc2ncnc3c2sc(C#C[C@H]2...  7.397940   \n",
       "1084  S(Sc1n(C)c2c(c1C(=O)NCC(O)CO)cccc2)c1n(C)c2c(c...  4.366531   \n",
       "\n",
       "                                             2D_Figures  \n",
       "1777  <img data-content=\"rdkit/molecule\" src=\"data:i...  \n",
       "5785  <img data-content=\"rdkit/molecule\" src=\"data:i...  \n",
       "6373  <img data-content=\"rdkit/molecule\" src=\"data:i...  \n",
       "2442  <img data-content=\"rdkit/molecule\" src=\"data:i...  \n",
       "1084  <img data-content=\"rdkit/molecule\" src=\"data:i...  "
      ]
     },
     "execution_count": 10,
     "metadata": {},
     "output_type": "execute_result"
    }
   ],
   "source": [
    "# Renaming column name ROMol to 2D_Figure to get the proper idea of the column\n",
    "df = df.rename(columns={'ROMol': '2D_Figures'})\n",
    "df.head()"
   ]
  },
  {
   "cell_type": "markdown",
   "metadata": {},
   "source": [
    "![green-divider](https://user-images.githubusercontent.com/7065401/52071924-c003ad80-2562-11e9-8297-1c6595f8a7ff.png)\n",
    "## Apply One Hot encoding using own implementation\n",
    "\n",
    "Create One Hot Encoded Matrix using function [`smiles_encoder`](https://iwatobipen.wordpress.com/2017/01/22/encode-and-decode-smiles-strings/) function."
   ]
  },
  {
   "cell_type": "code",
   "execution_count": 11,
   "metadata": {},
   "outputs": [],
   "source": [
    "# Creating a new column for Encoded values of smiles\n",
    "df['Own_OneHotEncoding'] = \"\""
   ]
  },
  {
   "cell_type": "code",
   "execution_count": 12,
   "metadata": {},
   "outputs": [],
   "source": [
    "# Create dataset of all possible Smiles Characters\n",
    "SMILES_CHARS = [' ', '#', '%', '(',\n",
    "                ')', '+', '-', '.', '/', '0', '1', '2', '3',\n",
    "                '4', '5', '6', '7', '8', '9',\n",
    "                '=', '@', 'A', 'B', 'C', 'F', 'H', 'I', 'K', 'L', 'M',\n",
    "                'N', 'O', 'P', 'R', 'S', 'T', 'V', 'X', 'Z',\n",
    "                '[', '\\\\', ']', 'a', 'b', 'c', 'e', 'g', 'i',\n",
    "                'l', 'n', 'o', 'p', 'r', 's', 't', 'u']\n",
    "# Convert the dataset into dictionary\n",
    "smi2index = dict((c, i)for i, c in enumerate(SMILES_CHARS))\n",
    "\n",
    "\n",
    "def smiles_encoder(smiles, maxlen):\n",
    "    \"\"\"Function defined using all unique characters in our\n",
    "    Processed Canonical Smiles structures created\n",
    "    from preprocessed function.\n",
    "    Parameters\n",
    "    ----------\n",
    "          smiles(string): smile data in string\n",
    "          maxlen(int): max length\n",
    "    Returns\n",
    "    -------\n",
    "          ndarray: return matrix\n",
    "    \"\"\"\n",
    "    smilesMatrix = np.zeros((len(SMILES_CHARS), maxlen), dtype=int)\n",
    "    for i, c in enumerate(smiles, 0):\n",
    "        smilesMatrix[smi2index[c], i] = 1\n",
    "    return smilesMatrix"
   ]
  },
  {
   "cell_type": "code",
   "execution_count": 13,
   "metadata": {},
   "outputs": [
    {
     "data": {
      "text/html": [
       "<div>\n",
       "<style scoped>\n",
       "    .dataframe tbody tr th:only-of-type {\n",
       "        vertical-align: middle;\n",
       "    }\n",
       "\n",
       "    .dataframe tbody tr th {\n",
       "        vertical-align: top;\n",
       "    }\n",
       "\n",
       "    .dataframe thead th {\n",
       "        text-align: right;\n",
       "    }\n",
       "</style>\n",
       "<table border=\"1\" class=\"dataframe\">\n",
       "  <thead>\n",
       "    <tr style=\"text-align: right;\">\n",
       "      <th></th>\n",
       "      <th>chembl_id</th>\n",
       "      <th>IC50</th>\n",
       "      <th>units</th>\n",
       "      <th>canonical_smiles</th>\n",
       "      <th>pIC50</th>\n",
       "      <th>2D_Figures</th>\n",
       "      <th>Own_OneHotEncoding</th>\n",
       "    </tr>\n",
       "  </thead>\n",
       "  <tbody>\n",
       "    <tr>\n",
       "      <th>1777</th>\n",
       "      <td>CHEMBL207869</td>\n",
       "      <td>77.0</td>\n",
       "      <td>nM</td>\n",
       "      <td>Clc1c(OCc2cc(F)ccc2)ccc(Nc2c(C#Cc3ncccn3)cncn2)c1</td>\n",
       "      <td>7.113509</td>\n",
       "      <td><img data-content=\"rdkit/molecule\" src=\"data:image/png;base64,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\" alt=\"Mol\"/></td>\n",
       "      <td>[[0, 0, 0, 0, 0, 0, 0, 0, 0, 0, 0, 0, 0, 0, 0,...</td>\n",
       "    </tr>\n",
       "    <tr>\n",
       "      <th>5785</th>\n",
       "      <td>CHEMBL3940060</td>\n",
       "      <td>330.0</td>\n",
       "      <td>nM</td>\n",
       "      <td>ClCC(=O)OCCN1C(=O)Oc2c1cc1c(Nc3cc(Cl)c(F)cc3)n...</td>\n",
       "      <td>6.481486</td>\n",
       "      <td><img data-content=\"rdkit/molecule\" src=\"data:image/png;base64,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\" alt=\"Mol\"/></td>\n",
       "      <td>[[0, 0, 0, 0, 0, 0, 0, 0, 0, 0, 0, 0, 0, 0, 0,...</td>\n",
       "    </tr>\n",
       "    <tr>\n",
       "      <th>6373</th>\n",
       "      <td>CHEMBL3678951</td>\n",
       "      <td>1.0</td>\n",
       "      <td>nM</td>\n",
       "      <td>FC(F)(F)c1cc(Nc2n(C(C)C)c3nc(Nc4ccc(N5CC[NH+](...</td>\n",
       "      <td>9.000000</td>\n",
       "      <td><img data-content=\"rdkit/molecule\" src=\"data:image/png;base64,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\" alt=\"Mol\"/></td>\n",
       "      <td>[[0, 0, 0, 0, 0, 0, 0, 0, 0, 0, 0, 0, 0, 0, 0,...</td>\n",
       "    </tr>\n",
       "    <tr>\n",
       "      <th>2442</th>\n",
       "      <td>CHEMBL504034</td>\n",
       "      <td>40.0</td>\n",
       "      <td>nM</td>\n",
       "      <td>Clc1c(OCc2cc(F)ccc2)ccc(Nc2ncnc3c2sc(C#C[C@H]2...</td>\n",
       "      <td>7.397940</td>\n",
       "      <td><img data-content=\"rdkit/molecule\" src=\"data:image/png;base64,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\" alt=\"Mol\"/></td>\n",
       "      <td>[[0, 0, 0, 0, 0, 0, 0, 0, 0, 0, 0, 0, 0, 0, 0,...</td>\n",
       "    </tr>\n",
       "    <tr>\n",
       "      <th>1084</th>\n",
       "      <td>CHEMBL158797</td>\n",
       "      <td>43000.0</td>\n",
       "      <td>nM</td>\n",
       "      <td>S(Sc1n(C)c2c(c1C(=O)NCC(O)CO)cccc2)c1n(C)c2c(c...</td>\n",
       "      <td>4.366531</td>\n",
       "      <td><img data-content=\"rdkit/molecule\" src=\"data:image/png;base64,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\" alt=\"Mol\"/></td>\n",
       "      <td>[[0, 0, 0, 0, 0, 0, 0, 0, 0, 0, 0, 0, 0, 0, 0,...</td>\n",
       "    </tr>\n",
       "  </tbody>\n",
       "</table>\n",
       "</div>"
      ],
      "text/plain": [
       "          chembl_id     IC50 units  \\\n",
       "1777   CHEMBL207869     77.0    nM   \n",
       "5785  CHEMBL3940060    330.0    nM   \n",
       "6373  CHEMBL3678951      1.0    nM   \n",
       "2442   CHEMBL504034     40.0    nM   \n",
       "1084   CHEMBL158797  43000.0    nM   \n",
       "\n",
       "                                       canonical_smiles   pIC50\\r  \\\n",
       "1777  Clc1c(OCc2cc(F)ccc2)ccc(Nc2c(C#Cc3ncccn3)cncn2)c1  7.113509   \n",
       "5785  ClCC(=O)OCCN1C(=O)Oc2c1cc1c(Nc3cc(Cl)c(F)cc3)n...  6.481486   \n",
       "6373  FC(F)(F)c1cc(Nc2n(C(C)C)c3nc(Nc4ccc(N5CC[NH+](...  9.000000   \n",
       "2442  Clc1c(OCc2cc(F)ccc2)ccc(Nc2ncnc3c2sc(C#C[C@H]2...  7.397940   \n",
       "1084  S(Sc1n(C)c2c(c1C(=O)NCC(O)CO)cccc2)c1n(C)c2c(c...  4.366531   \n",
       "\n",
       "                                             2D_Figures  \\\n",
       "1777  <img data-content=\"rdkit/molecule\" src=\"data:i...   \n",
       "5785  <img data-content=\"rdkit/molecule\" src=\"data:i...   \n",
       "6373  <img data-content=\"rdkit/molecule\" src=\"data:i...   \n",
       "2442  <img data-content=\"rdkit/molecule\" src=\"data:i...   \n",
       "1084  <img data-content=\"rdkit/molecule\" src=\"data:i...   \n",
       "\n",
       "                                     Own_OneHotEncoding  \n",
       "1777  [[0, 0, 0, 0, 0, 0, 0, 0, 0, 0, 0, 0, 0, 0, 0,...  \n",
       "5785  [[0, 0, 0, 0, 0, 0, 0, 0, 0, 0, 0, 0, 0, 0, 0,...  \n",
       "6373  [[0, 0, 0, 0, 0, 0, 0, 0, 0, 0, 0, 0, 0, 0, 0,...  \n",
       "2442  [[0, 0, 0, 0, 0, 0, 0, 0, 0, 0, 0, 0, 0, 0, 0,...  \n",
       "1084  [[0, 0, 0, 0, 0, 0, 0, 0, 0, 0, 0, 0, 0, 0, 0,...  "
      ]
     },
     "execution_count": 13,
     "metadata": {},
     "output_type": "execute_result"
    }
   ],
   "source": [
    "# for loop to iterate over all the smiles in the\n",
    "# dataframe and apply the  function\n",
    "from timeit import default_timer as timer\n",
    "start = timer()\n",
    "for i in range(0, 3906):\n",
    "    strings = df['canonical_smiles'].iloc[i]\n",
    "    df['Own_OneHotEncoding'].iloc[i] = smiles_encoder(strings, len(strings))\n",
    "end = timer()\n",
    "df.head()"
   ]
  },
  {
   "cell_type": "code",
   "execution_count": 14,
   "metadata": {},
   "outputs": [],
   "source": [
    "smiles_encoder_Time = end - start"
   ]
  },
  {
   "cell_type": "code",
   "execution_count": 15,
   "metadata": {},
   "outputs": [
    {
     "name": "stdout",
     "output_type": "stream",
     "text": [
      "3.1635500000000008 secs\n"
     ]
    }
   ],
   "source": [
    "print(str(smiles_encoder_Time) + ' secs')"
   ]
  },
  {
   "cell_type": "markdown",
   "metadata": {},
   "source": [
    "### Visualization with Matplotlib.imshow() function of One Hot Encoded Matrix using Own Implementation (unequal dimension)"
   ]
  },
  {
   "cell_type": "markdown",
   "metadata": {},
   "source": [
    "`Matplotlib` is a plotting library for the Python programming language and its numerical mathematics extension NumPy. `Pyplot` is a state-based interface to a Matplotlib module which provides a MATLAB-like interface.\n",
    "The [imshow()](https://matplotlib.org/3.2.1/api/_as_gen/matplotlib.pyplot.imshow.html) function in pyplot module of matplotlib library is used to display data as an image; i.e. on a 2D regular raster.\n",
    "\n",
    "Now we can visualize our One Hot encoded strings using imshow() function as described above."
   ]
  },
  {
   "cell_type": "code",
   "execution_count": 16,
   "metadata": {
    "scrolled": true
   },
   "outputs": [],
   "source": [
    "# First element of one hot encoded array\n",
    "First_one_hot_encoded_matrix = df.iloc[0]['Own_OneHotEncoding']"
   ]
  },
  {
   "cell_type": "code",
   "execution_count": 17,
   "metadata": {},
   "outputs": [
    {
     "data": {
      "image/png": "[encoded data removed]",
      "text/plain": [
       "<Figure size 432x288 with 2 Axes>"
      ]
     },
     "metadata": {
      "needs_background": "light"
     },
     "output_type": "display_data"
    }
   ],
   "source": [
    "# Visualization of One Hot Encoded array using matplotlib imshow()\n",
    "im = plt.imshow(First_one_hot_encoded_matrix, cmap='hot', interpolation='None')\n",
    "plt.colorbar(im, orientation='horizontal')\n",
    "plt.xlabel('Length of Individual string')\n",
    "plt.ylabel('Possible char in SMILES (56)')\n",
    "plt.title('Visualization of One Hot Encoded Matrix')\n",
    "# plt.axis('auto')\n",
    "plt.show()"
   ]
  },
  {
   "cell_type": "code",
   "execution_count": 18,
   "metadata": {},
   "outputs": [
    {
     "data": {
      "text/plain": [
       "numpy.ndarray"
      ]
     },
     "execution_count": 18,
     "metadata": {},
     "output_type": "execute_result"
    }
   ],
   "source": [
    "# check the type of matrix array\n",
    "type(First_one_hot_encoded_matrix)"
   ]
  },
  {
   "cell_type": "code",
   "execution_count": 19,
   "metadata": {},
   "outputs": [
    {
     "data": {
      "text/plain": [
       "(56, 49)"
      ]
     },
     "execution_count": 19,
     "metadata": {},
     "output_type": "execute_result"
    }
   ],
   "source": [
    "# Dimension of the First_one_hot_encoded_matrix\n",
    "First_one_hot_encoded_matrix.shape"
   ]
  },
  {
   "cell_type": "code",
   "execution_count": 20,
   "metadata": {},
   "outputs": [],
   "source": [
    "# Next element of one hot encoded array\n",
    "Next_one_hot_encoded_matrix = df.iloc[1]['Own_OneHotEncoding']"
   ]
  },
  {
   "cell_type": "code",
   "execution_count": 21,
   "metadata": {},
   "outputs": [
    {
     "data": {
      "image/png": "[encoded data removed]",
      "text/plain": [
       "<Figure size 432x288 with 2 Axes>"
      ]
     },
     "metadata": {
      "needs_background": "light"
     },
     "output_type": "display_data"
    }
   ],
   "source": [
    "# Visualization of One Hot Encoded array using matplotlib imshow()\n",
    "im = plt.imshow(Next_one_hot_encoded_matrix, cmap='hot', interpolation='None')\n",
    "plt.colorbar(im, orientation='horizontal')\n",
    "plt.xlabel('Length of Individual string')\n",
    "plt.ylabel('Possible char in SMILES (56)')\n",
    "plt.title('Visualization of One Hot Encoded Matrix')\n",
    "# plt.axis('auto')\n",
    "plt.show()"
   ]
  },
  {
   "cell_type": "code",
   "execution_count": 22,
   "metadata": {},
   "outputs": [
    {
     "data": {
      "text/plain": [
       "(56, 52)"
      ]
     },
     "execution_count": 22,
     "metadata": {},
     "output_type": "execute_result"
    }
   ],
   "source": [
    "# Dimension of the Second OneHotEncoded_matrix\n",
    "Next_one_hot_encoded_matrix.shape"
   ]
  },
  {
   "cell_type": "markdown",
   "metadata": {},
   "source": [
    "![green-divider](https://user-images.githubusercontent.com/7065401/52071924-c003ad80-2562-11e9-8297-1c6595f8a7ff.png)\n",
    "## Function defined to Preprocess the Data\n"
   ]
  },
  {
   "cell_type": "markdown",
   "metadata": {},
   "source": [
    "- As we have noticed from above visualizations, that all the SMILES strings have unequal dimension, so its better to make the dimension equal for all the SMILES strings for later use, in order to do that first, we searched for the string with Max Length using [len()](https://www.geeksforgeeks.org/python-string-length-len/) method \n",
    "- By implementing the above code, we can get the max length of the SMILES strings and pass that an argument in our function for all the strings.\n",
    "\n",
    "\n",
    "\n",
    "- In the above function, we have created a dataset of 56 possible smiles characters, but to optimize our one hot encoding, we  reconsidered using all the 56 characters.\n",
    "- We can assume that all the characters won't be present in our SMILES structures, so we looked for all the unique characters present in the SMILES.\n",
    "- Also I would like to point out that many elements in our periodic table has two alphabets in their name for example 'Cl(Chloride)' and thats commonly present in out SMILES structure but if we use the above function then we will be splitting Cl into two characters 'C' and 'l' and that would lead to discrepancies, so searching this way for each unique characters and encoding them may not be the best possible way.\n",
    "- We tried searching for all the two alphabetic element in our SMILES by comparing from all the possible elements present in the periodic table and replaced all the two alphabetic element with one character, for example 'Cl' changed to 'L'."
   ]
  },
  {
   "cell_type": "code",
   "execution_count": 23,
   "metadata": {},
   "outputs": [],
   "source": [
    "# Create function used to preprocessed the data\n",
    "def PreprocessingData(df):\n",
    "    \"\"\"Function defined which is used to preprocess the SMILES structures.\n",
    "    Parameters\n",
    "    -----------\n",
    "         df: dataframe which requires preprocessing\n",
    "    Returns\n",
    "    --------\n",
    "         df: dataframe with new Processed_canonical_smiles column\n",
    "         unique_char: unique character list\n",
    "         max_len: maximum length of strings of canonical_smiles column\n",
    "    \"\"\"\n",
    "    max_len = df[\"canonical_smiles\"].str.len().max()\n",
    "    unique_char = set(df.canonical_smiles.apply(list).sum())\n",
    "    upper_chars = ['C', 'O', 'F', 'P', 'N', 'S', 'H', 'B', 'I']\n",
    "    lower_chars = ['l', 'o', 'r', 'n', 'e', 'c', 's']\n",
    "    Periodic_Elements = ['Ac',\n",
    "                         'Al', 'Am', 'Sb', 'Ar', 'As', 'At', 'Ba',\n",
    "                         'Bk', 'Be', 'Bi', 'Bh', 'B', 'Br', 'Cd', 'Ca',\n",
    "                         'Cf', 'C', 'Ce', 'Cs', 'Cl', 'Cr', 'Co', 'Cn',\n",
    "                         'Cu', 'Cm', 'Ds', 'Db', 'Dy', 'Es', 'Er', 'Eu',\n",
    "                         'Fm', 'Fl', 'F', 'Fr', 'Gd', 'Ga', 'Ge', 'Au',\n",
    "                         'Hf', 'Hs', 'He', 'Ho', 'H', 'In', 'I', 'Ir',\n",
    "                         'Fe', 'Kr', 'La', 'Lr', 'Pb', 'Li', 'Lv',\n",
    "                         'Lu', 'Mg', 'Mn', 'Mt', 'Md', 'Hg', 'Mo',\n",
    "                         'Mc', 'Nd', 'Ne', 'Np', 'Ni', 'Nh', 'Nb',\n",
    "                         'N', 'No', 'Og', 'Os', 'O', 'Pd', 'P',\n",
    "                         'Pt', 'Pu', 'Po', 'K', 'Pr', 'Pm', 'Pa',\n",
    "                         'Ra', 'Rn', 'Re', 'Rh', 'Rg', 'Rb', 'Ru', 'Rf',\n",
    "                         'Sm', 'Sc', 'Sg', 'Se', 'Si', 'Ag', 'Na',\n",
    "                         'Sr', 'S', 'Ta', 'Tc', 'Te', 'Ts', 'Tb', 'Tl', 'Th',\n",
    "                         'Tm', 'Sn',\n",
    "                         'Ti', 'W', 'U', 'V', 'Xe', 'Yb', 'Y', 'Zn', 'Zr']\n",
    "    A = []\n",
    "    for upper in upper_chars:\n",
    "        for lower in lower_chars:\n",
    "            ch = upper + lower\n",
    "            if(ch in Periodic_Elements):\n",
    "                A.append(ch)\n",
    "    trial = set()\n",
    "    for x in A:\n",
    "        for i in range(0, 3906):\n",
    "            if(df['canonical_smiles'].iloc[i].find(x) != -1):\n",
    "                trial.add(x)\n",
    "        df['Processed_canonical_smiles'] = \"\"\n",
    "        for i in range(0, 3906):\n",
    "            element = df['canonical_smiles'].iloc[i]\n",
    "            element = element.replace(\"Cl\", \"L\")\n",
    "            element = element.replace(\"Br\", \"R\")\n",
    "            element = element.replace(\"Cn\", \"X\")\n",
    "            element = element.replace(\"Se\", \"Z\")\n",
    "            element = element.replace(\"@@\", \"$\")\n",
    "            df['Processed_canonical_smiles'].iloc[i] = element\n",
    "        unique_char = set(df.Processed_canonical_smiles.apply(list).sum())\n",
    "        return unique_char, df, max_len"
   ]
  },
  {
   "cell_type": "markdown",
   "metadata": {},
   "source": [
    "## Apply One Hot encoding using Own implementation on Preprocessed Data\n"
   ]
  },
  {
   "cell_type": "code",
   "execution_count": 24,
   "metadata": {},
   "outputs": [],
   "source": [
    "# Create new column which has one hot encoded smiles using unique characters\n",
    "df['UniqueChar_OneHotEncoding'] = \"\"\n",
    "# Calling function\n",
    "unique_char, df, max_len = PreprocessingData(df)"
   ]
  },
  {
   "cell_type": "code",
   "execution_count": 25,
   "metadata": {},
   "outputs": [],
   "source": [
    "# create dictionary of the unique char datset\n",
    "smi2index = dict((c, i) for i, c in enumerate(unique_char))\n",
    "\n",
    "\n",
    "def smiles_encoder(smiles, maxlen):\n",
    "    \"\"\"Function defined using all unique characters in our\n",
    "    Processed Canonical Smiles structures created\n",
    "    from preprocessed function.\n",
    "    Parameters\n",
    "    ----------\n",
    "        smiles(string): smile data in string\n",
    "        maxlen(int): max length\n",
    "    Returns\n",
    "    -------\n",
    "        ndarray: return matrix\n",
    "    \"\"\"\n",
    "    smilesMatrix = np.zeros((len(unique_char), maxlen))\n",
    "    for i, c in enumerate(smiles, 0):\n",
    "        smilesMatrix[smi2index[c], i] = 1\n",
    "    return smilesMatrix"
   ]
  },
  {
   "cell_type": "code",
   "execution_count": 26,
   "metadata": {},
   "outputs": [
    {
     "data": {
      "text/html": [
       "<div>\n",
       "<style scoped>\n",
       "    .dataframe tbody tr th:only-of-type {\n",
       "        vertical-align: middle;\n",
       "    }\n",
       "\n",
       "    .dataframe tbody tr th {\n",
       "        vertical-align: top;\n",
       "    }\n",
       "\n",
       "    .dataframe thead th {\n",
       "        text-align: right;\n",
       "    }\n",
       "</style>\n",
       "<table border=\"1\" class=\"dataframe\">\n",
       "  <thead>\n",
       "    <tr style=\"text-align: right;\">\n",
       "      <th></th>\n",
       "      <th>chembl_id</th>\n",
       "      <th>IC50</th>\n",
       "      <th>units</th>\n",
       "      <th>canonical_smiles</th>\n",
       "      <th>pIC50</th>\n",
       "      <th>2D_Figures</th>\n",
       "      <th>Own_OneHotEncoding</th>\n",
       "      <th>UniqueChar_OneHotEncoding</th>\n",
       "      <th>Processed_canonical_smiles</th>\n",
       "    </tr>\n",
       "  </thead>\n",
       "  <tbody>\n",
       "    <tr>\n",
       "      <th>1777</th>\n",
       "      <td>CHEMBL207869</td>\n",
       "      <td>77.0</td>\n",
       "      <td>nM</td>\n",
       "      <td>Clc1c(OCc2cc(F)ccc2)ccc(Nc2c(C#Cc3ncccn3)cncn2)c1</td>\n",
       "      <td>7.113509</td>\n",
       "      <td><img data-content=\"rdkit/molecule\" src=\"data:image/png;base64,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\" alt=\"Mol\"/></td>\n",
       "      <td>[[0, 0, 0, 0, 0, 0, 0, 0, 0, 0, 0, 0, 0, 0, 0,...</td>\n",
       "      <td>[[0.0, 0.0, 0.0, 0.0, 0.0, 0.0, 0.0, 0.0, 0.0,...</td>\n",
       "      <td>Lc1c(OCc2cc(F)ccc2)ccc(Nc2c(C#Cc3ncccn3)cncn2)c1</td>\n",
       "    </tr>\n",
       "    <tr>\n",
       "      <th>5785</th>\n",
       "      <td>CHEMBL3940060</td>\n",
       "      <td>330.0</td>\n",
       "      <td>nM</td>\n",
       "      <td>ClCC(=O)OCCN1C(=O)Oc2c1cc1c(Nc3cc(Cl)c(F)cc3)n...</td>\n",
       "      <td>6.481486</td>\n",
       "      <td><img data-content=\"rdkit/molecule\" src=\"data:image/png;base64,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\" alt=\"Mol\"/></td>\n",
       "      <td>[[0, 0, 0, 0, 0, 0, 0, 0, 0, 0, 0, 0, 0, 0, 0,...</td>\n",
       "      <td>[[0.0, 0.0, 0.0, 0.0, 0.0, 0.0, 0.0, 0.0, 0.0,...</td>\n",
       "      <td>LCC(=O)OCCN1C(=O)Oc2c1cc1c(Nc3cc(L)c(F)cc3)ncn...</td>\n",
       "    </tr>\n",
       "    <tr>\n",
       "      <th>6373</th>\n",
       "      <td>CHEMBL3678951</td>\n",
       "      <td>1.0</td>\n",
       "      <td>nM</td>\n",
       "      <td>FC(F)(F)c1cc(Nc2n(C(C)C)c3nc(Nc4ccc(N5CC[NH+](...</td>\n",
       "      <td>9.000000</td>\n",
       "      <td><img data-content=\"rdkit/molecule\" src=\"data:image/png;base64,iVBORw0KGgoAAAANSUhEUgAAAMgAAADICAIAAAAiOjnJAAAABmJLR0QA/wD/AP+gvaeTAAAZf0lEQVR4nO2de1hU1drA35nhDnK/iYACaqkpJmkCUSr6dMhrppTSnJQUzQwtTx8e43OyOmp1LHhSifLkgS/vhkqKPqEeDRVEPGmaKHcVcAaQSyggw8z7/bFwIuUys/csoHx/f/iMuNfa7zg/1l57r/ddI0FEIAhjI+3pAIg/JyQWwQUSi+ACiUVwgcQiuEBiEVwgsQgukFgEF0gsggskFsEFEovgAolFcIHEIrhAYhFcILEILpBYBBdILIILJBbBBRKL4AKJRXCBxCK4QGIRXCCxCC6QWAQXSCyCCyQWwQUSi+ACiUVwgcQiuEBiEVwgsQgukFgEF0gsggskFsEFEovgAolFcIHEIrhAYhFcILEILpBYBBdILIILJBbBBRKL4AKJRXCBxCK4QGIRXCCxCC6QWAQXSCyCCyQWwQUSi+ACiUVwgcQiuEBiEVwgsQgukFgEF0gsggskFsEFEovgAolFcIHEIrhAYhFcILEILpBYBBdILIILJJYxOXwYAKCgAAoKejqUnobEMiZ5eVBQAPn5PR1HL4DEMjL5+ZCX19NB9AJIrFaMdRULC4PBg40S0R8bCSL2dAw9yb17sG0bSKVQVwcAMHgwDBoE/fuDqWlPR/YH59EdsX79FeLjwc8PXn8dVq4EtRoGD4b9++H6dfD1hV27hPRJk3cdj6JYRUVFK1eqPDxg+XIoK4NRo+Czz0Amg7AwAIDt26G0FF55Bd54AxobDej21Cm4dg3i42nyDgAA+CiRk5Mjl8tNTEyee+5dAAwOxtRU1Gp/d4xWi4mJaGWFAPj44/jf/3bRp0aDqak4diwC4MKFmJaGUVGYn48pKbhjB7+30tt5JMTSarUpKSnBwcHsd8nc3PzNN9++fLn9g7OycM4czMjAoUMRAMeNy4uLi9M+YB8iItbVaTZsQG9vBEAAdHNDuRwRMSoKMzPRwQEB8LXX8NdfDYu2qKgoJiZmyZIlEREReXl5hr7ZXsIjIVZeXt7gwYMBwNbWNjo6urS0tKMjtVp88kkEQG9vTE/HFSvu2ti4A0BYWJhSqdQdduvWLYVC8dhj483MEAAHDsS4OGxo+F1XSUlobY0AOGAAnjqlV5xZWVmzZs2SyWQAwP60sbH55ptvBL7tHuWREGvcuHEAsHTp0jt37nR5cGFh63XNwgLXrdt66NAhd3d3AHBxcfn+++9/+umnV1991fT+TWNkZO7Bgw9eTHXk5rZqamqKGzce0mg07R6m0WhSU1MnTpzI+jQzM5PL5ZmZmXK5nP1k5syZt2/fFvM/0P08EmKx4erKlSt6Hq9WY2wsjht3CADGjBlz+vTp0NBQAJBIJOyTNjExmTNnzvnz57vsqrkZFQoMDEwBgPHjx9+8ebPtvzY1NSUlJQ0ZMoR1ywZU3TGnTp3atWuXg4MDAHh5eZ08edLQN96DPBJi9enTBwBOnjzp5+cXGRmpZ6uTJ096eXmxzzszM/Odd96xt7e3traOjo4uKSkxKIAffkhnw56Tk1NKSgoiVlRUKBQKZ2dnppSPj09cXFzbATUjI0Mmk02YMCErK+uZZ54BAKlUGh0d3dzcbNCpe4o/v1j19fUAYGlpeeDAAQCYPHmy/m1ra2vnzp07bNiwhoaGtLQ0AJg0aZKwMFQq1eTJk5lG/v7+FhYW7PXYsWP37NnT0tLywPHp6emurq4A4OzsnJKSolAo2KxrzJgx+fn5wmLoTgwW63Rt7XaVartKxSMaHly7dg0A/Pz8EhISAGDhwoWG9lBdXY2IW7ZsAYB58+aJCSYpKcnc3Nzb21sqlU6ZMiU9Pb2TgysqKnQuyuXy48eP+/r6shE0OTlZTBjdgMFi/YGUYpw4cQIAnnnmmdWrVwPA6tWrhfXzwQcfAMCqVatExhMSEgIAW7Zs0edgrVabmJhoaWkJAEOGDMnIyJg7dy5Tbfbs2cz43omQJ+9n6upu3rsnoGGPUF5eDgAeHh63bt0CgL59+wrrR2RzHTU1NQAwfPjwn3/+uaKiovODJRJJVFTUuXPnRowYkZubO3HixBEjRnz99dfW1tb79u27fPmyyGD4IUSsIDs7KcD1piajR8MDnRDshYeHh9Ce+g4ePKJfP1+jxNPQ0ODv7z9hwgR9mgwbNiwzM3PRokX37t3bvHlzeHg4m5YtWLBAZDD8MFisOa6u6TU1L/7yS3xZGY+AjI5OLDZ0CR5yzp//37y8i+7uL4gJprm5ubq62tTUtKmpyaBgrKysvvzyy3379m3bts3W1tbc3Nyg5t2PiYA2Y/r0MZdIMmpri5uafO7f3fRajHcpBAAQ+VHeunULEd3c3IQNnzNmzGAvdG9KVDQ8EXIptDMxecHJCQF2dDVF6A2wj9Dd3b2iokIqlbq5uQnoBBFUKpBIwN1dVDDGsrz3iyVkxAKACDe3fZWVB6uqFvft66hHUtyZurrr9+4BwBxXV2FnFAz7DBwcHObOndvQ0GAqKIWvqgqam8HREUQO0A9M+Hr8ToIfAsXyNjcPsbfPUipTMjIWdDwDvavR7KuquqfVWslk3a8UACBiaWkpAAwcODA5OVlwP+XlAADiB4gHRizBQ07vF0t4ot8cieTK1KmrXnmlsb10OFVzc3xp6QuXLsWVlv5bqWzSarv/IUVVVdXUqVMlEomFhcX8+fNv374tuCtPT0hOhthYsSEZ606i918KhYv1lK/v4489VllZmZSU1PbnP124oCgqmn758v+pVHc1mtF9+qz39TWXSoPs7LzMzUUHrC/Hjx/39/c/dOiQTCYzMTHZv3+/v7//8ePH9WlbWAjLlsGbb/72k+xskMshIEBszvGjcykUtVa4e/duABg0aBBLCMnIyJgyZYpEIok4cWJ0Ts7y/PxLeqSpGB21uiU2NlYqlQLAc889V1paeuPGjWeffRYAJBJJdHT0vXv3Omp76tTVadNQKm1Nm6mpwYYGbGrCuDiMi8O0NBS5TPf8888DwMGDB9la4d27d4X1Y21tDQC/GppD2I2IEqulpcXPzw8Ali5dOmzYMGaqra3t+q+/Vnb84XHlxg189lkcM+YjmUymUCh0i7sajSYuLo7N3J966qlr1661bcUyogIDA2Uy0/79m83NUS7HjAxcvx49PHDTplarWM6xGEaMGAEAOTk5+/btS0hIENZJbW0tANjY2IgKhTOixLp9+/aUKVN0g5+Xl9c///nPuro6YwVnKPv3o6MjAuATT6hPnvzx4QPOnj07cOBAALC0tIyLi9P9XLfW6+Li8vnnp8+cwagotLBozTmeMwfZseLFYnky/+0ykb4D2JUhNzeXXShEhcIZgWIVFBQsXbqUDciMNWvW9GCqUFMTRkejRIIAOGkStskifpC6ujpdZuZLL73EMjOTkpL8/Pzi4uKOHDny4osvOzlpAVAqxenT8cd2/BTOgQMHpFKpo6Pj3r179W/FBtSgoKCNGzci4rFjx9hV3piRGRuDxfr5zh35woUsN0gikbzwwgtsvT08PJxHfHqydSsCoLk5fv55h4nCbdm9e7e9vT3cz8xsamrasWPH6NGjmXCTJp1YvBh51DFUVlZOmzaNnUUul9fX13d+fH19fXx8vI+PD2sSGBiIiJ9++ikATJs2zfjxGQ99xdIgnqytfSMvLyAnZ3ZCAsvLvnTpEiIqlUoLCwuZTFZQUMAz1HZIS0NEzM/HvDx8803MyTGgbWFh4dNPPw0AMpnMxcWFfXKurq5r1qyprKzkFDAjKSmJDfaPPfZYR/nNSqVSoVA4OjqywNiAmp6ePnv2bKlU2r9/f0tLy8TERK5xiqFrsRo1mj0VFS9euhSQkxOQkzP+woWvCgrYmpeO+fPnA0B0dDS3ONtH5M2aWq3++9//bmZmZmdnN3DgwLi4OMG3aYZy5cqVkSNHAoCJiYlCoWhbZ5GXlzdv3jwzMzOmVEhISEpKys6dO3UDqqWlpS5NPiIiQvCk9uG0VSPSmVgsWfTjGzeYUlMvXdquUjW0V2py6dIliURibW1dVVXFLdR2EH+ztmPHDgAYM2ZMRyU0/GhsbIyJiWGPRUJDQ3VFaWwKxVJMjx07lpiYOPj+NiMuLi4xMTHl5eWI+M0339jY2ACAj4/P6dOZBp26uLg4JiZm0KBBERERbW9ijEhnYumSRT8sKTlWXa3pdPLyl7/8BQDWrl1rzOi6gv2fvP46fvedwB7Cw8MB4PPPPzdiVAbxww8/sOeczs7OBw4cYD9ct25ddnb2w5fCBwbU4uLioKAgiUT69NNKhQL1GYCys7PDw8N1U2TWOY/ysi7EOl1be6OpSZ+O0tPTAcDNza2xsdFIselFbS3a2qKVFdbXY2Ymrl6t1+Sd0dTUxAp4ioqKeMbYBW3rLORyeXZ2dlRUlK7aIjg4ePfu3R1dtpqbmz/++Ax7ohsSgtevt38KjQYPHMDIyO2sTzMzs9dee+3ixYt79+5l7rq5uR05csSIb0qvEUtPnnzySQDYunWrqIgMJzgYAXDnztZq97Nn9W2YmpoKAAEBATyj0wutVvvZZ5+x9D02kJiYmISHh2dnZ+vT/Phx9PREALS1xW3bfvdPTU2YlNS6XYCNza+ent5tSxcR8fr163ouSxiEMcu/WPrAE0880e5OB/yIi0MAnDULly9HAPzb3/RtuGpVur//cx991K2X70746aef5syZ8/LLLy9btqy4uNigtlVVOGMGAqCrK+pm819/jS4urY95fXwwPh7r69uZSra0tKxfv163LGGUDSOMKVZzc7O3tzcAGHdQ7ZLSUpRI0MoKjx5FAPTy0utq2NKCzs4IgHoXSP8BSEjAtLTfnsJ88gkC4KhRmJSEanUXbc+ePcsW6Pr06SP+QYaRC1Y/+eQTEFHVKZjAQATAPXtapk698MQTC7Kzz3XZ5NgxBMDBg7shuu5G9xTmyhXMyDCgYV1d3auvvqpblhBTXiZ7//33wXgMHz48ISHhypUrVVVVlZWVSqWysbFRKpW2XfzhgVZ7tajof6qqdnt65n3/fYKDg8OkSZM6b/LZZ5CdDYsWQWgo19B6gLNnW3cnDAmBkSMNaGhubj5z5kwfH59jx45duHBh165do0ePZlchgxGsZLtoNBo/P7+HE9DMzMy8vLwCAwNnzJixdOnSDz/8cOvWrYcOHWp4YO8fody8eVMikVhZWbGbUx8fn87neVotenkhAJ7remj74xEbi7m5+Prrwh/vFRcXs+3EPvzwQ2HTeSOLtWbNGgBwdnaOjo6Wy+UTJ04cNmwY2y+lXdauXavsZMXYENj6zN69ez08PGxsbDqf/BYVoYODvrOxPxyzZrXeJouhubnZzs4OAMrKygQ0F5jz3i7nzp376KOPpFLpzp07Q0NDExMTi4uLPTw8+vbt6+TkJJPJNBpNdXV1eXn5rVu3ysvLjx49umrVqsbGRla9LpLZs2efPXv2u+++O3z48KBBg1hZekf4+IBKBUVFcP8Z4Z8Ko1SqSSSS+vp6qVTqKqhYwWjbcd+5c2fUqFH5+fkrV65ct24dAISGhj6cCmxvb+/h4REQEJCcnHzmzJng4GBHR8cbN26In4TdvHmzf//+ZmZmS5cuNTH57RfG1PQDtbp13a2xEczMYMIECAtrTTIeOFDkaXsjvr5QXAz5+aLeXVlZmaenp7u7O0uDNhSjjViLFy/Oz88PCAhgV0MAiI6OnjBhglKpLCsrU6lUpaWlKpWqtra2trbWyckJAIKCggIDAzMzM5OSkpYsWSIyAEtLS3t7ewsLiw0bNrT9uZPT2rZVFG5u4OkJeXmtW7r/KVEqAcBoJZDCmhtHrOTk5G3btllbW2/btk23LD99+vTp06c/cGRVVZVSqdRqteyvK1asmDVr1oYNGxYtWsQWsISBiJGRkTU1NUOGDImOjpa0ucKZmrboRiwLC3B0hOrq1pumd98VfMLeS3U1NDaCnR3Y2IjqR2y9hqgJHiIiFhYW2tragqDFHI1Gw3KF2T53gtm4cSMA2Nvb67PXni7P+MQJjI39s83fr1wpCQlZMHv2RpH9/PvfpcHB//feewKfdYsVS61WBwYGAsBLL70krIcvvvgCAIKDgwXH8Msvv7Cp+k5DboTUavTxQQD84gvBZ+6NsAcu48ePF9nP6tUIgEJ3ExMt1nvvvQcAnp6egvMu7t69y6ZcZ86cEdC8sRHDww/Y2PRZsGCBoW337m1NaBZa3NAbYWWeERERIvtZuBABUGglkTixfvzxR5lMJpVK//Of/4jph9k5a9YsAW2jo9k2/wX6bLX9MIsXt27U3otL9Axj/fr1APA3/ZfiO2DyZATA+xliBiNcrJqaGrapsODNF3WoVCqWNW/otq2HD6NEgqamBqTKPEBDAw4fjgAYE2PUcpyeY9myZQCwYcMGkf2MGoUAqF/aTjuI+pKmkSNH9uvXLzY2FgDuidiXwdXVde7cuRqNJj4+Xv9WFRUwfz4gwtq1MGaMwFNbWsKuXTB+/KKPP37222+/FdhLb4JtRVlSUiKyH40GJBIRT1kFG11SUmJiYmJqanrjxo23337b0dFR2LN/Rm5urlQqtbKy0j9r/p13WqsIxWersx2RbWxsrl69qmeTJv0Sa7sfpVLJKtvmzZsnsgZfrRZ+yyxqjvXyyy8DQExMDHuxcuVKAZ2o7uepsu/8GDZs2IIFCxQKRUJCQmpq6vnzJWVl7ecSNTfjBx9gebmYd/AbERERADBixIi2qdXV1dWXL19OT09PTExUKBRRUVETJ04cOnRonz59YmNjjXNiDujKywYMGHD69GkBPegyugQvY4sS69y5cwBga2vLtrx2cHDosgLzAQoLC+3s7JYtW6ZWq4OCgtiqZ1vGjTvMipLd3fHJJ3HyZPz0U8T771n8+9dRV1fH0tyGDh0aEhLi6+tr3uneOG+88YbYU/IkNzeXZYqz8jL9K71YKoP4TVBE5WN5eHicOHEiLy/P39+/sbHx2rVrbm5uY8eO1bN5S0vL1KlTCwoKPD09lUrlli1bLCwsNm/eHBYWFhAQMGjQoL59+7q4TKuqcr97F+rrQamE/Hzw9YXCQpBIwMkJsrLA2Rny88HJCe7XswjE3Nzcy8srLS1NqVSWlJTU1NRoNBoHBwdfX19/f//g4OCwsLC//vWvUVFRK1as+PTTT2fOnCnqfJxxdnaOjIyUSqUnT548ceJERkZGaGgoe47dLlotHDwIkZFw+TKEhf2W0RUcDI6OcPcu3F9P0RuBQt6H1SP0798/JSUFAAYMGKDuMgf2PrpnYKdOnWJPOPfv39/ukWo1lpVhdjampuI//vFbLSH7rYqLM8KIhYhvvfUWAISGhrLflm4uN+LE0aNH2XqfnZ3djva+mfPOHfziC/T1bU2NHzAA1erfbYJSWYleXhgTgwZtzSFWLK1Wy6pyd+zYwV7s2rVLn4a6Z2BHjhwZPnw4ACxZskSfhm3fM3stftsqRKyrq2O/0BcvXhTbVy+joqJi6tSpbByRy+W6B34qlUqhUAwfPk0mQwD09cW4OHy4FHz7dmQHBAWh/hUeRlgrTExMBICnnnrqyy+/ZC+6bFJTU9O/f38AWL169eLFiwFg6NCh3Vbe3i5sp43uz9bvHthXp1hZWQHA448/vmfPnsjISN0kUi4v2rfvdzfXbSevaWl44kRrwq2dHX73XbE+ZzSCWE1NTew7044ePcpe/NjV3j/sLnL06NEHDhyQSCTm5uYXLlwQH4lgWlpa2I4uhw4d6sEwePPzzz+z/fFYma5MJps1a1ZWVtbDR7LZBbsUsKtBbS3OmYPe3gU2Nn1mz55dU1PT+bmMk5rM7gCmTZv2/vvvm5iYdP7Y96uvvmKX/DNnzrCNyOLj440ShmD27NkDbfa8/BPT0NDw7rvvbtq06a233iosLOzosI4mr8nJ+9mDDD8/v3aN1GEcsW7fvm1tbS2RSLKysjpPXNFoNOw2+Ntvv2VfW/r88893c4Hrw7DCgc2bN/dsGL2HTiavV69eHTVqFACYmpp2cmkyWjEFmypFRUV1eeSdO3f+9a9/sbVSV1fXB3ZE6n5ycnIAwMHBQdgy9iOIWq1WKBRjx47tZA9Ho+W85+XlDRkyxMrKytTUtG/fvqyG4oE/PT09WX7p+fPng4KC1Gp1ampq211Me4SIiIjt27fHxMQw1wk9UavVnX3NhxFFvnDhQpfFjW5ubsOHD2cJWMuXLzfi2YVRVlZmZmZmYmJyvaONWghBGLP8y9/f//r16zU1NboCrwf+vHnzpkqlUqlUQUFBAwYM6A0jxKZNm5qbm1955RWB9b5EBxjtUqgPWq1WpVIplUqpVOrv799t5+2IxsZGb2/vqqqqzMxM/VeiCH3oVrF6GxcvXpwyZUq/fv2ysrJ6OpY/G4+0WACgVqtv3bpF10Gj86iLRXBCVGoyQXQEiUVwgcQiuEBiEVwgsQgukFgEF0gsggskFsEFEovgAolFcIHEIrhAYhFcILEILpBYBBdILIILJBbBBRKL4AKJRXCBxCK4QGIRXCCxCC6QWAQXSCyCCyQWwQUSi+ACiUVwgcQiuEBiEVwgsQgukFgEF0gsggskFsEFEovgAolFcIHEIrhAYhFcILEILpBYBBdILIILJBbBBRKL4AKJRXCBxCK4QGIRXCCxCC6QWAQXSCyCCyQWwQUSi+ACiUVwgcQiuEBiEVwgsQgukFgEF0gsggskFsEFEovgAolFcIHEIrhAYhFcILEILpBYBBdILIILJBbBhf8HGfLXepaGebsAAAAASUVORK5CYII=\" alt=\"Mol\"/></td>\n",
       "      <td>[[0, 0, 0, 0, 0, 0, 0, 0, 0, 0, 0, 0, 0, 0, 0,...</td>\n",
       "      <td>[[0.0, 0.0, 0.0, 0.0, 0.0, 0.0, 0.0, 0.0, 0.0,...</td>\n",
       "      <td>FC(F)(F)c1cc(Nc2n(C(C)C)c3nc(Nc4ccc(N5CC[NH+](...</td>\n",
       "    </tr>\n",
       "    <tr>\n",
       "      <th>2442</th>\n",
       "      <td>CHEMBL504034</td>\n",
       "      <td>40.0</td>\n",
       "      <td>nM</td>\n",
       "      <td>Clc1c(OCc2cc(F)ccc2)ccc(Nc2ncnc3c2sc(C#C[C@H]2...</td>\n",
       "      <td>7.397940</td>\n",
       "      <td><img data-content=\"rdkit/molecule\" src=\"data:image/png;base64,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\" alt=\"Mol\"/></td>\n",
       "      <td>[[0, 0, 0, 0, 0, 0, 0, 0, 0, 0, 0, 0, 0, 0, 0,...</td>\n",
       "      <td>[[0.0, 0.0, 0.0, 0.0, 0.0, 0.0, 0.0, 0.0, 0.0,...</td>\n",
       "      <td>Lc1c(OCc2cc(F)ccc2)ccc(Nc2ncnc3c2sc(C#C[C@H]2N...</td>\n",
       "    </tr>\n",
       "    <tr>\n",
       "      <th>1084</th>\n",
       "      <td>CHEMBL158797</td>\n",
       "      <td>43000.0</td>\n",
       "      <td>nM</td>\n",
       "      <td>S(Sc1n(C)c2c(c1C(=O)NCC(O)CO)cccc2)c1n(C)c2c(c...</td>\n",
       "      <td>4.366531</td>\n",
       "      <td><img data-content=\"rdkit/molecule\" src=\"data:image/png;base64,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\" alt=\"Mol\"/></td>\n",
       "      <td>[[0, 0, 0, 0, 0, 0, 0, 0, 0, 0, 0, 0, 0, 0, 0,...</td>\n",
       "      <td>[[0.0, 0.0, 0.0, 0.0, 0.0, 1.0, 0.0, 0.0, 0.0,...</td>\n",
       "      <td>S(Sc1n(C)c2c(c1C(=O)NCC(O)CO)cccc2)c1n(C)c2c(c...</td>\n",
       "    </tr>\n",
       "  </tbody>\n",
       "</table>\n",
       "</div>"
      ],
      "text/plain": [
       "          chembl_id     IC50 units  \\\n",
       "1777   CHEMBL207869     77.0    nM   \n",
       "5785  CHEMBL3940060    330.0    nM   \n",
       "6373  CHEMBL3678951      1.0    nM   \n",
       "2442   CHEMBL504034     40.0    nM   \n",
       "1084   CHEMBL158797  43000.0    nM   \n",
       "\n",
       "                                       canonical_smiles   pIC50\\r  \\\n",
       "1777  Clc1c(OCc2cc(F)ccc2)ccc(Nc2c(C#Cc3ncccn3)cncn2)c1  7.113509   \n",
       "5785  ClCC(=O)OCCN1C(=O)Oc2c1cc1c(Nc3cc(Cl)c(F)cc3)n...  6.481486   \n",
       "6373  FC(F)(F)c1cc(Nc2n(C(C)C)c3nc(Nc4ccc(N5CC[NH+](...  9.000000   \n",
       "2442  Clc1c(OCc2cc(F)ccc2)ccc(Nc2ncnc3c2sc(C#C[C@H]2...  7.397940   \n",
       "1084  S(Sc1n(C)c2c(c1C(=O)NCC(O)CO)cccc2)c1n(C)c2c(c...  4.366531   \n",
       "\n",
       "                                             2D_Figures  \\\n",
       "1777  <img data-content=\"rdkit/molecule\" src=\"data:i...   \n",
       "5785  <img data-content=\"rdkit/molecule\" src=\"data:i...   \n",
       "6373  <img data-content=\"rdkit/molecule\" src=\"data:i...   \n",
       "2442  <img data-content=\"rdkit/molecule\" src=\"data:i...   \n",
       "1084  <img data-content=\"rdkit/molecule\" src=\"data:i...   \n",
       "\n",
       "                                     Own_OneHotEncoding  \\\n",
       "1777  [[0, 0, 0, 0, 0, 0, 0, 0, 0, 0, 0, 0, 0, 0, 0,...   \n",
       "5785  [[0, 0, 0, 0, 0, 0, 0, 0, 0, 0, 0, 0, 0, 0, 0,...   \n",
       "6373  [[0, 0, 0, 0, 0, 0, 0, 0, 0, 0, 0, 0, 0, 0, 0,...   \n",
       "2442  [[0, 0, 0, 0, 0, 0, 0, 0, 0, 0, 0, 0, 0, 0, 0,...   \n",
       "1084  [[0, 0, 0, 0, 0, 0, 0, 0, 0, 0, 0, 0, 0, 0, 0,...   \n",
       "\n",
       "                              UniqueChar_OneHotEncoding  \\\n",
       "1777  [[0.0, 0.0, 0.0, 0.0, 0.0, 0.0, 0.0, 0.0, 0.0,...   \n",
       "5785  [[0.0, 0.0, 0.0, 0.0, 0.0, 0.0, 0.0, 0.0, 0.0,...   \n",
       "6373  [[0.0, 0.0, 0.0, 0.0, 0.0, 0.0, 0.0, 0.0, 0.0,...   \n",
       "2442  [[0.0, 0.0, 0.0, 0.0, 0.0, 0.0, 0.0, 0.0, 0.0,...   \n",
       "1084  [[0.0, 0.0, 0.0, 0.0, 0.0, 1.0, 0.0, 0.0, 0.0,...   \n",
       "\n",
       "                             Processed_canonical_smiles  \n",
       "1777   Lc1c(OCc2cc(F)ccc2)ccc(Nc2c(C#Cc3ncccn3)cncn2)c1  \n",
       "5785  LCC(=O)OCCN1C(=O)Oc2c1cc1c(Nc3cc(L)c(F)cc3)ncn...  \n",
       "6373  FC(F)(F)c1cc(Nc2n(C(C)C)c3nc(Nc4ccc(N5CC[NH+](...  \n",
       "2442  Lc1c(OCc2cc(F)ccc2)ccc(Nc2ncnc3c2sc(C#C[C@H]2N...  \n",
       "1084  S(Sc1n(C)c2c(c1C(=O)NCC(O)CO)cccc2)c1n(C)c2c(c...  "
      ]
     },
     "execution_count": 26,
     "metadata": {},
     "output_type": "execute_result"
    }
   ],
   "source": [
    "# for loop to iterate over all the smiles in the\n",
    "# dataframe and apply the  function\n",
    "start = timer()\n",
    "for i in range(0, 3906):\n",
    "    strings = df['Processed_canonical_smiles'].iloc[i]\n",
    "    df['UniqueChar_OneHotEncoding'].iloc[i] = smiles_encoder(strings, max_len)\n",
    "end = timer()\n",
    "df.head()"
   ]
  },
  {
   "cell_type": "code",
   "execution_count": 27,
   "metadata": {},
   "outputs": [
    {
     "name": "stdout",
     "output_type": "stream",
     "text": [
      "3.6564178 secs\n"
     ]
    }
   ],
   "source": [
    "smiles_encoder_eqDimen = end - start\n",
    "print(str(smiles_encoder_eqDimen) + ' secs')"
   ]
  },
  {
   "cell_type": "markdown",
   "metadata": {},
   "source": [
    "### Visualization with Matplotlib.imshow() function of One Hot Encoded Matrix using Own Implementation (equal dimension) "
   ]
  },
  {
   "cell_type": "code",
   "execution_count": 28,
   "metadata": {},
   "outputs": [],
   "source": [
    "# First element of one hot encoded array\n",
    "First_one_hot_encoded_matrix = df.iloc[0]['UniqueChar_OneHotEncoding']"
   ]
  },
  {
   "cell_type": "code",
   "execution_count": 29,
   "metadata": {},
   "outputs": [
    {
     "data": {
      "image/png": "[encoded data removed]",
      "text/plain": [
       "<Figure size 432x288 with 2 Axes>"
      ]
     },
     "metadata": {
      "needs_background": "light"
     },
     "output_type": "display_data"
    }
   ],
   "source": [
    "# Visualization of One Hot Encoded array using matplotlib imshow()\n",
    "im = plt.imshow(First_one_hot_encoded_matrix, cmap='hot', interpolation='None')\n",
    "plt.colorbar(im, orientation='horizontal')\n",
    "plt.xlabel('Maximum length of String (267)')\n",
    "plt.ylabel('Length of Unique Characters (36)')\n",
    "plt.title('Visualization of One Hot Encoded Matrix (own)')\n",
    "# plt.axis('auto')\n",
    "plt.show()"
   ]
  },
  {
   "cell_type": "code",
   "execution_count": 30,
   "metadata": {},
   "outputs": [
    {
     "data": {
      "text/plain": [
       "(37, 267)"
      ]
     },
     "execution_count": 30,
     "metadata": {},
     "output_type": "execute_result"
    }
   ],
   "source": [
    "# Dimension of the First OneHotEncoded_matrix\n",
    "First_one_hot_encoded_matrix.shape"
   ]
  },
  {
   "cell_type": "code",
   "execution_count": 31,
   "metadata": {},
   "outputs": [],
   "source": [
    "# Next element of one hot encoded array\n",
    "Next_one_hot_encoded_matrix = df.iloc[1]['UniqueChar_OneHotEncoding']"
   ]
  },
  {
   "cell_type": "code",
   "execution_count": 32,
   "metadata": {},
   "outputs": [
    {
     "data": {
      "image/png": "[encoded data removed]",
      "text/plain": [
       "<Figure size 432x288 with 2 Axes>"
      ]
     },
     "metadata": {
      "needs_background": "light"
     },
     "output_type": "display_data"
    }
   ],
   "source": [
    "# Visualization of One Hot Encoded array using matplotlib imshow()\n",
    "im = plt.imshow(Next_one_hot_encoded_matrix, cmap='hot', interpolation='None')\n",
    "plt.colorbar(im, orientation='horizontal')\n",
    "plt.xlabel('Maximum length of String (267)')\n",
    "plt.ylabel('Length of Unique Characters (36)')\n",
    "plt.title('Visualization of One Hot Encoded Matrix (own)')\n",
    "# plt.axis('auto')\n",
    "plt.show()"
   ]
  },
  {
   "cell_type": "code",
   "execution_count": 33,
   "metadata": {},
   "outputs": [
    {
     "data": {
      "text/plain": [
       "(37, 267)"
      ]
     },
     "execution_count": 33,
     "metadata": {},
     "output_type": "execute_result"
    }
   ],
   "source": [
    "# Dimension of the Second OneHotEncoded_matrix\n",
    "Next_one_hot_encoded_matrix.shape"
   ]
  },
  {
   "cell_type": "markdown",
   "metadata": {},
   "source": [
    "From the above figures, we can see that the dimensions are equal for all the strings using `preprocessed` and `smiles_encoder` function."
   ]
  },
  {
   "cell_type": "markdown",
   "metadata": {},
   "source": [
    "![green-divider](https://user-images.githubusercontent.com/7065401/52071924-c003ad80-2562-11e9-8297-1c6595f8a7ff.png)\n",
    "## Apply One Hot encoding using implementation in Scikit-learn"
   ]
  },
  {
   "cell_type": "markdown",
   "metadata": {},
   "source": [
    "We can use [OneHotEncoder](https://scikit-learn.org/stable/modules/generated/sklearn.preprocessing.OneHotEncoder.html) from SciKit library but it only takes numerical categorical values, hence any value of string type should be [label_encoded](https://scikit-learn.org/stable/modules/generated/sklearn.preprocessing.LabelEncoder.html) before one hot encoded."
   ]
  },
  {
   "cell_type": "code",
   "execution_count": 34,
   "metadata": {},
   "outputs": [],
   "source": [
    "# Split the SMILES into characters\n",
    "def split(stringData):\n",
    "    \"\"\"\n",
    "    Function used to split the strings into Characters array\n",
    "    Parameters\n",
    "    ----------\n",
    "         stringData(string): string\n",
    "    Returns\n",
    "    -------\n",
    "         array: return character array\n",
    "    \"\"\"\n",
    "    return [char for char in stringData]"
   ]
  },
  {
   "cell_type": "code",
   "execution_count": 35,
   "metadata": {},
   "outputs": [],
   "source": [
    "# Create new column which has OneHotEncoded smiles using sklearn implementation\n",
    "df['sklearn_OneHotEncoded'] = ''"
   ]
  },
  {
   "cell_type": "code",
   "execution_count": 36,
   "metadata": {},
   "outputs": [],
   "source": [
    "def laterPadding(matrix):\n",
    "    \"\"\"\n",
    "    Add horizantle and vertical padding to the given matrix\n",
    "    Parameters\n",
    "    ----------\n",
    "          matrix(ndarray): Character array\n",
    "    Returns\n",
    "    -------\n",
    "          ndarray: return padded matrix\n",
    "  \"\"\"\n",
    "    ColumnPadding = np.ndarray(shape=(267-len(matrix),\n",
    "                               len(matrix[0])))\n",
    "    ColumnPadding.fill(0)\n",
    "    IndexPadding = np.ndarray(shape=(267,\n",
    "                              36-len(matrix[0])))\n",
    "    IndexPadding.fill(0)\n",
    "    matrix = np.append(matrix, ColumnPadding, axis=0)\n",
    "    matrix = np.append(matrix, IndexPadding, axis=1)\n",
    "    return matrix"
   ]
  },
  {
   "cell_type": "code",
   "execution_count": 37,
   "metadata": {},
   "outputs": [],
   "source": [
    "# Use Scikit-learn implementation of One Hot Encoding\n",
    "def sklearn_OneHotEncode(canonical_char):\n",
    "    \"\"\"\n",
    "    Function used to label and One Hot Encode the smiles\n",
    "    using sklearn LabelEncoder and OneHotEncoder implementation\n",
    "    Parameters\n",
    "    ----------\n",
    "          canonical_char(array): Canonical character array\n",
    "    Returns\n",
    "    -------\n",
    "          ndarray: return one hot encoded matrix\n",
    "    \"\"\"\n",
    "    # integer encoding\n",
    "    label_encoder = LabelEncoder()\n",
    "    integer_encoded = label_encoder.fit_transform(canonical_char)\n",
    "    # One Hot encoding\n",
    "    onehot_encoder = OneHotEncoder(sparse=False)\n",
    "    integer_encoded = integer_encoded.reshape(len(integer_encoded), 1)\n",
    "    onehot_encoded = onehot_encoder.fit_transform(integer_encoded)\n",
    "    return onehot_encoded"
   ]
  },
  {
   "cell_type": "markdown",
   "metadata": {},
   "source": [
    "Running the Functions above first give integer encoded SMILES of the labels and finally One Hot encode the SMILES structures.\n",
    "\n",
    "\n",
    "By default, the OneHotEncoder class will return a more efficient sparse encoding which can be useful in some applications but in this case, we disabled the sparse return type by setting the `sparse=False` argument."
   ]
  },
  {
   "cell_type": "code",
   "execution_count": 38,
   "metadata": {
    "scrolled": true
   },
   "outputs": [
    {
     "data": {
      "text/html": [
       "<div>\n",
       "<style scoped>\n",
       "    .dataframe tbody tr th:only-of-type {\n",
       "        vertical-align: middle;\n",
       "    }\n",
       "\n",
       "    .dataframe tbody tr th {\n",
       "        vertical-align: top;\n",
       "    }\n",
       "\n",
       "    .dataframe thead th {\n",
       "        text-align: right;\n",
       "    }\n",
       "</style>\n",
       "<table border=\"1\" class=\"dataframe\">\n",
       "  <thead>\n",
       "    <tr style=\"text-align: right;\">\n",
       "      <th></th>\n",
       "      <th>chembl_id</th>\n",
       "      <th>IC50</th>\n",
       "      <th>units</th>\n",
       "      <th>canonical_smiles</th>\n",
       "      <th>pIC50</th>\n",
       "      <th>2D_Figures</th>\n",
       "      <th>Own_OneHotEncoding</th>\n",
       "      <th>UniqueChar_OneHotEncoding</th>\n",
       "      <th>Processed_canonical_smiles</th>\n",
       "      <th>sklearn_OneHotEncoded</th>\n",
       "    </tr>\n",
       "  </thead>\n",
       "  <tbody>\n",
       "    <tr>\n",
       "      <th>1777</th>\n",
       "      <td>CHEMBL207869</td>\n",
       "      <td>77.0</td>\n",
       "      <td>nM</td>\n",
       "      <td>Clc1c(OCc2cc(F)ccc2)ccc(Nc2c(C#Cc3ncccn3)cncn2)c1</td>\n",
       "      <td>7.113509</td>\n",
       "      <td><img data-content=\"rdkit/molecule\" src=\"data:image/png;base64,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\" alt=\"Mol\"/></td>\n",
       "      <td>[[0, 0, 0, 0, 0, 0, 0, 0, 0, 0, 0, 0, 0, 0, 0,...</td>\n",
       "      <td>[[0.0, 0.0, 0.0, 0.0, 0.0, 0.0, 0.0, 0.0, 0.0,...</td>\n",
       "      <td>Lc1c(OCc2cc(F)ccc2)ccc(Nc2c(C#Cc3ncccn3)cncn2)c1</td>\n",
       "      <td>[[0.0, 0.0, 0.0, 0.0, 0.0, 0.0, 0.0, 0.0, 0.0,...</td>\n",
       "    </tr>\n",
       "    <tr>\n",
       "      <th>5785</th>\n",
       "      <td>CHEMBL3940060</td>\n",
       "      <td>330.0</td>\n",
       "      <td>nM</td>\n",
       "      <td>ClCC(=O)OCCN1C(=O)Oc2c1cc1c(Nc3cc(Cl)c(F)cc3)n...</td>\n",
       "      <td>6.481486</td>\n",
       "      <td><img data-content=\"rdkit/molecule\" src=\"data:image/png;base64,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\" alt=\"Mol\"/></td>\n",
       "      <td>[[0, 0, 0, 0, 0, 0, 0, 0, 0, 0, 0, 0, 0, 0, 0,...</td>\n",
       "      <td>[[0.0, 0.0, 0.0, 0.0, 0.0, 0.0, 0.0, 0.0, 0.0,...</td>\n",
       "      <td>LCC(=O)OCCN1C(=O)Oc2c1cc1c(Nc3cc(L)c(F)cc3)ncn...</td>\n",
       "      <td>[[0.0, 0.0, 0.0, 1.0, 0.0, 0.0, 0.0, 0.0, 0.0,...</td>\n",
       "    </tr>\n",
       "    <tr>\n",
       "      <th>6373</th>\n",
       "      <td>CHEMBL3678951</td>\n",
       "      <td>1.0</td>\n",
       "      <td>nM</td>\n",
       "      <td>FC(F)(F)c1cc(Nc2n(C(C)C)c3nc(Nc4ccc(N5CC[NH+](...</td>\n",
       "      <td>9.000000</td>\n",
       "      <td><img data-content=\"rdkit/molecule\" src=\"data:image/png;base64,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\" alt=\"Mol\"/></td>\n",
       "      <td>[[0, 0, 0, 0, 0, 0, 0, 0, 0, 0, 0, 0, 0, 0, 0,...</td>\n",
       "      <td>[[0.0, 0.0, 0.0, 0.0, 0.0, 0.0, 0.0, 0.0, 0.0,...</td>\n",
       "      <td>FC(F)(F)c1cc(Nc2n(C(C)C)c3nc(Nc4ccc(N5CC[NH+](...</td>\n",
       "      <td>[[0.0, 0.0, 1.0, 0.0, 0.0, 1.0, 0.0, 0.0, 0.0,...</td>\n",
       "    </tr>\n",
       "    <tr>\n",
       "      <th>2442</th>\n",
       "      <td>CHEMBL504034</td>\n",
       "      <td>40.0</td>\n",
       "      <td>nM</td>\n",
       "      <td>Clc1c(OCc2cc(F)ccc2)ccc(Nc2ncnc3c2sc(C#C[C@H]2...</td>\n",
       "      <td>7.397940</td>\n",
       "      <td><img data-content=\"rdkit/molecule\" src=\"data:image/png;base64,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\" alt=\"Mol\"/></td>\n",
       "      <td>[[0, 0, 0, 0, 0, 0, 0, 0, 0, 0, 0, 0, 0, 0, 0,...</td>\n",
       "      <td>[[0.0, 0.0, 0.0, 0.0, 0.0, 0.0, 0.0, 0.0, 0.0,...</td>\n",
       "      <td>Lc1c(OCc2cc(F)ccc2)ccc(Nc2ncnc3c2sc(C#C[C@H]2N...</td>\n",
       "      <td>[[0.0, 0.0, 0.0, 0.0, 0.0, 0.0, 0.0, 0.0, 0.0,...</td>\n",
       "    </tr>\n",
       "    <tr>\n",
       "      <th>1084</th>\n",
       "      <td>CHEMBL158797</td>\n",
       "      <td>43000.0</td>\n",
       "      <td>nM</td>\n",
       "      <td>S(Sc1n(C)c2c(c1C(=O)NCC(O)CO)cccc2)c1n(C)c2c(c...</td>\n",
       "      <td>4.366531</td>\n",
       "      <td><img data-content=\"rdkit/molecule\" src=\"data:image/png;base64,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\" alt=\"Mol\"/></td>\n",
       "      <td>[[0, 0, 0, 0, 0, 0, 0, 0, 0, 0, 0, 0, 0, 0, 0,...</td>\n",
       "      <td>[[0.0, 0.0, 0.0, 0.0, 0.0, 1.0, 0.0, 0.0, 0.0,...</td>\n",
       "      <td>S(Sc1n(C)c2c(c1C(=O)NCC(O)CO)cccc2)c1n(C)c2c(c...</td>\n",
       "      <td>[[0.0, 1.0, 0.0, 0.0, 0.0, 0.0, 1.0, 0.0, 0.0,...</td>\n",
       "    </tr>\n",
       "  </tbody>\n",
       "</table>\n",
       "</div>"
      ],
      "text/plain": [
       "          chembl_id     IC50 units  \\\n",
       "1777   CHEMBL207869     77.0    nM   \n",
       "5785  CHEMBL3940060    330.0    nM   \n",
       "6373  CHEMBL3678951      1.0    nM   \n",
       "2442   CHEMBL504034     40.0    nM   \n",
       "1084   CHEMBL158797  43000.0    nM   \n",
       "\n",
       "                                       canonical_smiles   pIC50\\r  \\\n",
       "1777  Clc1c(OCc2cc(F)ccc2)ccc(Nc2c(C#Cc3ncccn3)cncn2)c1  7.113509   \n",
       "5785  ClCC(=O)OCCN1C(=O)Oc2c1cc1c(Nc3cc(Cl)c(F)cc3)n...  6.481486   \n",
       "6373  FC(F)(F)c1cc(Nc2n(C(C)C)c3nc(Nc4ccc(N5CC[NH+](...  9.000000   \n",
       "2442  Clc1c(OCc2cc(F)ccc2)ccc(Nc2ncnc3c2sc(C#C[C@H]2...  7.397940   \n",
       "1084  S(Sc1n(C)c2c(c1C(=O)NCC(O)CO)cccc2)c1n(C)c2c(c...  4.366531   \n",
       "\n",
       "                                             2D_Figures  \\\n",
       "1777  <img data-content=\"rdkit/molecule\" src=\"data:i...   \n",
       "5785  <img data-content=\"rdkit/molecule\" src=\"data:i...   \n",
       "6373  <img data-content=\"rdkit/molecule\" src=\"data:i...   \n",
       "2442  <img data-content=\"rdkit/molecule\" src=\"data:i...   \n",
       "1084  <img data-content=\"rdkit/molecule\" src=\"data:i...   \n",
       "\n",
       "                                     Own_OneHotEncoding  \\\n",
       "1777  [[0, 0, 0, 0, 0, 0, 0, 0, 0, 0, 0, 0, 0, 0, 0,...   \n",
       "5785  [[0, 0, 0, 0, 0, 0, 0, 0, 0, 0, 0, 0, 0, 0, 0,...   \n",
       "6373  [[0, 0, 0, 0, 0, 0, 0, 0, 0, 0, 0, 0, 0, 0, 0,...   \n",
       "2442  [[0, 0, 0, 0, 0, 0, 0, 0, 0, 0, 0, 0, 0, 0, 0,...   \n",
       "1084  [[0, 0, 0, 0, 0, 0, 0, 0, 0, 0, 0, 0, 0, 0, 0,...   \n",
       "\n",
       "                              UniqueChar_OneHotEncoding  \\\n",
       "1777  [[0.0, 0.0, 0.0, 0.0, 0.0, 0.0, 0.0, 0.0, 0.0,...   \n",
       "5785  [[0.0, 0.0, 0.0, 0.0, 0.0, 0.0, 0.0, 0.0, 0.0,...   \n",
       "6373  [[0.0, 0.0, 0.0, 0.0, 0.0, 0.0, 0.0, 0.0, 0.0,...   \n",
       "2442  [[0.0, 0.0, 0.0, 0.0, 0.0, 0.0, 0.0, 0.0, 0.0,...   \n",
       "1084  [[0.0, 0.0, 0.0, 0.0, 0.0, 1.0, 0.0, 0.0, 0.0,...   \n",
       "\n",
       "                             Processed_canonical_smiles  \\\n",
       "1777   Lc1c(OCc2cc(F)ccc2)ccc(Nc2c(C#Cc3ncccn3)cncn2)c1   \n",
       "5785  LCC(=O)OCCN1C(=O)Oc2c1cc1c(Nc3cc(L)c(F)cc3)ncn...   \n",
       "6373  FC(F)(F)c1cc(Nc2n(C(C)C)c3nc(Nc4ccc(N5CC[NH+](...   \n",
       "2442  Lc1c(OCc2cc(F)ccc2)ccc(Nc2ncnc3c2sc(C#C[C@H]2N...   \n",
       "1084  S(Sc1n(C)c2c(c1C(=O)NCC(O)CO)cccc2)c1n(C)c2c(c...   \n",
       "\n",
       "                                  sklearn_OneHotEncoded  \n",
       "1777  [[0.0, 0.0, 0.0, 0.0, 0.0, 0.0, 0.0, 0.0, 0.0,...  \n",
       "5785  [[0.0, 0.0, 0.0, 1.0, 0.0, 0.0, 0.0, 0.0, 0.0,...  \n",
       "6373  [[0.0, 0.0, 1.0, 0.0, 0.0, 1.0, 0.0, 0.0, 0.0,...  \n",
       "2442  [[0.0, 0.0, 0.0, 0.0, 0.0, 0.0, 0.0, 0.0, 0.0,...  \n",
       "1084  [[0.0, 1.0, 0.0, 0.0, 0.0, 0.0, 1.0, 0.0, 0.0,...  "
      ]
     },
     "execution_count": 38,
     "metadata": {},
     "output_type": "execute_result"
    }
   ],
   "source": [
    "# for loop to iterate over all the smiles in the dataframe\n",
    "# and apply the  function\n",
    "start = timer()\n",
    "for i in range(0, 3906):\n",
    "    canonical_char = split(df['Processed_canonical_smiles'].iloc[i])\n",
    "    sklearnOHC = sklearn_OneHotEncode(canonical_char)\n",
    "    sklearnOHCPadding = laterPadding(sklearnOHC)\n",
    "    df['sklearn_OneHotEncoded'].iloc[i] = sklearnOHCPadding.transpose()\n",
    "end = timer()\n",
    "df.head()"
   ]
  },
  {
   "cell_type": "code",
   "execution_count": 39,
   "metadata": {},
   "outputs": [
    {
     "name": "stdout",
     "output_type": "stream",
     "text": [
      "10.242503599999992 secs\n"
     ]
    }
   ],
   "source": [
    "sklearn_time = end - start\n",
    "print(str(sklearn_time) + ' secs')"
   ]
  },
  {
   "cell_type": "markdown",
   "metadata": {},
   "source": [
    "### Visualization with Matplotlib.imshow() function of One Hot Encoded Matrix using Scikit-learn implementation"
   ]
  },
  {
   "cell_type": "code",
   "execution_count": 40,
   "metadata": {},
   "outputs": [],
   "source": [
    "# First element of one hot encoded array\n",
    "First_one_hot_encoded_matrix = df.iloc[0]['sklearn_OneHotEncoded']"
   ]
  },
  {
   "cell_type": "code",
   "execution_count": 41,
   "metadata": {},
   "outputs": [
    {
     "data": {
      "image/png": "[encoded data removed]",
      "text/plain": [
       "<Figure size 432x288 with 2 Axes>"
      ]
     },
     "metadata": {
      "needs_background": "light"
     },
     "output_type": "display_data"
    }
   ],
   "source": [
    "# Visualization of One Hot Encoded array using matplotlib imshow()\n",
    "im = plt.imshow(First_one_hot_encoded_matrix, cmap='hot', interpolation='None')\n",
    "plt.colorbar(im, orientation='horizontal')\n",
    "plt.xlabel('Maximum length of String (267)')\n",
    "plt.ylabel('Possible char in individual SMILES')\n",
    "plt.title('Visualization of One Hot Encoded Matrix (scikit-learn)')\n",
    "# plt.axis('auto')\n",
    "plt.show()"
   ]
  },
  {
   "cell_type": "markdown",
   "metadata": {},
   "source": [
    "## Initial Padding"
   ]
  },
  {
   "cell_type": "code",
   "execution_count": 42,
   "metadata": {},
   "outputs": [],
   "source": [
    "df['sklearn_OneHotEncoded_inner'] = ''"
   ]
  },
  {
   "cell_type": "code",
   "execution_count": 43,
   "metadata": {},
   "outputs": [],
   "source": [
    "def initialPadding(canonical_char):\n",
    "    \"\"\"\n",
    "    Add Padding to the given list\n",
    "    Parameters\n",
    "    ----------\n",
    "          canonical_char(array): Character array\n",
    "    Returns\n",
    "    -------\n",
    "          list: return padded character list\n",
    "    \"\"\"\n",
    "    zeroes = [0] * (267-len(canonical_char))\n",
    "    list1 = canonical_char + zeroes\n",
    "    return list1"
   ]
  },
  {
   "cell_type": "code",
   "execution_count": 44,
   "metadata": {},
   "outputs": [
    {
     "data": {
      "text/html": [
       "<div>\n",
       "<style scoped>\n",
       "    .dataframe tbody tr th:only-of-type {\n",
       "        vertical-align: middle;\n",
       "    }\n",
       "\n",
       "    .dataframe tbody tr th {\n",
       "        vertical-align: top;\n",
       "    }\n",
       "\n",
       "    .dataframe thead th {\n",
       "        text-align: right;\n",
       "    }\n",
       "</style>\n",
       "<table border=\"1\" class=\"dataframe\">\n",
       "  <thead>\n",
       "    <tr style=\"text-align: right;\">\n",
       "      <th></th>\n",
       "      <th>chembl_id</th>\n",
       "      <th>IC50</th>\n",
       "      <th>units</th>\n",
       "      <th>canonical_smiles</th>\n",
       "      <th>pIC50</th>\n",
       "      <th>2D_Figures</th>\n",
       "      <th>Own_OneHotEncoding</th>\n",
       "      <th>UniqueChar_OneHotEncoding</th>\n",
       "      <th>Processed_canonical_smiles</th>\n",
       "      <th>sklearn_OneHotEncoded</th>\n",
       "      <th>sklearn_OneHotEncoded_inner</th>\n",
       "    </tr>\n",
       "  </thead>\n",
       "  <tbody>\n",
       "    <tr>\n",
       "      <th>1777</th>\n",
       "      <td>CHEMBL207869</td>\n",
       "      <td>77.0</td>\n",
       "      <td>nM</td>\n",
       "      <td>Clc1c(OCc2cc(F)ccc2)ccc(Nc2c(C#Cc3ncccn3)cncn2)c1</td>\n",
       "      <td>7.113509</td>\n",
       "      <td><img data-content=\"rdkit/molecule\" src=\"data:image/png;base64,iVBORw0KGgoAAAANSUhEUgAAAMgAAADICAIAAAAiOjnJAAAABmJLR0QA/wD/AP+gvaeTAAAZQ0lEQVR4nO3deVhTV/oH8DchISEhrPqwKBYZFqeIWlFH1LpUbaHUiqMdp6WdKlrRFpcqggsqVGsZ9zgq2rqMpVrHagdlxCozUuvOoIALoCzKIrvsECAJ5/fHsQw/W8l2D8Hyfh7/8An3nHsMX+9y7jnn8gghgBDX+MZuAPptwmAhJjBYiAkMFmICg4WYwGAhJjBYiAkMFmICg4WYwGAhJjBYiAkMFmICg4WYwGAhJjBYiAkMFmICg4WYwGAhJjBYiAkMFmICg4WYwGAhJjBYiAkMFmICg4WYwGAhJjBYiAkMFmICg4WYwGAhJjBYiAkMFmICg4WYwGAhJjBYiAkMFmICg4WYwGAhJjBYiAkMFmICg4WYwGAhJjBYiAkMFmICg4WYwGAhJjBYiAkMFmICg4WYwGAhJjBYiAmBsRuAjEOhUGRkZIhEIolEIhAIZDIZAFhbW3NVPwarJ0pOTj516tTGjRt/9acymUwgEJiZmYnFYqFQaG5u7ubmtnv3bhsbG+13wcO32Pc0KpVq+PDhaWlpTk5OFhYWCoVCqVQ2NDQQQmpqan61SO/evRUKRWZmZt++fbXcCx6xepydO3empaX169cvIyNDKpXm5eU9cyqsq6tTq9VNTU0tLS2tra2NjY3r1q07c+ZMZGTk/v37td0NQT1JcXGxpaUlAJw+fZoQolAofhkJmUxmbW3t6Ojo4uKyZ88eQkheXp5IJDIxMbl7966WO8K7wp4lJCSktrZ2+vTpU6ZMAYDW1lYXFxcnJydra2srKyu6TX19fXV1dXFxcV5eHk1e//79P/roI7VavXr1ai13hNdYPci5c08++mh4TU1lRkZGJ1dLHU+Ftra29AhXUVHh6upaV1d3+fLl0aNHa94Zu6Mu6lYaG4mzM5FIGr/66rJ+Naxbtw4ARo4c2dbWpnHjzoJ1pabmaFnZ0bIy/dqBupXwcAJABg0iSqWeNdTX19vb2wPAqVOnNG7cWbAwUr8Zd+8SoZDw+eTqVYPq+dvf/gYAAwYMUGqKp4aL96u1tYUtLbqcx1G3QwiEhIBSCfPng4+PQVUFBwe7urpmZWV9/fXXGvf6XHjE+m24fJnw+cTenlRXc1Db0aNHAaBPnz6NjY2dbKb54j1PoViak3O+qoqDRiEjuXqVJCRwU1VbW5u3tzcAbNq0qZPNNPdjpTc0XKyp2fX4sRI7Jl40Z88CAOTkQO/e4OfHTZ08Hm/Lli0AsHHjxqqqqudtpjlYb9vauojFj1ta4ioruWka6ioPHoBcDtnZnFWoVqsBYPz48ZMnT66pqdm0adPzttQcLD6Pt6BPHwD4qri4Sa3mrI2oS7i7Q1wcN1WpVKpRo0atWbOmubl5ypQpVlZWw4YNe97GWj3SmWBlNdjcvEqlOlpezk0bUVehZ8D0dCgsfPrJo0d6ViWXy5OTk2NjY+vr67dv315TU/P48ePnbq3lJdut+vphKSmzk5LKy8u5uAREXWfnTsLjkQ8/JAoFmTSJyGREj9v9goICc3NzAIiPjw8LCwOAQYMGddKbpcMjnQWRkQCwePFinRuFjOrRIyISET6fpKaSqVMJAAkJ0bmShQtPAsCMGTPu3r0rFAr5fP61a9c62V6HYGVkZAgEAlNT05ycHJ3bhYxqyRICQPz9SVYWEQiIUEiys3Uofvo0ASBjxpQVFhaOHz8eAD755JPOi+j2EHrWrFkA8P777+tUChldRQWxtCQA5MIFMmcOMTMjoaH/1bJsYyPp358AkB07yIEDqvHjk156yb2mpqbzUroFq6ioyMzMjM/n37x5U6eCyOjWrycAZPTotsLCVmfn0TweT8tfYljY06fXxcXE1pYAkH/8o1VjKZ3HY4WGhm7durVv374+Pj5isdjMzOyZga10KH7HH02YMMHExESvGxHEmcZGmDatKDd3/ubNQTdu3Ni0adPkyZPPnz+vsWBMDKxeDefOwe7dcPgwTJ4MWhTSfTzWt99+KxaLeTye9v+k1atXV1ZW6rojxLmYmBgAcHd3r6iooFNuEhMTtSlYX09++onweEQkIllZWu1LtyOWQqEYOHBgXl7e7Nmz/fz8FApFc3PzM3M86PjD9h9dv369tLT0008/3bZtm/Y7QiyoVKpBgwZlZmZ++eWX1dXV+/fv37Nnz6RJkzQWbG2FV16BjAz47DNYs0a7nekU+RUrVgCAl5dXa6vmsyx1+/ZtPp9vamqam5ur074QC8ePHwcAR0fH6upq7X+JhYXE25t4eJDmZm13ZBIZGall3u/du/fhhx8CwD//+c8TJ05YWVn17t1bU9JbCSHl5eWpqak1NTXTpk3Tcl+IkZdffvncuXOZmZmNjY0ODg51dXV1dXVNTU1qtVqpBJFI+KulLCxgzhwICABbW633pGUA29raJkyYAAALFiz46aefeDyeTCbr/J4zPT3dxcXl1VdfffTokUgk4vP5qamp2gYeMRMXF2dqaioQPDuldPz4swAEgFhaEmtr4uREXFxIXBwhhGRn69bvRbTvbjhw4AAA2NnZlZeXDxo0CADWrVvXeZH6+no7OzsAOH369KeffgoA/v7+urUOMTBnzhwAsLGx8fb29vDwcHFxcXR0tLa2fuONH2mwOv7Zvp3s2EESEtgE68mTJ/Ssd+TIETrh383NTaFQaCy4c+dOABgwYEBJSQmdRfSf//xHtwYiTl26dInH45mammZkZDxvm6oqUlVF8vNJbu7TVM2bxyZYQUFBADBu3LiHDx9KpVLQ+ja1tbX1d7/7HQAcPHhww4YNADBixAhtJg8hFpRK5eDBgwFg7dq1WhbZsYMQwiZYNOMikSgzM/Ott94CgMDAQO13cOTIEQDo06fPkydP6CTJEydO6NZGxJHo6GgAcHV11eZsYyANwVIqle1XVN999x0AWFhYPH78WPsdtA+R3rx5c3sHncbJQ4hz+fn59Gxz5syZLtidhmDRKypXV9fy8nJ6vImJidF1H+fOnQMAa2vr8vLy3//+9wCwb98+fRuM9EQXa3j33Xe7ZnedBas944mJiYsXLwaA4cOHq9VqPXZDu3dXrFhBD3sODg60sx51jZMnT+pxtjFEZ8H661//CgDvvPMOIWT9+vVSqVTvjqj//ve/PB7PzMysuLjYx8cHAKKiovSrCumqsbHR2dkZAHbt2tVlO+3sWeG2bdvCwsKWLl1KJ2NUVVXptFjgM5YvXz506NCZM2devHjxtddek0qljY2NJiYmFhYWAGBlZcXj8czNzYVCYceRETwez8rKKioqiq4agPSwbNmybdu2DRs27Pr16102zKSzYF2/fn3UqFFSqTQnJ4d2dXLiwIEDc+fOlUgkTU1NWhYZNGhQVFRUQEAAV22gamtrIyIiysrKOhn/Q5fipD/y8fGh1wYvkDt37nh7e7e1tSUnJw8dOrTrdtz5Ae3tt98GgEWLFnF1hKysrOzVqxcAfPvtt4QQpVJZVVVVVVWVm5ubm5ublpaWkpJy6dKlxMTEhISE48ePHzt27N133wUADw8Pbu8lU1NT6dJ12n9XK1asuH//PodtYE2tVtMLjyVLlnTxrjUMm8nKyvLy8uLxeJmZmbSr00CzZs06fPiwlkPMKJVK5eXllZWV9dVXX82dO9fwNgBAW1vbmDFjrl27NnXq1MDAwE7G/7QvxZmWlpafnz9jxgx6//FCiImJ+fjjjx0cHDIzM+mTjy6jeTxWUFDQoUOH3nvvPdrVaYhLly6NGzfO1NQ0PT3dw8ND+4LHjx+fOXOmo6Njdna2RCIxsBnwi298165dd+7cMTU1lUql9KoOACwsLExMTCQSiZ2d3eTJk0tKStzc3Jqamq5cueJj4KItLB0+fPi1115zcnIqKyt7/fXXBQLBypUrZ8yY0dXt0HhMKyoqkkgkPB4vJSXFkGNjS0vLyy+/DHrdD7a1tY0cORIAvvjiC0PaQJWWltIzYPszAF9f306+ouHDh9PN6AqcY8eONbwNjKSmpgoEAktLy6qqqsDAQAB48803jdISrUaQhoWFbd68+fXXX6ddnfr5/PPPIyIi3Nzcbt++LRaLdS1+4cKFN998c8WECZFHjoABN6cAEBgYePToUV9f37N00QyAs2fPFhYWtrS00JFJdXV1AFBbW9vW1tbY2Ni/f//169cDQH19Pe0rTkhI8ONqkQ3utJ/flyxZEhAQMGHCBLFYfPfuXRcXFyO0Rpv0VVdX6zRE+pcePXpE76f+/e9/61cDIaTkT38iACQ0VO8aCCE//vgj7VHTb0QrHWDt5eWlX0cxU3v27AEABweH8vLyAQMGAMDGjRuvX79eZYwlqLQdj0WfXw4ZMkS/L5Q+vTZ0QmJ6OuHziVhM8vP1q6C5ubn9G9evhpaWFnoAiI2N1a8GRjqe3+moYA8Pj9LSUnt7ezs7u66fY6xtsBQKhZOTEwAcO3aMfpKYmDhr1qx58+aFhISEh4evXLkyOjo6Ojo6JiZm375933zzTVNTE92SjrO2tLQsLi42tL2BgQSAzJ6tX2m67q+Hh0ez9oO3f+Hw4cMA4OzsbEglnKNXVL6+vtnZ2XQa1YULFxYsWAAAY8aM6fqhSjpMpqCvu+jfv39LSwshRC6Xd36SpcuH1NXV9enTBwD27t3LQXsfPiQiETExIXfu6Fq04zduSBPUavUrr7wCANu3bzekHg51PL/Ti7/Zs2cnJyebmJgIBIK0tLSub5IOwVKpVJ6envDzI6f79+8fPHhw3759crk8Ojr6888/Dw8PDw8PDw4Onjdv3nvvvUfXqFy0aBEY8PT6VyxapN9Biz4IDwoKMrwJZ86cAYBevXppnGneBTqe32mXkI2NTUlJCU3/ihUrjNIq3eYVnjp1KiAgQCaTTZo0SSAQSCQSkUhE33n3q0/9SktLly5dCgDJycn038mBigr4+mv45BPQ5dbyyJEj77//vo2NTVZWlsbJRdqYOHHihQsXIiIi6A2jEUVGRkZFRXl4eFy6dGnIkCHFxcX79++vq6tbunRp+5uYjNAsXZMYERGh0yOnvn37Ll26lPv/ETt2PB02e/EiOX+eJCaSa9dISgq5e7c5Ly8/P58+KaLb1tbWOjo6AsCBAwe42v+NGzfo2aeoqIirOvWzfPlygUBw8eLFjz/+GADGjBnz+PHjjm9iMgp93qWTnJxcWFjY1tbW0NCgVCqbm5sVCoVKpaqvrweA6upqAKivr1epVAqFYv369e7u7px0l/+PXA6LFz/9y/ffw08/dfxhzZAh1mlpHT8Ri8UtLS0jRoy4du2aTosDdG7GjBknT54MDg7eu3cvV3XqJz8/v6KiYuTIkbQf+7PPPvv++++nT59+4sQJYzXpxXxJU8dglZdDcjIAQH09qFSgUJT16zf83r1n3uwoFArffvvtEydOPHjwYMOGDdu3b7fVYfLl/1NbW0uPB/fv3/f09JRKpXV1dR2vBFxd3y0v/1wgALEYzMxAIACZDCZMgAULICcHACA7G/z8nv7d1dXQLwMA1Gr1iBEjbt26FR4ePn78eD8/P5lM1vmbmJgz1qHSIAkJT0+F2s0doc8B6ev2aI+a3mdn+iv09/cvKSmhz9HpAoodDR0a/ssJeosW/W+CHm24HpP1nmf37t0A8NJLLzU0NNApnNu2beOman29mMHSXUhICAAEBAQYuJYE/RU6ODiUlZXR5+jR0dHk5/E/T548yc3NzcsrTU0lKSnk0iWSmEgSEsjx42Tjxv9N0KMJ0/r/hQZFRUU2Njbjxo2Lj4+nnyQlJRl9ukpPCVZ5eTkdxHf58uUPPvgAAP7yl7/oWkl77/bJkyfXrl0LAJ6enlourdE+QS8+ntA9c3XEmj59OgD88Y9/5KAu7vSUYJGfu93HjBmj91oSdMihr6/vgwcPaF9rUlKSTjVkZxM+n5ibk9JSnco9F32OLpFIHj58yE2NHOlBwTJwLYmkpKT23u2JEycCwJw5c/RoRkAAASCa1obVSlNTE31wuXXrVg6q41QPChYxYC2J5uZmekX1xRdfxMbGAoCtra1+S97rt27xr1q5ciXouFxZl+lZwWptbXV1dQXd15Kgp1FPT8+KigoHBwcAOHTokN7NmDuXAJA//1nvCgghJCsri57Qrxr4cks2elawSIfX7VVWVmq5lkTHK6rg4GAAePXVVw0ZL1BURMzMiImJ+tYtPZdmbV+ubP78+Xo3g6keF6yOr9vbu3evqalp5+/dIz+PSAkKCkpOTqZdFffu3TOwGRs3Znh4DJk0aZJ+xQ8ePAgAdnZ2RhnEp40eFyzy81oSVlZWZWVleXl5Grevr69ftWpVaWkpfY6+atUqw9tQXV1Nu/7Pnz+va9n25cq++eYbw1vCSE8MFumwloT2RejbH2nvNidtoPPLBw8erOuAovblyrrzSmMv5rNCg928eXP48OECgcDX11csFkulUlNT007G/zQ0NCxcuLCxsTE+Pp4+FDIcvdMsKCg4evQo7SHTxuXLl8eOHSsUCtPT0+kwrO7p2RVOewhXV1eZTGZubh4fH69lEWdnZz8/P65SBQBisTgyMjIoKGjZsmWEEKFQ+LwFLODnlKtUqpCQEELIypUru3Oq4EUd3WCwhQsX7tq1y8vLa82aNQCgcfxPU1PTsmXLhg4dyu18YpVKZW9vL5VKCwoKtNnezMystbXVyckpMzNTjyl0XaknHrFSUlJiYmIEAkFsbCxdk9NYjh079uTJk5aWlmnTpgkEgmeGsv1y1r9CoTAzM7Ozs+vmqQJ4QYfNGICOewGAsLAw47akpqaG9rUePnxYyyKFhYUGTvDsMj0uWPKdcuD05k5vtK917Nixjx49ioiIaJ8t1zk6wVOPe8ku1rOCVdJa4nbBbdhbw06dOmXclrT3tWZkZEydOhUAQjp9n65arT506JCPj09VVdUzEzy7p54VrHfy3oGbEJAbYNxmKJVk5swMK6v+q1evTkhIAACZTNb5pIyOy6I8M8Gze+pBwfqh9ge4CZJUycOWh8ZtyZYtBIB4e7dWVNS89JIzAMjlco2lfvzxR/j5gUHHCZ7dU08JVpO6yeWuC9yELaVbjNuSggJibk4ASHw8CQ0lQ4ZU+fsvUalU2pR94403ACA0NDQuLg4AevfuXVdXx7rB+ukpwVr1eBXcBK8Mr9Y2Iw9dogP93nmH3LlDhELC55Pr17Utm56ezufzxWJxfn7+6NGjoRsvPt1TgnXkyRG723ZXG4w8dCkhgQAQmYwUFJBRowgAWbhQtxroUIvZs2fTOZLm5ualXA1z5tRvP1g7ynbsKNtBCImriTN2W8i8eQSAyOUkI4NYWRFHR6Lr4g8PHz6k4/vS0tI4X3qYQ7/xYNFIZTdnZzdn078b3dmzhF5QlZSQK1f0qYGuszJlypTMzEyBQCAUCrt++SuN+F3Zy28sriJXVxEXM471RZekzMmBnBzw9QW6iL+9PYwapU9ta9assbCwiI+PLykp+eCDD5RKJZ2L1q38xoPlLnaXl8vl5fKclhwjNuPBA5DLITubm9p69eoVGhpKJ3dERUWJRKJjx449ePCAm9o50kNHN3QxuRzc3SEuDpYv52axhubmZoFAIBAIlEqls7Nzv379Tp8+zcnyTFz5jR+xug+6yHJZGWzdykFt9C0sALB9+/bi4uKKiopfLiFhXHjE6joqFfTvD0VF8MMP8MYbHFRYUFDg6enZ0NDwr3/9y9/fn4MauYNHrK4jEMCSJQAAYWHQ1sZBhQsXLmxoaJg5c2Z3SxVAzxuPZVwKBenXjwAQw+fXxMWdAgBLS8sue7elTvBU2NX+/neYPRucnSErC0QiPStpagIfH7VE8l1gYFVIyMecNpAjxk52j6NSkYEDCQD58kv9V1xetoyOjyDaPbw2AjxiGcHZs01r10bn5+/Nzc2lk3B0cucOeHuDWg1Xr8If/sCigRzoiZMpjM7PT7J58+WKiootW7ZERUUBQEFBwY0bN+iqbhYWFkLhQJFIIhaDUAhWVtAxe21tMH8+KJWwaFH3TRUAngqNhK7mLZVKS0pKCCGHDh3q+Etxc0tvX7z0meUd9u4lAMTenlRXG6flWjKhL/RBXaxPnz7p6em3b99WKBT+/v6VlZUKhcLR0dHFxcXW1rZv3w+EQisLCzA3Bw8P6PgWy8pKuHIFtm4Fb2/jtV4LeI1lNPfv3x84cCAAbNiwwcXFhc/n09mwlpaWJiaDJRJTU1MQiUAiAT4fLC3h7Nmni3g3N8PAgcZuvSYYLGMKDg6+detWSkrKM5/37l1aUWHX8ZP584FOqXd3Bzc3bh44MoUX78YUExOTlJQUGxvb8c2uNTU1ZmYSGxtQKqG5GRQKUKuf9ni1P8nu/jBYxsTn8ydOnEiXytVILgc/P4iLY90obuCpEDGBD6ERExgsxAQGCzGBwUJMYLAQExgsxAQGCzGBwUJMYLAQExgsxAQGCzGBwUJMYLAQExgsxAQGCzGBwUJMYLAQExgsxAQGCzGBwUJMYLAQExgsxAQGCzGBwUJMYLAQExgsxAQGCzGBwUJMYLAQExgsxAQGCzGBwUJMYLAQExgsxAQGCzGBwUJMYLAQExgsxAQGCzGBwUJMYLAQExgsxAQGCzGBwUJMYLAQExgsxAQGCzGBwUJMYLAQExgsxAQGCzGBwUJMYLAQE/8HRwoD2h/st6EAAAAASUVORK5CYII=\" alt=\"Mol\"/></td>\n",
       "      <td>[[0, 0, 0, 0, 0, 0, 0, 0, 0, 0, 0, 0, 0, 0, 0,...</td>\n",
       "      <td>[[0.0, 0.0, 0.0, 0.0, 0.0, 0.0, 0.0, 0.0, 0.0,...</td>\n",
       "      <td>Lc1c(OCc2cc(F)ccc2)ccc(Nc2c(C#Cc3ncccn3)cncn2)c1</td>\n",
       "      <td>[[0.0, 0.0, 0.0, 0.0, 0.0, 0.0, 0.0, 0.0, 0.0,...</td>\n",
       "      <td>[[0.0, 0.0, 0.0, 0.0, 0.0, 0.0, 0.0, 0.0, 0.0,...</td>\n",
       "    </tr>\n",
       "    <tr>\n",
       "      <th>5785</th>\n",
       "      <td>CHEMBL3940060</td>\n",
       "      <td>330.0</td>\n",
       "      <td>nM</td>\n",
       "      <td>ClCC(=O)OCCN1C(=O)Oc2c1cc1c(Nc3cc(Cl)c(F)cc3)n...</td>\n",
       "      <td>6.481486</td>\n",
       "      <td><img data-content=\"rdkit/molecule\" src=\"data:image/png;base64,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\" alt=\"Mol\"/></td>\n",
       "      <td>[[0, 0, 0, 0, 0, 0, 0, 0, 0, 0, 0, 0, 0, 0, 0,...</td>\n",
       "      <td>[[0.0, 0.0, 0.0, 0.0, 0.0, 0.0, 0.0, 0.0, 0.0,...</td>\n",
       "      <td>LCC(=O)OCCN1C(=O)Oc2c1cc1c(Nc3cc(L)c(F)cc3)ncn...</td>\n",
       "      <td>[[0.0, 0.0, 0.0, 1.0, 0.0, 0.0, 0.0, 0.0, 0.0,...</td>\n",
       "      <td>[[0.0, 0.0, 0.0, 1.0, 0.0, 0.0, 0.0, 0.0, 0.0,...</td>\n",
       "    </tr>\n",
       "    <tr>\n",
       "      <th>6373</th>\n",
       "      <td>CHEMBL3678951</td>\n",
       "      <td>1.0</td>\n",
       "      <td>nM</td>\n",
       "      <td>FC(F)(F)c1cc(Nc2n(C(C)C)c3nc(Nc4ccc(N5CC[NH+](...</td>\n",
       "      <td>9.000000</td>\n",
       "      <td><img data-content=\"rdkit/molecule\" src=\"data:image/png;base64,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\" alt=\"Mol\"/></td>\n",
       "      <td>[[0, 0, 0, 0, 0, 0, 0, 0, 0, 0, 0, 0, 0, 0, 0,...</td>\n",
       "      <td>[[0.0, 0.0, 0.0, 0.0, 0.0, 0.0, 0.0, 0.0, 0.0,...</td>\n",
       "      <td>FC(F)(F)c1cc(Nc2n(C(C)C)c3nc(Nc4ccc(N5CC[NH+](...</td>\n",
       "      <td>[[0.0, 0.0, 1.0, 0.0, 0.0, 1.0, 0.0, 0.0, 0.0,...</td>\n",
       "      <td>[[0.0, 0.0, 1.0, 0.0, 0.0, 1.0, 0.0, 0.0, 0.0,...</td>\n",
       "    </tr>\n",
       "    <tr>\n",
       "      <th>2442</th>\n",
       "      <td>CHEMBL504034</td>\n",
       "      <td>40.0</td>\n",
       "      <td>nM</td>\n",
       "      <td>Clc1c(OCc2cc(F)ccc2)ccc(Nc2ncnc3c2sc(C#C[C@H]2...</td>\n",
       "      <td>7.397940</td>\n",
       "      <td><img data-content=\"rdkit/molecule\" src=\"data:image/png;base64,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\" alt=\"Mol\"/></td>\n",
       "      <td>[[0, 0, 0, 0, 0, 0, 0, 0, 0, 0, 0, 0, 0, 0, 0,...</td>\n",
       "      <td>[[0.0, 0.0, 0.0, 0.0, 0.0, 0.0, 0.0, 0.0, 0.0,...</td>\n",
       "      <td>Lc1c(OCc2cc(F)ccc2)ccc(Nc2ncnc3c2sc(C#C[C@H]2N...</td>\n",
       "      <td>[[0.0, 0.0, 0.0, 0.0, 0.0, 0.0, 0.0, 0.0, 0.0,...</td>\n",
       "      <td>[[0.0, 0.0, 0.0, 0.0, 0.0, 0.0, 0.0, 0.0, 0.0,...</td>\n",
       "    </tr>\n",
       "    <tr>\n",
       "      <th>1084</th>\n",
       "      <td>CHEMBL158797</td>\n",
       "      <td>43000.0</td>\n",
       "      <td>nM</td>\n",
       "      <td>S(Sc1n(C)c2c(c1C(=O)NCC(O)CO)cccc2)c1n(C)c2c(c...</td>\n",
       "      <td>4.366531</td>\n",
       "      <td><img data-content=\"rdkit/molecule\" src=\"data:image/png;base64,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\" alt=\"Mol\"/></td>\n",
       "      <td>[[0, 0, 0, 0, 0, 0, 0, 0, 0, 0, 0, 0, 0, 0, 0,...</td>\n",
       "      <td>[[0.0, 0.0, 0.0, 0.0, 0.0, 1.0, 0.0, 0.0, 0.0,...</td>\n",
       "      <td>S(Sc1n(C)c2c(c1C(=O)NCC(O)CO)cccc2)c1n(C)c2c(c...</td>\n",
       "      <td>[[0.0, 1.0, 0.0, 0.0, 0.0, 0.0, 1.0, 0.0, 0.0,...</td>\n",
       "      <td>[[0.0, 1.0, 0.0, 0.0, 0.0, 0.0, 1.0, 0.0, 0.0,...</td>\n",
       "    </tr>\n",
       "  </tbody>\n",
       "</table>\n",
       "</div>"
      ],
      "text/plain": [
       "          chembl_id     IC50 units  \\\n",
       "1777   CHEMBL207869     77.0    nM   \n",
       "5785  CHEMBL3940060    330.0    nM   \n",
       "6373  CHEMBL3678951      1.0    nM   \n",
       "2442   CHEMBL504034     40.0    nM   \n",
       "1084   CHEMBL158797  43000.0    nM   \n",
       "\n",
       "                                       canonical_smiles   pIC50\\r  \\\n",
       "1777  Clc1c(OCc2cc(F)ccc2)ccc(Nc2c(C#Cc3ncccn3)cncn2)c1  7.113509   \n",
       "5785  ClCC(=O)OCCN1C(=O)Oc2c1cc1c(Nc3cc(Cl)c(F)cc3)n...  6.481486   \n",
       "6373  FC(F)(F)c1cc(Nc2n(C(C)C)c3nc(Nc4ccc(N5CC[NH+](...  9.000000   \n",
       "2442  Clc1c(OCc2cc(F)ccc2)ccc(Nc2ncnc3c2sc(C#C[C@H]2...  7.397940   \n",
       "1084  S(Sc1n(C)c2c(c1C(=O)NCC(O)CO)cccc2)c1n(C)c2c(c...  4.366531   \n",
       "\n",
       "                                             2D_Figures  \\\n",
       "1777  <img data-content=\"rdkit/molecule\" src=\"data:i...   \n",
       "5785  <img data-content=\"rdkit/molecule\" src=\"data:i...   \n",
       "6373  <img data-content=\"rdkit/molecule\" src=\"data:i...   \n",
       "2442  <img data-content=\"rdkit/molecule\" src=\"data:i...   \n",
       "1084  <img data-content=\"rdkit/molecule\" src=\"data:i...   \n",
       "\n",
       "                                     Own_OneHotEncoding  \\\n",
       "1777  [[0, 0, 0, 0, 0, 0, 0, 0, 0, 0, 0, 0, 0, 0, 0,...   \n",
       "5785  [[0, 0, 0, 0, 0, 0, 0, 0, 0, 0, 0, 0, 0, 0, 0,...   \n",
       "6373  [[0, 0, 0, 0, 0, 0, 0, 0, 0, 0, 0, 0, 0, 0, 0,...   \n",
       "2442  [[0, 0, 0, 0, 0, 0, 0, 0, 0, 0, 0, 0, 0, 0, 0,...   \n",
       "1084  [[0, 0, 0, 0, 0, 0, 0, 0, 0, 0, 0, 0, 0, 0, 0,...   \n",
       "\n",
       "                              UniqueChar_OneHotEncoding  \\\n",
       "1777  [[0.0, 0.0, 0.0, 0.0, 0.0, 0.0, 0.0, 0.0, 0.0,...   \n",
       "5785  [[0.0, 0.0, 0.0, 0.0, 0.0, 0.0, 0.0, 0.0, 0.0,...   \n",
       "6373  [[0.0, 0.0, 0.0, 0.0, 0.0, 0.0, 0.0, 0.0, 0.0,...   \n",
       "2442  [[0.0, 0.0, 0.0, 0.0, 0.0, 0.0, 0.0, 0.0, 0.0,...   \n",
       "1084  [[0.0, 0.0, 0.0, 0.0, 0.0, 1.0, 0.0, 0.0, 0.0,...   \n",
       "\n",
       "                             Processed_canonical_smiles  \\\n",
       "1777   Lc1c(OCc2cc(F)ccc2)ccc(Nc2c(C#Cc3ncccn3)cncn2)c1   \n",
       "5785  LCC(=O)OCCN1C(=O)Oc2c1cc1c(Nc3cc(L)c(F)cc3)ncn...   \n",
       "6373  FC(F)(F)c1cc(Nc2n(C(C)C)c3nc(Nc4ccc(N5CC[NH+](...   \n",
       "2442  Lc1c(OCc2cc(F)ccc2)ccc(Nc2ncnc3c2sc(C#C[C@H]2N...   \n",
       "1084  S(Sc1n(C)c2c(c1C(=O)NCC(O)CO)cccc2)c1n(C)c2c(c...   \n",
       "\n",
       "                                  sklearn_OneHotEncoded  \\\n",
       "1777  [[0.0, 0.0, 0.0, 0.0, 0.0, 0.0, 0.0, 0.0, 0.0,...   \n",
       "5785  [[0.0, 0.0, 0.0, 1.0, 0.0, 0.0, 0.0, 0.0, 0.0,...   \n",
       "6373  [[0.0, 0.0, 1.0, 0.0, 0.0, 1.0, 0.0, 0.0, 0.0,...   \n",
       "2442  [[0.0, 0.0, 0.0, 0.0, 0.0, 0.0, 0.0, 0.0, 0.0,...   \n",
       "1084  [[0.0, 1.0, 0.0, 0.0, 0.0, 0.0, 1.0, 0.0, 0.0,...   \n",
       "\n",
       "                            sklearn_OneHotEncoded_inner  \n",
       "1777  [[0.0, 0.0, 0.0, 0.0, 0.0, 0.0, 0.0, 0.0, 0.0,...  \n",
       "5785  [[0.0, 0.0, 0.0, 1.0, 0.0, 0.0, 0.0, 0.0, 0.0,...  \n",
       "6373  [[0.0, 0.0, 1.0, 0.0, 0.0, 1.0, 0.0, 0.0, 0.0,...  \n",
       "2442  [[0.0, 0.0, 0.0, 0.0, 0.0, 0.0, 0.0, 0.0, 0.0,...  \n",
       "1084  [[0.0, 1.0, 0.0, 0.0, 0.0, 0.0, 1.0, 0.0, 0.0,...  "
      ]
     },
     "execution_count": 44,
     "metadata": {},
     "output_type": "execute_result"
    }
   ],
   "source": [
    "# for loop to iterate over all the smiles in the dataframe\n",
    "# and apply the  function\n",
    "start = timer()\n",
    "for i in range(0, 3906):\n",
    "    canonical_char = split(df['Processed_canonical_smiles'].iloc[i])\n",
    "    canonical_charPadded = initialPadding(canonical_char)\n",
    "    sklearnOHC = sklearn_OneHotEncode(canonical_charPadded)\n",
    "    IndexPadding = np.ndarray(shape=(267,\n",
    "                              36-len(sklearnOHC[0])))\n",
    "    IndexPadding.fill(0)\n",
    "    sklearnOHC = np.append(sklearnOHC, IndexPadding, axis=1)\n",
    "    df['sklearn_OneHotEncoded_inner'].iloc[i] = sklearnOHC.transpose()\n",
    "end = timer()\n",
    "df.head()"
   ]
  },
  {
   "cell_type": "code",
   "execution_count": 45,
   "metadata": {},
   "outputs": [
    {
     "name": "stdout",
     "output_type": "stream",
     "text": [
      "17.6919743 secs\n"
     ]
    }
   ],
   "source": [
    "sklearn_time = end - start\n",
    "print(str(sklearn_time) + ' secs')"
   ]
  },
  {
   "cell_type": "code",
   "execution_count": 46,
   "metadata": {},
   "outputs": [],
   "source": [
    "First_one_hot_encoded_matrix = df['sklearn_OneHotEncoded_inner'].iloc[0]"
   ]
  },
  {
   "cell_type": "code",
   "execution_count": 47,
   "metadata": {},
   "outputs": [
    {
     "data": {
      "image/png": "[encoded data removed]",
      "text/plain": [
       "<Figure size 432x288 with 2 Axes>"
      ]
     },
     "metadata": {
      "needs_background": "light"
     },
     "output_type": "display_data"
    }
   ],
   "source": [
    "im = plt.imshow(First_one_hot_encoded_matrix, cmap='hot', interpolation='None')\n",
    "plt.colorbar(im, orientation='horizontal')\n",
    "plt.xlabel('Maximum length of String (267)')\n",
    "plt.ylabel('Length of Unique Characters (36)')\n",
    "plt.title('Visualization of One Hot Encoded Matrix (own)')\n",
    "# plt.axis('auto')\n",
    "plt.show()"
   ]
  },
  {
   "cell_type": "code",
   "execution_count": 48,
   "metadata": {},
   "outputs": [
    {
     "data": {
      "text/plain": [
       "(36, 267)"
      ]
     },
     "execution_count": 48,
     "metadata": {},
     "output_type": "execute_result"
    }
   ],
   "source": [
    "First_one_hot_encoded_matrix.shape"
   ]
  },
  {
   "cell_type": "markdown",
   "metadata": {},
   "source": [
    "![green-divider](https://user-images.githubusercontent.com/7065401/52071924-c003ad80-2562-11e9-8297-1c6595f8a7ff.png)\n",
    "## Apply One Hot encoding using implementation in Keras"
   ]
  },
  {
   "cell_type": "markdown",
   "metadata": {},
   "source": [
    "The Keras library offers a function called [to_categorical()](https://keras.io/api/utils/) that we can use to one hot encode data, but it should be integer which may not have a real ordinal relationship and are really just placeholders for labels."
   ]
  },
  {
   "cell_type": "code",
   "execution_count": 49,
   "metadata": {},
   "outputs": [],
   "source": [
    "# Create new column which has OneHotEncoded smiles using keras implementation\n",
    "df['keras_OneHotEncoded'] = ''"
   ]
  },
  {
   "cell_type": "code",
   "execution_count": 50,
   "metadata": {},
   "outputs": [],
   "source": [
    "# Use keras implementation of One Hot Encoding\n",
    "def keras_OneHotEncode(canonical_char):\n",
    "    \"\"\"\n",
    "    Function to one hot encode the smiles using keras\n",
    "    implementation\n",
    "    Parameters\n",
    "    ----------\n",
    "         canonical_char(array): Canonical character array\n",
    "    Returns\n",
    "    -------\n",
    "         ndarray: return one hot encoded matrix\n",
    "    \"\"\"\n",
    "    # integer encoding\n",
    "    label_encoder = LabelEncoder()\n",
    "    integer_encoded = label_encoder.fit_transform(canonical_char)\n",
    "    # one hot encode\n",
    "    encoded = to_categorical(integer_encoded)\n",
    "    array = laterPadding(encoded)\n",
    "    return array.transpose()"
   ]
  },
  {
   "cell_type": "code",
   "execution_count": 51,
   "metadata": {
    "scrolled": true
   },
   "outputs": [],
   "source": [
    "# for loop to iterate over all the smiles in the\n",
    "# dataframe and apply the  function\n",
    "start = timer()\n",
    "for i in range(0, 3906):\n",
    "    canonical_char = split(df['canonical_smiles'].iloc[i])\n",
    "    df['keras_OneHotEncoded'].iloc[i] = keras_OneHotEncode(canonical_char)\n",
    "end = timer()"
   ]
  },
  {
   "cell_type": "code",
   "execution_count": 52,
   "metadata": {
    "scrolled": true
   },
   "outputs": [
    {
     "data": {
      "text/html": [
       "<div>\n",
       "<style scoped>\n",
       "    .dataframe tbody tr th:only-of-type {\n",
       "        vertical-align: middle;\n",
       "    }\n",
       "\n",
       "    .dataframe tbody tr th {\n",
       "        vertical-align: top;\n",
       "    }\n",
       "\n",
       "    .dataframe thead th {\n",
       "        text-align: right;\n",
       "    }\n",
       "</style>\n",
       "<table border=\"1\" class=\"dataframe\">\n",
       "  <thead>\n",
       "    <tr style=\"text-align: right;\">\n",
       "      <th></th>\n",
       "      <th>chembl_id</th>\n",
       "      <th>IC50</th>\n",
       "      <th>units</th>\n",
       "      <th>canonical_smiles</th>\n",
       "      <th>pIC50</th>\n",
       "      <th>2D_Figures</th>\n",
       "      <th>Own_OneHotEncoding</th>\n",
       "      <th>UniqueChar_OneHotEncoding</th>\n",
       "      <th>Processed_canonical_smiles</th>\n",
       "      <th>sklearn_OneHotEncoded</th>\n",
       "      <th>sklearn_OneHotEncoded_inner</th>\n",
       "      <th>keras_OneHotEncoded</th>\n",
       "    </tr>\n",
       "  </thead>\n",
       "  <tbody>\n",
       "    <tr>\n",
       "      <th>1777</th>\n",
       "      <td>CHEMBL207869</td>\n",
       "      <td>77.0</td>\n",
       "      <td>nM</td>\n",
       "      <td>Clc1c(OCc2cc(F)ccc2)ccc(Nc2c(C#Cc3ncccn3)cncn2)c1</td>\n",
       "      <td>7.113509</td>\n",
       "      <td><img data-content=\"rdkit/molecule\" src=\"data:image/png;base64,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\" alt=\"Mol\"/></td>\n",
       "      <td>[[0, 0, 0, 0, 0, 0, 0, 0, 0, 0, 0, 0, 0, 0, 0,...</td>\n",
       "      <td>[[0.0, 0.0, 0.0, 0.0, 0.0, 0.0, 0.0, 0.0, 0.0,...</td>\n",
       "      <td>Lc1c(OCc2cc(F)ccc2)ccc(Nc2c(C#Cc3ncccn3)cncn2)c1</td>\n",
       "      <td>[[0.0, 0.0, 0.0, 0.0, 0.0, 0.0, 0.0, 0.0, 0.0,...</td>\n",
       "      <td>[[0.0, 0.0, 0.0, 0.0, 0.0, 0.0, 0.0, 0.0, 0.0,...</td>\n",
       "      <td>[[0.0, 0.0, 0.0, 0.0, 0.0, 0.0, 0.0, 0.0, 0.0,...</td>\n",
       "    </tr>\n",
       "    <tr>\n",
       "      <th>5785</th>\n",
       "      <td>CHEMBL3940060</td>\n",
       "      <td>330.0</td>\n",
       "      <td>nM</td>\n",
       "      <td>ClCC(=O)OCCN1C(=O)Oc2c1cc1c(Nc3cc(Cl)c(F)cc3)n...</td>\n",
       "      <td>6.481486</td>\n",
       "      <td><img data-content=\"rdkit/molecule\" src=\"data:image/png;base64,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\" alt=\"Mol\"/></td>\n",
       "      <td>[[0, 0, 0, 0, 0, 0, 0, 0, 0, 0, 0, 0, 0, 0, 0,...</td>\n",
       "      <td>[[0.0, 0.0, 0.0, 0.0, 0.0, 0.0, 0.0, 0.0, 0.0,...</td>\n",
       "      <td>LCC(=O)OCCN1C(=O)Oc2c1cc1c(Nc3cc(L)c(F)cc3)ncn...</td>\n",
       "      <td>[[0.0, 0.0, 0.0, 1.0, 0.0, 0.0, 0.0, 0.0, 0.0,...</td>\n",
       "      <td>[[0.0, 0.0, 0.0, 1.0, 0.0, 0.0, 0.0, 0.0, 0.0,...</td>\n",
       "      <td>[[0.0, 0.0, 0.0, 0.0, 1.0, 0.0, 0.0, 0.0, 0.0,...</td>\n",
       "    </tr>\n",
       "    <tr>\n",
       "      <th>6373</th>\n",
       "      <td>CHEMBL3678951</td>\n",
       "      <td>1.0</td>\n",
       "      <td>nM</td>\n",
       "      <td>FC(F)(F)c1cc(Nc2n(C(C)C)c3nc(Nc4ccc(N5CC[NH+](...</td>\n",
       "      <td>9.000000</td>\n",
       "      <td><img data-content=\"rdkit/molecule\" src=\"data:image/png;base64,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\" alt=\"Mol\"/></td>\n",
       "      <td>[[0, 0, 0, 0, 0, 0, 0, 0, 0, 0, 0, 0, 0, 0, 0,...</td>\n",
       "      <td>[[0.0, 0.0, 0.0, 0.0, 0.0, 0.0, 0.0, 0.0, 0.0,...</td>\n",
       "      <td>FC(F)(F)c1cc(Nc2n(C(C)C)c3nc(Nc4ccc(N5CC[NH+](...</td>\n",
       "      <td>[[0.0, 0.0, 1.0, 0.0, 0.0, 1.0, 0.0, 0.0, 0.0,...</td>\n",
       "      <td>[[0.0, 0.0, 1.0, 0.0, 0.0, 1.0, 0.0, 0.0, 0.0,...</td>\n",
       "      <td>[[0.0, 0.0, 1.0, 0.0, 0.0, 1.0, 0.0, 0.0, 0.0,...</td>\n",
       "    </tr>\n",
       "    <tr>\n",
       "      <th>2442</th>\n",
       "      <td>CHEMBL504034</td>\n",
       "      <td>40.0</td>\n",
       "      <td>nM</td>\n",
       "      <td>Clc1c(OCc2cc(F)ccc2)ccc(Nc2ncnc3c2sc(C#C[C@H]2...</td>\n",
       "      <td>7.397940</td>\n",
       "      <td><img data-content=\"rdkit/molecule\" src=\"data:image/png;base64,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\" alt=\"Mol\"/></td>\n",
       "      <td>[[0, 0, 0, 0, 0, 0, 0, 0, 0, 0, 0, 0, 0, 0, 0,...</td>\n",
       "      <td>[[0.0, 0.0, 0.0, 0.0, 0.0, 0.0, 0.0, 0.0, 0.0,...</td>\n",
       "      <td>Lc1c(OCc2cc(F)ccc2)ccc(Nc2ncnc3c2sc(C#C[C@H]2N...</td>\n",
       "      <td>[[0.0, 0.0, 0.0, 0.0, 0.0, 0.0, 0.0, 0.0, 0.0,...</td>\n",
       "      <td>[[0.0, 0.0, 0.0, 0.0, 0.0, 0.0, 0.0, 0.0, 0.0,...</td>\n",
       "      <td>[[0.0, 0.0, 0.0, 0.0, 0.0, 0.0, 0.0, 0.0, 0.0,...</td>\n",
       "    </tr>\n",
       "    <tr>\n",
       "      <th>1084</th>\n",
       "      <td>CHEMBL158797</td>\n",
       "      <td>43000.0</td>\n",
       "      <td>nM</td>\n",
       "      <td>S(Sc1n(C)c2c(c1C(=O)NCC(O)CO)cccc2)c1n(C)c2c(c...</td>\n",
       "      <td>4.366531</td>\n",
       "      <td><img data-content=\"rdkit/molecule\" src=\"data:image/png;base64,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\" alt=\"Mol\"/></td>\n",
       "      <td>[[0, 0, 0, 0, 0, 0, 0, 0, 0, 0, 0, 0, 0, 0, 0,...</td>\n",
       "      <td>[[0.0, 0.0, 0.0, 0.0, 0.0, 1.0, 0.0, 0.0, 0.0,...</td>\n",
       "      <td>S(Sc1n(C)c2c(c1C(=O)NCC(O)CO)cccc2)c1n(C)c2c(c...</td>\n",
       "      <td>[[0.0, 1.0, 0.0, 0.0, 0.0, 0.0, 1.0, 0.0, 0.0,...</td>\n",
       "      <td>[[0.0, 1.0, 0.0, 0.0, 0.0, 0.0, 1.0, 0.0, 0.0,...</td>\n",
       "      <td>[[0.0, 1.0, 0.0, 0.0, 0.0, 0.0, 1.0, 0.0, 0.0,...</td>\n",
       "    </tr>\n",
       "  </tbody>\n",
       "</table>\n",
       "</div>"
      ],
      "text/plain": [
       "          chembl_id     IC50 units  \\\n",
       "1777   CHEMBL207869     77.0    nM   \n",
       "5785  CHEMBL3940060    330.0    nM   \n",
       "6373  CHEMBL3678951      1.0    nM   \n",
       "2442   CHEMBL504034     40.0    nM   \n",
       "1084   CHEMBL158797  43000.0    nM   \n",
       "\n",
       "                                       canonical_smiles   pIC50\\r  \\\n",
       "1777  Clc1c(OCc2cc(F)ccc2)ccc(Nc2c(C#Cc3ncccn3)cncn2)c1  7.113509   \n",
       "5785  ClCC(=O)OCCN1C(=O)Oc2c1cc1c(Nc3cc(Cl)c(F)cc3)n...  6.481486   \n",
       "6373  FC(F)(F)c1cc(Nc2n(C(C)C)c3nc(Nc4ccc(N5CC[NH+](...  9.000000   \n",
       "2442  Clc1c(OCc2cc(F)ccc2)ccc(Nc2ncnc3c2sc(C#C[C@H]2...  7.397940   \n",
       "1084  S(Sc1n(C)c2c(c1C(=O)NCC(O)CO)cccc2)c1n(C)c2c(c...  4.366531   \n",
       "\n",
       "                                             2D_Figures  \\\n",
       "1777  <img data-content=\"rdkit/molecule\" src=\"data:i...   \n",
       "5785  <img data-content=\"rdkit/molecule\" src=\"data:i...   \n",
       "6373  <img data-content=\"rdkit/molecule\" src=\"data:i...   \n",
       "2442  <img data-content=\"rdkit/molecule\" src=\"data:i...   \n",
       "1084  <img data-content=\"rdkit/molecule\" src=\"data:i...   \n",
       "\n",
       "                                     Own_OneHotEncoding  \\\n",
       "1777  [[0, 0, 0, 0, 0, 0, 0, 0, 0, 0, 0, 0, 0, 0, 0,...   \n",
       "5785  [[0, 0, 0, 0, 0, 0, 0, 0, 0, 0, 0, 0, 0, 0, 0,...   \n",
       "6373  [[0, 0, 0, 0, 0, 0, 0, 0, 0, 0, 0, 0, 0, 0, 0,...   \n",
       "2442  [[0, 0, 0, 0, 0, 0, 0, 0, 0, 0, 0, 0, 0, 0, 0,...   \n",
       "1084  [[0, 0, 0, 0, 0, 0, 0, 0, 0, 0, 0, 0, 0, 0, 0,...   \n",
       "\n",
       "                              UniqueChar_OneHotEncoding  \\\n",
       "1777  [[0.0, 0.0, 0.0, 0.0, 0.0, 0.0, 0.0, 0.0, 0.0,...   \n",
       "5785  [[0.0, 0.0, 0.0, 0.0, 0.0, 0.0, 0.0, 0.0, 0.0,...   \n",
       "6373  [[0.0, 0.0, 0.0, 0.0, 0.0, 0.0, 0.0, 0.0, 0.0,...   \n",
       "2442  [[0.0, 0.0, 0.0, 0.0, 0.0, 0.0, 0.0, 0.0, 0.0,...   \n",
       "1084  [[0.0, 0.0, 0.0, 0.0, 0.0, 1.0, 0.0, 0.0, 0.0,...   \n",
       "\n",
       "                             Processed_canonical_smiles  \\\n",
       "1777   Lc1c(OCc2cc(F)ccc2)ccc(Nc2c(C#Cc3ncccn3)cncn2)c1   \n",
       "5785  LCC(=O)OCCN1C(=O)Oc2c1cc1c(Nc3cc(L)c(F)cc3)ncn...   \n",
       "6373  FC(F)(F)c1cc(Nc2n(C(C)C)c3nc(Nc4ccc(N5CC[NH+](...   \n",
       "2442  Lc1c(OCc2cc(F)ccc2)ccc(Nc2ncnc3c2sc(C#C[C@H]2N...   \n",
       "1084  S(Sc1n(C)c2c(c1C(=O)NCC(O)CO)cccc2)c1n(C)c2c(c...   \n",
       "\n",
       "                                  sklearn_OneHotEncoded  \\\n",
       "1777  [[0.0, 0.0, 0.0, 0.0, 0.0, 0.0, 0.0, 0.0, 0.0,...   \n",
       "5785  [[0.0, 0.0, 0.0, 1.0, 0.0, 0.0, 0.0, 0.0, 0.0,...   \n",
       "6373  [[0.0, 0.0, 1.0, 0.0, 0.0, 1.0, 0.0, 0.0, 0.0,...   \n",
       "2442  [[0.0, 0.0, 0.0, 0.0, 0.0, 0.0, 0.0, 0.0, 0.0,...   \n",
       "1084  [[0.0, 1.0, 0.0, 0.0, 0.0, 0.0, 1.0, 0.0, 0.0,...   \n",
       "\n",
       "                            sklearn_OneHotEncoded_inner  \\\n",
       "1777  [[0.0, 0.0, 0.0, 0.0, 0.0, 0.0, 0.0, 0.0, 0.0,...   \n",
       "5785  [[0.0, 0.0, 0.0, 1.0, 0.0, 0.0, 0.0, 0.0, 0.0,...   \n",
       "6373  [[0.0, 0.0, 1.0, 0.0, 0.0, 1.0, 0.0, 0.0, 0.0,...   \n",
       "2442  [[0.0, 0.0, 0.0, 0.0, 0.0, 0.0, 0.0, 0.0, 0.0,...   \n",
       "1084  [[0.0, 1.0, 0.0, 0.0, 0.0, 0.0, 1.0, 0.0, 0.0,...   \n",
       "\n",
       "                                    keras_OneHotEncoded  \n",
       "1777  [[0.0, 0.0, 0.0, 0.0, 0.0, 0.0, 0.0, 0.0, 0.0,...  \n",
       "5785  [[0.0, 0.0, 0.0, 0.0, 1.0, 0.0, 0.0, 0.0, 0.0,...  \n",
       "6373  [[0.0, 0.0, 1.0, 0.0, 0.0, 1.0, 0.0, 0.0, 0.0,...  \n",
       "2442  [[0.0, 0.0, 0.0, 0.0, 0.0, 0.0, 0.0, 0.0, 0.0,...  \n",
       "1084  [[0.0, 1.0, 0.0, 0.0, 0.0, 0.0, 1.0, 0.0, 0.0,...  "
      ]
     },
     "execution_count": 52,
     "metadata": {},
     "output_type": "execute_result"
    }
   ],
   "source": [
    "# Get the final dataframe with all the One Hot Encoded Columns\n",
    "df.head()"
   ]
  },
  {
   "cell_type": "code",
   "execution_count": 53,
   "metadata": {},
   "outputs": [
    {
     "name": "stdout",
     "output_type": "stream",
     "text": [
      "11.5542437 secs\n"
     ]
    }
   ],
   "source": [
    "keras_time = end - start\n",
    "print(str(keras_time) + ' secs')"
   ]
  },
  {
   "cell_type": "markdown",
   "metadata": {},
   "source": [
    "### Visualization with Matplotlib.imshow() function of One Hot Encoded Matrix using keras implementation"
   ]
  },
  {
   "cell_type": "code",
   "execution_count": 54,
   "metadata": {},
   "outputs": [],
   "source": [
    "# First element of one hot encoded array\n",
    "First_one_hot_encoded_matrix = df.iloc[0]['keras_OneHotEncoded']"
   ]
  },
  {
   "cell_type": "code",
   "execution_count": 55,
   "metadata": {
    "scrolled": true
   },
   "outputs": [
    {
     "data": {
      "image/png": "[encoded data removed]",
      "text/plain": [
       "<Figure size 432x288 with 2 Axes>"
      ]
     },
     "metadata": {
      "needs_background": "light"
     },
     "output_type": "display_data"
    }
   ],
   "source": [
    "# Visualization of One Hot Encoded array using matplotlib imshow()\n",
    "im = plt.imshow(First_one_hot_encoded_matrix, cmap='hot', interpolation='None')\n",
    "plt.colorbar(im, orientation='horizontal')\n",
    "plt.xlabel('Maximum length of String (267)')\n",
    "plt.ylabel('Possible char in individual SMILES')\n",
    "plt.title('Visualization of One Hot Encoded Matrix (keras)')\n",
    "# plt.axis('auto')\n",
    "plt.show()"
   ]
  },
  {
   "cell_type": "code",
   "execution_count": 56,
   "metadata": {},
   "outputs": [
    {
     "data": {
      "text/plain": [
       "(36, 267)"
      ]
     },
     "execution_count": 56,
     "metadata": {},
     "output_type": "execute_result"
    }
   ],
   "source": [
    "First_one_hot_encoded_matrix.shape"
   ]
  },
  {
   "cell_type": "markdown",
   "metadata": {},
   "source": [
    "## Differences for each implementation"
   ]
  },
  {
   "cell_type": "code",
   "execution_count": 57,
   "metadata": {},
   "outputs": [
    {
     "name": "stdout",
     "output_type": "stream",
     "text": [
      "label\n"
     ]
    }
   ],
   "source": [
    "print('label')"
   ]
  },
  {
   "cell_type": "code",
   "execution_count": 58,
   "metadata": {},
   "outputs": [
    {
     "name": "stdout",
     "output_type": "stream",
     "text": [
      "label\n"
     ]
    }
   ],
   "source": [
    "print('label')"
   ]
  },
  {
   "cell_type": "markdown",
   "metadata": {},
   "source": [
    "## Discussion "
   ]
  },
  {
   "cell_type": "code",
   "execution_count": null,
   "metadata": {},
   "outputs": [],
   "source": []
  },
  {
   "cell_type": "markdown",
   "metadata": {},
   "source": [
    "## Challenges "
   ]
  },
  {
   "cell_type": "markdown",
   "metadata": {},
   "source": [
    "Dimensions equalize\n",
    "Y = 'Sc' *doubt since S and c both can be present\n",
    "timit"
   ]
  },
  {
   "cell_type": "code",
   "execution_count": null,
   "metadata": {},
   "outputs": [],
   "source": []
  }
 ],
 "metadata": {
  "kernelspec": {
   "display_name": "Python 3",
   "language": "python",
   "name": "python3"
  },
  "language_info": {
   "codemirror_mode": {
    "name": "ipython",
    "version": 3
   },
   "file_extension": ".py",
   "mimetype": "text/x-python",
   "name": "python",
   "nbconvert_exporter": "python",
   "pygments_lexer": "ipython3",
   "version": "3.7.0"
  }
 },
 "nbformat": 4,
 "nbformat_minor": 4
}
