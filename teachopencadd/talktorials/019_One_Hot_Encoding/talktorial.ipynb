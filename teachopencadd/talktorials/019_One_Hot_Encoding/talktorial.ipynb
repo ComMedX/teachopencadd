{
 "cells": [
  {
   "cell_type": "markdown",
   "metadata": {},
   "source": [
    "# The One-Hot Encoding concept\n",
    "\n",
    "Developed in the CADD seminars 2020, Volkamer Lab, Charité/FU Berlin \n",
    "\n",
    "Author : Sakshi Misra"
   ]
  },
  {
   "cell_type": "markdown",
   "metadata": {},
   "source": [
    "## Aim of this talkatorial\n",
    "\n",
    "The aim of the talkatorial is to perform one hot encoding on SMILES structures of ChEMBL dataset to gain a deeper understanding on one hot encoding concept and why it is useful as a pre-processing step in various machine learning algorithm. \n",
    "\n",
    "<img src=\"./images/logo.png\" width=\"300\" align='center'>\n",
    "\n",
    "## Learning goals\n",
    "\n",
    "- Understand basic concept of one hot encoding \n",
    "- Different one hot encoding implementations to encode SMILES structures\n",
    "- Comparison between the different implementations\n",
    "\n",
    "\n",
    "### Theory\n",
    "\n",
    "- Introduction to SMILES and some of its specification rules\n",
    "- Understanding categorical data and its conversion to numeric data for usage in machine learning models \n",
    "- Explanation on one hot encoding concept and its advantages and disadvantages\n",
    "- Integer encoding and the differences between integer encoding and one hot encoding\n",
    "\n",
    "\n",
    "###  Practical\n",
    "\n",
    "- Import necessary packages and visualize the dataframe\n",
    "- Apply one hot encoding using own implementation\n",
    "  - Visualization of one hot encoded matrix (unequal dimension)\n",
    "- Function defined to pre-process the data and then apply one hot encoding using own implementation on preprocessed data\n",
    "  - Visualization of one hot encoded matrix (equal dimension)\n",
    "- Apply one hot encoding using implementation in [Scikit-learn](https://scikitlearn.org/stable/modules/generated/sklearn.preprocessing.LabelEncoder.html)\n",
    "   - Without padding and visualization of the matrix (unequal dimension)\n",
    "   - Padding after one hot encoding is performed and visualization of the matrix (equal dimension)\n",
    "   - Padding before one hot encoding performed and visualization of the matrix (equal dimension)\n",
    "- Apply one hot encoding using implementation in [keras](https://keras.io/)\n",
    "  - Without padding and visualization of the matrix (unequal dimension)\n",
    "  - With padding and visualization of the matrix (equal dimension)\n",
    "\n",
    "\n",
    "## References\n",
    "\n",
    "- Theoretical background:\n",
    "     - ChEMBL database (https://www.ncbi.nlm.nih.gov/pmc/articles/PMC3965067/)\n",
    "     - Example using *OneHotEncoder* function from Scikit Learn (https://machinelearningmastery.com/how-to-one-hot-encode-sequence-data-in-python/)\n",
    "     \n",
    "\n",
    "- Packages used:\n",
    "     - [rdkit](https://www.rdkit.org/docs/GettingStartedInPython.html)\n",
    "     - [Scikit-learn](https://scikit-learn.org/stable/)\n",
    "     - [keras](https://keras.io/)\n",
    "     - [Matplotlib](https://matplotlib.org/)\n",
    "     - [timeit](https://docs.python.org/3/library/timeit.html)\n",
    "     \n",
    "- SMILES encoder function used (https://iwatobipen.wordpress.com/2017/01/22/encode-and-decode-smiles-strings/)\n",
    "\n",
    "- Images used:\n",
    "     - Figure 1- Categorical encoding (https://www.analyticsvidhya.com/blog/2020/03/one-hot-encoding-vs-label-encoding-using-scikit-learn/)\n",
    "     - Figure 2- One hot encoding of SMILES(https://bmcbioinformatics.biomedcentral.com/articles/10.1186/s12859-018-2523-5)\n",
    "     - Figure 3- One hot encoding example (https://towardsdatascience.com/building-a-one-hot-encoding-layer-with-tensorflow-f907d686bf39)\n",
    "     - Figure 4- Label encoding example  (https://towardsdatascience.com/know-about-categorical-encoding-even-new-ones-c266227b9cbd)\n",
    "\n"
   ]
  },
  {
   "cell_type": "markdown",
   "metadata": {},
   "source": [
    "## Theory\n",
    "\n",
    "### ChEMBL database\n",
    "\n",
    "- [ChEMBL](https://www.ebi.ac.uk/chembl/) is an open large-scale bioactivity database. \n",
    "- It is a database having molecules with drug-like properties. \n",
    "- Recent release 17 contains information extracted from  more than 51,000 publications, together with bioactivity   data sets from 18 other sources (depositors and databases). In total, there are now more than 1.3 million distinct compound structures and 12 million bioactivity data points.\n",
    "- It is maintained by [European Bioinformatics Institute](https://en.wikipedia.org/wiki/European_Bioinformatics_Institute).\n",
    "\n",
    "\n",
    "### SMILES structures\n",
    "- [SMILES](https://en.wikipedia.org/wiki/Simplified_molecular-input_line-entry_system) (Simplified Molecular Input Line Entry System) notation is a chemical notation that allows a user to represent a chemical structure of a molecule in a linear way that can be used by the computer.\n",
    "- It contains a chain of letters, number and characters that specify the atoms, their connectivity , their bond order and chirality.\n",
    "\n",
    "#### Some SMILES specification rules\n",
    "- **Atoms** - are represented by their atomic symbols. Also metal atoms are represented with symbols in square bracket, for eg. Gold `[Au]`.\n",
    "- **Bonds** - Single, Double and Triple bonds are represented by symbols `-`, `=` and `#` respectively.Aromatic bonds are represented by `*`. Single bonds are the default and therefore need not be entered. Aromatic C,O,S and N atoms are shown in lower case like 'c', 'o', 's' and 'n' or by symbo ':' whereas Aliphatic C,O,S and N atoms are shown in upper case. For example, 'CC' would mean that there is a non-aromatic carbon attached to another non-aromatic carbon by a single bond, and the computer would identify the structure as the chemical Ethane (`CH3CH3`).\n",
    "- **Rings** - SMILES allows a user to identify ring structures by using numbers to identify the opening and closing ring atom. For example, in `C1CCCCC1`, the first carbon has a number '1' which connects by a single bond with the last carbon which also has a number '1'. The resulting structure is cyclohexane\n",
    "- **Branches** - are specified by enclosing them in parentheses, and can be nested or arranged. For Eg. 2-Propanol is represented by CC(O)C.\n",
    "\n",
    "--- \n",
    "### What is Categorical Data?\n",
    "Categorical data are variables that contain label values rather than numeric values.\n",
    "Some examples include:\n",
    "\n",
    "- A “pet” variable with the values: “dog” and “cat“.\n",
    "- A “color” variable with the values: “red“, “green” and “blue“.\n",
    "- A “place” variable with the values: “first”, “second” and “third“.\n",
    "\n",
    "Talking about in terms of bioinformatics, if we are using machine learning classifier to classify cancerous and normal tissues cells, we can have label values say \"Lung Cancer\", \"Breast Cancer\", \"Liver Cancer\" and \"Healthy Controls\".\n",
    "We first need to one hot encode these categorical label values and then we can apply binary or multi-class classifier to achieve classification results.\n",
    "\n",
    "#### What is the problem with categorical data?\n",
    "Machine Learning is, after all, a bunch of mathematical operations translated to a computer via low-level programming languages.Computers are brilliant when dealing with numbers. So, we must somehow convert our input data to numbers. \n",
    "There are many machine learning algorithms which cannot operate on categorical data directly so they must be converted to a numerical form so all our input variables and output variables will be numeric.\n",
    "\n",
    "<div style=\"text-align: center;\">\n",
    "<img src=\"https://cdn.analyticsvidhya.com/wp-content/uploads/2020/03/external-content.duckduckgo.com_.jpeg\" alt=\"Drawing\" style=\"max-width: 500px; width:400%;\"/>\n",
    "</div>\n",
    "\n",
    "**Figure 1** displays the categorical encoding requires for our computers to understand the input.\n",
    "\n",
    "#### How to convert categorical data to numerical data?\n",
    "There are many ways to convert categorical values into numerical values.Each approach has its own positive and negative impact on the feature set. Hereby, I would be focusing on 2 main methods: `One-Hot-Encoding` and `Label-Encoder`.\n",
    "Both of these encoders are part of SciKit-learn library (one of the most widely used Python library) and are used to convert text or categorical data into numerical data which the model expects and perform better with.\n",
    "\n",
    "---\n",
    "### One hot encoding concept\n",
    "One hot encoding is a vector representation where all the elements of the vector are 0 except one, which has 1 as its value. For example, [0 0 0 1 0 0] is a one-hot vector.\n",
    "Simply, one hot encoding also known as binary encoding, is a binary representation of categorical variables as binary vectors.\n",
    "\n",
    "\n",
    "\n",
    "<div style=\"text-align: center;\">\n",
    "    <img src=\"https://media.springernature.com/lw685/springer-static/image/art%3A10.1186%2Fs12859-018-2523-5/MediaObjects/12859_2018_2523_Fig1_HTML.png?as=webp\" style=\"max-width: 500px; width:400%;\" />\n",
    "</div>\n",
    "\n",
    "\n",
    "\n",
    "**Figure 2a** shows the one hot encoding of four DNA nucleotides, a filter kernel with one-dimensional CNN and \n",
    "**Figure 2b** shows the one hot encoding of toluene and applying one-dimensional CNN to SMILES linear representations of chemical compound toluene.\n",
    "\n",
    "Lets take a deeper look into the concept with the help of a simple example that will describe the basic concept of one hot encoding, why it is useful and how one can approach towards it.\n",
    "\n",
    "#### Why use a one hot encoding?\n",
    "A one hot encoding allows the representation of categorical data to be more expressive.\n",
    "Its difficult for many machine learning algorithms to work with categorical data directly that's why the label values which are categorical must be converted into numbers first as a preprocessing step. This is required for both input and output variables that are categorical.\n",
    "We could use an integer encoding directly. This may work for problems where there is a natural ordinal relationship between the categories, and in turn the integer values, such as labels for temperature ‘cold’, warm’, and ‘hot’.\n",
    "There may be problems when there is no ordinal relationship and allowing the representation to lean on any such relationship might be damaging to learning to solve the problem. An example might be the labels ‘dog’ and ‘cat\n",
    "\n",
    "\n",
    "#### Example of one hot encoding\n",
    "Lets take a look at a very simple example to understand this concept.\n",
    "Lets assume we have the “color” variable which has three labels, `RED` , `BLUE` and `GREEN`.\n",
    "All these labels must be converted into numeric form in order to work with our machine learning algorithm, this can be done by creating three new columns having all the three labels and use “1” value for the color and “0” values for the other colors as shown in Figure 3.\n",
    "\n",
    "\n",
    "<div style=\"text-align: center;\">\n",
    "    <img src=\"images/OneHotEncoding_eg.png\" style=\"max-width: 700px; width:150%;\" />\n",
    "</div>\n",
    "\n",
    "**Figure 3** shows the visual demonstration of one hot encoding done on color variable.\n",
    "\n",
    "\n",
    "####  Advantages of using one hot encoding \n",
    "-  If the cardinality (the number of categories) of the categorical features is low (relative to the amount of data) one-hot encoding will work best. We can use it as input into any machine learning model.\n",
    "-  We can create binary representation of our label values which can be useful for binary classification.\n",
    "\n",
    "\n",
    "####  Disadvantages of using one hot encoding \n",
    "-  Increase in dimensionality, after adding several columns based on categorical variables, the dataset will be having more dimensions than before and in result it can increase the computational cost.\n",
    "- There is a high chances of multicollinearity due to dummy variables which can affect the performance of our model.\n",
    "-  Increase [Sparsity](https://en.wikipedia.org/wiki/Sparse_matrix) (sparse array is a matrix in which most of the elements are zero, one hot encoding can result in increasing the sparsity of our dataset)\n",
    "\n",
    "\n",
    "---\n",
    "### Other similar transformation: Integer encoding (label encoder)\n",
    "\n",
    "This is called a label encoding or an integer encoding and is easily reversible.\n",
    "[Label Encoding](https://scikit-learn.org/stable/modules/generated/sklearn.preprocessing.LabelEncoder.html) is also a popular encoding technique for handling categorical variables. In this technique, each label is assigned a unique integer based on alphabetical ordering, so that machines can work with it properly.\n",
    "Machine learning algorithms can then decide in a better way on how labels must be operated. \n",
    "It is an important preprocessing step for the structured dataset in supervised learning.\n",
    "\n",
    "#### Example of integer encoding\n",
    "Lets take a similar example as above, we have a color variable and we can assign “red” as 0, “green” as 1, and “blue” as 2 as shown in Figure 4.\n",
    "\n",
    "\n",
    "![OneHotEncoding Example](images/label_encoding_example.png)\n",
    "\n",
    "**Figure 4** shows the visual demonstration of label encoding of color variable.\n",
    "\n",
    "\n",
    "---\n",
    "### Difference between label and one hot encoding\n",
    "\n",
    "There is not much difference between these two encoding techniques, its mainly depends on the type of data and model we are using. For example if we have categorical features which are not ordinal (dog or cat) then we can use one hot encoding. Label encoding works best with ordinal data like Good=0, Better=1, Best=2.\n",
    "Also when there are more categorical variables then its good to choose label encoding just to avoid high memory consumption and sparsity.\n",
    "\n",
    "--- \n",
    "### Further readings\n",
    "\n",
    "This section lists some resources for further reading\n",
    "\n",
    "- [What is one hot encoding and when is it used in data science?](https://www.quora.com/What-is-one-hot-encoding-and-when-is-it-used-in-data-science)\n",
    "- [Categorical encoding using Label-Encoding and One-Hot-Encoder](https://towardsdatascience.com/categorical-encoding-using-label-encoding-and-one-hot-encoder-911ef77fb5bd#:~:text=One%2DHot%20Encoding%20in%20Python&text=OneHotEncoder%20from%20SciKit%20library%20only,apply%20OneHotEncoder%20on%20column%20Bridge_Types_Cat.)\n",
    "- [Research Article: Convolutional neural network based on SMILES representation of compounds for detecting chemical motif](https://bmcbioinformatics.biomedcentral.com/articles/10.1186/s12859-018-2523-5)\n",
    "- [How one can use matplotlib.pyplot.imshow() in Python](https://www.geeksforgeeks.org/matplotlib-pyplot-imshow-in-python/)"
   ]
  },
  {
   "cell_type": "markdown",
   "metadata": {},
   "source": [
    "## Practical\n",
    "\n",
    "### Imports"
   ]
  },
  {
   "cell_type": "code",
   "execution_count": 48,
   "metadata": {},
   "outputs": [],
   "source": [
    "# Import statements\n",
    "import pandas as pd\n",
    "import numpy as np\n",
    "from pathlib import Path\n",
    "from rdkit.Chem import Draw\n",
    "from rdkit.Chem import PandasTools\n",
    "from sklearn.preprocessing import LabelEncoder\n",
    "from sklearn.preprocessing import OneHotEncoder\n",
    "from keras.utils import to_categorical\n",
    "import matplotlib.pyplot as plt\n",
    "from timeit import default_timer as timer"
   ]
  },
  {
   "cell_type": "markdown",
   "metadata": {},
   "source": [
    "### Load and draw molecules\n",
    "\n",
    "Using `Pandas` library, we will first load the data and then we can draw the molecules using `rdkit.draw` function.\n",
    "Finally we can apply different implementations of `One Hot Encoding` into the SMILES structures.\n",
    "\n",
    "Let's load the data and quickly analyze its column values and also to check if there is any missing values:"
   ]
  },
  {
   "cell_type": "code",
   "execution_count": 2,
   "metadata": {},
   "outputs": [],
   "source": [
    "# Set path to this notebook\n",
    "HERE = Path(_dh[-1])\n",
    "DATA = HERE / \"data\"\n",
    "\n",
    "df = pd.read_csv('DATA/CHEMBL25_activities_EGFR.csv',\n",
    "                 lineterminator='\\n', index_col=0) # NBVAL_CHECK_OUTPUT"
   ]
  },
  {
   "cell_type": "code",
   "execution_count": 3,
   "metadata": {},
   "outputs": [],
   "source": [
    "# Command used to remove warnings\n",
    "pd.options.mode.chained_assignment = None"
   ]
  },
  {
   "cell_type": "code",
   "execution_count": 4,
   "metadata": {},
   "outputs": [
    {
     "name": "stdout",
     "output_type": "stream",
     "text": [
      "Shape of dataframe :  (3906, 5)\n",
      "<class 'pandas.core.frame.DataFrame'>\n",
      "Int64Index: 3906 entries, 1777 to 2783\n",
      "Data columns (total 5 columns):\n",
      " #   Column            Non-Null Count  Dtype  \n",
      "---  ------            --------------  -----  \n",
      " 0   chembl_id         3906 non-null   object \n",
      " 1   IC50              3906 non-null   float64\n",
      " 2   units             3906 non-null   object \n",
      " 3   canonical_smiles  3906 non-null   object \n",
      " 4   pIC50\r",
      "            3906 non-null   float64\n",
      "dtypes: float64(2), object(3)\n",
      "memory usage: 183.1+ KB\n"
     ]
    },
    {
     "data": {
      "text/html": [
       "<div>\n",
       "<style scoped>\n",
       "    .dataframe tbody tr th:only-of-type {\n",
       "        vertical-align: middle;\n",
       "    }\n",
       "\n",
       "    .dataframe tbody tr th {\n",
       "        vertical-align: top;\n",
       "    }\n",
       "\n",
       "    .dataframe thead th {\n",
       "        text-align: right;\n",
       "    }\n",
       "</style>\n",
       "<table border=\"1\" class=\"dataframe\">\n",
       "  <thead>\n",
       "    <tr style=\"text-align: right;\">\n",
       "      <th></th>\n",
       "      <th>chembl_id</th>\n",
       "      <th>IC50</th>\n",
       "      <th>units</th>\n",
       "      <th>canonical_smiles</th>\n",
       "      <th>pIC50\\r</th>\n",
       "    </tr>\n",
       "  </thead>\n",
       "  <tbody>\n",
       "    <tr>\n",
       "      <th>1777</th>\n",
       "      <td>CHEMBL207869</td>\n",
       "      <td>77.0</td>\n",
       "      <td>nM</td>\n",
       "      <td>Clc1c(OCc2cc(F)ccc2)ccc(Nc2c(C#Cc3ncccn3)cncn2)c1</td>\n",
       "      <td>7.113509</td>\n",
       "    </tr>\n",
       "    <tr>\n",
       "      <th>5785</th>\n",
       "      <td>CHEMBL3940060</td>\n",
       "      <td>330.0</td>\n",
       "      <td>nM</td>\n",
       "      <td>ClCC(=O)OCCN1C(=O)Oc2c1cc1c(Nc3cc(Cl)c(F)cc3)n...</td>\n",
       "      <td>6.481486</td>\n",
       "    </tr>\n",
       "    <tr>\n",
       "      <th>6373</th>\n",
       "      <td>CHEMBL3678951</td>\n",
       "      <td>1.0</td>\n",
       "      <td>nM</td>\n",
       "      <td>FC(F)(F)c1cc(Nc2n(C(C)C)c3nc(Nc4ccc(N5CC[NH+](...</td>\n",
       "      <td>9.000000</td>\n",
       "    </tr>\n",
       "    <tr>\n",
       "      <th>2442</th>\n",
       "      <td>CHEMBL504034</td>\n",
       "      <td>40.0</td>\n",
       "      <td>nM</td>\n",
       "      <td>Clc1c(OCc2cc(F)ccc2)ccc(Nc2ncnc3c2sc(C#C[C@H]2...</td>\n",
       "      <td>7.397940</td>\n",
       "    </tr>\n",
       "    <tr>\n",
       "      <th>1084</th>\n",
       "      <td>CHEMBL158797</td>\n",
       "      <td>43000.0</td>\n",
       "      <td>nM</td>\n",
       "      <td>S(Sc1n(C)c2c(c1C(=O)NCC(O)CO)cccc2)c1n(C)c2c(c...</td>\n",
       "      <td>4.366531</td>\n",
       "    </tr>\n",
       "  </tbody>\n",
       "</table>\n",
       "</div>"
      ],
      "text/plain": [
       "          chembl_id     IC50 units  \\\n",
       "1777   CHEMBL207869     77.0    nM   \n",
       "5785  CHEMBL3940060    330.0    nM   \n",
       "6373  CHEMBL3678951      1.0    nM   \n",
       "2442   CHEMBL504034     40.0    nM   \n",
       "1084   CHEMBL158797  43000.0    nM   \n",
       "\n",
       "                                       canonical_smiles   pIC50\\r  \n",
       "1777  Clc1c(OCc2cc(F)ccc2)ccc(Nc2c(C#Cc3ncccn3)cncn2)c1  7.113509  \n",
       "5785  ClCC(=O)OCCN1C(=O)Oc2c1cc1c(Nc3cc(Cl)c(F)cc3)n...  6.481486  \n",
       "6373  FC(F)(F)c1cc(Nc2n(C(C)C)c3nc(Nc4ccc(N5CC[NH+](...  9.000000  \n",
       "2442  Clc1c(OCc2cc(F)ccc2)ccc(Nc2ncnc3c2sc(C#C[C@H]2...  7.397940  \n",
       "1084  S(Sc1n(C)c2c(c1C(=O)NCC(O)CO)cccc2)c1n(C)c2c(c...  4.366531  "
      ]
     },
     "execution_count": 4,
     "metadata": {},
     "output_type": "execute_result"
    }
   ],
   "source": [
    "# Check the dimension and missing value of the data \n",
    "print(\"Shape of dataframe : \", df.shape) \n",
    "df.info()\n",
    "\n",
    "# Look at head\n",
    "df.head() # NBVAL_CHECK_OUTPUT"
   ]
  },
  {
   "cell_type": "code",
   "execution_count": 5,
   "metadata": {},
   "outputs": [
    {
     "data": {
      "image/png": "[encoded data removed]",
      "text/plain": [
       "<PIL.PngImagePlugin.PngImageFile image mode=RGB size=1000x400 at 0x20F407DA070>"
      ]
     },
     "execution_count": 5,
     "metadata": {},
     "output_type": "execute_result"
    }
   ],
   "source": [
    "# Using pandas tools and Draw method we can visualize our molecules\n",
    "PandasTools.AddMoleculeColumnToFrame(df, smilesCol='canonical_smiles')\n",
    "Draw.MolsToGridImage(list(df.ROMol[0:10]),\n",
    "                     legends=list(df.chembl_id[0:20]), molsPerRow=5) # NBVAL_CHECK_OUTPUT"
   ]
  },
  {
   "cell_type": "code",
   "execution_count": 6,
   "metadata": {
    "scrolled": true
   },
   "outputs": [
    {
     "data": {
      "text/html": [
       "<div>\n",
       "<style scoped>\n",
       "    .dataframe tbody tr th:only-of-type {\n",
       "        vertical-align: middle;\n",
       "    }\n",
       "\n",
       "    .dataframe tbody tr th {\n",
       "        vertical-align: top;\n",
       "    }\n",
       "\n",
       "    .dataframe thead th {\n",
       "        text-align: right;\n",
       "    }\n",
       "</style>\n",
       "<table border=\"1\" class=\"dataframe\">\n",
       "  <thead>\n",
       "    <tr style=\"text-align: right;\">\n",
       "      <th></th>\n",
       "      <th>chembl_id</th>\n",
       "      <th>IC50</th>\n",
       "      <th>units</th>\n",
       "      <th>canonical_smiles</th>\n",
       "      <th>pIC50\\r</th>\n",
       "      <th>2D_Figures</th>\n",
       "    </tr>\n",
       "  </thead>\n",
       "  <tbody>\n",
       "    <tr>\n",
       "      <th>1777</th>\n",
       "      <td>CHEMBL207869</td>\n",
       "      <td>77.0</td>\n",
       "      <td>nM</td>\n",
       "      <td>Clc1c(OCc2cc(F)ccc2)ccc(Nc2c(C#Cc3ncccn3)cncn2)c1</td>\n",
       "      <td>7.113509</td>\n",
       "      <td><img data-content=\"rdkit/molecule\" src=\"data:image/png;base64,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\" alt=\"Mol\"/></td>\n",
       "    </tr>\n",
       "    <tr>\n",
       "      <th>5785</th>\n",
       "      <td>CHEMBL3940060</td>\n",
       "      <td>330.0</td>\n",
       "      <td>nM</td>\n",
       "      <td>ClCC(=O)OCCN1C(=O)Oc2c1cc1c(Nc3cc(Cl)c(F)cc3)n...</td>\n",
       "      <td>6.481486</td>\n",
       "      <td><img data-content=\"rdkit/molecule\" src=\"data:image/png;base64,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\" alt=\"Mol\"/></td>\n",
       "    </tr>\n",
       "    <tr>\n",
       "      <th>6373</th>\n",
       "      <td>CHEMBL3678951</td>\n",
       "      <td>1.0</td>\n",
       "      <td>nM</td>\n",
       "      <td>FC(F)(F)c1cc(Nc2n(C(C)C)c3nc(Nc4ccc(N5CC[NH+](...</td>\n",
       "      <td>9.000000</td>\n",
       "      <td><img data-content=\"rdkit/molecule\" src=\"data:image/png;base64,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\" alt=\"Mol\"/></td>\n",
       "    </tr>\n",
       "    <tr>\n",
       "      <th>2442</th>\n",
       "      <td>CHEMBL504034</td>\n",
       "      <td>40.0</td>\n",
       "      <td>nM</td>\n",
       "      <td>Clc1c(OCc2cc(F)ccc2)ccc(Nc2ncnc3c2sc(C#C[C@H]2...</td>\n",
       "      <td>7.397940</td>\n",
       "      <td><img data-content=\"rdkit/molecule\" src=\"data:image/png;base64,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\" alt=\"Mol\"/></td>\n",
       "    </tr>\n",
       "    <tr>\n",
       "      <th>1084</th>\n",
       "      <td>CHEMBL158797</td>\n",
       "      <td>43000.0</td>\n",
       "      <td>nM</td>\n",
       "      <td>S(Sc1n(C)c2c(c1C(=O)NCC(O)CO)cccc2)c1n(C)c2c(c...</td>\n",
       "      <td>4.366531</td>\n",
       "      <td><img data-content=\"rdkit/molecule\" src=\"data:image/png;base64,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\" alt=\"Mol\"/></td>\n",
       "    </tr>\n",
       "  </tbody>\n",
       "</table>\n",
       "</div>"
      ],
      "text/plain": [
       "          chembl_id     IC50 units  \\\n",
       "1777   CHEMBL207869     77.0    nM   \n",
       "5785  CHEMBL3940060    330.0    nM   \n",
       "6373  CHEMBL3678951      1.0    nM   \n",
       "2442   CHEMBL504034     40.0    nM   \n",
       "1084   CHEMBL158797  43000.0    nM   \n",
       "\n",
       "                                       canonical_smiles   pIC50\\r  \\\n",
       "1777  Clc1c(OCc2cc(F)ccc2)ccc(Nc2c(C#Cc3ncccn3)cncn2)c1  7.113509   \n",
       "5785  ClCC(=O)OCCN1C(=O)Oc2c1cc1c(Nc3cc(Cl)c(F)cc3)n...  6.481486   \n",
       "6373  FC(F)(F)c1cc(Nc2n(C(C)C)c3nc(Nc4ccc(N5CC[NH+](...  9.000000   \n",
       "2442  Clc1c(OCc2cc(F)ccc2)ccc(Nc2ncnc3c2sc(C#C[C@H]2...  7.397940   \n",
       "1084  S(Sc1n(C)c2c(c1C(=O)NCC(O)CO)cccc2)c1n(C)c2c(c...  4.366531   \n",
       "\n",
       "                                             2D_Figures  \n",
       "1777  <img data-content=\"rdkit/molecule\" src=\"data:i...  \n",
       "5785  <img data-content=\"rdkit/molecule\" src=\"data:i...  \n",
       "6373  <img data-content=\"rdkit/molecule\" src=\"data:i...  \n",
       "2442  <img data-content=\"rdkit/molecule\" src=\"data:i...  \n",
       "1084  <img data-content=\"rdkit/molecule\" src=\"data:i...  "
      ]
     },
     "execution_count": 6,
     "metadata": {},
     "output_type": "execute_result"
    }
   ],
   "source": [
    "# Renaming column name ROMol to 2D_Figure to get the proper idea of the column\n",
    "df = df.rename(columns={'ROMol': '2D_Figures'})\n",
    "df.head() # NBVAL_CHECK_OUTPUT"
   ]
  },
  {
   "cell_type": "markdown",
   "metadata": {},
   "source": [
    "### Apply one hot encoding using own implementation\n",
    "\n",
    "Now we can define our own function which will be useful to create one hot encoded matrix of our SMILES strings."
   ]
  },
  {
   "cell_type": "code",
   "execution_count": 7,
   "metadata": {},
   "outputs": [],
   "source": [
    "# Creating a new column for Encoded values of SMILES\n",
    "df['Own_OneHotEncoding'] = \"\""
   ]
  },
  {
   "cell_type": "code",
   "execution_count": 8,
   "metadata": {},
   "outputs": [],
   "source": [
    "# Create dataset of all possible SMILES characters\n",
    "SMILES_CHARS = [' ', '#', '%', '(',\n",
    "                ')', '+', '-', '.', '/', '0', '1', '2', '3',\n",
    "                '4', '5', '6', '7', '8', '9',\n",
    "                '=', '@', 'A', 'B', 'C', 'F', 'H', 'I', 'K', 'L', 'M',\n",
    "                'N', 'O', 'P', 'R', 'S', 'T', 'V', 'X', 'Z',\n",
    "                '[', '\\\\', ']', 'a', 'b', 'c', 'e', 'g', 'i',\n",
    "                'l', 'n', 'o', 'p', 'r', 's', 't', 'u']\n",
    "# Convert the dataset into dictionary\n",
    "smi2index = dict((c, i)for i, c in enumerate(SMILES_CHARS))\n",
    "\n",
    "\n",
    "# Function defined to create one hot encoded matrix\n",
    "def smiles_encoder(smiles, length):\n",
    "    \"\"\"Function defined to one hot encode SMILES strings\n",
    "       using all possible 56 characters defined\n",
    "    Parameters\n",
    "    ----------\n",
    "          smiles(string): SMILES strings\n",
    "          length(int): length of the SMILE string\n",
    "    Returns\n",
    "    -------\n",
    "          ndarray: return one hot encoded matrix\n",
    "    \"\"\"\n",
    "    smilesMatrix = np.zeros((len(SMILES_CHARS), length), dtype=int)\n",
    "    for i, c in enumerate(smiles, 0):\n",
    "        smilesMatrix[smi2index[c], i] = 1\n",
    "    return smilesMatrix"
   ]
  },
  {
   "cell_type": "code",
   "execution_count": 9,
   "metadata": {},
   "outputs": [
    {
     "data": {
      "text/html": [
       "<div>\n",
       "<style scoped>\n",
       "    .dataframe tbody tr th:only-of-type {\n",
       "        vertical-align: middle;\n",
       "    }\n",
       "\n",
       "    .dataframe tbody tr th {\n",
       "        vertical-align: top;\n",
       "    }\n",
       "\n",
       "    .dataframe thead th {\n",
       "        text-align: right;\n",
       "    }\n",
       "</style>\n",
       "<table border=\"1\" class=\"dataframe\">\n",
       "  <thead>\n",
       "    <tr style=\"text-align: right;\">\n",
       "      <th></th>\n",
       "      <th>chembl_id</th>\n",
       "      <th>IC50</th>\n",
       "      <th>units</th>\n",
       "      <th>canonical_smiles</th>\n",
       "      <th>pIC50\\r</th>\n",
       "      <th>2D_Figures</th>\n",
       "      <th>Own_OneHotEncoding</th>\n",
       "    </tr>\n",
       "  </thead>\n",
       "  <tbody>\n",
       "    <tr>\n",
       "      <th>1777</th>\n",
       "      <td>CHEMBL207869</td>\n",
       "      <td>77.0</td>\n",
       "      <td>nM</td>\n",
       "      <td>Clc1c(OCc2cc(F)ccc2)ccc(Nc2c(C#Cc3ncccn3)cncn2)c1</td>\n",
       "      <td>7.113509</td>\n",
       "      <td><img data-content=\"rdkit/molecule\" src=\"data:image/png;base64,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\" alt=\"Mol\"/></td>\n",
       "      <td>[[0, 0, 0, 0, 0, 0, 0, 0, 0, 0, 0, 0, 0, 0, 0,...</td>\n",
       "    </tr>\n",
       "    <tr>\n",
       "      <th>5785</th>\n",
       "      <td>CHEMBL3940060</td>\n",
       "      <td>330.0</td>\n",
       "      <td>nM</td>\n",
       "      <td>ClCC(=O)OCCN1C(=O)Oc2c1cc1c(Nc3cc(Cl)c(F)cc3)n...</td>\n",
       "      <td>6.481486</td>\n",
       "      <td><img data-content=\"rdkit/molecule\" src=\"data:image/png;base64,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\" alt=\"Mol\"/></td>\n",
       "      <td>[[0, 0, 0, 0, 0, 0, 0, 0, 0, 0, 0, 0, 0, 0, 0,...</td>\n",
       "    </tr>\n",
       "    <tr>\n",
       "      <th>6373</th>\n",
       "      <td>CHEMBL3678951</td>\n",
       "      <td>1.0</td>\n",
       "      <td>nM</td>\n",
       "      <td>FC(F)(F)c1cc(Nc2n(C(C)C)c3nc(Nc4ccc(N5CC[NH+](...</td>\n",
       "      <td>9.000000</td>\n",
       "      <td><img data-content=\"rdkit/molecule\" src=\"data:image/png;base64,iVBORw0KGgoAAAANSUhEUgAAAMgAAADICAIAAAAiOjnJAAAABmJLR0QA/wD/AP+gvaeTAAAZbUlEQVR4nO2de1hU1drA35nhDnK/iYACaqkhJWkCUSr6dExRM6SUpowUzRA9efrwePycrE568mj4pBLlyQ863g2VvD2hHgwVRDxpmihXL4AzgFwSARlm3u+PhRMpl5m9ZwHp+/vDZ8S91n7H+bH22nu97xoJIgJBGBtpTwdAPJqQWAQXSCyCCyQWwQUSi+ACiUVwgcQiuEBiEVwgsQgukFgEF0gsggskFsEFEovgAolFcIHEIrhAYhFcILEILpBYBBdILIILJBbBBRKL4AKJRXCBxCK4QGIRXCCxCC6QWAQXSCyCCyQWwQUSi+ACiUVwgcQiuEBiEVwgsQgukFgEF0gsggskFsEFEovgAolFcIHEIrhAYhFcILEILpBYBBdILIILJBbBBRKL4AKJRXCBxCK4QGIRXCCxCC6QWAQXSCyCCyQWwQUSi+ACiUVwgcQiuEBiEVwgsQgukFgEF0gsggskFsEFEovgAolFcIHEIrhAYhFcILEILpBYxuTwYQCAwkIoLOzpUHoaEsuY5OdDYSEUFPR0HL0AEsvIFBRAfn5PB9ELILFaMdZVbOJEGDzYKBH9sZEgYk/H0JPcuwdbt4JUCnV1AACDB8OgQdC/P5ia9nRkf3Ae3xHr119h/Xrw84N33oGlS0GthsGDYd8+uH4dfH1h504hfdLkXcfjKFZxcfHSpSoPD1i8GMrKYMQIWLcOZDKYOBEAYNs2KC2F11+Hd9+FxkYDuj15Eq5ehfXrafIOAAD4OJGbmyuXy01MTF588QMADAnBtDTUan93jFaLSUloZYUA+OST+N//dtGnRoNpaTh6NALg3Ll46BDGxGBBAaam4vbt/N5Kb+exEEur1aampoaEhLDfJXNz8/fe+/OlS+0fnJ2NM2diZiYOHYoAOGZMfkJCgvYB+xARsa5Os3YtensjAAKgmxvK5YiIMTGYlYUODgiAb72Fv/5qWLTFxcXx8fELFiyIiorKz8839M32Eh4LsfLz8wcPHgwAtra2cXFxpaWlHR2p1eIzzyAAentjejouWXLXxsYdACZOnKhUKnWH3bp1S6FQPPHEWDMzBMCBAzEhARsaftdVcjJaWyMADhiAJ0/qFWd2dnZERIRMJgMA9qeNjc0333wj8G33KI+FWGPGjAGA2NjY+vr6Lg8uKmq9rllY4KpVWw4ePOju7g4ALi4u33///U8//fTGG2+Y3r9pjI7OO3DgwYupjry8Vk1NTXHDhoMajabdwzQaTVpa2vjx41mfZmZmcrk8KytLLpezn0yfPv327dti/ge6n8dCLDZcXb58Wc/j1WpcvhzHjDkIAKNGjTp16lRYWBgASCQS9kmbmJjMnDnz3LlzXXbV3IwKBQYFpQLA2LFjb9682fZfm5qakpOThwwZwrplA6rumJMnT+7cudPBwQEAvLy8Tpw4Yegb70EeC7H69OkDACdOnPDz84uOjtaz1YkTJ7y8vNjnnZWV9f7779vb21tbW8fFxV27ds2gAH74IZ0Ne05OTqmpqYhYUVGhUCicnZ2ZUj4+PgkJCW0H1MzMTJlMNm7cuOzs7Oeffx4ApFJpXFxcc3OzQafuKR59se7cuQMAlpaW+/fvB4BJkybp37a2tnbWrFnDhg1raGg4dOgQAEyYMEFYGCqVatKkSUyjgIAACwsL9nr06NG7d+9uaWl54Pj09HRXV1cAcHZ2Tk1NVSgUbNY1atSogoICYTF0JwaLdaq2dptKtU2l4hEND65evQoAfn5+iYmJADB37lxDe6iurkbEzZs3A8Ds2bPFBJOcnGxubu7t7S2VSidPnpyent7JwRUVFToX5XL58ePHfX192QiakpIiJoxuwGCx/kBKMTIyMgDg+eefX7FiBQCsWLFCWD8fffQRACxbtkxkPKGhoQCwefNmfQ7WarVJSUmWlpYAMGTIkMzMzFmzZjHVZsyYwYzvnQh58n66ru7mvXsCGvYI5eXlAODh4XHr1i0A6Nu3r7B+RDbXUVNTAwD+/v4///xzRUVF5wdLJJKYmJizZ88OHz48Ly9v/Pjxw4cP//rrr62trffu3Xvp0iWRwfBDiFjBdnZSgOtNTUaPhgc6IdgLDw8PoT31HTx4eL9+vkaJp6GhISAgYNy4cfo0GTZsWFZW1rx58+7du7dp06bIyEg2LZszZ47IYPhhsFgzXV3Ta2pe+eWX9WVlPAIyOjqx2NAleMg5d+5/8/MvuLu/LCaY5ubm6upqU1PTpqYmg4KxsrL68ssv9+7du3XrVltbW3Nzc4Oadz8mAtqM6tPHXCLJrK0taWryuX9302sx3qUQAEDkR3nr1i1EdHNzEzZ8Tps2jb3QvSlR0fBEyKXQzsTkZScnBNje1RShN8A+Qnd394qKCqlU6ubmJqATRFCpQCIBd3dRwRjL8t4vlpARCwCi3Nz2VlYeqKqa37evox5Jcafr6q7fuwcAM11dhZ1RMOwzcHBwmDVrVkNDg6mgFL6qKmhuBkdHEDlAPzDh6/E7CX4IFMvb3DzU3j5bqUzNzJzT8Qz0rkazt6rqnlZrJZN1v1IAgIilpaUAMHDgwJSUFMH9lJcDAIgfIB4YsQQPOb1fLOGJfjMlksvh4ctef72xvXQ4VXPz+tLSly9eTCgt/T+lskmr7f6HFFVVVeHh4RKJxMLC4u233759+7bgrjw9ISUFli8XG5Kx7iR6/6VQuFjP+vo++cQTlZWVycnJbX/+0/nziuLiqZcufatS3dVoRvbps9rX11wqDbaz8zI3Fx2wvhw/fjwgIODgwYMymczExGTfvn0BAQHHjx/Xp21RESxaBO+999tPcnJALofAQLE5x4/PpVDUWuGuXbsAYNCgQSwhJDMzc/LkyRKJJCojY2Ru7uKCgot6pKkYHbW6Zfny5VKpFABefPHF0tLSGzduvPDCCwAgkUji4uLu3bvXUduTJ69MmYJSaWvaTE0NNjRgUxMmJGBCAh46hCKX6V566SUAOHDgAFsrvHv3rrB+rK2tAeBXQ3MIuxFRYrW0tPj5+QFAbGzssGHDmKm2trarv/5a2fGHx5UbN/CFF3DUqE9kMplCodAt7mo0moSEBDZzf/bZZ69evdq2FcuICgoKkslM+/dvNjdHuRwzM3H1avTwwI0bW61iOcdiGD58OADk5ubu3bs3MTFRWCe1tbUAYGNjIyoUzogS6/bt25MnT9YNfl5eXv/85z/r6uqMFZyh7NuHjo4IgE89pT5x4seHDzhz5szAgQMBwNLSMiEhQfdz3Vqvi4vL55+fOn0aY2LQwqI153jmTGTHiheL5cn8t8tE+g5gV4a8vDx2oRAVCmcEilVYWBgbG8sGZMbKlSt7MFWoqQnj4lAiQQCcMAHbZBE/SF1dnS4z89VXX2WZmcnJyX5+fgkJCUeOHHnlldecnLQAKJXi1Kn4Yzt+Cmf//v1SqdTR0XHPnj36t2IDanBw8IYNGxDx2LFj7CpvzMiMjcFi/VxfL587l+UGSSSSl19+ma23R0ZG8ohPT7ZsQQA0N8fPP+8wUbgtu3btsre3h/uZmU1NTdu3bx85ciQTbsKEjPnzkUcdQ2Vl5ZQpU9hZ5HL5nTt3Oj/+zp0769ev9/HxYU2CgoIQcc2aNQAwZcoU48dnPPQVS4N4orb23fz8wNzcGYmJLC/74sWLiKhUKi0sLGQyWWFhIc9Q2+HQIUTEggLMz8f33sPcXAPaFhUVPffccwAgk8lcXFzYJ+fq6rpy5crKykpOATOSk5PZYP/EE090lN+sVCoVCoWjoyMLjA2o6enpM2bMkEql/fv3t7S0TEpK4hqnGLoWq1Gj2V1R8crFi4G5uYG5uWPPn/+qsJCteel4++23ASAuLo5bnO0j8mZNrVb/9a9/NTMzs7OzGzhwYEJCguDbNEO5fPny008/DQAmJiYKhaJtnUV+fv7s2bPNzMyYUqGhoampqTt27NANqJaWlro0+aioKMGT2ofTVo1IZ2KxZNF/3LjBlAq/eHGbStXQXqnJxYsXJRKJtbV1VVUVt1DbQfzN2vbt2wFg1KhRHZXQ8KOxsTE+Pp49FgkLC9MVpbEpFEsxPXbsWFJS0uD724y4uLjEx8eXl5cj4jfffGNjYwMAPj4+p05lGXTqkpKS+Pj4QYMGRUVFtb2JMSKdiaVLFv342rVj1dWaTicvf/rTnwDg008/NWZ0XcH+T955B7/7TmAPkZGRAPD5558bMSqD+OGHH9hzTmdn5/3797Mfrlq1Kicn5+FL4QMDaklJSXBwsEQife45pUKB+gxAOTk5kZGRuiky65xHeVkXYp2qrb3R1KRPR+np6QDg5ubW2NhopNj0orYWbW3Rygrv3MGsLFyxQq/JO6OpqYkV8BQXF/OMsQva1lnI5fKcnJyYmBhdtUVISMiuXbs6umw1Nzf/4x+n2RPd0FC8fr39U2g0uH8/RkdvY32amZm99dZbFy5c2LNnD3PXzc3tyJEjRnxTeo1YevLMM88AwJYtW0RFZDghIQiAO3a0VrufOaNvw7S0NAAIDAzkGZ1eaLXadevWsfQ9NpCYmJhERkbm5OTo0/z4cfT0RAC0tcWtW3/3T01NmJzcul2Ajc2vnp7ebUsXEfH69et6LksYhDHLv1j6wFNPPdXuTgf8SEhAAIyIwMWLEQD/8hd9Gy5blh4Q8OInn3Tr5bsTfvrpp5kzZ7722muLFi0qKSkxqG1VFU6bhgDo6oq62fzXX6OLS+tjXh8fXL8e79xpZyrZ0tKyevVq3bKEUTaMMKZYzc3N3t7eAGDcQbVLSktRIkErKzx6FAHQy0uvq2FLCzo7IwDqXSD9ByAxEQ8d+u0pzGefIQCOGIHJyahWd9H2zJkzbIGuT58+4h9kGLlg9bPPPgMRVZ2CCQpCANy9uyU8/PxTT83JyTnbZZNjxxAABw/uhui6G91TmMuXMTPTgIZ1dXVvvPGGbllCTHmZ7MMPPwTj4e/vn5iYePny5aqqqsrKSqVS2djYKJVK2y7+8ECrvVJc/D9VVbs8PfO//z7RwcFhwoQJnTdZtw5ycmDePAgL4xpaD3DmTOvuhKGh8PTTBjQ0NzefPn26j4/PsWPHzp8/v3PnzpEjR7KrkMEIVrJdNBqNn5/fwwloZmZmXl5eQUFB06ZNi42N/fjjj7ds2XLw4MGGB/b+EcrNmzclEomVlRW7OfXx8el8nqfVopcXAuDZroe2Px7Ll2NeHr7zjvDHeyUlJWw7sY8//ljYdN7IYq1cuRIAnJ2d4+Li5HL5+PHjhw0bxvZLaZdPP/1U2cmKsSGw9Zk9e/Z4eHjY2Nh0PvktLkYHB31nY384IiJab5PF0NzcbGdnBwBlZWUCmgvMeW+Xs2fPfvLJJ1KpdMeOHWFhYUlJSSUlJR4eHn379nVycpLJZBqNprq6ury8/NatW+Xl5UePHl22bFljYyOrXhfJjBkzzpw589133x0+fHjQoEGsLL0jfHxApYLiYrj/jPCRwiiVahKJpL6+XiqVugoqVjDadtz19fUjRowoKChYunTpqlWrACAsLOzhVGB7e3sPD4/AwMCUlJTTp0+HhIQ4OjreuHFD/CTs5s2b/fv3NzMzi42NNTH57RfG1PQjtbp13a2xEczMYNw4mDixNcl44ECRp+2N+PpCSQkUFIh6d2VlZZ6enu7u7iwN2lCMNmLNnz+/oKAgMDCQXQ0BIC4ubty4cUqlsqysTKVSlZaWqlSq2tra2tpaJycnAAgODg4KCsrKykpOTl6wYIHIACwtLe3t7S0sLNauXdv2505On7atonBzA09PyM9v3dL9kUSpBACxJZAi0+qNI1ZKSsrWrVutra23bt2qW5afOnXq1KlTHziyqqpKqVRqtVr21yVLlkRERKxdu3bevHlsAUsYiBgdHV1TUzNkyJC4uDhJmyucqWmLbsSysABHR6iubr1p+uADwSfsvVRXQ2Mj2NmBjY2ofsQWAoma4CEiYlFRka2tLQhazNFoNCxXmO1zJ5gNGzYAgL29vT577enyjDMycPnyR23+fvnytdDQOTNmbBDZT1IS2tj8umiRwF2rxIqlVquDgoIA4NVXXxXWwxdffAEAISEhgmP45Zdf2FR9hyE3Qmo1+vggAH7xheAz90bYA5exY8eK7EehQAAUupuYaLH+9re/AYCnp6fgvIu7d++yKdfp06cFNG9sxMjI/TY2febMmWNo2z17WhOahRY39EZYmWdUVJTIfubORQAUWkkkTqwff/xRJpNJpdL//Oc/YvphdkZERAhoGxfHtvkv1Ger7YeZP791o/ZeXKJnGKtXrwaAv+i/FN8BkycjAO7bJ7C5cLFqamrYpsKCN1/UoVKpWNa8odu2Hj6MEgmamhqQKvMADQ3o748AGB9v1HKcnmPRokUAsHbtWpH9jBiBAKhf2k47iBIrPDy8X79+rOqrSb98wI6Ijo4GgNjYWP2bqFTo7o4AuGaNmDPj5cs4dmwMAHz77beiOuodvPnmmwCwcOFCkf0cPYpJSSh4GVq4WNeuXTMxMTE1Nb1x48af//xnR0dHYc/+GXl5eVKp1MrKSv+s+fffb60iFJ+tznZEtrGxuXLlip5NRP4i8UOpVLLKttmzZ/dgDb6oOdZrr70GAPHx8ezF0qVLBXSiup+nyr7zY9iwYXPmzFEoFImJiWlpaefOXSsraz+XqLkZP/oIy8vFvIPfiIqKAoDhw4e3Ta2urq6+dOlSenp6UlKSQqGIiYkZP3780KFD+/Tps3z5cuOcmAO68rIBAwacOnXK0Oa6dK6CgtbXAhAl1tmzZwHA1taWbXnt4ODQZQXmAxQVFdnZ2S1atEitVgcHB7NVz7aMGXOYFSW7u+Mzz+CkSa0XvrZvm70WSV1dHUtzGzp0aGhoqK+vr3mne+O8++67Yk/Jk7y8PJYpzsrL9K/0unfvd0V1gv9jReVjeXh4ZGRk5OfnBwQENDY2Xr161c3NbfTo0Xo2b2lpCQ8PLyws9PT0VCqVmzdvtrCw2LRp08SJEwMDAwcNGtS3b18XlylVVe5378KdO6BUQkEB+PpCURFIJODkBNnZ4OwMBQXg5AT361kEYm5u7uXldejQIaVSee3atZqaGo1G4+Dg4OvrGxAQEBISMnHixDfffDMmJmbJkiVr1qyZPn26qPNxxtnZOTo6WiqVnjhxIiMjIzMzMywsjD3HbhetFg4cgOhouHQJHB1bVyZCQlpXG+/ehfvrKXojUMj7sHqE/v37p6amAsCAAQPUXebA3kf3DOzkyZPsCee+Du5u1WosK8OcHExLw7///bdaQvaLlZBghBELERcuXAgAYWFh7Lelm8uNOHH06FG2LGNnZ7e9vW/mrK/HL75AX9/W1PgBA3DdOsQ2O6BUVqKXF8bHo0Fbc4gVS6vVsqrc7du3sxc7d+7Up6HuGdiRI0f8/f0BYMGCBfo0bLvxC3stftsqRKyrq2O/0BcuXBDbVy+joqIiPDycjSNyuVz3wE+lUikUCn//KTIZAqCvLyYk4MOl4Nu2ITsgOBj1r/AwwlphUlISADz77LNffvkle9Flk5qamv79+wPAihUr5s+fDwBDhw7ttvL2dmE7bXR/tn73wL46xcrKCgCefPLJ3bt3R0dH6yaRcnnx3r2d3VxnZLQm3NrZ4XfflehzRiOI1dTUxL4z7ejRo+zFj13t/cPuIkeOHLl//36JRGJubn7+/HnxkQimpaWF7ehy8ODBHgyDNz///DPbH4+V6cpksoiIiOzs7IePfPiuqLYWZ85Eb+9CG5s+M2bMqKmp6fxcxklNZncAU6ZM+fDDD01MTDp/7PvVV1+xS/7p06fZRmTr1683ShiC2b17N7TZ8/IRpqGh4YMPPti4cePChQuLioo6OoxNWx+eY6Sk7GMPMvz8/No1UodxxLp9+7a1tbVEIsnOzu48cUWj0bDb4H//+9/sa0tfeumlbi5wfRhWOLBp06aeDaP30Mld0ZUrV0aMGAEApqamnVyajFZMwaZKMTExXR5ZX1//r3/9i62Vurq6PrAjUveTm5sLAA4ODsKWsR9JOr8rUqvVCoVi9OjRnezhaLSc9/z8/CFDhlhZWZmamvbt25fVUDzwp6enJ8svPXfuXHBwsFqtTktLa7uLaY8QFRW1bdu2+Ph45jqhJ2q1urOv+TCi5ufPn++yuNHNzc3f358lYC1evNiIZxdGWVmZmZmZiYnJ9Y42aiEEYczyr4CAgOvXr9fU1OgKvB748+bNmyqVSqVSBQcHDxgwoDeMEBs3bmxubn799dcF1vsSHWC0S6E+aLValUqlVCqlUmlAQEC3nbcjGhsbvb29q6qqsrKy9F+JIvShW8XqbVy4cGHy5Mn9+vXLzs7u6VgeNR5rsQBArVbfunWLroNG53EXi+CE8G//IohOILEILpBYBBdILIILJBbBBRKL4AKJRXCBxCK4QGIRXCCxCC6QWAQXSCyCCyQWwQUSi+ACiUVwgcQiuEBiEVwgsQgukFgEF0gsggskFsEFEovgAolFcIHEIrhAYhFcILEILpBYBBdILIILJBbBBRKL4AKJRXCBxCK4QGIRXCCxCC6QWAQXSCyCCyQWwQUSi+ACiUVwgcQiuEBiEVwgsQgukFgEF0gsggskFsEFEovgAolFcIHEIrhAYhFcILEILpBYBBdILIILJBbBBRKL4AKJRXCBxCK4QGIRXCCxCC6QWAQXSCyCCyQWwQUSi+ACiUVwgcQiuPD/uT3uHQuI+fcAAAAASUVORK5CYII=\" alt=\"Mol\"/></td>\n",
       "      <td>[[0, 0, 0, 0, 0, 0, 0, 0, 0, 0, 0, 0, 0, 0, 0,...</td>\n",
       "    </tr>\n",
       "    <tr>\n",
       "      <th>2442</th>\n",
       "      <td>CHEMBL504034</td>\n",
       "      <td>40.0</td>\n",
       "      <td>nM</td>\n",
       "      <td>Clc1c(OCc2cc(F)ccc2)ccc(Nc2ncnc3c2sc(C#C[C@H]2...</td>\n",
       "      <td>7.397940</td>\n",
       "      <td><img data-content=\"rdkit/molecule\" src=\"data:image/png;base64,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\" alt=\"Mol\"/></td>\n",
       "      <td>[[0, 0, 0, 0, 0, 0, 0, 0, 0, 0, 0, 0, 0, 0, 0,...</td>\n",
       "    </tr>\n",
       "    <tr>\n",
       "      <th>1084</th>\n",
       "      <td>CHEMBL158797</td>\n",
       "      <td>43000.0</td>\n",
       "      <td>nM</td>\n",
       "      <td>S(Sc1n(C)c2c(c1C(=O)NCC(O)CO)cccc2)c1n(C)c2c(c...</td>\n",
       "      <td>4.366531</td>\n",
       "      <td><img data-content=\"rdkit/molecule\" src=\"data:image/png;base64,iVBORw0KGgoAAAANSUhEUgAAAMgAAADICAIAAAAiOjnJAAAABmJLR0QA/wD/AP+gvaeTAAAgAElEQVR4nO2de1hU1frHvzPDHeQqgoCIiWgkapGFkpqKComKID2mkXa8VeZ4wsqn6ISaPXl+2uOgdXTM+snJp36ioqKJiiftYKlAeANMBgERiBmQy3Cb+/r9sXQkvDEze5gL+/P4xzDutfa7Z76z1rvXftf7cgghYGFhGq6pDWCxTlhhsRgFVlgsRoEVFotRYIXFYhRYYbEYBVZYLEaBFRaLUWCFxWIUWGGZiOxsZGejrAwrVgBAWtrd97UvLBwbUxvQ9+jowJ9/orQUq1cDwAcfIDsbwF2FWQvsiNVbdHTg6FG88QZ8fbF48f33RaK7L4RCCIUIDTWFcczDjlhGpqkJWVk4eBA5OZDJAIDDASGYPh0rViAuDocPQyhEaampDWUYDhvdYAzq6+sPHTp08ODB3e3tg379FQB4PLz0EhISEB8Pf39TG2h0WGExSW1tLdXTf//7X7VaDWBLZOQaZ2ckJCAuDgMGmNrA3oOdCplBqVROnTr1119/1Wg0AOzt7WNiYhISEmbPng1PT1NbZwJYYTHDokWLysvL7ezsoqKiEhMT58yZ4+bmZmqjTAk7FTJAc3Ozl5eXra2tWCzu43rSwi43MEBeXp5Go3n++edZVWlhhcUAeXl5AF544QVTG2JGsMJiAFZYD8IKiwEKCgoAvPjii6Y2xIxgnXdDuXXrVlBQkLe3t0QiMbUtZgQ7YhkKOw8+FFZYhsIK66GwwjIUVlgPhfWxDEKtVru7u7e3t9fX13t5eZnaHDOCHbEMoqioqK2tbejQoayqusEKyyDoPMguNDwIKyyDoMIaO3asqQ0xO1hhGQQ7Yj0K1nnXn/b2dnd3dw6H09LS4ujoaGpzzAt2xNKfgoIClUo1evRoVlUPwgb66UNVVdWhQ4f+9a9/2dnZ2dvbm9occ4SdCnWgtLQ0MzPzwIEDv//+O33H2dm5vb09OTl5y5YtHA7HtOaZFaywnkxxcfGxY8eOHj36K91vAzg5OU2ZMiUxMdHGxmbJkiUymSwhIWHv3r0ODg6mNdWMICyPoKioKDU19emnn9Z+Vh4eHklJSRkZGW1tbdrDfv75Zxo4OmXKlJaWFhMabFawwuoO1VNISIhWT15eXklJSVlZWXK5/KFNrl275u/vDyAsLKympqaXDTZPWGHdJyUlJSAgQKsnf3//d99998yZMyqV6olty8vLQ0JC3B0cxDExRCTqBWvNHFZYd9m2bVt4eDiAwMBAPp+fm5urVqt16kEikdxcsIAAZMAAkp9vJDstBVZYdxk6dCiAH3/80aBe2trIzJkEIM7O5PhxhkyzSNi7QgBobGzs37+/k5NTc3OzjY1ha3tqNd56C7t3w8YGQiH+9jeGbLQw2JV3ALh48SIh5PnnnzdUVQB4POzahdRUqFRYuhTr1jFgnwXCCgsALl68CAajQDkcrFuHbdvA4aCjg5k+LQ1WWACQn58PxsOLV61Cbi5eftm6U0I+CtbHAgAfHx+JRHLr1q3AwECGu05Lu5sSsqwMIhFKS1FScve/hEKGz2VOsA+hUV5eVV9f7+vry7yqutI1JSSsf8Rip0Lk5QW6ujbOnn3cKL3PnIkVK5CdjcOHERNjlFOYJexUiPfeg0CAjRuRkmJqU6wIsx+xuuVDNwJ5eQDARhczi9mPWN2c35gYdHaCuYhNpRJubpDJ0NgId3ememUx/xFLC3V+y8oQEoL/+z+mer16FZ2dGD6cVRXDmL2wujm/+/ejuhoLFzJ1V8XOg8bCpE8qdaG5mVy8SAghAgHhcglA+HyiYwDCgyxeTADy1VcMGMjSFbMfsShyOeLi8PLLOHIEq1fj3/+GnR22bcPixVAqDel4xAhERCAigilDWe5hamX3DJWKvP02AQiPR3bsIISQkyeJiwsBlHPndg0UZjETLERYlE2bCIdDALJ2LSGEFBRo/Pw+Dg8fO3asWCzWqSeVikilRCAgAgEh5P4L+prFcMx+uaEbe/Zg2TKoVHjzTezaVXPr1qQZM27evBkSEnLixIkhQ4Y8vrVajfPnsX8/9u/Ha68hMBAhIRg2DD/9BKCPPMTrLUytbN05coQ4OhLg7OrVnZ2ddXV1NKTY19e3sLDwoS1kMnL0KFm8mHh6EuDuv6iou4PT8uXsiMU8FigsQsi5c3kxMQAmTJjQ2NjY2toaHR0NwMXF5cSJE9qj2tvbDxw4sGxZiqvrfT2NHElSU8nVq4R00dD48aywGMYyhUVISUkJDUYIDQ2tqqqSy+ULFiwAYG9vX1BQkJWVlZSU1K9fPzoqh4R0hoaS1FRSUmJqu/sMliosQkhtbe3o0aMB+Pn5XblyRaPRJCQkDB48WLsdmcPhjBs3bsuWLRUVElMb2+ewYGERQpqamiZOnAjAw8Nj27Ztc+fOBcDlciMjIwUCQXV1takN7LtYtrAIIZ2dnVRPvr6+ABYtWqTr0gOLMbC05YaHoVarN23atGvXrqqqquLi4lBrqddt0ViDsABIJBIfH59+/fo1NzdzuRbynMqqsZLvgO7fGjt2LKsqM8FKvgY2yay5YVXCYuuOmA/W4GMRQry8vJqammpqavz8/ExtDgtgHSOWSCRqamoKCAhgVWU+WIOwGM68wMIE1iAsy3KwNBrN5s2bx4wZ09bWZmpbjIj1CMtSbgm5XG5WVtaVK1f27NljaluMiMU773K53M3NTalUNjU1ubq6mtqcHpGZmZmQkDBkyBCRSMTj8UxtjlGw+BHr8uXLcrk8NDTUUlQFIC4ubujQoRUVFVlZWaa2xVhYvLAsy8GicLlcPp8PYOvWraa2xViwwjINS5Ys8fT0zM3Npbe01oeVCMtSPHctzs7OS5cuBZBmpYmyjJh4TSqV5ufnl5SUTJ8+ffjw4cY4xeHDh0Uikb29/TPPPGOM/o3KqlWrLl5svHTp77dvY9AgU1vDOEaK88rLywsODra3t+dyuRwOJyoqKisrS6PRMNK5XC7PyMig05+zszOHw9mzZw8jPfcytN7ABx+Y2g4jwLyw1Gr1F198YWtrCyAsLGz+/PnaOpFjxoxJT09/VEWantDQ0LBx48aBAwfSDgcOHDhnzhwAPB7v0KFDDF5F71BQQADi6kqMXdzpzp0777zzzoYNG/h8/s2bN417MkII48ISi8V0JxaHw+Hz+VRDzc3NAoFAW6bGx8cnNTW1vr5ep57Lysr4fL6zszPtZPTo0UKhsLOzkxDyySefAHB0dPz111+ZvZxeYOJEAhh3z9kvv/wyaNAg+hHRH2F8fHxubq4RT8mssE6dOkUDz729vY8dO0YI6Tr3dZ2/ANjb2yclJRUXFz+x29zc3MTERLqQ+NBZVaPRLFmyBICXl9f169cZvKJe4NAhApCgINKDSlA6o1KpUlNT6Uf3wgsv5OTk8Pl87QTy3HPPpaenKxQK5k/MlLBkMtnatWtp9ObUqVNramo0Go1AIJgzZ86DflVXoXC53Ee5XwqFIiMjQ3u7R4VYVFTU9ZiGhobp06cXFhaqVCq6pSIgIKCqqoqRi+od1GoyfDgByIEDDPdcVVU1YcIE7eyhFZBYLE5NTe3fv7/WnUhNTb1z5w6zZ2dAWH/88cezzz4LwMbGJjU1Va1W19TUTJ48mV7So4ZckUjE5/OdnJwenNpaWloEAsGge3dKAwYMeNTU+f7779OPpry8vKOj46WXXgIwcuTIxsZGw6+r19i+nQAkMpLJPjMzMz09Panj0XV3+IULF2giAplMlp6err2bdnFxWb58+R9//MGUAYYKKz093cXFBUBQUNBvv/1GCDl58iSdEAcMGPDTTz89vrlEItmwYQM9HoCfn19UVJTWkQoLC/vuu+9kMtmjmisUihkzZgAYOnRoXV1dQ0MDLYg6adIkqlGLoK2NvP46OXeOmd46Ozvpsj6A2bNnNzQ0dP3fiIgIAJGRkRkZGSqVSqPR5OTkxMbG0oLWXC43NjY2JyfHcDP0F1ZLS8vChQvpBSQmJjY1NclkMj6fT02Mioqqra3tYVdyuTw9PT0sLAwA3TgfGRnZw+WJ9vZ2+mE9//zzra2t1dXVtIc5c+b0pIClmdA1oZIhFBcXjxo1CoCDg4NAIOj2ASoUiuTkZO1D1ZCQkB07drS3txNCrly5snz58m7ul1Kp1NsSPYWVl5dHC/z169dPKBQSQq5fvz5mzJiuE6KufWo0mvnz5wNYtWqVTg0lEgmttDt16lS5XF5UVOTh4QHgrbfe0tUGUyEQkOPHiUhEBAKycSNZv55kZxNd3Z709HTqWowYMeLSpUuPOkwqlQqFQm1tYjc3Nz6ff/v2bUJIbW1tSkqK1v0KCQnR27XXWVjUK7ezswMQHh5eWlpKL4nOX0FBQefPn9fPFELI9u3bAbz99tuEkNbW1pKSEqlU2pOGN2/epPPpggUL1Gr1+fPn6Uf8+eef621Mb9I1odLAgfdz4wwbRhYuJGlp5Px5IpM9cvxobm5+9dVXqRqSkpJ6kuJQrVZnZWVFRkbSVnZ2domJibS8HnW/goODBw8evHLlSv2uSGdhNTQ0hIWFaZepWlpaXnvtNe0ltba26mcHJTMzk3oGhJDY2FgAhw8f7mHbK1eu0GryH374ISEkKyvLxsaGw+Hs3r1bVzM0GqVYLJDJRDKZSCw2elqj1lbyP/9z9/X48WTfPrJmDZkwgTg53VcYj6dydXULDQ1NSkoSCoVFRUXaOeHs2bN0jdDV1fWHH37Q9ey//fbbvHnztGFhU6dOpV/ilStX6OCn30XpLKyPPvoIwKJFi+if1M1ydXXdu3evfhZ0hT7qDw8PJ4SsWLECwNdff93z5j///LO9vT2AL7/8khAiFArpemBmZma3I9VqdW1trUhU2NR0RCL5qqYmpaJiUWnptKKi0EuXXG/eTGxuPl5Zuby5uTfK7yYnk4AAcupU9/eVSnL5MhEKyZIlZMaM691CAt3d3adNmxYTE0Pfj4yMrKys1NuGioqKtWvXenh4RN67O21sbKSujn4d6iysr776qqv7cvv27ejo6LKyMv1O343q6moAvr6+hJD169cD+Pjjj3Xq4ccff6RPJ9PT0wkhn376KQBHR8eVK1euWrVq7ty5ERER/v7+tJLqxIljCgrw4L8bNybJZCJCSC+MWCIRsbcnXC4pKHjCkW1tbbm5uQKBICkpSZufws/Pj0Z3MbLO2dzc3HXFgbo3PfRGuqGzsA4dOgRg1qxZepzsiahUKh6Px+VyFQrF7t27uw6NPefLL7+kwx6dLOLi4h4aXOrj4zNr1jSRKLaycnlt7br6+m+bm493dFxTKhsIIc3Nx8VigVgsqKv7Z0fHNcavVMsrrxCALF+uc8Pa2tpt27YBeOqpp4xgFyGEBAcHA9DvYYbOwqLxT88995weJ+sJdG9gVVVVdnY2XbbQo5OdO3c2NTURQlQqFV3FmDhx4tatW/ft23fu3LnKysoePgiXy6uKikKuXg2gamOcU6fuPoT+8099mjc1NQFwcXFh2q67TJo0CcDp06f1aKtzPJa/vz+AmpoaXRv2vP/a2tqamhpDTrTiXqkwoVB47dq1IUOGnDx5Upvpr+fY2fnb2vq3tp6prHwjOPgYwNHDmEehUuG99wAgNRX3Voh7RHFx8fnz50eOHBkREeHs7NzW1iaVSo0R8m/IV6BzBKmPj4+NjU19fb1CodDjfE9EezGGK7ipqSk1NRXAli1b9FAVAIAbFPRvGxuvlpbj9fU79LbkoWzfjuJiBAdj5UrdGh49enTZsmUHDx4EQAd4I/3Oe1VYPB7Px8dHo9HU1dXpcb4nov2kPD09HR0dpVJpa2urfl2tW7euoaFh8uTJ8fHxettjZxcwePAuANXVazo7r+jdTzcaGhpOnTpnb4+tW2Fvr1vbrt+3USeQXhWWgefTqXMqstraWj36uX79+o4dO3g8nkAgMNAkd/d4b+8VGo2svHyBRtNhYG+Uf/zjHydOTIiP/yA2Vue2ViusXht+Dbmwzz77TqlULlu2jD47M5CAAIGj4yiZrKS6eo3hvRUXF+/evdvGxiYlZbEezXtZWPr9sM16xNL7RMeOITNzc3R07meffcaIVVyuw5AhP3C5jvX1O5ua9hnY23vvvadSqd5991399oB0/b6tasQyc2EpFFizBnI5oqNf0j5PNRxHx2cCAjYDuHXrLYXilt79HDhwICcnx9PTk0ZU64GLi4urq2tnZ2djY6Mhg8oTGThwIJfLraurU6vVurY1a2ElJCR88803s2bN0qmHbdtQWooRI/DOOwzb5u290t19jlrdXFHxOiE6f9YA5HI5fSb2+eefe3l56W0Jg/fOj8HW1tbb21utVovFYp0b67H2dfr0aQCTJk3So21PoKVK6AqnrojFxM2NAOS4cZ7yKZUNV68GFBWFyOU9CoCWy+WVlZXnzp3bt2/f1q1babmDsLAwGivW1NS0c+dOPcyIiooCkJ2dXVVVBcDPz0+PTnrCc889ByAvL0/XhvpsWDX2Gqm3t3dra+v3338/b9487U6vHpKSgpYWxMYiJsYottnYeAUHZ9vbB3G5Lto3Vao7SuWfCsVtpfJPpbJaoahRKmuTk+V5eVcf/K27u7sHBgbyeDyNRhMVFfX777+3t7cnJyfrZIb2K4iKiuLxeGKxWKVS0QegzOLv719YWFhTUzN27FjdWuqhYqlUCsDR0VH7zh9//NHc3KxHV91QKpWpqalcLrfrzsHY2NjU1NSsrKwnRrJfukR4PGJnR5gL3X44XYNqbtyY9NAn2RMn3g179Pf3j4iImDt37qpVq1auXEmjND/99FPS5ZG5rhtuP/74YwDr168nhNBANKbqu5SVlUVHR9O4P0LIW2+9BeAr3Ytm6xlBSmcr7Tc9bty4fv36GRiNX1lZSePOeDxeTEzMtGnT3N3du/4GeDzejBnXlywhQiG5fJk8GDd76hQJCCDJyXqb0FO6BtXcvJl46ZJrUVFoaem0iopFNTUpEslXTU1HRKLC2traByNpjx07RoeWtLQ0QsjXX38NwNbWtuuWhydCW61YsYIQQss10hg9A9m7dy99NLRw4UL6zqJFiwB89NFHunalp7BGjBgB4MqVK4SQ1tbWqVOnar/7efPm0V0VOnHw4EG6qyQgIODs2bPa92tqajIyMvh8fmRkpKenF4+n1Ma+OTmRCRPImjVk37771ezb2ohhsYY9omtQjUajc2D4999/z+FwuFzu/v37CSEffvghACcnp54H3x4+fBhAbGwsIWT27NkAHow50wmpVLp8+XL6JcbHxzc2Nmpnj6effloi0bl8mp7CWrlyZWBgYGBgoEAgoNH4ly9fXr58ufaRXHh4eA+j8Ts6OrS7SubMmdNtV0lXZDLl+fMkLY0sXEiGDbsfXTlwIGObEXqINqhG72itzz//HICdnd3p06c1Gs2bb74JwNvb+8aNGz1pLpVKS0pKaKjn22+/DWD79u36WUIIKSgoGDZsGHVvBAIBIaSiomLcuHG4t4NBj20pegpLoVBoo/H79++fkpJC9+TU1dV13QwZFBS0adOmx/hGxcXFNKzlobtKHs+dOyQ7m6xfTzZu/MtmBEvh73//OwBXV9dLly4pFIqYmBgATz311J86xtCsWrUKwPz58/XIudJ1B8Mzzzxz9epVQkhGRgZ1QgYPHnxO311p+m//ekw0fnt7+44dO7TKc3V1TU5OfjDEUbur5Omnn758+bLelpC/bkawFNRqdWJiIgA/P7/Kysr29nY6SIwaNaqHd0K5ubl0SyDd3BsSEiIQCDo6OnpogEQimTlzJv2OkpKS2tvbpVJpUlISfSchIcGQfb8M7IQuKChISkrS3us+dDPk+PHjuzapr6+nngF6vKvk8VA9nTtHvL2JwZ31HnK5fNq0aQCGDRsmFovr6+tpIrHJkyc/ZpuuTCb77rvv6EgPwNnZOSoqSls8wdfXd8OGDU/0ik6fPk2b9O/fPysrixCSn5/fbUI0BMaSgpSXl69du1Z7HxccHKx1vwoLCy9cuKA98syZM3QZxs3N7ccff2TKAEJIZCQBiAHOhgloaWmhCQpeeOGFtra28vJyutTy/vvvP3gwzdtDPz3cy9tDvdKepLrQkpubS/cVT548WZtoQzshXrvGQCg2w2mMpFKpQCAYPHgwvbyumyHJvWUquqvkxRdfZDxR04EDBCBDhhglc4vxqK2tDQoKAjBz5kylUnnp0qXJkyfX1dV1PeYxqS668cTkPIQQjUYTHx9PvXKxWEzdO7ql7zEjpU4YJaMfdb/Gjx+vdb+SkpJOnDhBk3bweLy1a9caI3uOSkWGDiUAsbgcbCKRyMfHB8Drr7/eTQQ9EcqDdEsnNmrUKKFQ2NX9oj3k5OTQAbJ///5Hjx5l8IqMWxM6Nzc3Pj6efih0xXnQoEG//PKL8c4oEBCATJxovDMYi7y8PJpe5ZNPPiEGpBPrSreUd13z9miXqQBMmTKlpqaG2cvpjWLjN2/e5PP5GzZseOeddxjPw9QNqZS4uxOAMLEQ3dvk5ORQR2fmzJldH2pt3LjxMct7T4TmXKGZNegvfP78+dT3t7W1/eKLL/RItPFELL6K/YN88AEByIIFprZDL/bs2cPhcOjQ9eD8ZSDaWZXD4Tg4OBiyTPVELL6WzoPcvo3p04t9fAR796ZqZwFLQalU9uvXT6FQZGZmxsXFGeMUN27cOHXqVGho6NixY41YJ8ZIgjUtNE8JzQ5iWfz+++8wIBWH+WDxlSkeypo1awDs3LmTRvhYEFZT1NM6hRUeHj5hwgSpVGpxNQEttDTQg1insAC89957AAQCgR4bAUyI1QjLCp13ikajGT58eFlZ2cGDBw3ZCd2btLa2uru729ratrS02Ou6P9rMsNoRi8vlrl69GhZVEzA/P1+j0Tz77LOWripYsbAALF68ePTo0bNnz9ZoNKa2pUdYjecOo5aVMzkuLi6XL182tRU6YDUOFqx7xLI4LLSo50OxWufd4qiurh40aJCnp2dDQwMNlrJo2BHLXNDOg1agKrDCMh+sycECKyzzwZpuCcH6WGaCRqPx8PCQSqVisXjAgAGmNocB2BHLLKBVg4KCgr755hvLegb1KFhhmR6JRLJ582YAcrn8k08+SUxMlMlkpjbKYEwcttOHkUgk6enpsbGxtra2AObOnbtjxw66iTwiIsKQWGRzgBVWb1NRIdmyZcu4ceO0ywoODg5DhgyZNWuWWq0uKSmhhTxDQ0Mtq7h1N1hh9RLl5UQgIJGRZPjwTqonR0fH2NjY9PT0Cxcu0KfOCxYskMvltbW1o0ePBuDn50fz+VgirLCMy9WrJDWVjBx5PzeOqytZtizlwIEDdJs45eeff6bFFqdMmdLS0tLY2EgL0OfFxDBWLLp3YYXFANpEBzSbkjahUlTUfT15epLFi8nRo+RRO42vXbtG986HhYXV1NR0dnaeXb2aAMTRkRw50ktXwhzsOhYDpKWhpOTu69BQhIRg2DD89BOqqpCejldeQWIiZsyAnd0T+qmoqIiOji4tLR06dOgvJ0/6BwVh1Srs2AEeD19/jXuVpywDUyvbGug2YpF7CZWkUp2zSNy5c2f8+PFrnn1W4+tLaGLETZvuDnpr1zJqtXFh17GMglCIjAz064e/ltt9Mp6enqdOndoUFMSpq8P06Th1CmvX4n//FzY2+Oc/sWQJVCrjmMw0pla2tVFQQCIiyKZNhvWiVJKlSwlAbGzIt98SQsjhw8TRkbz88iN9NDPDmiNITcJvv+HCBdwr2awvNjbYtQv+/li/HkuXoqoK69bh7FkMH65zEToTwQqLYfLzAYCBGAUOB+vWwcMDyclYvx729vjoI4M77T1YH4thLl4EGBEWZfVqHDgAf3/MnYvsbGRno6zMIm4P2eUGJmluhqcnHBzQ0gJbW+b67eyEoyPS0rB6NQCUlUEkMlZRF4ZgRywmycsDIQgPZ1RVABwd//KnSMRo70aBFRaTMDwPdmPmTKxYgexsHD5s5sMVrF9YaWn3XxjfR6muvuTm1qxrnayeEhwMoRAxMRAKjXMCJrF2H6vb0xYj+ygDBw4Ui8VlZZVPPRXIeOeWRR9YbqC/b+3QBWP5KJWVlXV1dd7e3qyq0CeEpYX6KHFxOHwYnp5obcWrrzLYvTXtYzYcaxcWnfu0L+jo5eiIyZPB5aKuDvcKjxkOFZbOlUitFGt33h/Kyy9DIACA1auxejUYykXDjlhdsXbn/THs3Yu//Q1KJZKS8O23Bi49qdVqNze3jo6O+vp6Q8rTWw19csSivP46srPh6orvv8crr6C11ZDOMjIy2tvbg4ODWVVR+rCwAEydiv/8BwMGIDdXsHRpfX29rh0UFxevW7cuJCRkwYIF4eHhtCYlC8DGYxFCRKLds2cDCAkJKS8vf+LhKpXqzJkz7777rra8G4CAgICUlJReMNZSYIVFCCF1dXW0Fryvr29hYeFDj1GpVLm5uXw+X1vlBkBgYCCfz8/NzTVGORqLhhXWXVpbW6OjowG4uLicPHlS+75MJsvJyeHz+V1zdQwZMoTqSY8yzH2EPnxX+AAKheLNN9/84Ycf7OzsvvnmGw8Pj/3792dlZbW0tNADQkNDZ82aFRsbSwsvsjwGVlh/gRCyZs2arVu3Ojs7t7e30zfDw8PnzZsXHx+vLZ/O8kRYYT2El156KT8/PygoaMWKFfHx8bSuLotOWPsjHb3o7OxUKBS7d++m+9xZ9IAdsbojk8lcXV01Gk1LS4u2pjKLrvTtBdKHUVhYqFQqw8LCWFUZAius7lhZkllTwQqrO/n5+WCFZTCssLrDjliMwDrvf+HOnTve3t5OTk7Nzc02Nuwts/6wI9ZfuHjxIiFk7NixrKoMhBXWX7CyuiMmhBXWX2CFxRSsj3UfQsiAAQMaGhqqqqoGDRpkanMsG3bEuk95eXlDQ4Ovry+rKsNhhXUfutDAbrNhBFZY92EdLAZhhXUfVlgMwoAW0AwAAAE/SURBVDrvd2lpafH19ZXL5Y2Nje7u7qY2x+Lp6yNWR0fH0aNH33jjDX9/fy8vr/nz57OqYoQ+OmI1NjYeOXIkMzMzJydHLpcD4HK5kZGR//nPf2wZzsbXR+ljwpJIcOgQMjNDL1++LpEA4PF4EydOTEhImDt3rp+fn6ntsx76hrDq65Gdjf37ceIErezw70mTfnBwSEhIiIuL8/b2NrV9Voi1Cys7G599hgsXQC/TwQHTpyMhAbNmwcPD1MZZM9byDF+bqjotDXST1rBh2LwZ0dE4fx6Ojpg6FYmJiIuDq6tpLe0jWMuI9ahco8XFUKsRHQ0nJxNa1wexlhELj8g1amdn/pmrrRJrXMeyqHzo1oq1TIUsZoY1jlgsZgArLBajwAqLxSiwwmIxCqywWIwCKywWo8AKi8UosMJiMQr/D++QoCWTWEwLAAAAAElFTkSuQmCC\" alt=\"Mol\"/></td>\n",
       "      <td>[[0, 0, 0, 0, 0, 0, 0, 0, 0, 0, 0, 0, 0, 0, 0,...</td>\n",
       "    </tr>\n",
       "  </tbody>\n",
       "</table>\n",
       "</div>"
      ],
      "text/plain": [
       "          chembl_id     IC50 units  \\\n",
       "1777   CHEMBL207869     77.0    nM   \n",
       "5785  CHEMBL3940060    330.0    nM   \n",
       "6373  CHEMBL3678951      1.0    nM   \n",
       "2442   CHEMBL504034     40.0    nM   \n",
       "1084   CHEMBL158797  43000.0    nM   \n",
       "\n",
       "                                       canonical_smiles   pIC50\\r  \\\n",
       "1777  Clc1c(OCc2cc(F)ccc2)ccc(Nc2c(C#Cc3ncccn3)cncn2)c1  7.113509   \n",
       "5785  ClCC(=O)OCCN1C(=O)Oc2c1cc1c(Nc3cc(Cl)c(F)cc3)n...  6.481486   \n",
       "6373  FC(F)(F)c1cc(Nc2n(C(C)C)c3nc(Nc4ccc(N5CC[NH+](...  9.000000   \n",
       "2442  Clc1c(OCc2cc(F)ccc2)ccc(Nc2ncnc3c2sc(C#C[C@H]2...  7.397940   \n",
       "1084  S(Sc1n(C)c2c(c1C(=O)NCC(O)CO)cccc2)c1n(C)c2c(c...  4.366531   \n",
       "\n",
       "                                             2D_Figures  \\\n",
       "1777  <img data-content=\"rdkit/molecule\" src=\"data:i...   \n",
       "5785  <img data-content=\"rdkit/molecule\" src=\"data:i...   \n",
       "6373  <img data-content=\"rdkit/molecule\" src=\"data:i...   \n",
       "2442  <img data-content=\"rdkit/molecule\" src=\"data:i...   \n",
       "1084  <img data-content=\"rdkit/molecule\" src=\"data:i...   \n",
       "\n",
       "                                     Own_OneHotEncoding  \n",
       "1777  [[0, 0, 0, 0, 0, 0, 0, 0, 0, 0, 0, 0, 0, 0, 0,...  \n",
       "5785  [[0, 0, 0, 0, 0, 0, 0, 0, 0, 0, 0, 0, 0, 0, 0,...  \n",
       "6373  [[0, 0, 0, 0, 0, 0, 0, 0, 0, 0, 0, 0, 0, 0, 0,...  \n",
       "2442  [[0, 0, 0, 0, 0, 0, 0, 0, 0, 0, 0, 0, 0, 0, 0,...  \n",
       "1084  [[0, 0, 0, 0, 0, 0, 0, 0, 0, 0, 0, 0, 0, 0, 0,...  "
      ]
     },
     "execution_count": 9,
     "metadata": {},
     "output_type": "execute_result"
    }
   ],
   "source": [
    "# Iterate over the SMILES strings\n",
    "start = timer()\n",
    "for i in range(0, 3906):\n",
    "    strings = df['canonical_smiles'].iloc[i]\n",
    "    df['Own_OneHotEncoding'].iloc[i] = smiles_encoder(strings, len(strings))\n",
    "end = timer()\n",
    "df.head() # NBVAL_CHECK_OUTPUT"
   ]
  },
  {
   "cell_type": "code",
   "execution_count": 10,
   "metadata": {},
   "outputs": [
    {
     "name": "stdout",
     "output_type": "stream",
     "text": [
      "0.6709211000000002 secs\n"
     ]
    }
   ],
   "source": [
    "# Print time required for execution\n",
    "smiles_encoder_Time = end - start\n",
    "print(str(smiles_encoder_Time) + ' secs') # NBVAL_CHECK_OUTPUT"
   ]
  },
  {
   "cell_type": "markdown",
   "metadata": {},
   "source": [
    "#### Visualization with Matplotlib.imshow() function"
   ]
  },
  {
   "cell_type": "markdown",
   "metadata": {},
   "source": [
    "`Matplotlib` is a plotting library for the python programming language and `Pyplot` is a state-based interface to a matplotlib module which provides a MATLAB-like interface.\n",
    "The [imshow()](https://matplotlib.org/3.2.1/api/_as_gen/matplotlib.pyplot.imshow.html) function in pyplot module of matplotlib library is used to display data as an image i.e. on a 2D space.\n",
    "\n",
    "Now we can visualize our one hot encoded matrix using imshow() function as described above."
   ]
  },
  {
   "cell_type": "code",
   "execution_count": 11,
   "metadata": {
    "scrolled": true
   },
   "outputs": [
    {
     "data": {
      "image/png": "[encoded data removed]",
      "text/plain": [
       "<Figure size 432x288 with 2 Axes>"
      ]
     },
     "metadata": {
      "needs_background": "light"
     },
     "output_type": "display_data"
    },
    {
     "data": {
      "text/plain": [
       "(56, 49)"
      ]
     },
     "execution_count": 11,
     "metadata": {},
     "output_type": "execute_result"
    }
   ],
   "source": [
    "# Visualization of first one hot encoded matrix using matplotlib imshow() function\n",
    "First_OneHotEncoded_matrix1 = df.iloc[0]['Own_OneHotEncoding']\n",
    "im = plt.imshow(First_OneHotEncoded_matrix1, cmap='hot', interpolation='None')\n",
    "plt.colorbar(im, orientation='horizontal')\n",
    "plt.xlabel('Length of individual string')\n",
    "plt.ylabel('Possible char in SMILES (56)')\n",
    "plt.title('Visualization of one hot encoded matrix')\n",
    "# plt.axis('auto')\n",
    "plt.show() # NBVAL_CHECK_OUTPUT\n",
    "\n",
    "# Check dimension of the one hot encoded matrix\n",
    "First_OneHotEncoded_matrix1.shape # NBVAL_CHECK_OUTPUT"
   ]
  },
  {
   "cell_type": "code",
   "execution_count": 12,
   "metadata": {},
   "outputs": [
    {
     "data": {
      "image/png": "[encoded data removed]",
      "text/plain": [
       "<Figure size 432x288 with 2 Axes>"
      ]
     },
     "metadata": {
      "needs_background": "light"
     },
     "output_type": "display_data"
    },
    {
     "data": {
      "text/plain": [
       "(56, 52)"
      ]
     },
     "execution_count": 12,
     "metadata": {},
     "output_type": "execute_result"
    }
   ],
   "source": [
    "# Visualization of another one hot encoded matrix using matplotlib imshow() function\n",
    "Next_OneHotEncoded_matrix2 = df.iloc[1]['Own_OneHotEncoding']\n",
    "im = plt.imshow(Next_OneHotEncoded_matrix2, cmap='hot', interpolation='None')\n",
    "plt.colorbar(im, orientation='horizontal')\n",
    "plt.xlabel('Length of individual string')\n",
    "plt.ylabel('Possible char in SMILES (56)')\n",
    "plt.title('Visualization of one hot encoded matrix')\n",
    "# plt.axis('auto')\n",
    "plt.show() # NBVAL_CHECK_OUTPUT\n",
    "\n",
    "# Check dimension of the one hot encoded matrix\n",
    "Next_OneHotEncoded_matrix2.shape # NBVAL_CHECK_OUTPUT"
   ]
  },
  {
   "cell_type": "markdown",
   "metadata": {},
   "source": [
    "- As we have noticed from above visualizations, all the one hot encoded matrix of SMILES strings have unequal dimension because it calculates the individual string length and return one hot encoded matrix, but its better to make the dimension equal for all the SMILES strings for better performance of ML models. In order to achieve this first, we searched for the string with maximum Length using [len()](https://www.geeksforgeeks.org/python-string-length-len/) method.\n",
    "- By implementing the above method, we can get the maximum length of the SMILES strings and pass that an argument in our function for all the strings.\n",
    "\n",
    "-----\n",
    "\n",
    "- Second, in the above function, we have created a dataset of 56 possible SMILES characters, but to optimize our one hot encoding, we reconsidered using all the 56 characters.\n",
    "- We can assume that all the characters won't be present in our SMILES structures, so we looked for all the unique characters present in the SMILES.\n",
    "\n",
    "------\n",
    "- Third, I would like to point out that many elements in our periodic table have two alphabets in their name for example 'Cl(Chloride)' and thats commonly present in our SMILES structure but if we use the above `smiles_encoder` function then we will be splitting Cl into two characters 'C' and 'l' and that would lead to discrepancies, so searching this way for each unique characters and encoding them may not be the best possible way.\n",
    "- Hence, we tried searching for all the two alphabetic element in our SMILES by comparing the elements present in our strings with all the possible elements present in the periodic table and replaced all the two alphabetic elements with one character, for example 'Cl' changed to 'L'."
   ]
  },
  {
   "cell_type": "markdown",
   "metadata": {},
   "source": [
    "### Function defined to pre-process the SMILES data"
   ]
  },
  {
   "cell_type": "code",
   "execution_count": 13,
   "metadata": {},
   "outputs": [],
   "source": [
    "# Create function used to preprocessed the data\n",
    "def Preprocessing_Data(df):\n",
    "    \"\"\"Function is define to preprocess the SMILES structures.\n",
    "    Parameters\n",
    "    -----------\n",
    "         df: dataframe which requires preprocessing\n",
    "    Returns\n",
    "    -----------\n",
    "         df: dataframe with new processed_canonical_smiles column\n",
    "         unique_char: list with unique characters present in SMILES\n",
    "         max_len: maximum length of strings of canonical_smiles column\n",
    "    \"\"\"\n",
    "    \n",
    "# Calculate max length of the SMILES strings\n",
    "    max_len = df[\"canonical_smiles\"].str.len().max()\n",
    "    \n",
    "# Search for unique characters in our SMILES strings\n",
    "    unique_char = set(df.canonical_smiles.apply(list).sum())\n",
    "    upper_chars = ['C', 'O', 'F', 'P', 'N', 'S', 'H', 'B', 'I']\n",
    "    lower_chars = ['l', 'o', 'r', 'n', 'e', 'c', 's']\n",
    "    \n",
    "# List of all possible periodic elements\n",
    "    Periodic_Elements = ['Ac',\n",
    "                         'Al', 'Am', 'Sb', 'Ar', 'As', 'At', 'Ba',\n",
    "                         'Bk', 'Be', 'Bi', 'Bh', 'B', 'Br', 'Cd', 'Ca',\n",
    "                         'Cf', 'C', 'Ce', 'Cs', 'Cl', 'Cr', 'Co', 'Cn',\n",
    "                         'Cu', 'Cm', 'Ds', 'Db', 'Dy', 'Es', 'Er', 'Eu',\n",
    "                         'Fm', 'Fl', 'F', 'Fr', 'Gd', 'Ga', 'Ge', 'Au',\n",
    "                         'Hf', 'Hs', 'He', 'Ho', 'H', 'In', 'I', 'Ir',\n",
    "                         'Fe', 'Kr', 'La', 'Lr', 'Pb', 'Li', 'Lv',\n",
    "                         'Lu', 'Mg', 'Mn', 'Mt', 'Md', 'Hg', 'Mo',\n",
    "                         'Mc', 'Nd', 'Ne', 'Np', 'Ni', 'Nh', 'Nb',\n",
    "                         'N', 'No', 'Og', 'Os', 'O', 'Pd', 'P',\n",
    "                         'Pt', 'Pu', 'Po', 'K', 'Pr', 'Pm', 'Pa',\n",
    "                         'Ra', 'Rn', 'Re', 'Rh', 'Rg', 'Rb', 'Ru', 'Rf',\n",
    "                         'Sm', 'Sc', 'Sg', 'Se', 'Si', 'Ag', 'Na',\n",
    "                         'Sr', 'S', 'Ta', 'Tc', 'Te', 'Ts', 'Tb', 'Tl', 'Th',\n",
    "                         'Tm', 'Sn',\n",
    "                         'Ti', 'W', 'U', 'V', 'Xe', 'Yb', 'Y', 'Zn', 'Zr']\n",
    "    \n",
    "# 'TwoCharcElements' is a list that contains 2 letter elements\n",
    "# which are valid when compared with all the possible periodic elements.\n",
    "    TwoCharcElements = []\n",
    "    for upper in upper_chars:\n",
    "        for lower in lower_chars:\n",
    "            ch = upper + lower\n",
    "            if(ch in Periodic_Elements):\n",
    "                TwoCharcElements.append(ch)\n",
    "                \n",
    "# 'TwoCharElementsSmiles' is a set that contains all the possible 2 letter elem\n",
    "# in our SMILES strings, that is *specific* to our dataset.\n",
    "    TwoCharElementsSmiles = set()\n",
    "    for x in TwoCharcElements:\n",
    "        for i in range(0, 3906):\n",
    "            if(df['canonical_smiles'].iloc[i].find(x) != -1):\n",
    "                TwoCharElementsSmiles.add(x)\n",
    "# Create a new column having processed canonical SMILES\n",
    "    df['Processed_canonical_smiles'] = \"\"\n",
    "    \n",
    "# Replaced all the two letter elements found (Cl, Br, Cn, Se, @@) with one char\n",
    "    for i in range(0, 3906):\n",
    "        element = df['canonical_smiles'].iloc[i]\n",
    "        element = element.replace(\"Cl\", \"L\")\n",
    "        element = element.replace(\"Br\", \"R\")\n",
    "        element = element.replace(\"Cn\", \"X\")\n",
    "        element = element.replace(\"Se\", \"Z\")\n",
    "        element = element.replace(\"@@\", \"$\")\n",
    "        df['Processed_canonical_smiles'].iloc[i] = element\n",
    "    unique_char = set(df.Processed_canonical_smiles.apply(list).sum())\n",
    "    return unique_char, df, max_len"
   ]
  },
  {
   "cell_type": "markdown",
   "metadata": {},
   "source": [
    "**Note:** This function is highly specific to the above dataset used, because we have replaced 2 letter elements that are particularly found in the used dataset. One can add more 2 letter elements present in their specific SMILES."
   ]
  },
  {
   "cell_type": "markdown",
   "metadata": {},
   "source": [
    "### Apply one hot encoding using own implementation on preprocessed data\n",
    "\n",
    "Now we have used the same function 'smiles_encoder' but on processed canonical strings.\n"
   ]
  },
  {
   "cell_type": "code",
   "execution_count": 14,
   "metadata": {},
   "outputs": [],
   "source": [
    "# Create new column which has one hot encoded SMILES using unique characters\n",
    "df['UniqueChar_OneHotEncoding'] = \"\"\n",
    "\n",
    "# Calling function\n",
    "unique_char, df, max_len = Preprocessing_Data(df)"
   ]
  },
  {
   "cell_type": "code",
   "execution_count": 16,
   "metadata": {},
   "outputs": [],
   "source": [
    "# Create dictionary of the unique char datset\n",
    "smi2index = dict((c, i) for i, c in enumerate(unique_char))\n",
    "\n",
    "\n",
    "# Function defined to create one hot encoded matrix\n",
    "def smiles_encoder(smiles, maxlen):\n",
    "    \"\"\"Function defined using all unique characters in our\n",
    "       processed canonical pmiles structures created\n",
    "       from preprocessed function.\n",
    "    Parameters\n",
    "    ----------\n",
    "        smiles(string): smile data in string\n",
    "        maxlen(int): max length of the SMILES string\n",
    "    Returns\n",
    "    ----------\n",
    "        ndarray: return one hot encoded matrix with fixed dimension\n",
    "    \"\"\"\n",
    "    smilesMatrix = np.zeros((len(unique_char), maxlen))\n",
    "    for i, c in enumerate(smiles, 0):\n",
    "        smilesMatrix[smi2index[c], i] = 1\n",
    "    return smilesMatrix"
   ]
  },
  {
   "cell_type": "code",
   "execution_count": 17,
   "metadata": {},
   "outputs": [
    {
     "data": {
      "text/html": [
       "<div>\n",
       "<style scoped>\n",
       "    .dataframe tbody tr th:only-of-type {\n",
       "        vertical-align: middle;\n",
       "    }\n",
       "\n",
       "    .dataframe tbody tr th {\n",
       "        vertical-align: top;\n",
       "    }\n",
       "\n",
       "    .dataframe thead th {\n",
       "        text-align: right;\n",
       "    }\n",
       "</style>\n",
       "<table border=\"1\" class=\"dataframe\">\n",
       "  <thead>\n",
       "    <tr style=\"text-align: right;\">\n",
       "      <th></th>\n",
       "      <th>chembl_id</th>\n",
       "      <th>IC50</th>\n",
       "      <th>units</th>\n",
       "      <th>canonical_smiles</th>\n",
       "      <th>pIC50\\r</th>\n",
       "      <th>2D_Figures</th>\n",
       "      <th>Own_OneHotEncoding</th>\n",
       "      <th>UniqueChar_OneHotEncoding</th>\n",
       "      <th>Processed_canonical_smiles</th>\n",
       "    </tr>\n",
       "  </thead>\n",
       "  <tbody>\n",
       "    <tr>\n",
       "      <th>1777</th>\n",
       "      <td>CHEMBL207869</td>\n",
       "      <td>77.0</td>\n",
       "      <td>nM</td>\n",
       "      <td>Clc1c(OCc2cc(F)ccc2)ccc(Nc2c(C#Cc3ncccn3)cncn2)c1</td>\n",
       "      <td>7.113509</td>\n",
       "      <td><img data-content=\"rdkit/molecule\" src=\"data:image/png;base64,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\" alt=\"Mol\"/></td>\n",
       "      <td>[[0, 0, 0, 0, 0, 0, 0, 0, 0, 0, 0, 0, 0, 0, 0,...</td>\n",
       "      <td>[[0.0, 0.0, 0.0, 0.0, 0.0, 0.0, 0.0, 0.0, 0.0,...</td>\n",
       "      <td>Lc1c(OCc2cc(F)ccc2)ccc(Nc2c(C#Cc3ncccn3)cncn2)c1</td>\n",
       "    </tr>\n",
       "    <tr>\n",
       "      <th>5785</th>\n",
       "      <td>CHEMBL3940060</td>\n",
       "      <td>330.0</td>\n",
       "      <td>nM</td>\n",
       "      <td>ClCC(=O)OCCN1C(=O)Oc2c1cc1c(Nc3cc(Cl)c(F)cc3)n...</td>\n",
       "      <td>6.481486</td>\n",
       "      <td><img data-content=\"rdkit/molecule\" src=\"data:image/png;base64,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\" alt=\"Mol\"/></td>\n",
       "      <td>[[0, 0, 0, 0, 0, 0, 0, 0, 0, 0, 0, 0, 0, 0, 0,...</td>\n",
       "      <td>[[0.0, 0.0, 0.0, 0.0, 0.0, 0.0, 0.0, 0.0, 0.0,...</td>\n",
       "      <td>LCC(=O)OCCN1C(=O)Oc2c1cc1c(Nc3cc(L)c(F)cc3)ncn...</td>\n",
       "    </tr>\n",
       "    <tr>\n",
       "      <th>6373</th>\n",
       "      <td>CHEMBL3678951</td>\n",
       "      <td>1.0</td>\n",
       "      <td>nM</td>\n",
       "      <td>FC(F)(F)c1cc(Nc2n(C(C)C)c3nc(Nc4ccc(N5CC[NH+](...</td>\n",
       "      <td>9.000000</td>\n",
       "      <td><img data-content=\"rdkit/molecule\" src=\"data:image/png;base64,iVBORw0KGgoAAAANSUhEUgAAAMgAAADICAIAAAAiOjnJAAAABmJLR0QA/wD/AP+gvaeTAAAZbUlEQVR4nO2de1hU1drA35nhDnK/iYACaqkhJWkCUSr6dExRM6SUpowUzRA9efrwePycrE568mj4pBLlyQ863g2VvD2hHgwVRDxpmihXL4AzgFwSARlm3u+PhRMpl5m9ZwHp+/vDZ8S91n7H+bH22nu97xoJIgJBGBtpTwdAPJqQWAQXSCyCCyQWwQUSi+ACiUVwgcQiuEBiEVwgsQgukFgEF0gsggskFsEFEovgAolFcIHEIrhAYhFcILEILpBYBBdILIILJBbBBRKL4AKJRXCBxCK4QGIRXCCxCC6QWAQXSCyCCyQWwQUSi+ACiUVwgcQiuEBiEVwgsQgukFgEF0gsggskFsEFEovgAolFcIHEIrhAYhFcILEILpBYBBdILIILJBbBBRKL4AKJRXCBxCK4QGIRXCCxCC6QWAQXSCyCCyQWwQUSi+ACiUVwgcQiuEBiEVwgsQgukFgEF0gsggskFsEFEovgAolFcIHEIrhAYhFcILEILpBYxuTwYQCAwkIoLOzpUHoaEsuY5OdDYSEUFPR0HL0AEsvIFBRAfn5PB9ELILFaMdZVbOJEGDzYKBH9sZEgYk/H0JPcuwdbt4JUCnV1AACDB8OgQdC/P5ia9nRkf3Ae3xHr119h/Xrw84N33oGlS0GthsGDYd8+uH4dfH1h504hfdLkXcfjKFZxcfHSpSoPD1i8GMrKYMQIWLcOZDKYOBEAYNs2KC2F11+Hd9+FxkYDuj15Eq5ehfXrafIOAAD4OJGbmyuXy01MTF588QMADAnBtDTUan93jFaLSUloZYUA+OST+N//dtGnRoNpaTh6NALg3Ll46BDGxGBBAaam4vbt/N5Kb+exEEur1aampoaEhLDfJXNz8/fe+/OlS+0fnJ2NM2diZiYOHYoAOGZMfkJCgvYB+xARsa5Os3YtensjAAKgmxvK5YiIMTGYlYUODgiAb72Fv/5qWLTFxcXx8fELFiyIiorKz8839M32Eh4LsfLz8wcPHgwAtra2cXFxpaWlHR2p1eIzzyAAentjejouWXLXxsYdACZOnKhUKnWH3bp1S6FQPPHEWDMzBMCBAzEhARsaftdVcjJaWyMADhiAJ0/qFWd2dnZERIRMJgMA9qeNjc0333wj8G33KI+FWGPGjAGA2NjY+vr6Lg8uKmq9rllY4KpVWw4ePOju7g4ALi4u33///U8//fTGG2+Y3r9pjI7OO3DgwYupjry8Vk1NTXHDhoMajabdwzQaTVpa2vjx41mfZmZmcrk8KytLLpezn0yfPv327dti/ge6n8dCLDZcXb58Wc/j1WpcvhzHjDkIAKNGjTp16lRYWBgASCQS9kmbmJjMnDnz3LlzXXbV3IwKBQYFpQLA2LFjb9682fZfm5qakpOThwwZwrplA6rumJMnT+7cudPBwQEAvLy8Tpw4Yegb70EeC7H69OkDACdOnPDz84uOjtaz1YkTJ7y8vNjnnZWV9f7779vb21tbW8fFxV27ds2gAH74IZ0Ne05OTqmpqYhYUVGhUCicnZ2ZUj4+PgkJCW0H1MzMTJlMNm7cuOzs7Oeffx4ApFJpXFxcc3OzQafuKR59se7cuQMAlpaW+/fvB4BJkybp37a2tnbWrFnDhg1raGg4dOgQAEyYMEFYGCqVatKkSUyjgIAACwsL9nr06NG7d+9uaWl54Pj09HRXV1cAcHZ2Tk1NVSgUbNY1atSogoICYTF0JwaLdaq2dptKtU2l4hEND65evQoAfn5+iYmJADB37lxDe6iurkbEzZs3A8Ds2bPFBJOcnGxubu7t7S2VSidPnpyent7JwRUVFToX5XL58ePHfX192QiakpIiJoxuwGCx/kBKMTIyMgDg+eefX7FiBQCsWLFCWD8fffQRACxbtkxkPKGhoQCwefNmfQ7WarVJSUmWlpYAMGTIkMzMzFmzZjHVZsyYwYzvnQh58n66ru7mvXsCGvYI5eXlAODh4XHr1i0A6Nu3r7B+RDbXUVNTAwD+/v4///xzRUVF5wdLJJKYmJizZ88OHz48Ly9v/Pjxw4cP//rrr62trffu3Xvp0iWRwfBDiFjBdnZSgOtNTUaPhgc6IdgLDw8PoT31HTx4eL9+vkaJp6GhISAgYNy4cfo0GTZsWFZW1rx58+7du7dp06bIyEg2LZszZ47IYPhhsFgzXV3Ta2pe+eWX9WVlPAIyOjqx2NAleMg5d+5/8/MvuLu/LCaY5ubm6upqU1PTpqYmg4KxsrL68ssv9+7du3XrVltbW3Nzc4Oadz8mAtqM6tPHXCLJrK0taWryuX9302sx3qUQAEDkR3nr1i1EdHNzEzZ8Tps2jb3QvSlR0fBEyKXQzsTkZScnBNje1RShN8A+Qnd394qKCqlU6ubmJqATRFCpQCIBd3dRwRjL8t4vlpARCwCi3Nz2VlYeqKqa37evox5Jcafr6q7fuwcAM11dhZ1RMOwzcHBwmDVrVkNDg6mgFL6qKmhuBkdHEDlAPzDh6/E7CX4IFMvb3DzU3j5bqUzNzJzT8Qz0rkazt6rqnlZrJZN1v1IAgIilpaUAMHDgwJSUFMH9lJcDAIgfIB4YsQQPOb1fLOGJfjMlksvh4ctef72xvXQ4VXPz+tLSly9eTCgt/T+lskmr7f6HFFVVVeHh4RKJxMLC4u233759+7bgrjw9ISUFli8XG5Kx7iR6/6VQuFjP+vo++cQTlZWVycnJbX/+0/nziuLiqZcufatS3dVoRvbps9rX11wqDbaz8zI3Fx2wvhw/fjwgIODgwYMymczExGTfvn0BAQHHjx/Xp21RESxaBO+999tPcnJALofAQLE5x4/PpVDUWuGuXbsAYNCgQSwhJDMzc/LkyRKJJCojY2Ru7uKCgot6pKkYHbW6Zfny5VKpFABefPHF0tLSGzduvPDCCwAgkUji4uLu3bvXUduTJ69MmYJSaWvaTE0NNjRgUxMmJGBCAh46hCKX6V566SUAOHDgAFsrvHv3rrB+rK2tAeBXQ3MIuxFRYrW0tPj5+QFAbGzssGHDmKm2trarv/5a2fGHx5UbN/CFF3DUqE9kMplCodAt7mo0moSEBDZzf/bZZ69evdq2FcuICgoKkslM+/dvNjdHuRwzM3H1avTwwI0bW61iOcdiGD58OADk5ubu3bs3MTFRWCe1tbUAYGNjIyoUzogS6/bt25MnT9YNfl5eXv/85z/r6uqMFZyh7NuHjo4IgE89pT5x4seHDzhz5szAgQMBwNLSMiEhQfdz3Vqvi4vL55+fOn0aY2LQwqI153jmTGTHiheL5cn8t8tE+g5gV4a8vDx2oRAVCmcEilVYWBgbG8sGZMbKlSt7MFWoqQnj4lAiQQCcMAHbZBE/SF1dnS4z89VXX2WZmcnJyX5+fgkJCUeOHHnlldecnLQAKJXi1Kn4Yzt+Cmf//v1SqdTR0XHPnj36t2IDanBw8IYNGxDx2LFj7CpvzMiMjcFi/VxfL587l+UGSSSSl19+ma23R0ZG8ohPT7ZsQQA0N8fPP+8wUbgtu3btsre3h/uZmU1NTdu3bx85ciQTbsKEjPnzkUcdQ2Vl5ZQpU9hZ5HL5nTt3Oj/+zp0769ev9/HxYU2CgoIQcc2aNQAwZcoU48dnPPQVS4N4orb23fz8wNzcGYmJLC/74sWLiKhUKi0sLGQyWWFhIc9Q2+HQIUTEggLMz8f33sPcXAPaFhUVPffccwAgk8lcXFzYJ+fq6rpy5crKykpOATOSk5PZYP/EE090lN+sVCoVCoWjoyMLjA2o6enpM2bMkEql/fv3t7S0TEpK4hqnGLoWq1Gj2V1R8crFi4G5uYG5uWPPn/+qsJCteel4++23ASAuLo5bnO0j8mZNrVb/9a9/NTMzs7OzGzhwYEJCguDbNEO5fPny008/DQAmJiYKhaJtnUV+fv7s2bPNzMyYUqGhoampqTt27NANqJaWlro0+aioKMGT2ofTVo1IZ2KxZNF/3LjBlAq/eHGbStXQXqnJxYsXJRKJtbV1VVUVt1DbQfzN2vbt2wFg1KhRHZXQ8KOxsTE+Pp49FgkLC9MVpbEpFEsxPXbsWFJS0uD724y4uLjEx8eXl5cj4jfffGNjYwMAPj4+p05lGXTqkpKS+Pj4QYMGRUVFtb2JMSKdiaVLFv342rVj1dWaTicvf/rTnwDg008/NWZ0XcH+T955B7/7TmAPkZGRAPD5558bMSqD+OGHH9hzTmdn5/3797Mfrlq1Kicn5+FL4QMDaklJSXBwsEQife45pUKB+gxAOTk5kZGRuiky65xHeVkXYp2qrb3R1KRPR+np6QDg5ubW2NhopNj0orYWbW3Rygrv3MGsLFyxQq/JO6OpqYkV8BQXF/OMsQva1lnI5fKcnJyYmBhdtUVISMiuXbs6umw1Nzf/4x+n2RPd0FC8fr39U2g0uH8/RkdvY32amZm99dZbFy5c2LNnD3PXzc3tyJEjRnxTeo1YevLMM88AwJYtW0RFZDghIQiAO3a0VrufOaNvw7S0NAAIDAzkGZ1eaLXadevWsfQ9NpCYmJhERkbm5OTo0/z4cfT0RAC0tcWtW3/3T01NmJzcul2Ajc2vnp7ebUsXEfH69et6LksYhDHLv1j6wFNPPdXuTgf8SEhAAIyIwMWLEQD/8hd9Gy5blh4Q8OInn3Tr5bsTfvrpp5kzZ7722muLFi0qKSkxqG1VFU6bhgDo6oq62fzXX6OLS+tjXh8fXL8e79xpZyrZ0tKyevVq3bKEUTaMMKZYzc3N3t7eAGDcQbVLSktRIkErKzx6FAHQy0uvq2FLCzo7IwDqXSD9ByAxEQ8d+u0pzGefIQCOGIHJyahWd9H2zJkzbIGuT58+4h9kGLlg9bPPPgMRVZ2CCQpCANy9uyU8/PxTT83JyTnbZZNjxxAABw/uhui6G91TmMuXMTPTgIZ1dXVvvPGGbllCTHmZ7MMPPwTj4e/vn5iYePny5aqqqsrKSqVS2djYKJVK2y7+8ECrvVJc/D9VVbs8PfO//z7RwcFhwoQJnTdZtw5ycmDePAgL4xpaD3DmTOvuhKGh8PTTBjQ0NzefPn26j4/PsWPHzp8/v3PnzpEjR7KrkMEIVrJdNBqNn5/fwwloZmZmXl5eQUFB06ZNi42N/fjjj7ds2XLw4MGGB/b+EcrNmzclEomVlRW7OfXx8el8nqfVopcXAuDZroe2Px7Ll2NeHr7zjvDHeyUlJWw7sY8//ljYdN7IYq1cuRIAnJ2d4+Li5HL5+PHjhw0bxvZLaZdPP/1U2cmKsSGw9Zk9e/Z4eHjY2Nh0PvktLkYHB31nY384IiJab5PF0NzcbGdnBwBlZWUCmgvMeW+Xs2fPfvLJJ1KpdMeOHWFhYUlJSSUlJR4eHn379nVycpLJZBqNprq6ury8/NatW+Xl5UePHl22bFljYyOrXhfJjBkzzpw589133x0+fHjQoEGsLL0jfHxApYLiYrj/jPCRwiiVahKJpL6+XiqVugoqVjDadtz19fUjRowoKChYunTpqlWrACAsLOzhVGB7e3sPD4/AwMCUlJTTp0+HhIQ4OjreuHFD/CTs5s2b/fv3NzMzi42NNTH57RfG1PQjtbp13a2xEczMYNw4mDixNcl44ECRp+2N+PpCSQkUFIh6d2VlZZ6enu7u7iwN2lCMNmLNnz+/oKAgMDCQXQ0BIC4ubty4cUqlsqysTKVSlZaWqlSq2tra2tpaJycnAAgODg4KCsrKykpOTl6wYIHIACwtLe3t7S0sLNauXdv2505On7atonBzA09PyM9v3dL9kUSpBACxJZAi0+qNI1ZKSsrWrVutra23bt2qW5afOnXq1KlTHziyqqpKqVRqtVr21yVLlkRERKxdu3bevHlsAUsYiBgdHV1TUzNkyJC4uDhJmyucqWmLbsSysABHR6iubr1p+uADwSfsvVRXQ2Mj2NmBjY2ofsQWAoma4CEiYlFRka2tLQhazNFoNCxXmO1zJ5gNGzYAgL29vT577enyjDMycPnyR23+fvnytdDQOTNmbBDZT1IS2tj8umiRwF2rxIqlVquDgoIA4NVXXxXWwxdffAEAISEhgmP45Zdf2FR9hyE3Qmo1+vggAH7xheAz90bYA5exY8eK7EehQAAUupuYaLH+9re/AYCnp6fgvIu7d++yKdfp06cFNG9sxMjI/TY2febMmWNo2z17WhOahRY39EZYmWdUVJTIfubORQAUWkkkTqwff/xRJpNJpdL//Oc/YvphdkZERAhoGxfHtvkv1Ger7YeZP791o/ZeXKJnGKtXrwaAv+i/FN8BkycjAO7bJ7C5cLFqamrYpsKCN1/UoVKpWNa8odu2Hj6MEgmamhqQKvMADQ3o748AGB9v1HKcnmPRokUAsHbtWpH9jBiBAKhf2k47iBIrPDy8X79+rOqrSb98wI6Ijo4GgNjYWP2bqFTo7o4AuGaNmDPj5cs4dmwMAHz77beiOuodvPnmmwCwcOFCkf0cPYpJSSh4GVq4WNeuXTMxMTE1Nb1x48af//xnR0dHYc/+GXl5eVKp1MrKSv+s+fffb60iFJ+tznZEtrGxuXLlip5NRP4i8UOpVLLKttmzZ/dgDb6oOdZrr70GAPHx8ezF0qVLBXSiup+nyr7zY9iwYXPmzFEoFImJiWlpaefOXSsraz+XqLkZP/oIy8vFvIPfiIqKAoDhw4e3Ta2urq6+dOlSenp6UlKSQqGIiYkZP3780KFD+/Tps3z5cuOcmAO68rIBAwacOnXK0Oa6dK6CgtbXAhAl1tmzZwHA1taWbXnt4ODQZQXmAxQVFdnZ2S1atEitVgcHB7NVz7aMGXOYFSW7u+Mzz+CkSa0XvrZvm70WSV1dHUtzGzp0aGhoqK+vr3mne+O8++67Yk/Jk7y8PJYpzsrL9K/0unfvd0V1gv9jReVjeXh4ZGRk5OfnBwQENDY2Xr161c3NbfTo0Xo2b2lpCQ8PLyws9PT0VCqVmzdvtrCw2LRp08SJEwMDAwcNGtS3b18XlylVVe5378KdO6BUQkEB+PpCURFIJODkBNnZ4OwMBQXg5AT361kEYm5u7uXldejQIaVSee3atZqaGo1G4+Dg4OvrGxAQEBISMnHixDfffDMmJmbJkiVr1qyZPn26qPNxxtnZOTo6WiqVnjhxIiMjIzMzMywsjD3HbhetFg4cgOhouHQJHB1bVyZCQlpXG+/ehfvrKXojUMj7sHqE/v37p6amAsCAAQPUXebA3kf3DOzkyZPsCee+Du5u1WosK8OcHExLw7///bdaQvaLlZBghBELERcuXAgAYWFh7Lelm8uNOHH06FG2LGNnZ7e9vW/mrK/HL75AX9/W1PgBA3DdOsQ2O6BUVqKXF8bHo0Fbc4gVS6vVsqrc7du3sxc7d+7Up6HuGdiRI0f8/f0BYMGCBfo0bLvxC3stftsqRKyrq2O/0BcuXBDbVy+joqIiPDycjSNyuVz3wE+lUikUCn//KTIZAqCvLyYk4MOl4Nu2ITsgOBj1r/AwwlphUlISADz77LNffvkle9Flk5qamv79+wPAihUr5s+fDwBDhw7ttvL2dmE7bXR/tn73wL46xcrKCgCefPLJ3bt3R0dH6yaRcnnx3r2d3VxnZLQm3NrZ4XfflehzRiOI1dTUxL4z7ejRo+zFj13t/cPuIkeOHLl//36JRGJubn7+/HnxkQimpaWF7ehy8ODBHgyDNz///DPbH4+V6cpksoiIiOzs7IePfPiuqLYWZ85Eb+9CG5s+M2bMqKmp6fxcxklNZncAU6ZM+fDDD01MTDp/7PvVV1+xS/7p06fZRmTr1683ShiC2b17N7TZ8/IRpqGh4YMPPti4cePChQuLioo6OoxNWx+eY6Sk7GMPMvz8/No1UodxxLp9+7a1tbVEIsnOzu48cUWj0bDb4H//+9/sa0tfeumlbi5wfRhWOLBp06aeDaP30Mld0ZUrV0aMGAEApqamnVyajFZMwaZKMTExXR5ZX1//r3/9i62Vurq6PrAjUveTm5sLAA4ODsKWsR9JOr8rUqvVCoVi9OjRnezhaLSc9/z8/CFDhlhZWZmamvbt25fVUDzwp6enJ8svPXfuXHBwsFqtTktLa7uLaY8QFRW1bdu2+Ph45jqhJ2q1urOv+TCi5ufPn++yuNHNzc3f358lYC1evNiIZxdGWVmZmZmZiYnJ9Y42aiEEYczyr4CAgOvXr9fU1OgKvB748+bNmyqVSqVSBQcHDxgwoDeMEBs3bmxubn799dcF1vsSHWC0S6E+aLValUqlVCqlUmlAQEC3nbcjGhsbvb29q6qqsrKy9F+JIvShW8XqbVy4cGHy5Mn9+vXLzs7u6VgeNR5rsQBArVbfunWLroNG53EXi+CE8G//IohOILEILpBYBBdILIILJBbBBRKL4AKJRXCBxCK4QGIRXCCxCC6QWAQXSCyCCyQWwQUSi+ACiUVwgcQiuEBiEVwgsQgukFgEF0gsggskFsEFEovgAolFcIHEIrhAYhFcILEILpBYBBdILIILJBbBBRKL4AKJRXCBxCK4QGIRXCCxCC6QWAQXSCyCCyQWwQUSi+ACiUVwgcQiuEBiEVwgsQgukFgEF0gsggskFsEFEovgAolFcIHEIrhAYhFcILEILpBYBBdILIILJBbBBRKL4AKJRXCBxCK4QGIRXCCxCC6QWAQXSCyCCyQWwQUSi+ACiUVwgcQiuPD/uT3uHQuI+fcAAAAASUVORK5CYII=\" alt=\"Mol\"/></td>\n",
       "      <td>[[0, 0, 0, 0, 0, 0, 0, 0, 0, 0, 0, 0, 0, 0, 0,...</td>\n",
       "      <td>[[0.0, 0.0, 0.0, 0.0, 0.0, 0.0, 0.0, 0.0, 0.0,...</td>\n",
       "      <td>FC(F)(F)c1cc(Nc2n(C(C)C)c3nc(Nc4ccc(N5CC[NH+](...</td>\n",
       "    </tr>\n",
       "    <tr>\n",
       "      <th>2442</th>\n",
       "      <td>CHEMBL504034</td>\n",
       "      <td>40.0</td>\n",
       "      <td>nM</td>\n",
       "      <td>Clc1c(OCc2cc(F)ccc2)ccc(Nc2ncnc3c2sc(C#C[C@H]2...</td>\n",
       "      <td>7.397940</td>\n",
       "      <td><img data-content=\"rdkit/molecule\" src=\"data:image/png;base64,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\" alt=\"Mol\"/></td>\n",
       "      <td>[[0, 0, 0, 0, 0, 0, 0, 0, 0, 0, 0, 0, 0, 0, 0,...</td>\n",
       "      <td>[[0.0, 0.0, 0.0, 0.0, 0.0, 0.0, 0.0, 0.0, 0.0,...</td>\n",
       "      <td>Lc1c(OCc2cc(F)ccc2)ccc(Nc2ncnc3c2sc(C#C[C@H]2N...</td>\n",
       "    </tr>\n",
       "    <tr>\n",
       "      <th>1084</th>\n",
       "      <td>CHEMBL158797</td>\n",
       "      <td>43000.0</td>\n",
       "      <td>nM</td>\n",
       "      <td>S(Sc1n(C)c2c(c1C(=O)NCC(O)CO)cccc2)c1n(C)c2c(c...</td>\n",
       "      <td>4.366531</td>\n",
       "      <td><img data-content=\"rdkit/molecule\" src=\"data:image/png;base64,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\" alt=\"Mol\"/></td>\n",
       "      <td>[[0, 0, 0, 0, 0, 0, 0, 0, 0, 0, 0, 0, 0, 0, 0,...</td>\n",
       "      <td>[[0.0, 0.0, 0.0, 0.0, 0.0, 0.0, 0.0, 0.0, 0.0,...</td>\n",
       "      <td>S(Sc1n(C)c2c(c1C(=O)NCC(O)CO)cccc2)c1n(C)c2c(c...</td>\n",
       "    </tr>\n",
       "  </tbody>\n",
       "</table>\n",
       "</div>"
      ],
      "text/plain": [
       "          chembl_id     IC50 units  \\\n",
       "1777   CHEMBL207869     77.0    nM   \n",
       "5785  CHEMBL3940060    330.0    nM   \n",
       "6373  CHEMBL3678951      1.0    nM   \n",
       "2442   CHEMBL504034     40.0    nM   \n",
       "1084   CHEMBL158797  43000.0    nM   \n",
       "\n",
       "                                       canonical_smiles   pIC50\\r  \\\n",
       "1777  Clc1c(OCc2cc(F)ccc2)ccc(Nc2c(C#Cc3ncccn3)cncn2)c1  7.113509   \n",
       "5785  ClCC(=O)OCCN1C(=O)Oc2c1cc1c(Nc3cc(Cl)c(F)cc3)n...  6.481486   \n",
       "6373  FC(F)(F)c1cc(Nc2n(C(C)C)c3nc(Nc4ccc(N5CC[NH+](...  9.000000   \n",
       "2442  Clc1c(OCc2cc(F)ccc2)ccc(Nc2ncnc3c2sc(C#C[C@H]2...  7.397940   \n",
       "1084  S(Sc1n(C)c2c(c1C(=O)NCC(O)CO)cccc2)c1n(C)c2c(c...  4.366531   \n",
       "\n",
       "                                             2D_Figures  \\\n",
       "1777  <img data-content=\"rdkit/molecule\" src=\"data:i...   \n",
       "5785  <img data-content=\"rdkit/molecule\" src=\"data:i...   \n",
       "6373  <img data-content=\"rdkit/molecule\" src=\"data:i...   \n",
       "2442  <img data-content=\"rdkit/molecule\" src=\"data:i...   \n",
       "1084  <img data-content=\"rdkit/molecule\" src=\"data:i...   \n",
       "\n",
       "                                     Own_OneHotEncoding  \\\n",
       "1777  [[0, 0, 0, 0, 0, 0, 0, 0, 0, 0, 0, 0, 0, 0, 0,...   \n",
       "5785  [[0, 0, 0, 0, 0, 0, 0, 0, 0, 0, 0, 0, 0, 0, 0,...   \n",
       "6373  [[0, 0, 0, 0, 0, 0, 0, 0, 0, 0, 0, 0, 0, 0, 0,...   \n",
       "2442  [[0, 0, 0, 0, 0, 0, 0, 0, 0, 0, 0, 0, 0, 0, 0,...   \n",
       "1084  [[0, 0, 0, 0, 0, 0, 0, 0, 0, 0, 0, 0, 0, 0, 0,...   \n",
       "\n",
       "                              UniqueChar_OneHotEncoding  \\\n",
       "1777  [[0.0, 0.0, 0.0, 0.0, 0.0, 0.0, 0.0, 0.0, 0.0,...   \n",
       "5785  [[0.0, 0.0, 0.0, 0.0, 0.0, 0.0, 0.0, 0.0, 0.0,...   \n",
       "6373  [[0.0, 0.0, 0.0, 0.0, 0.0, 0.0, 0.0, 0.0, 0.0,...   \n",
       "2442  [[0.0, 0.0, 0.0, 0.0, 0.0, 0.0, 0.0, 0.0, 0.0,...   \n",
       "1084  [[0.0, 0.0, 0.0, 0.0, 0.0, 0.0, 0.0, 0.0, 0.0,...   \n",
       "\n",
       "                             Processed_canonical_smiles  \n",
       "1777   Lc1c(OCc2cc(F)ccc2)ccc(Nc2c(C#Cc3ncccn3)cncn2)c1  \n",
       "5785  LCC(=O)OCCN1C(=O)Oc2c1cc1c(Nc3cc(L)c(F)cc3)ncn...  \n",
       "6373  FC(F)(F)c1cc(Nc2n(C(C)C)c3nc(Nc4ccc(N5CC[NH+](...  \n",
       "2442  Lc1c(OCc2cc(F)ccc2)ccc(Nc2ncnc3c2sc(C#C[C@H]2N...  \n",
       "1084  S(Sc1n(C)c2c(c1C(=O)NCC(O)CO)cccc2)c1n(C)c2c(c...  "
      ]
     },
     "execution_count": 17,
     "metadata": {},
     "output_type": "execute_result"
    }
   ],
   "source": [
    "# Iterate over the SMILES strings\n",
    "start = timer()\n",
    "for i in range(0, 3906):\n",
    "    strings = df['Processed_canonical_smiles'].iloc[i]\n",
    "    df['UniqueChar_OneHotEncoding'].iloc[i] = smiles_encoder(strings, max_len)\n",
    "end = timer()\n",
    "df.head() # NBVAL_CHECK_OUTPUT"
   ]
  },
  {
   "cell_type": "code",
   "execution_count": 18,
   "metadata": {},
   "outputs": [
    {
     "name": "stdout",
     "output_type": "stream",
     "text": [
      "0.8087137999999996 secs\n"
     ]
    }
   ],
   "source": [
    "# Print time required for execution\n",
    "smiles_encoder_eqDimen = end - start\n",
    "print(str(smiles_encoder_eqDimen) + ' secs') # NBVAL_CHECK_OUTPUT"
   ]
  },
  {
   "cell_type": "markdown",
   "metadata": {},
   "source": [
    "#### Visualization with Matplotlib.imshow() function"
   ]
  },
  {
   "cell_type": "code",
   "execution_count": 19,
   "metadata": {},
   "outputs": [
    {
     "data": {
      "image/png": "[encoded data removed]",
      "text/plain": [
       "<Figure size 432x288 with 2 Axes>"
      ]
     },
     "metadata": {
      "needs_background": "light"
     },
     "output_type": "display_data"
    },
    {
     "data": {
      "text/plain": [
       "(37, 267)"
      ]
     },
     "execution_count": 19,
     "metadata": {},
     "output_type": "execute_result"
    }
   ],
   "source": [
    "# Visualization of first one hot encoded matrix using matplotlib imshow() function\n",
    "First_OneHotEncoded_matrix3 = df.iloc[0]['UniqueChar_OneHotEncoding']\n",
    "im = plt.imshow(First_OneHotEncoded_matrix3, cmap='hot', interpolation='None')\n",
    "plt.colorbar(im, orientation='horizontal')\n",
    "plt.xlabel('Maximum length of string (267)')\n",
    "plt.ylabel('Length of unique characters (37)')\n",
    "plt.title('Visualization of one hot encoded matrix')\n",
    "# plt.axis('auto')\n",
    "plt.show() # NBVAL_CHECK_OUTPUT\n",
    "\n",
    "# Check dimension of the one hot encoded matrix\n",
    "First_OneHotEncoded_matrix3.shape # NBVAL_CHECK_OUTPUT"
   ]
  },
  {
   "cell_type": "code",
   "execution_count": 20,
   "metadata": {},
   "outputs": [
    {
     "data": {
      "image/png": "[encoded data removed]",
      "text/plain": [
       "<Figure size 432x288 with 2 Axes>"
      ]
     },
     "metadata": {
      "needs_background": "light"
     },
     "output_type": "display_data"
    },
    {
     "data": {
      "text/plain": [
       "(37, 267)"
      ]
     },
     "execution_count": 20,
     "metadata": {},
     "output_type": "execute_result"
    }
   ],
   "source": [
    "# Visualization of another one hot encoded matrix using matplotlib imshow() function\n",
    "Next_OneHotEncoded_matrix4 = df.iloc[1]['UniqueChar_OneHotEncoding']\n",
    "im = plt.imshow(Next_OneHotEncoded_matrix4, cmap='hot', interpolation='None')\n",
    "plt.colorbar(im, orientation='horizontal')\n",
    "plt.xlabel('Maximum length of string (267)')\n",
    "plt.ylabel('Length of unique characters (37)')\n",
    "plt.title('Visualization of one hot encoded matrix(own)')\n",
    "# plt.axis('auto')\n",
    "plt.show() # NBVAL_CHECK_OUTPUT\n",
    "\n",
    "# Dimension of the one hot encoded matrix\n",
    "Next_OneHotEncoded_matrix4.shape # NBVAL_CHECK_OUTPUT"
   ]
  },
  {
   "cell_type": "markdown",
   "metadata": {},
   "source": [
    "From the above visualizations, we can conclude that the dimensions are equal for all the string's one hot encoded matrix using `Preprocessing_Data` and `smiles_encoder` function."
   ]
  },
  {
   "cell_type": "markdown",
   "metadata": {},
   "source": [
    "### Apply One Hot encoding using implementation in Scikit-learn"
   ]
  },
  {
   "cell_type": "markdown",
   "metadata": {},
   "source": [
    "Now, we proceed with our second implementation of one hot encoding from scikit-learn. We can use [OneHotEncoder](https://scikit-learn.org/stable/modules/generated/sklearn.preprocessing.OneHotEncoder.html) from SciKit library but it only takes numerical categorical values, hence any value of string type should be [label_encoded](https://scikit-learn.org/stable/modules/generated/sklearn.preprocessing.LabelEncoder.html) first before one hot encoded."
   ]
  },
  {
   "cell_type": "code",
   "execution_count": 21,
   "metadata": {},
   "outputs": [],
   "source": [
    "# Split the SMILES into characters\n",
    "def split(stringData):\n",
    "    \"\"\"Function used to split the SMILES strings into characters array\n",
    "    Parameters\n",
    "    ----------\n",
    "         stringData(string): string\n",
    "    Returns\n",
    "    ----------\n",
    "         array: return character array\n",
    "    \"\"\"\n",
    "    return [char for char in stringData]"
   ]
  },
  {
   "cell_type": "code",
   "execution_count": 22,
   "metadata": {},
   "outputs": [],
   "source": [
    "# Use Scikit-learn implementation of one hot encoding\n",
    "def sklearn_OneHotEncode(canonical_char):\n",
    "    \"\"\"Function used to label and one hot encode the SMILES\n",
    "       using sklearn LabelEncoder and OneHotEncoder implementation\n",
    "    Parameters\n",
    "    ----------\n",
    "          canonical_char(array): Canonical character array\n",
    "    Returns\n",
    "    -------\n",
    "          ndarray: return one hot encoded matrix\n",
    "    \"\"\"\n",
    "    # integer encoding\n",
    "    label_encoder = LabelEncoder()\n",
    "    integer_encoded = label_encoder.fit_transform(canonical_char)\n",
    "    # One Hot encoding\n",
    "    onehot_encoder = OneHotEncoder(sparse=False)\n",
    "    integer_encoded = integer_encoded.reshape(len(integer_encoded), 1)\n",
    "    onehot_encoded = onehot_encoder.fit_transform(integer_encoded)\n",
    "    return onehot_encoded"
   ]
  },
  {
   "cell_type": "markdown",
   "metadata": {},
   "source": [
    "Running the functions above first give integer encoded SMILES of the labels and finally one hot encode the SMILES structures.\n",
    "\n",
    "\n",
    "By default, the OneHotEncoder class will return a more efficient sparse encoding which can be useful in some applications but in this case, we disabled the sparse return type by setting the `sparse=False` argument."
   ]
  },
  {
   "cell_type": "markdown",
   "metadata": {},
   "source": [
    "#### Without padding (unequal dimension)\n",
    "\n",
    "We can use above defined sklearn_OneHotEncode function to create OneHotEncoded matrix but this will again create unequal dimensions of the matrix because it will first label encode all the characters present in the SMILES strings (individually) and then one hot encode it."
   ]
  },
  {
   "cell_type": "code",
   "execution_count": 23,
   "metadata": {},
   "outputs": [],
   "source": [
    "# Create new column which has one hot encoded SMILES using sklearn implementation\n",
    "df['sklearn_OneHotEncoded_WP'] = ''"
   ]
  },
  {
   "cell_type": "code",
   "execution_count": 24,
   "metadata": {},
   "outputs": [
    {
     "data": {
      "text/html": [
       "<div>\n",
       "<style scoped>\n",
       "    .dataframe tbody tr th:only-of-type {\n",
       "        vertical-align: middle;\n",
       "    }\n",
       "\n",
       "    .dataframe tbody tr th {\n",
       "        vertical-align: top;\n",
       "    }\n",
       "\n",
       "    .dataframe thead th {\n",
       "        text-align: right;\n",
       "    }\n",
       "</style>\n",
       "<table border=\"1\" class=\"dataframe\">\n",
       "  <thead>\n",
       "    <tr style=\"text-align: right;\">\n",
       "      <th></th>\n",
       "      <th>chembl_id</th>\n",
       "      <th>IC50</th>\n",
       "      <th>units</th>\n",
       "      <th>canonical_smiles</th>\n",
       "      <th>pIC50\\r</th>\n",
       "      <th>2D_Figures</th>\n",
       "      <th>Own_OneHotEncoding</th>\n",
       "      <th>UniqueChar_OneHotEncoding</th>\n",
       "      <th>Processed_canonical_smiles</th>\n",
       "      <th>sklearn_OneHotEncoded_WP</th>\n",
       "    </tr>\n",
       "  </thead>\n",
       "  <tbody>\n",
       "    <tr>\n",
       "      <th>1777</th>\n",
       "      <td>CHEMBL207869</td>\n",
       "      <td>77.0</td>\n",
       "      <td>nM</td>\n",
       "      <td>Clc1c(OCc2cc(F)ccc2)ccc(Nc2c(C#Cc3ncccn3)cncn2)c1</td>\n",
       "      <td>7.113509</td>\n",
       "      <td><img data-content=\"rdkit/molecule\" src=\"data:image/png;base64,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\" alt=\"Mol\"/></td>\n",
       "      <td>[[0, 0, 0, 0, 0, 0, 0, 0, 0, 0, 0, 0, 0, 0, 0,...</td>\n",
       "      <td>[[0.0, 0.0, 0.0, 0.0, 0.0, 0.0, 0.0, 0.0, 0.0,...</td>\n",
       "      <td>Lc1c(OCc2cc(F)ccc2)ccc(Nc2c(C#Cc3ncccn3)cncn2)c1</td>\n",
       "      <td>[[0.0, 0.0, 0.0, 0.0, 0.0, 0.0, 0.0, 0.0, 0.0,...</td>\n",
       "    </tr>\n",
       "    <tr>\n",
       "      <th>5785</th>\n",
       "      <td>CHEMBL3940060</td>\n",
       "      <td>330.0</td>\n",
       "      <td>nM</td>\n",
       "      <td>ClCC(=O)OCCN1C(=O)Oc2c1cc1c(Nc3cc(Cl)c(F)cc3)n...</td>\n",
       "      <td>6.481486</td>\n",
       "      <td><img data-content=\"rdkit/molecule\" src=\"data:image/png;base64,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\" alt=\"Mol\"/></td>\n",
       "      <td>[[0, 0, 0, 0, 0, 0, 0, 0, 0, 0, 0, 0, 0, 0, 0,...</td>\n",
       "      <td>[[0.0, 0.0, 0.0, 0.0, 0.0, 0.0, 0.0, 0.0, 0.0,...</td>\n",
       "      <td>LCC(=O)OCCN1C(=O)Oc2c1cc1c(Nc3cc(L)c(F)cc3)ncn...</td>\n",
       "      <td>[[0.0, 0.0, 0.0, 1.0, 0.0, 0.0, 0.0, 0.0, 0.0,...</td>\n",
       "    </tr>\n",
       "  </tbody>\n",
       "</table>\n",
       "</div>"
      ],
      "text/plain": [
       "          chembl_id   IC50 units  \\\n",
       "1777   CHEMBL207869   77.0    nM   \n",
       "5785  CHEMBL3940060  330.0    nM   \n",
       "\n",
       "                                       canonical_smiles   pIC50\\r  \\\n",
       "1777  Clc1c(OCc2cc(F)ccc2)ccc(Nc2c(C#Cc3ncccn3)cncn2)c1  7.113509   \n",
       "5785  ClCC(=O)OCCN1C(=O)Oc2c1cc1c(Nc3cc(Cl)c(F)cc3)n...  6.481486   \n",
       "\n",
       "                                             2D_Figures  \\\n",
       "1777  <img data-content=\"rdkit/molecule\" src=\"data:i...   \n",
       "5785  <img data-content=\"rdkit/molecule\" src=\"data:i...   \n",
       "\n",
       "                                     Own_OneHotEncoding  \\\n",
       "1777  [[0, 0, 0, 0, 0, 0, 0, 0, 0, 0, 0, 0, 0, 0, 0,...   \n",
       "5785  [[0, 0, 0, 0, 0, 0, 0, 0, 0, 0, 0, 0, 0, 0, 0,...   \n",
       "\n",
       "                              UniqueChar_OneHotEncoding  \\\n",
       "1777  [[0.0, 0.0, 0.0, 0.0, 0.0, 0.0, 0.0, 0.0, 0.0,...   \n",
       "5785  [[0.0, 0.0, 0.0, 0.0, 0.0, 0.0, 0.0, 0.0, 0.0,...   \n",
       "\n",
       "                             Processed_canonical_smiles  \\\n",
       "1777   Lc1c(OCc2cc(F)ccc2)ccc(Nc2c(C#Cc3ncccn3)cncn2)c1   \n",
       "5785  LCC(=O)OCCN1C(=O)Oc2c1cc1c(Nc3cc(L)c(F)cc3)ncn...   \n",
       "\n",
       "                               sklearn_OneHotEncoded_WP  \n",
       "1777  [[0.0, 0.0, 0.0, 0.0, 0.0, 0.0, 0.0, 0.0, 0.0,...  \n",
       "5785  [[0.0, 0.0, 0.0, 1.0, 0.0, 0.0, 0.0, 0.0, 0.0,...  "
      ]
     },
     "execution_count": 24,
     "metadata": {},
     "output_type": "execute_result"
    }
   ],
   "source": [
    "# Iterate over the SMILES\n",
    "start = timer()\n",
    "for i in range(0, 3906):\n",
    "    canonical_char = split(df['Processed_canonical_smiles'].iloc[i])\n",
    "    sklearnOHC = sklearn_OneHotEncode(canonical_char)\n",
    "    df['sklearn_OneHotEncoded_WP'].iloc[i] = sklearnOHC.transpose()\n",
    "end = timer()\n",
    "df.head(2) # NBVAL_CHECK_OUTPUT"
   ]
  },
  {
   "cell_type": "code",
   "execution_count": 25,
   "metadata": {},
   "outputs": [
    {
     "name": "stdout",
     "output_type": "stream",
     "text": [
      "2.393530499999999 secs\n"
     ]
    }
   ],
   "source": [
    "# Print time required for execution\n",
    "sklearn_time_withoutPadding = end - start\n",
    "print(str(sklearn_time_withoutPadding) + ' secs') # NBVAL_CHECK_OUTPUT"
   ]
  },
  {
   "cell_type": "markdown",
   "metadata": {},
   "source": [
    "##### Visualization with Matplotlib.imshow() function"
   ]
  },
  {
   "cell_type": "code",
   "execution_count": 26,
   "metadata": {},
   "outputs": [
    {
     "data": {
      "image/png": "[encoded data removed]",
      "text/plain": [
       "<Figure size 432x288 with 2 Axes>"
      ]
     },
     "metadata": {
      "needs_background": "light"
     },
     "output_type": "display_data"
    },
    {
     "data": {
      "text/plain": [
       "(13, 48)"
      ]
     },
     "execution_count": 26,
     "metadata": {},
     "output_type": "execute_result"
    }
   ],
   "source": [
    "# Visualization of one hot encoded matrix using matplotlib imshow() function\n",
    "First_OneHotEncoded_matrix5 = df.iloc[0]['sklearn_OneHotEncoded_WP']\n",
    "im = plt.imshow(First_OneHotEncoded_matrix5, cmap='hot', interpolation='None')\n",
    "plt.colorbar(im, orientation='horizontal')\n",
    "plt.xlabel('Maximum length of string (267)')\n",
    "plt.ylabel('Possible char in individual SMILES')\n",
    "plt.title('Visualization of one hot encoded matrix (scikit-learn)')\n",
    "# plt.axis('auto')\n",
    "plt.show() # NBVAL_CHECK_OUTPUT\n",
    "\n",
    "# Check the dimension of the one hot encoded matrix\n",
    "First_OneHotEncoded_matrix5.shape # NBVAL_CHECK_OUTPUT"
   ]
  },
  {
   "cell_type": "markdown",
   "metadata": {},
   "source": [
    "It can be confirmed from above visualization that the our one hot encoded matrix from sklearn implementation do not have equal dimensions because sklearn Onehot_encoder takes individual strings as their input.\n",
    "\n",
    "So we thought of making equal dimension of our one hot encoded matrix by adding padding to it. It can be either done after one hot encoding is performed on the SMILES strings or before one hot encoding is performed, after we label encode our SMILES characters.\n",
    "\n",
    "We will be discussing both the scenarios in next sections."
   ]
  },
  {
   "cell_type": "markdown",
   "metadata": {},
   "source": [
    "#### With padding (equal dimension)"
   ]
  },
  {
   "cell_type": "markdown",
   "metadata": {},
   "source": [
    "##### Padding after one hot encoding is perfomed"
   ]
  },
  {
   "cell_type": "code",
   "execution_count": 27,
   "metadata": {},
   "outputs": [],
   "source": [
    "# Create new column which has one hot encoded SMILES using sklearn implementation\n",
    "df['sklearn_OneHotEncoded_later'] = ''"
   ]
  },
  {
   "cell_type": "code",
   "execution_count": 28,
   "metadata": {},
   "outputs": [],
   "source": [
    "# Defined function to add padding after one hot encoding\n",
    "def laterPadding(matrix):\n",
    "    \"\"\"Add horizantle and vertical padding to the given matrix\n",
    "    Parameters\n",
    "    ----------\n",
    "          matrix(ndarray): Character array\n",
    "    Returns\n",
    "    -------\n",
    "          ndarray: return padded matrix\n",
    "  \"\"\"\n",
    "    IndexPadding = np.ndarray(shape=(267-len(matrix),\n",
    "                                     len(matrix[0])))\n",
    "    IndexPadding.fill(0)\n",
    "    ColumnPadding = np.ndarray(shape=(267,\n",
    "                                      37-len(matrix[0])))\n",
    "    ColumnPadding.fill(0)\n",
    "    matrix = np.append(matrix, IndexPadding, axis=0)\n",
    "    matrix = np.append(matrix, ColumnPadding, axis=1)\n",
    "    return matrix"
   ]
  },
  {
   "cell_type": "code",
   "execution_count": 29,
   "metadata": {
    "scrolled": true
   },
   "outputs": [
    {
     "data": {
      "text/html": [
       "<div>\n",
       "<style scoped>\n",
       "    .dataframe tbody tr th:only-of-type {\n",
       "        vertical-align: middle;\n",
       "    }\n",
       "\n",
       "    .dataframe tbody tr th {\n",
       "        vertical-align: top;\n",
       "    }\n",
       "\n",
       "    .dataframe thead th {\n",
       "        text-align: right;\n",
       "    }\n",
       "</style>\n",
       "<table border=\"1\" class=\"dataframe\">\n",
       "  <thead>\n",
       "    <tr style=\"text-align: right;\">\n",
       "      <th></th>\n",
       "      <th>chembl_id</th>\n",
       "      <th>IC50</th>\n",
       "      <th>units</th>\n",
       "      <th>canonical_smiles</th>\n",
       "      <th>pIC50\\r</th>\n",
       "      <th>2D_Figures</th>\n",
       "      <th>Own_OneHotEncoding</th>\n",
       "      <th>UniqueChar_OneHotEncoding</th>\n",
       "      <th>Processed_canonical_smiles</th>\n",
       "      <th>sklearn_OneHotEncoded_WP</th>\n",
       "      <th>sklearn_OneHotEncoded_later</th>\n",
       "    </tr>\n",
       "  </thead>\n",
       "  <tbody>\n",
       "    <tr>\n",
       "      <th>1777</th>\n",
       "      <td>CHEMBL207869</td>\n",
       "      <td>77.0</td>\n",
       "      <td>nM</td>\n",
       "      <td>Clc1c(OCc2cc(F)ccc2)ccc(Nc2c(C#Cc3ncccn3)cncn2)c1</td>\n",
       "      <td>7.113509</td>\n",
       "      <td><img data-content=\"rdkit/molecule\" src=\"data:image/png;base64,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\" alt=\"Mol\"/></td>\n",
       "      <td>[[0, 0, 0, 0, 0, 0, 0, 0, 0, 0, 0, 0, 0, 0, 0,...</td>\n",
       "      <td>[[0.0, 0.0, 0.0, 0.0, 0.0, 0.0, 0.0, 0.0, 0.0,...</td>\n",
       "      <td>Lc1c(OCc2cc(F)ccc2)ccc(Nc2c(C#Cc3ncccn3)cncn2)c1</td>\n",
       "      <td>[[0.0, 0.0, 0.0, 0.0, 0.0, 0.0, 0.0, 0.0, 0.0,...</td>\n",
       "      <td>[[0.0, 0.0, 0.0, 0.0, 0.0, 0.0, 0.0, 0.0, 0.0,...</td>\n",
       "    </tr>\n",
       "    <tr>\n",
       "      <th>5785</th>\n",
       "      <td>CHEMBL3940060</td>\n",
       "      <td>330.0</td>\n",
       "      <td>nM</td>\n",
       "      <td>ClCC(=O)OCCN1C(=O)Oc2c1cc1c(Nc3cc(Cl)c(F)cc3)n...</td>\n",
       "      <td>6.481486</td>\n",
       "      <td><img data-content=\"rdkit/molecule\" src=\"data:image/png;base64,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\" alt=\"Mol\"/></td>\n",
       "      <td>[[0, 0, 0, 0, 0, 0, 0, 0, 0, 0, 0, 0, 0, 0, 0,...</td>\n",
       "      <td>[[0.0, 0.0, 0.0, 0.0, 0.0, 0.0, 0.0, 0.0, 0.0,...</td>\n",
       "      <td>LCC(=O)OCCN1C(=O)Oc2c1cc1c(Nc3cc(L)c(F)cc3)ncn...</td>\n",
       "      <td>[[0.0, 0.0, 0.0, 1.0, 0.0, 0.0, 0.0, 0.0, 0.0,...</td>\n",
       "      <td>[[0.0, 0.0, 0.0, 1.0, 0.0, 0.0, 0.0, 0.0, 0.0,...</td>\n",
       "    </tr>\n",
       "  </tbody>\n",
       "</table>\n",
       "</div>"
      ],
      "text/plain": [
       "          chembl_id   IC50 units  \\\n",
       "1777   CHEMBL207869   77.0    nM   \n",
       "5785  CHEMBL3940060  330.0    nM   \n",
       "\n",
       "                                       canonical_smiles   pIC50\\r  \\\n",
       "1777  Clc1c(OCc2cc(F)ccc2)ccc(Nc2c(C#Cc3ncccn3)cncn2)c1  7.113509   \n",
       "5785  ClCC(=O)OCCN1C(=O)Oc2c1cc1c(Nc3cc(Cl)c(F)cc3)n...  6.481486   \n",
       "\n",
       "                                             2D_Figures  \\\n",
       "1777  <img data-content=\"rdkit/molecule\" src=\"data:i...   \n",
       "5785  <img data-content=\"rdkit/molecule\" src=\"data:i...   \n",
       "\n",
       "                                     Own_OneHotEncoding  \\\n",
       "1777  [[0, 0, 0, 0, 0, 0, 0, 0, 0, 0, 0, 0, 0, 0, 0,...   \n",
       "5785  [[0, 0, 0, 0, 0, 0, 0, 0, 0, 0, 0, 0, 0, 0, 0,...   \n",
       "\n",
       "                              UniqueChar_OneHotEncoding  \\\n",
       "1777  [[0.0, 0.0, 0.0, 0.0, 0.0, 0.0, 0.0, 0.0, 0.0,...   \n",
       "5785  [[0.0, 0.0, 0.0, 0.0, 0.0, 0.0, 0.0, 0.0, 0.0,...   \n",
       "\n",
       "                             Processed_canonical_smiles  \\\n",
       "1777   Lc1c(OCc2cc(F)ccc2)ccc(Nc2c(C#Cc3ncccn3)cncn2)c1   \n",
       "5785  LCC(=O)OCCN1C(=O)Oc2c1cc1c(Nc3cc(L)c(F)cc3)ncn...   \n",
       "\n",
       "                               sklearn_OneHotEncoded_WP  \\\n",
       "1777  [[0.0, 0.0, 0.0, 0.0, 0.0, 0.0, 0.0, 0.0, 0.0,...   \n",
       "5785  [[0.0, 0.0, 0.0, 1.0, 0.0, 0.0, 0.0, 0.0, 0.0,...   \n",
       "\n",
       "                            sklearn_OneHotEncoded_later  \n",
       "1777  [[0.0, 0.0, 0.0, 0.0, 0.0, 0.0, 0.0, 0.0, 0.0,...  \n",
       "5785  [[0.0, 0.0, 0.0, 1.0, 0.0, 0.0, 0.0, 0.0, 0.0,...  "
      ]
     },
     "execution_count": 29,
     "metadata": {},
     "output_type": "execute_result"
    }
   ],
   "source": [
    "# Iterate over the SMILES\n",
    "start = timer()\n",
    "for i in range(0, 3906):\n",
    "    canonical_char = split(df['Processed_canonical_smiles'].iloc[i])\n",
    "    sklearnOHC = sklearn_OneHotEncode(canonical_char)\n",
    "    sklearnOHCPadding = laterPadding(sklearnOHC)\n",
    "    df['sklearn_OneHotEncoded_later'].iloc[i] = sklearnOHCPadding.transpose()\n",
    "end = timer()\n",
    "df.head(2) # NBVAL_CHECK_OUTPUT"
   ]
  },
  {
   "cell_type": "code",
   "execution_count": 30,
   "metadata": {},
   "outputs": [
    {
     "name": "stdout",
     "output_type": "stream",
     "text": [
      "2.890156400000002 secs\n"
     ]
    }
   ],
   "source": [
    "# Print time required for execution\n",
    "sklearn_time_Later = end - start\n",
    "print(str(sklearn_time_Later) + ' secs') # NBVAL_CHECK_OUTPUT"
   ]
  },
  {
   "cell_type": "markdown",
   "metadata": {},
   "source": [
    "###### Visualization with Matplotlib.imshow() function "
   ]
  },
  {
   "cell_type": "code",
   "execution_count": 31,
   "metadata": {},
   "outputs": [
    {
     "data": {
      "image/png": "[encoded data removed]",
      "text/plain": [
       "<Figure size 432x288 with 2 Axes>"
      ]
     },
     "metadata": {
      "needs_background": "light"
     },
     "output_type": "display_data"
    },
    {
     "data": {
      "text/plain": [
       "(37, 267)"
      ]
     },
     "execution_count": 31,
     "metadata": {},
     "output_type": "execute_result"
    }
   ],
   "source": [
    "# Visualization of first one hot encoded matrix using matplotlib imshow() function\n",
    "First_OneHotEncoded_matrix6 = df.iloc[0]['sklearn_OneHotEncoded_later']\n",
    "im = plt.imshow(First_OneHotEncoded_matrix6, cmap='hot', interpolation='None')\n",
    "plt.colorbar(im, orientation='horizontal')\n",
    "plt.xlabel('Maximum length of String (267)')\n",
    "plt.ylabel('Char in individual SMILES')\n",
    "plt.title('Visualization of one hot encoded matrix (scikit-learn)')\n",
    "# plt.axis('auto')\n",
    "plt.show() # NBVAL_CHECK_OUTPUT\n",
    "\n",
    "# Check the dimension of the one hot encoded matrix\n",
    "First_OneHotEncoded_matrix6.shape # NBVAL_CHECK_OUTPUT"
   ]
  },
  {
   "cell_type": "code",
   "execution_count": 32,
   "metadata": {},
   "outputs": [
    {
     "data": {
      "image/png": "[encoded data removed]",
      "text/plain": [
       "<Figure size 432x288 with 2 Axes>"
      ]
     },
     "metadata": {
      "needs_background": "light"
     },
     "output_type": "display_data"
    },
    {
     "data": {
      "text/plain": [
       "(37, 267)"
      ]
     },
     "execution_count": 32,
     "metadata": {},
     "output_type": "execute_result"
    }
   ],
   "source": [
    "# Visualization of another one hot encoded matrix using matplotlib imshow() function\n",
    "Two_OneHotEncoded_matrix6 = df.iloc[0]['sklearn_OneHotEncoded_later']\n",
    "im = plt.imshow(Two_OneHotEncoded_matrix6, cmap='hot', interpolation='None')\n",
    "plt.colorbar(im, orientation='horizontal')\n",
    "plt.xlabel('Maximum length of String (267)')\n",
    "plt.ylabel('Char in individual SMILES')\n",
    "plt.title('Visualization of One Hot Encoded Matrix (scikit-learn)')\n",
    "# plt.axis('auto')\n",
    "plt.show() # NBVAL_CHECK_OUTPUT\n",
    "\n",
    "# Check the dimension of the one hot encoded matrix\n",
    "Two_OneHotEncoded_matrix6.shape # NBVAL_CHECK_OUTPUT"
   ]
  },
  {
   "cell_type": "markdown",
   "metadata": {},
   "source": [
    "Now we can observe that the dimensions are equal for all the SMILES strings."
   ]
  },
  {
   "cell_type": "markdown",
   "metadata": {},
   "source": [
    "##### Padding before one hot encoding is perfomed\n",
    "\n",
    "In this case we have added padding just after the label encoding or before the one hot encoding is performed on SMILES."
   ]
  },
  {
   "cell_type": "code",
   "execution_count": 33,
   "metadata": {},
   "outputs": [],
   "source": [
    "# Create new column which has one hot encoded SMILES using sklearn implementation\n",
    "df['sklearn_OneHotEncoded_initial'] = ''"
   ]
  },
  {
   "cell_type": "code",
   "execution_count": 34,
   "metadata": {},
   "outputs": [],
   "source": [
    "# Defined function to add padding before one hot encoding\n",
    "def initialPadding(canonical_char):\n",
    "    \"\"\"Add padding to the given list before one hot encoding\n",
    "       is performed.\n",
    "    Parameters\n",
    "    ----------\n",
    "          canonical_char(array): Character array\n",
    "    Returns\n",
    "    -------\n",
    "          list: return padded character list\n",
    "    \"\"\"\n",
    "    zeroes = [0] * (267-len(canonical_char))\n",
    "    list1 = canonical_char + zeroes\n",
    "    return list1"
   ]
  },
  {
   "cell_type": "code",
   "execution_count": 35,
   "metadata": {},
   "outputs": [
    {
     "data": {
      "text/html": [
       "<div>\n",
       "<style scoped>\n",
       "    .dataframe tbody tr th:only-of-type {\n",
       "        vertical-align: middle;\n",
       "    }\n",
       "\n",
       "    .dataframe tbody tr th {\n",
       "        vertical-align: top;\n",
       "    }\n",
       "\n",
       "    .dataframe thead th {\n",
       "        text-align: right;\n",
       "    }\n",
       "</style>\n",
       "<table border=\"1\" class=\"dataframe\">\n",
       "  <thead>\n",
       "    <tr style=\"text-align: right;\">\n",
       "      <th></th>\n",
       "      <th>chembl_id</th>\n",
       "      <th>IC50</th>\n",
       "      <th>units</th>\n",
       "      <th>canonical_smiles</th>\n",
       "      <th>pIC50\\r</th>\n",
       "      <th>2D_Figures</th>\n",
       "      <th>Own_OneHotEncoding</th>\n",
       "      <th>UniqueChar_OneHotEncoding</th>\n",
       "      <th>Processed_canonical_smiles</th>\n",
       "      <th>sklearn_OneHotEncoded_WP</th>\n",
       "      <th>sklearn_OneHotEncoded_later</th>\n",
       "      <th>sklearn_OneHotEncoded_initial</th>\n",
       "    </tr>\n",
       "  </thead>\n",
       "  <tbody>\n",
       "    <tr>\n",
       "      <th>1777</th>\n",
       "      <td>CHEMBL207869</td>\n",
       "      <td>77.0</td>\n",
       "      <td>nM</td>\n",
       "      <td>Clc1c(OCc2cc(F)ccc2)ccc(Nc2c(C#Cc3ncccn3)cncn2)c1</td>\n",
       "      <td>7.113509</td>\n",
       "      <td><img data-content=\"rdkit/molecule\" src=\"data:image/png;base64,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\" alt=\"Mol\"/></td>\n",
       "      <td>[[0, 0, 0, 0, 0, 0, 0, 0, 0, 0, 0, 0, 0, 0, 0,...</td>\n",
       "      <td>[[0.0, 0.0, 0.0, 0.0, 0.0, 0.0, 0.0, 0.0, 0.0,...</td>\n",
       "      <td>Lc1c(OCc2cc(F)ccc2)ccc(Nc2c(C#Cc3ncccn3)cncn2)c1</td>\n",
       "      <td>[[0.0, 0.0, 0.0, 0.0, 0.0, 0.0, 0.0, 0.0, 0.0,...</td>\n",
       "      <td>[[0.0, 0.0, 0.0, 0.0, 0.0, 0.0, 0.0, 0.0, 0.0,...</td>\n",
       "      <td>[[0.0, 0.0, 0.0, 0.0, 0.0, 0.0, 0.0, 0.0, 0.0,...</td>\n",
       "    </tr>\n",
       "    <tr>\n",
       "      <th>5785</th>\n",
       "      <td>CHEMBL3940060</td>\n",
       "      <td>330.0</td>\n",
       "      <td>nM</td>\n",
       "      <td>ClCC(=O)OCCN1C(=O)Oc2c1cc1c(Nc3cc(Cl)c(F)cc3)n...</td>\n",
       "      <td>6.481486</td>\n",
       "      <td><img data-content=\"rdkit/molecule\" src=\"data:image/png;base64,iVBORw0KGgoAAAANSUhEUgAAAMgAAADICAIAAAAiOjnJAAAABmJLR0QA/wD/AP+gvaeTAAAXnUlEQVR4nO2de1RU19XA98zwdBhmEMVHFAQUNBqloomWGI3iAxFtjdNWa0iyimM+WUATbcCVptisrGRqqw5fll8zappSo2lHayIGjIogIooEH0hilUd4FKNA0BkYnvM43x8HxwkiDjP3MA/3b/nHdebefQ/en/sc7t3nHh4hBBCEa/j2bgDimqBYCBNQLIQJKBbCBBQLYQKKhTABxUKYgGIhTECxECagWAgTUCyECSgWwgQUC2ECioUwAcVCmIBiIUxAsRAmoFgIE1AshAkoFsIEFAthAoqFMAHFQpiAYiFMQLEQJqBYCBNQLIQJKBbCBBQLYQKKhTABxUKYgGIhTECxECagWAgTUCyECSgWwgQUC2ECioUwAcVCmIBiIUxAsRAmoFgIE1AshAkoFsIEFAthAoqFMAHFQpiAYiFMQLEQJqBYduP4cQCAqiqoqrJ3UxjgZu8GPLlUVEBFBYSFQWgo6HTg7m7vBnEKZiyLuHr16qVLl5qbm20PpdfD9u1QVgYAEBYGX3wB2dkwcSJkZEB3t+3hHQaCDEhjY+OaNWv4fH5gYKBQKExOTr59+7bV0crLyezZBIDMnEl27SKEEJmMLFlCAAgAmTCB7N1Leno4a7wdQbEG4tNPP/X39wcAkUgUGRnJ4/EAQCgUvvXWW01NTYMKpdMRuZx4ehIAMnYsycp68JXBQLKySEREr16BgUShIF1dHP8sQwyK1T+3b9/++c9/TpP60qVL6+rqCCFlZWVSqdSkl+XZq6yMREYSAMLjEZmMtLY+fLof6eXlRSIjVyoUii6n9QvF6geVSkUTlVgsViqVRqORfl5UVKTT6QalV3d39zvvvLNgwUcAJCSE5OX1s09bGxk5kkRFkbw8YjCQzz4jv/hFMXU6ODh43759PU7YO7qcWAoFUShIT491Q5Xvv/9+1apV9KLGxMTU19ebvqqtrfXw8JgwYYJSqbRQr5KSkmnTpgGASOSbmqrWavs/aUEB8fXt7QeXLCFFRUaDwZCVlRUREUFbEhQU5HTZy7XEUih6NzZsIMOGkehoIpeT0lJiMDz2UKPRmJmZ6efnBwASiUSpVPbZ4dy5c5MmTaJXetKkSZmZmQPo1dnZmZ6e7u7uDgAhISH5+fkDn721lcjlRCIhAGT+/EtRUVH5+fkGg+HgwYNTpkyhJ91FR/tOgouKtWJFbwagf/z9yZo1P+zbd+PGjX6Pq6mpiY6OptdvxYoVDQ0N/e5mMBhUKlV4eLipn6LZq6SkJDY2ln7o4+MTHx8fFhYGAAKBYMuWLR0dHRY2v6WFvPMOCQ2NMo3tzp8/bzAYDhw4MHz4cLFYfOHChcH/o9gHVxHr3j0ik5EDB3q7wspK0thIVCoik5HgYKrX/73wAgCMGjVKKpUqlcra2lpCiNFoVCqVIpEIAPz8/B5OVA/zKL2uXr1Ks9ewYcMAYOLEiQUFBVb8KC0tLb///e99fX0BwN3dnabAxYsXA8BXX31lRUC74CpiJSQQALJiRf/fVlWRPXt2/fa3AQEB5vfwwsPDJ0+eTLd/+ctfDuoOgk6ny8zMNHWOYWFhubm5hJCjR48CwPDhw20cElG9Nm/eTP+6Zs0aAPjXv/5lS8yhxCXEOnOG8HjE05N8++1j962urlYqlVKplA6nJkyYIJFIDh8+bN2ZafaiHV9xcTEhRK1W0/te1gV8FAkJCQCwZ88ebsOyw/nF6uoikycTAPLuu4M6TqfTJSUlAcCmTZtsbIJOpzN1UgaDgc/n83g8vV5vY1hzNm/eDADbt2/nMCZTnP9Z4bZtcOMGTJsGqamDOs7NzW369OkA0NXVZWMT3Nzcli5dSrf5fD5NV21tbTaGNUcsFgOARqPhMCZTnFssw7VrsGMH8Pmwdy94eFh4VFpaWkBAwP79+xldLRqW9oncxkSxhgKDwTBfJsv+6U/1b7wBc+ZYfmB3d3dzc3NzczNTsbgN6+//mkRyt7U1g8OYTHHieiyFQlF08eKmwMBvjh0TDeZA04V3IrGEQpFaDZwmQbY4a8aqq6vbtm0bAHz44Yf0LpTlmC68RCIBJxFLIgEAcJ6e0MEzVleXRqNpam3VaDRqtVqtVms0Go1GExIS8tFHH2m12nXr1q1cuXKwUftkLG4HQwDAwlexGADFspL33oOCAlCrQaPp/dPdXTJ//pKCgj47zpw58/Lly8OHD9+1a5cV5zFdeKcavAOAM3WFDiBWRgYAQEoKlJVBbu6PvvLwkAiFoaGhEolEIpGI73PkyBEA2LlzZ5876RZiuvDe3t4eHh7d3d3d3d2enp62/yjm8TFj2ZWMDEhJ6d343e9AJgOx+MEfb+/ZAKY5LO3t7bQrrK6urq+v7+npse6c5hdeLBY3NzdrNBrrHH1sfO5iAgC0tgIhwONxGJgV9hbLHELg2rUH/WBrK2g0tSNHLvr6a+qTXq+nO44cORIAEhMTw8LC5s+fP9jzPCyWWq12cLHc3KClBXx9ncMqsL9YYWG9XWFsLBw8COnpfb73mTXru+++o9ve3t60KwwMDJw6dapCoXjppZdKSkpCQkIGdc4+YgFHEhiNRj6fDxwN3o8fh/HjYdq0B3+NiemdgThxoo0tHQrsLVZMDMTE9G7PnQtvvPGgH/T1BbHY29+/UiSiPnmY3Vs3GAwVFRU5OTmrV68uKioSCoWWn9P8wnMill6v37FjR05OTl5enkAgsHHwrlZDairs3QszZkBJCbi7AyEPJiHeL6dweOz9sNJ67t69S8sKNm5MvV+VbilJSUlbt27V6/WrV68GAKurGwghly9fnjFjBgDweLxTp04RQvbu3QsAY8aM+c9//jPYaNnZZNw4AkC8vYlcTvR6olKRp58m771HcnKITEYqK61u6ZDixGIRQm7cuLFw4WtCoXbbNisjvPrqqwCwb98+K47t6emRy+U0jwYHB58+fbqjo2PLli0CgcDLywsA+Hy+VCq1UK/m5uZ169b95CctAOT558nNm+T2bbJ6dW8NLK00Q7GGjhMniJsb4fHIYGvgbt26JZfL/fz8RowYERQUpFKpjIPJe1euXKGTHXg8nkwma2trKyoqomWDbm5ur7322qZNmyzX69ChQ/S3h7CwpRkZRoOBqFRkxAgCQHx9iUJhSdW+Y+H0YhFC/vKX3r6jtPTxO/f09Hz++eexsbECgYAOBujvmADw3HPP5eTkPDZCZ2dnamoqPTw0NDQ/P7+jo8P0ydSpUy9evEj3rK+vT05OHlivnp4eWh0KAC+++GJ1dfWtW22mkv1ly4jZRCFnwhXEIvcrk4OCSGPjI/epqCDbtx8fPXo0vYqenp5r167Nzc3VarUKhWLMmDH08zlz5mRlZT0qe50/f56mJT6fL5PJtFptYWEhHeq5ubmlpqY+XJH8sF595nTEx8cPGzZMLpfTetQRIwJmzLgnFhOlkgx27Og4uIhYXV1k7tzeeXkPf6VSkehowuORwMAqHo83efJkuVzep8K9vb39Yb36hOro6Bg1apQpLbW3t6emptJbDM8888zXX389QAvr6uoepdfdu3fr6urq6upM1YKvvpp+65at/yb2xUXEIoTcvk3mzCHmF7esjCQlET+/3m7Fx4f85jfk4sXyAYL0m73Md1CpVG+//XZXV9eJEyeCgoIAwN3dPTU1tbu725JG9qsXnSlEp+X0O6XRGXEdsSh0jFRZSa5dI0Jhr1LPPkv27OnnjQmPYmC91Gq1TCajk1RnzJhx+fLlwTaytrZ2w4YNdDqrQCCgggLASy+9dOfOncFGc0xcTSw6rTAnh1RWkjffJMnJpKzMylBUL9OYjOqVk5Mzfvx4APDy8kpPT7flrQo0e7m7uwcFBUkkkszMTKtDOSAuKBa3NxK1Wu2f/vQn02+OlLlz51px87Nf3nrrLQBISkriJJrj4KwVpI+CkAePiDiBvg2rpqZGoVBERETEx8fv2LGjsLDQNNPVRiZMmAAAVldqOCz2flbINbduwfTp8MEHHD+pFQqFKSkpycnJPK6rC5xu+o2FuFrGys2F8nLw9mYSnHOrgE0dsyPgUmK1tMC1a+DlBXPn2rspFsOo7t7uuJRY+flgNEJUFKuMxQJX7Qpdaox1+jQAwMKF9m7HYJBIxi1YUOTjM7gZbI4PjxBi7zZwRng4VFRAcTE895y9m2Ixra0gFoOPD3D6qgf74zpdYUODRqfr8fWFyEh7N2UwiEQgEEB7O9wv6HcRXEes06e/qKnxXL58k5tTde88HohEQAi0ttq7KZziOmLl5eUBwJw54fZuyKBxujmDluBqYi10rqE7AKBYjszNmzcbGhoCAgKmmSZMOQ8uKZZTjUcezenTpwFg4cKFLG6OsyYpCaRSCA7mMualS5caGhouXLjw+uuv08eRQ429n4JzgF6vp2+rdpZ3v5qKxiorf7TNCaa5Q/St4O7u7i+//HLlkE/uceKu8M6dO4cOHYqPjw8ICMjLy3v22WedZYBVUQFVVVBZ2budkdG7bfstxeLi4oiIiLS0NL1ev3LlynXr1hmNxv379z/99NMymay2ttbWE1jOEItsI1qt9ssvv0xOTu5TtTJp0qRvLXgXt4NAi8boOgfmBWQff0yiokhurjUxzWcKhYaGnjlzhn7+3XffyWQyNzc3GNrs5RxiVVdXKxSK6Oho85cNCYXC6OhouVx+/fp1ezdwcNCVWWiZK92mYtGl5wDIiy+SQS1qYT6lMTk5ub29nX5eWVm5a9eujo6OodfLccVqampSqVQymeypp54yycTn8yMjI1NTU0+dOmXh/AUnoq2NyOUPZn9Ykr36TGksKSkx//aVV14BgJEjR8rl8vb29qHUy0HF+u9//0tLyymBgYEJCQkqlaqlpcXeTWOOWk3++MdevYTCtri41WfPnu13z8LCQrrmyqOmNGZnZ8+aNYv+G44ZM0ahUPSbvaqqqjj/KRxRLKPROHr0aG9v70WLFikUCq6qy50LqteyZX+mWixcuNBcL/MpjdOnTy8dcA74qVOnZs+eTePQ7NXR0XHz5s3169fTVOfh4bF161Zu2++IYpWXlwPA2LFj7d0Q+9Pa2kpfMEG1iIqKOn369FdffRUYGAiDnNJorldAQADVi2YvgUCwePHivH6Xf7UWRxRLoVAAwMsvv2zvhjgK9+7d27ZtGy1ihvsV0rNnzy4vH2jy7cMYjcasrKzI++UfY8eOpUOLlJQUAHj77bc5bLMj3sdy3qd+jJBIJOnp6fX19XK53MfHx8fHZ+vWrRcuXBjs8ysejxcXF1daWkqz18yZM4cPHw4AoaGhwHl5NIeScoJer6f/NelClUgf6MJSV65csTGO0WhUq9V0OzMzEwDWr19vc+se4HAZq7S0VK1WT5o0yTTxHDHHVCNfWFi4efPmw4cPWxeHx+PRUMCm7t7hxNJfujR/xoyYJUvs3RAHxSTBN998s3PnTvr03UZYTEGzQayMjN4XHnNK1JEjZ8rKMgb/ku0nBBbrtbCYgmatWPTF/ykpvW7ZvJZkL11dcP488HiwYAE3AV0OFuu1OGpXeP48BAfDmTPchOrshBkz4Mcv4UBMmLKLg4tlbaGf+Yv/t2+HO3dg5UrIzoZ582xqTl4eAMCiRTYFcWlYLLYoFot5PF5rayshhKtKSWszVkwMpKTAnDnw6afw17/CK69AWxssW9ZrhtU445TToYWFWAKBQCgUGo1GDtextqE0ua0N4uKguRm0Wvjb34DPh08+gbg4OHoUoqOtDHjpEri5wfPPW98qV4fRKp5isVir1Wo0GvrGStuxYYwlEsHf/w5eXrBjByQmwt69kJAAHR2walVFfr41AQmBnTthyxbg6GdzSUxiiUQiPp+v1Wr1XEx15XyYZdvgfflyOHIEvLzgo48gMRGUSnj99cOzZk2PiTl27Nigo33yCRgM8MEHNjXJ1TElKh6PJxKJCCGc9F8OJhYAxMTAv/8NXl6gVEJSknH37sKIiO7u7jVr1mRlZVkU4cYN+PjjvvcvkEdgfs/JRhuampq0Wi3d5vweKRe3G5Yvh6NHwdv75PXrGzdu3LlzZ0pKSk9Pj1Qq/eKLL/o/RKuFY8dg40YIDoYpUyAhAVpaOGjJE4C5TOPHjw8MDOzs7LQizqFDh6ZNm5aWlmYelst7pFw9dPwuP9/b2xsAEhISDAbD1q1bAcDDw+PIkSN0B51Od+7cuW1/+INx3jwiEPSW3wKQgADy61+TvXt733jsLKsQ2Qna8Q0bNszqCN9///2qVavo1V+6dKlOp6uvrw8JCfHz85s+fXpxcTEn7eSyuqGgoMDHxwcA1q5dq9PptmzZAgCBgYG7d++WSqWmarW7ERHEzY1ERpL0dFJa6nzrD9kbWlXc2dlpxbEqlcrf35+mKKVSaTAY9uzZQ38TpNcOAJYvX25aDshqOC6bKSwsFIlEAPCrX/1Kp9MF/3h6b3h4eHJycuXJk0Sr5fa8TxQpKSlisTg4OFipVOr1eguPMk9Uy5Ytq6+vr6mpib5/Yyg2Nra8vDw9Pd1U8hAdHW2LXtzXY509e5a69dRTT40bN04oFK5YsUKpVNbU1HB+rieTmzdvmlYrnjJlyoEDBwyPy/oqlYrW9NElVegiK/Qy+fn5mS+y0tzcnJaWZspe6efOfWtVFmBS6FdUVBQSEiIQCDw8PDQaDYtTPOH09PRkZmZOur+O75QpUzIzM/vNXrW1tfT9AzQtNTQ0VFdXm6pzpVJpn8WqKD/88EN6evpzP/vZ7NLSyNLS/6mo+GaQerGqID106BAALFiwgFF8hFimV3FxsUAgoGmJJiqajUaNGvXYBYvv9fR82NAw7/LlyNLSyNLSlMpKy7MXK7ESExMB4N1332UUHzHxWL3279/f2NhYVVU1/36Vm1QqbW5utjD+PZ3uf830+l11tSWLKLISi874LioqYhQf6QPVa+L9BTnM9dLpdAqFgr58ZvTo0Z9//rkV8dU6nfLWrflXrmyvry9Sqw82Nh4cYNFRRmLdunULAEQikS2LYyFW8LBe77//vmk6oVQqtXEq+T2d7p5ON7BSFCZi/eMf/6BDRRbBkcdirpdQKASAoKCgEydOcBX/YGNjkVpd/9CMfnOYTKbAiYH2xd3dPT4+/vr162lpae3t7ePGjSsvL1/C6fyUn4rF483e/PMwTMTKz88HgEVYCGpX3N3d169fDwAikYjesuKKtQEBj92He7EqKyvr6ur8/f2feeYZzoMjg8KOC/VwL5apH6TvQkHsiB3XrOP+2tMplNgPOgJCodDNza29vV2n0w3xqTkWixBy5swZQLEcAx6PRysXWod8QRWO3/N+7dq15ubm8ePHT+R26VzEWsZPHe9j8NF0avzBfyjPy7FY2A86Gjwlr76zXj18qFdw5UYso9F49erVkydP0nem4R0sx0EsEAOAxjDU43ebxGpqaiooKMjNzc3OzqaPcQBg9+7dcXFxXLQN4QCnEUtP9MXtxV9qvsxtyxW+Lzy7/yz9PCgoaMl9uJr0iNiORCABRxbrju7OZ/c+O9l68qz2bIexg34474V5sXdjly5dumTJkvBw51so8EmAZiy1wcHGWBlNGQCQEpDyz3v/fLPhTfphiGfICvGKOHHcvJ/M80wY6IERYnccsSvMaMpICUip6q6q6q4ihGwYseEFnxcWixaPch81ZO1DbGS0++gQzxCRgMtnhZbw+K5woudEAODz+HsC97BvD8IxiSMTE0cmDv15B7rzHuYVltGUkdGUUdVdNWQNQriFXkEAON56fCjPyyO2L5KHOCqmwQwAZGuyUwJShuzULrJ0LzIAdDAzxKBYrgwdzABArDh2iE+NXSHCBKzFQ5iAYiFMQLEQJqBYCBNQLIQJKBbCBBQLYQKKhTABxUKYgGIhTECxECagWAgTUCyECSgWwgQUC2ECioUwAcVCmIBiIUxAsRAmoFgIE1AshAkoFsIEFAthAoqFMAHFQpiAYiFMQLEQJqBYCBNQLIQJKBbCBBQLYQKKhTABxUKYgGIhTECxECagWAgTUCyECSgWwgQUC2ECioUwAcVCmIBiIUxAsRAmoFgIE1AshAkoFsIEFAthAoqFMOH/Aa8mPKWWAlnHAAAAAElFTkSuQmCC\" alt=\"Mol\"/></td>\n",
       "      <td>[[0, 0, 0, 0, 0, 0, 0, 0, 0, 0, 0, 0, 0, 0, 0,...</td>\n",
       "      <td>[[0.0, 0.0, 0.0, 0.0, 0.0, 0.0, 0.0, 0.0, 0.0,...</td>\n",
       "      <td>LCC(=O)OCCN1C(=O)Oc2c1cc1c(Nc3cc(L)c(F)cc3)ncn...</td>\n",
       "      <td>[[0.0, 0.0, 0.0, 1.0, 0.0, 0.0, 0.0, 0.0, 0.0,...</td>\n",
       "      <td>[[0.0, 0.0, 0.0, 1.0, 0.0, 0.0, 0.0, 0.0, 0.0,...</td>\n",
       "      <td>[[0.0, 0.0, 0.0, 1.0, 0.0, 0.0, 0.0, 0.0, 0.0,...</td>\n",
       "    </tr>\n",
       "  </tbody>\n",
       "</table>\n",
       "</div>"
      ],
      "text/plain": [
       "          chembl_id   IC50 units  \\\n",
       "1777   CHEMBL207869   77.0    nM   \n",
       "5785  CHEMBL3940060  330.0    nM   \n",
       "\n",
       "                                       canonical_smiles   pIC50\\r  \\\n",
       "1777  Clc1c(OCc2cc(F)ccc2)ccc(Nc2c(C#Cc3ncccn3)cncn2)c1  7.113509   \n",
       "5785  ClCC(=O)OCCN1C(=O)Oc2c1cc1c(Nc3cc(Cl)c(F)cc3)n...  6.481486   \n",
       "\n",
       "                                             2D_Figures  \\\n",
       "1777  <img data-content=\"rdkit/molecule\" src=\"data:i...   \n",
       "5785  <img data-content=\"rdkit/molecule\" src=\"data:i...   \n",
       "\n",
       "                                     Own_OneHotEncoding  \\\n",
       "1777  [[0, 0, 0, 0, 0, 0, 0, 0, 0, 0, 0, 0, 0, 0, 0,...   \n",
       "5785  [[0, 0, 0, 0, 0, 0, 0, 0, 0, 0, 0, 0, 0, 0, 0,...   \n",
       "\n",
       "                              UniqueChar_OneHotEncoding  \\\n",
       "1777  [[0.0, 0.0, 0.0, 0.0, 0.0, 0.0, 0.0, 0.0, 0.0,...   \n",
       "5785  [[0.0, 0.0, 0.0, 0.0, 0.0, 0.0, 0.0, 0.0, 0.0,...   \n",
       "\n",
       "                             Processed_canonical_smiles  \\\n",
       "1777   Lc1c(OCc2cc(F)ccc2)ccc(Nc2c(C#Cc3ncccn3)cncn2)c1   \n",
       "5785  LCC(=O)OCCN1C(=O)Oc2c1cc1c(Nc3cc(L)c(F)cc3)ncn...   \n",
       "\n",
       "                               sklearn_OneHotEncoded_WP  \\\n",
       "1777  [[0.0, 0.0, 0.0, 0.0, 0.0, 0.0, 0.0, 0.0, 0.0,...   \n",
       "5785  [[0.0, 0.0, 0.0, 1.0, 0.0, 0.0, 0.0, 0.0, 0.0,...   \n",
       "\n",
       "                            sklearn_OneHotEncoded_later  \\\n",
       "1777  [[0.0, 0.0, 0.0, 0.0, 0.0, 0.0, 0.0, 0.0, 0.0,...   \n",
       "5785  [[0.0, 0.0, 0.0, 1.0, 0.0, 0.0, 0.0, 0.0, 0.0,...   \n",
       "\n",
       "                          sklearn_OneHotEncoded_initial  \n",
       "1777  [[0.0, 0.0, 0.0, 0.0, 0.0, 0.0, 0.0, 0.0, 0.0,...  \n",
       "5785  [[0.0, 0.0, 0.0, 1.0, 0.0, 0.0, 0.0, 0.0, 0.0,...  "
      ]
     },
     "execution_count": 35,
     "metadata": {},
     "output_type": "execute_result"
    }
   ],
   "source": [
    "# Iterate over the SMILES\n",
    "start = timer()\n",
    "for i in range(0, 3906):\n",
    "    canonical_char = split(df['Processed_canonical_smiles'].iloc[i])\n",
    "    canonical_charPadded = initialPadding(canonical_char)\n",
    "    sklearnOHC = sklearn_OneHotEncode(canonical_charPadded)\n",
    "    ColumnPadding = np.ndarray(shape=(267,\n",
    "                                      37-len(sklearnOHC[0])))\n",
    "    ColumnPadding.fill(0)\n",
    "    sklearnOHC = np.append(sklearnOHC, ColumnPadding, axis=1)\n",
    "    df['sklearn_OneHotEncoded_initial'].iloc[i] = sklearnOHC.transpose()\n",
    "end = timer()\n",
    "df.head(2) # NBVAL_CHECK_OUTPUT"
   ]
  },
  {
   "cell_type": "code",
   "execution_count": 36,
   "metadata": {},
   "outputs": [
    {
     "name": "stdout",
     "output_type": "stream",
     "text": [
      "3.832177999999999 secs\n"
     ]
    }
   ],
   "source": [
    "# Print time required for execution\n",
    "sklearn_time_initial = end - start\n",
    "print(str(sklearn_time_initial) + ' secs') # NBVAL_CHECK_OUTPUT"
   ]
  },
  {
   "cell_type": "markdown",
   "metadata": {},
   "source": [
    "###### Visualization with Matplotlib.imshow() function "
   ]
  },
  {
   "cell_type": "code",
   "execution_count": 37,
   "metadata": {},
   "outputs": [
    {
     "data": {
      "image/png": "[encoded data removed]",
      "text/plain": [
       "<Figure size 432x288 with 2 Axes>"
      ]
     },
     "metadata": {
      "needs_background": "light"
     },
     "output_type": "display_data"
    },
    {
     "data": {
      "text/plain": [
       "(37, 267)"
      ]
     },
     "execution_count": 37,
     "metadata": {},
     "output_type": "execute_result"
    }
   ],
   "source": [
    "# Visualization of one hot encoded matrix using matplotlib imshow() function\n",
    "First_OneHotEncoded_matrix7 = df['sklearn_OneHotEncoded_initial'].iloc[0]\n",
    "im = plt.imshow(First_OneHotEncoded_matrix7, cmap='hot', interpolation='None')\n",
    "plt.colorbar(im, orientation='horizontal')\n",
    "plt.xlabel('Maximum length of string (267)')\n",
    "plt.ylabel('Length of unique characters (37)')\n",
    "plt.title('Visualization of one hot encoded matrix (own)')\n",
    "# plt.axis('auto')\n",
    "plt.show() # NBVAL_CHECK_OUTPUT\n",
    "\n",
    "# Check the dimension of the one hot encoded matrix\n",
    "First_OneHotEncoded_matrix7.shape # NBVAL_CHECK_OUTPUT"
   ]
  },
  {
   "cell_type": "markdown",
   "metadata": {},
   "source": [
    "### Apply one hot encoding using implementation in Keras"
   ]
  },
  {
   "cell_type": "markdown",
   "metadata": {},
   "source": [
    "Keras is also a very powerful and highly used library mainly for deep-learning tasks. \n",
    "There may be a case where we have sequences or strings that are already integer encoded, then in that case we can use function called [to_categorical()](https://keras.io/api/utils/) provide by keras library to one hot encode integer data directly, but it always should be integer which may not have a real ordinal relationship and are really just placeholders for labels."
   ]
  },
  {
   "cell_type": "code",
   "execution_count": 38,
   "metadata": {},
   "outputs": [],
   "source": [
    "# Use keras implementation of one hot encoding\n",
    "def keras_OneHotEncode(canonical_char):\n",
    "    \"\"\"\n",
    "    Function to one hot encode the SMILES using keras\n",
    "    implementation\n",
    "    Parameters\n",
    "    ----------\n",
    "         canonical_char(array): Canonical character array\n",
    "    Returns\n",
    "    -------\n",
    "         ndarray: return one hot encoded matrix\n",
    "    \"\"\"\n",
    "    # integer encoding\n",
    "    label_encoder = LabelEncoder()\n",
    "    integer_encoded = label_encoder.fit_transform(canonical_char)\n",
    "    # one hot encode\n",
    "    encoded = to_categorical(integer_encoded)\n",
    "    return encoded"
   ]
  },
  {
   "cell_type": "markdown",
   "metadata": {},
   "source": [
    "#### Without padding (unequal dimension)"
   ]
  },
  {
   "cell_type": "code",
   "execution_count": 39,
   "metadata": {},
   "outputs": [],
   "source": [
    "# Create new column which has OneHotEncoded SMILES using keras implementation\n",
    "df['keras_OneHotEncoded'] = ''"
   ]
  },
  {
   "cell_type": "code",
   "execution_count": 40,
   "metadata": {
    "scrolled": true
   },
   "outputs": [
    {
     "data": {
      "text/html": [
       "<div>\n",
       "<style scoped>\n",
       "    .dataframe tbody tr th:only-of-type {\n",
       "        vertical-align: middle;\n",
       "    }\n",
       "\n",
       "    .dataframe tbody tr th {\n",
       "        vertical-align: top;\n",
       "    }\n",
       "\n",
       "    .dataframe thead th {\n",
       "        text-align: right;\n",
       "    }\n",
       "</style>\n",
       "<table border=\"1\" class=\"dataframe\">\n",
       "  <thead>\n",
       "    <tr style=\"text-align: right;\">\n",
       "      <th></th>\n",
       "      <th>chembl_id</th>\n",
       "      <th>IC50</th>\n",
       "      <th>units</th>\n",
       "      <th>canonical_smiles</th>\n",
       "      <th>pIC50\\r</th>\n",
       "      <th>2D_Figures</th>\n",
       "      <th>Own_OneHotEncoding</th>\n",
       "      <th>UniqueChar_OneHotEncoding</th>\n",
       "      <th>Processed_canonical_smiles</th>\n",
       "      <th>sklearn_OneHotEncoded_WP</th>\n",
       "      <th>sklearn_OneHotEncoded_later</th>\n",
       "      <th>sklearn_OneHotEncoded_initial</th>\n",
       "      <th>keras_OneHotEncoded</th>\n",
       "    </tr>\n",
       "  </thead>\n",
       "  <tbody>\n",
       "    <tr>\n",
       "      <th>1777</th>\n",
       "      <td>CHEMBL207869</td>\n",
       "      <td>77.0</td>\n",
       "      <td>nM</td>\n",
       "      <td>Clc1c(OCc2cc(F)ccc2)ccc(Nc2c(C#Cc3ncccn3)cncn2)c1</td>\n",
       "      <td>7.113509</td>\n",
       "      <td><img data-content=\"rdkit/molecule\" src=\"data:image/png;base64,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\" alt=\"Mol\"/></td>\n",
       "      <td>[[0, 0, 0, 0, 0, 0, 0, 0, 0, 0, 0, 0, 0, 0, 0,...</td>\n",
       "      <td>[[0.0, 0.0, 0.0, 0.0, 0.0, 0.0, 0.0, 0.0, 0.0,...</td>\n",
       "      <td>Lc1c(OCc2cc(F)ccc2)ccc(Nc2c(C#Cc3ncccn3)cncn2)c1</td>\n",
       "      <td>[[0.0, 0.0, 0.0, 0.0, 0.0, 0.0, 0.0, 0.0, 0.0,...</td>\n",
       "      <td>[[0.0, 0.0, 0.0, 0.0, 0.0, 0.0, 0.0, 0.0, 0.0,...</td>\n",
       "      <td>[[0.0, 0.0, 0.0, 0.0, 0.0, 0.0, 0.0, 0.0, 0.0,...</td>\n",
       "      <td>[[0.0, 0.0, 0.0, 0.0, 0.0, 0.0, 0.0, 0.0, 0.0,...</td>\n",
       "    </tr>\n",
       "    <tr>\n",
       "      <th>5785</th>\n",
       "      <td>CHEMBL3940060</td>\n",
       "      <td>330.0</td>\n",
       "      <td>nM</td>\n",
       "      <td>ClCC(=O)OCCN1C(=O)Oc2c1cc1c(Nc3cc(Cl)c(F)cc3)n...</td>\n",
       "      <td>6.481486</td>\n",
       "      <td><img data-content=\"rdkit/molecule\" src=\"data:image/png;base64,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\" alt=\"Mol\"/></td>\n",
       "      <td>[[0, 0, 0, 0, 0, 0, 0, 0, 0, 0, 0, 0, 0, 0, 0,...</td>\n",
       "      <td>[[0.0, 0.0, 0.0, 0.0, 0.0, 0.0, 0.0, 0.0, 0.0,...</td>\n",
       "      <td>LCC(=O)OCCN1C(=O)Oc2c1cc1c(Nc3cc(L)c(F)cc3)ncn...</td>\n",
       "      <td>[[0.0, 0.0, 0.0, 1.0, 0.0, 0.0, 0.0, 0.0, 0.0,...</td>\n",
       "      <td>[[0.0, 0.0, 0.0, 1.0, 0.0, 0.0, 0.0, 0.0, 0.0,...</td>\n",
       "      <td>[[0.0, 0.0, 0.0, 1.0, 0.0, 0.0, 0.0, 0.0, 0.0,...</td>\n",
       "      <td>[[0.0, 0.0, 0.0, 0.0, 1.0, 0.0, 0.0, 0.0, 0.0,...</td>\n",
       "    </tr>\n",
       "    <tr>\n",
       "      <th>6373</th>\n",
       "      <td>CHEMBL3678951</td>\n",
       "      <td>1.0</td>\n",
       "      <td>nM</td>\n",
       "      <td>FC(F)(F)c1cc(Nc2n(C(C)C)c3nc(Nc4ccc(N5CC[NH+](...</td>\n",
       "      <td>9.000000</td>\n",
       "      <td><img data-content=\"rdkit/molecule\" src=\"data:image/png;base64,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\" alt=\"Mol\"/></td>\n",
       "      <td>[[0, 0, 0, 0, 0, 0, 0, 0, 0, 0, 0, 0, 0, 0, 0,...</td>\n",
       "      <td>[[0.0, 0.0, 0.0, 0.0, 0.0, 0.0, 0.0, 0.0, 0.0,...</td>\n",
       "      <td>FC(F)(F)c1cc(Nc2n(C(C)C)c3nc(Nc4ccc(N5CC[NH+](...</td>\n",
       "      <td>[[0.0, 0.0, 1.0, 0.0, 0.0, 1.0, 0.0, 0.0, 0.0,...</td>\n",
       "      <td>[[0.0, 0.0, 1.0, 0.0, 0.0, 1.0, 0.0, 0.0, 0.0,...</td>\n",
       "      <td>[[0.0, 0.0, 1.0, 0.0, 0.0, 1.0, 0.0, 0.0, 0.0,...</td>\n",
       "      <td>[[0.0, 0.0, 1.0, 0.0, 0.0, 1.0, 0.0, 0.0, 0.0,...</td>\n",
       "    </tr>\n",
       "    <tr>\n",
       "      <th>2442</th>\n",
       "      <td>CHEMBL504034</td>\n",
       "      <td>40.0</td>\n",
       "      <td>nM</td>\n",
       "      <td>Clc1c(OCc2cc(F)ccc2)ccc(Nc2ncnc3c2sc(C#C[C@H]2...</td>\n",
       "      <td>7.397940</td>\n",
       "      <td><img data-content=\"rdkit/molecule\" src=\"data:image/png;base64,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\" alt=\"Mol\"/></td>\n",
       "      <td>[[0, 0, 0, 0, 0, 0, 0, 0, 0, 0, 0, 0, 0, 0, 0,...</td>\n",
       "      <td>[[0.0, 0.0, 0.0, 0.0, 0.0, 0.0, 0.0, 0.0, 0.0,...</td>\n",
       "      <td>Lc1c(OCc2cc(F)ccc2)ccc(Nc2ncnc3c2sc(C#C[C@H]2N...</td>\n",
       "      <td>[[0.0, 0.0, 0.0, 0.0, 0.0, 0.0, 0.0, 0.0, 0.0,...</td>\n",
       "      <td>[[0.0, 0.0, 0.0, 0.0, 0.0, 0.0, 0.0, 0.0, 0.0,...</td>\n",
       "      <td>[[0.0, 0.0, 0.0, 0.0, 0.0, 0.0, 0.0, 0.0, 0.0,...</td>\n",
       "      <td>[[0.0, 0.0, 0.0, 0.0, 0.0, 0.0, 0.0, 0.0, 0.0,...</td>\n",
       "    </tr>\n",
       "    <tr>\n",
       "      <th>1084</th>\n",
       "      <td>CHEMBL158797</td>\n",
       "      <td>43000.0</td>\n",
       "      <td>nM</td>\n",
       "      <td>S(Sc1n(C)c2c(c1C(=O)NCC(O)CO)cccc2)c1n(C)c2c(c...</td>\n",
       "      <td>4.366531</td>\n",
       "      <td><img data-content=\"rdkit/molecule\" src=\"data:image/png;base64,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\" alt=\"Mol\"/></td>\n",
       "      <td>[[0, 0, 0, 0, 0, 0, 0, 0, 0, 0, 0, 0, 0, 0, 0,...</td>\n",
       "      <td>[[0.0, 0.0, 0.0, 0.0, 0.0, 0.0, 0.0, 0.0, 0.0,...</td>\n",
       "      <td>S(Sc1n(C)c2c(c1C(=O)NCC(O)CO)cccc2)c1n(C)c2c(c...</td>\n",
       "      <td>[[0.0, 1.0, 0.0, 0.0, 0.0, 0.0, 1.0, 0.0, 0.0,...</td>\n",
       "      <td>[[0.0, 1.0, 0.0, 0.0, 0.0, 0.0, 1.0, 0.0, 0.0,...</td>\n",
       "      <td>[[0.0, 1.0, 0.0, 0.0, 0.0, 0.0, 1.0, 0.0, 0.0,...</td>\n",
       "      <td>[[0.0, 1.0, 0.0, 0.0, 0.0, 0.0, 1.0, 0.0, 0.0,...</td>\n",
       "    </tr>\n",
       "  </tbody>\n",
       "</table>\n",
       "</div>"
      ],
      "text/plain": [
       "          chembl_id     IC50 units  \\\n",
       "1777   CHEMBL207869     77.0    nM   \n",
       "5785  CHEMBL3940060    330.0    nM   \n",
       "6373  CHEMBL3678951      1.0    nM   \n",
       "2442   CHEMBL504034     40.0    nM   \n",
       "1084   CHEMBL158797  43000.0    nM   \n",
       "\n",
       "                                       canonical_smiles   pIC50\\r  \\\n",
       "1777  Clc1c(OCc2cc(F)ccc2)ccc(Nc2c(C#Cc3ncccn3)cncn2)c1  7.113509   \n",
       "5785  ClCC(=O)OCCN1C(=O)Oc2c1cc1c(Nc3cc(Cl)c(F)cc3)n...  6.481486   \n",
       "6373  FC(F)(F)c1cc(Nc2n(C(C)C)c3nc(Nc4ccc(N5CC[NH+](...  9.000000   \n",
       "2442  Clc1c(OCc2cc(F)ccc2)ccc(Nc2ncnc3c2sc(C#C[C@H]2...  7.397940   \n",
       "1084  S(Sc1n(C)c2c(c1C(=O)NCC(O)CO)cccc2)c1n(C)c2c(c...  4.366531   \n",
       "\n",
       "                                             2D_Figures  \\\n",
       "1777  <img data-content=\"rdkit/molecule\" src=\"data:i...   \n",
       "5785  <img data-content=\"rdkit/molecule\" src=\"data:i...   \n",
       "6373  <img data-content=\"rdkit/molecule\" src=\"data:i...   \n",
       "2442  <img data-content=\"rdkit/molecule\" src=\"data:i...   \n",
       "1084  <img data-content=\"rdkit/molecule\" src=\"data:i...   \n",
       "\n",
       "                                     Own_OneHotEncoding  \\\n",
       "1777  [[0, 0, 0, 0, 0, 0, 0, 0, 0, 0, 0, 0, 0, 0, 0,...   \n",
       "5785  [[0, 0, 0, 0, 0, 0, 0, 0, 0, 0, 0, 0, 0, 0, 0,...   \n",
       "6373  [[0, 0, 0, 0, 0, 0, 0, 0, 0, 0, 0, 0, 0, 0, 0,...   \n",
       "2442  [[0, 0, 0, 0, 0, 0, 0, 0, 0, 0, 0, 0, 0, 0, 0,...   \n",
       "1084  [[0, 0, 0, 0, 0, 0, 0, 0, 0, 0, 0, 0, 0, 0, 0,...   \n",
       "\n",
       "                              UniqueChar_OneHotEncoding  \\\n",
       "1777  [[0.0, 0.0, 0.0, 0.0, 0.0, 0.0, 0.0, 0.0, 0.0,...   \n",
       "5785  [[0.0, 0.0, 0.0, 0.0, 0.0, 0.0, 0.0, 0.0, 0.0,...   \n",
       "6373  [[0.0, 0.0, 0.0, 0.0, 0.0, 0.0, 0.0, 0.0, 0.0,...   \n",
       "2442  [[0.0, 0.0, 0.0, 0.0, 0.0, 0.0, 0.0, 0.0, 0.0,...   \n",
       "1084  [[0.0, 0.0, 0.0, 0.0, 0.0, 0.0, 0.0, 0.0, 0.0,...   \n",
       "\n",
       "                             Processed_canonical_smiles  \\\n",
       "1777   Lc1c(OCc2cc(F)ccc2)ccc(Nc2c(C#Cc3ncccn3)cncn2)c1   \n",
       "5785  LCC(=O)OCCN1C(=O)Oc2c1cc1c(Nc3cc(L)c(F)cc3)ncn...   \n",
       "6373  FC(F)(F)c1cc(Nc2n(C(C)C)c3nc(Nc4ccc(N5CC[NH+](...   \n",
       "2442  Lc1c(OCc2cc(F)ccc2)ccc(Nc2ncnc3c2sc(C#C[C@H]2N...   \n",
       "1084  S(Sc1n(C)c2c(c1C(=O)NCC(O)CO)cccc2)c1n(C)c2c(c...   \n",
       "\n",
       "                               sklearn_OneHotEncoded_WP  \\\n",
       "1777  [[0.0, 0.0, 0.0, 0.0, 0.0, 0.0, 0.0, 0.0, 0.0,...   \n",
       "5785  [[0.0, 0.0, 0.0, 1.0, 0.0, 0.0, 0.0, 0.0, 0.0,...   \n",
       "6373  [[0.0, 0.0, 1.0, 0.0, 0.0, 1.0, 0.0, 0.0, 0.0,...   \n",
       "2442  [[0.0, 0.0, 0.0, 0.0, 0.0, 0.0, 0.0, 0.0, 0.0,...   \n",
       "1084  [[0.0, 1.0, 0.0, 0.0, 0.0, 0.0, 1.0, 0.0, 0.0,...   \n",
       "\n",
       "                            sklearn_OneHotEncoded_later  \\\n",
       "1777  [[0.0, 0.0, 0.0, 0.0, 0.0, 0.0, 0.0, 0.0, 0.0,...   \n",
       "5785  [[0.0, 0.0, 0.0, 1.0, 0.0, 0.0, 0.0, 0.0, 0.0,...   \n",
       "6373  [[0.0, 0.0, 1.0, 0.0, 0.0, 1.0, 0.0, 0.0, 0.0,...   \n",
       "2442  [[0.0, 0.0, 0.0, 0.0, 0.0, 0.0, 0.0, 0.0, 0.0,...   \n",
       "1084  [[0.0, 1.0, 0.0, 0.0, 0.0, 0.0, 1.0, 0.0, 0.0,...   \n",
       "\n",
       "                          sklearn_OneHotEncoded_initial  \\\n",
       "1777  [[0.0, 0.0, 0.0, 0.0, 0.0, 0.0, 0.0, 0.0, 0.0,...   \n",
       "5785  [[0.0, 0.0, 0.0, 1.0, 0.0, 0.0, 0.0, 0.0, 0.0,...   \n",
       "6373  [[0.0, 0.0, 1.0, 0.0, 0.0, 1.0, 0.0, 0.0, 0.0,...   \n",
       "2442  [[0.0, 0.0, 0.0, 0.0, 0.0, 0.0, 0.0, 0.0, 0.0,...   \n",
       "1084  [[0.0, 1.0, 0.0, 0.0, 0.0, 0.0, 1.0, 0.0, 0.0,...   \n",
       "\n",
       "                                    keras_OneHotEncoded  \n",
       "1777  [[0.0, 0.0, 0.0, 0.0, 0.0, 0.0, 0.0, 0.0, 0.0,...  \n",
       "5785  [[0.0, 0.0, 0.0, 0.0, 1.0, 0.0, 0.0, 0.0, 0.0,...  \n",
       "6373  [[0.0, 0.0, 1.0, 0.0, 0.0, 1.0, 0.0, 0.0, 0.0,...  \n",
       "2442  [[0.0, 0.0, 0.0, 0.0, 0.0, 0.0, 0.0, 0.0, 0.0,...  \n",
       "1084  [[0.0, 1.0, 0.0, 0.0, 0.0, 0.0, 1.0, 0.0, 0.0,...  "
      ]
     },
     "execution_count": 40,
     "metadata": {},
     "output_type": "execute_result"
    }
   ],
   "source": [
    "# Iterate over the SMILES \n",
    "start = timer()\n",
    "for i in range(0, 3906):\n",
    "    canonical_char = split(df['canonical_smiles'].iloc[i])\n",
    "    kerasOHC = keras_OneHotEncode(canonical_char)\n",
    "    df['keras_OneHotEncoded'].iloc[i] = kerasOHC.transpose()\n",
    "end = timer()\n",
    "df.head() # NBVAL_CHECK_OUTPUT"
   ]
  },
  {
   "cell_type": "code",
   "execution_count": 41,
   "metadata": {},
   "outputs": [
    {
     "name": "stdout",
     "output_type": "stream",
     "text": [
      "1.0035680000000013 secs\n"
     ]
    }
   ],
   "source": [
    "# Print time required for execution\n",
    "keras_time = end - start\n",
    "print(str(keras_time) + ' secs') # NBVAL_CHECK_OUTPUT"
   ]
  },
  {
   "cell_type": "markdown",
   "metadata": {},
   "source": [
    "##### Visualization with Matplotlib.imshow() function "
   ]
  },
  {
   "cell_type": "code",
   "execution_count": 42,
   "metadata": {},
   "outputs": [
    {
     "data": {
      "image/png": "[encoded data removed]",
      "text/plain": [
       "<Figure size 432x288 with 2 Axes>"
      ]
     },
     "metadata": {
      "needs_background": "light"
     },
     "output_type": "display_data"
    },
    {
     "data": {
      "text/plain": [
       "(13, 49)"
      ]
     },
     "execution_count": 42,
     "metadata": {},
     "output_type": "execute_result"
    }
   ],
   "source": [
    "# Visualization of one hot encoded matrix using matplotlib imshow() function\n",
    "First_OneHotEncoded_matrix8 = df.iloc[0]['keras_OneHotEncoded']\n",
    "im = plt.imshow(First_OneHotEncoded_matrix8, cmap='hot', interpolation='None')\n",
    "plt.colorbar(im, orientation='horizontal')\n",
    "plt.xlabel('Length of string')\n",
    "plt.ylabel('Possible char in individual SMILES')\n",
    "plt.title('Visualization of one hot encoded matrix')\n",
    "# plt.axis('auto')\n",
    "plt.show() # NBVAL_CHECK_OUTPUT\n",
    "\n",
    "# Check the dimension of the one hot encoded matrix\n",
    "First_OneHotEncoded_matrix8.shape # NBVAL_CHECK_OUTPUT"
   ]
  },
  {
   "cell_type": "markdown",
   "metadata": {},
   "source": [
    "#### With padding (equal dimension)"
   ]
  },
  {
   "cell_type": "code",
   "execution_count": 43,
   "metadata": {},
   "outputs": [],
   "source": [
    "# Create new column which has one hot encoded SMILES using keras implementation\n",
    "df['keras_OneHotEncoded_padding'] = ''"
   ]
  },
  {
   "cell_type": "code",
   "execution_count": 44,
   "metadata": {},
   "outputs": [
    {
     "data": {
      "text/html": [
       "<div>\n",
       "<style scoped>\n",
       "    .dataframe tbody tr th:only-of-type {\n",
       "        vertical-align: middle;\n",
       "    }\n",
       "\n",
       "    .dataframe tbody tr th {\n",
       "        vertical-align: top;\n",
       "    }\n",
       "\n",
       "    .dataframe thead th {\n",
       "        text-align: right;\n",
       "    }\n",
       "</style>\n",
       "<table border=\"1\" class=\"dataframe\">\n",
       "  <thead>\n",
       "    <tr style=\"text-align: right;\">\n",
       "      <th></th>\n",
       "      <th>chembl_id</th>\n",
       "      <th>IC50</th>\n",
       "      <th>units</th>\n",
       "      <th>canonical_smiles</th>\n",
       "      <th>pIC50\\r</th>\n",
       "      <th>2D_Figures</th>\n",
       "      <th>Own_OneHotEncoding</th>\n",
       "      <th>UniqueChar_OneHotEncoding</th>\n",
       "      <th>Processed_canonical_smiles</th>\n",
       "      <th>sklearn_OneHotEncoded_WP</th>\n",
       "      <th>sklearn_OneHotEncoded_later</th>\n",
       "      <th>sklearn_OneHotEncoded_initial</th>\n",
       "      <th>keras_OneHotEncoded</th>\n",
       "      <th>keras_OneHotEncoded_padding</th>\n",
       "    </tr>\n",
       "  </thead>\n",
       "  <tbody>\n",
       "    <tr>\n",
       "      <th>1777</th>\n",
       "      <td>CHEMBL207869</td>\n",
       "      <td>77.0</td>\n",
       "      <td>nM</td>\n",
       "      <td>Clc1c(OCc2cc(F)ccc2)ccc(Nc2c(C#Cc3ncccn3)cncn2)c1</td>\n",
       "      <td>7.113509</td>\n",
       "      <td><img data-content=\"rdkit/molecule\" src=\"data:image/png;base64,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\" alt=\"Mol\"/></td>\n",
       "      <td>[[0, 0, 0, 0, 0, 0, 0, 0, 0, 0, 0, 0, 0, 0, 0,...</td>\n",
       "      <td>[[0.0, 0.0, 0.0, 0.0, 0.0, 0.0, 0.0, 0.0, 0.0,...</td>\n",
       "      <td>Lc1c(OCc2cc(F)ccc2)ccc(Nc2c(C#Cc3ncccn3)cncn2)c1</td>\n",
       "      <td>[[0.0, 0.0, 0.0, 0.0, 0.0, 0.0, 0.0, 0.0, 0.0,...</td>\n",
       "      <td>[[0.0, 0.0, 0.0, 0.0, 0.0, 0.0, 0.0, 0.0, 0.0,...</td>\n",
       "      <td>[[0.0, 0.0, 0.0, 0.0, 0.0, 0.0, 0.0, 0.0, 0.0,...</td>\n",
       "      <td>[[0.0, 0.0, 0.0, 0.0, 0.0, 0.0, 0.0, 0.0, 0.0,...</td>\n",
       "      <td>[[0.0, 0.0, 0.0, 0.0, 0.0, 0.0, 0.0, 0.0, 0.0,...</td>\n",
       "    </tr>\n",
       "    <tr>\n",
       "      <th>5785</th>\n",
       "      <td>CHEMBL3940060</td>\n",
       "      <td>330.0</td>\n",
       "      <td>nM</td>\n",
       "      <td>ClCC(=O)OCCN1C(=O)Oc2c1cc1c(Nc3cc(Cl)c(F)cc3)n...</td>\n",
       "      <td>6.481486</td>\n",
       "      <td><img data-content=\"rdkit/molecule\" src=\"data:image/png;base64,iVBORw0KGgoAAAANSUhEUgAAAMgAAADICAIAAAAiOjnJAAAABmJLR0QA/wD/AP+gvaeTAAAXnUlEQVR4nO2de1RU19XA98zwdBhmEMVHFAQUNBqloomWGI3iAxFtjdNWa0iyimM+WUATbcCVptisrGRqqw5fll8zappSo2lHayIGjIogIooEH0hilUd4FKNA0BkYnvM43x8HxwkiDjP3MA/3b/nHdebefQ/en/sc7t3nHh4hBBCEa/j2bgDimqBYCBNQLIQJKBbCBBQLYQKKhTABxUKYgGIhTECxECagWAgTUCyECSgWwgQUC2ECioUwAcVCmIBiIUxAsRAmoFgIE1AshAkoFsIEFAthAoqFMAHFQpiAYiFMQLEQJqBYCBNQLIQJKBbCBBQLYQKKhTABxUKYgGIhTECxECagWAgTUCyECSgWwgQUC2ECioUwAcVCmIBiIUxAsRAmoFgIE1AshAkoFsIEFAthAoqFMAHFQpiAYiFMQLEQJqBYduP4cQCAqiqoqrJ3UxjgZu8GPLlUVEBFBYSFQWgo6HTg7m7vBnEKZiyLuHr16qVLl5qbm20PpdfD9u1QVgYAEBYGX3wB2dkwcSJkZEB3t+3hHQaCDEhjY+OaNWv4fH5gYKBQKExOTr59+7bV0crLyezZBIDMnEl27SKEEJmMLFlCAAgAmTCB7N1Leno4a7wdQbEG4tNPP/X39wcAkUgUGRnJ4/EAQCgUvvXWW01NTYMKpdMRuZx4ehIAMnYsycp68JXBQLKySEREr16BgUShIF1dHP8sQwyK1T+3b9/++c9/TpP60qVL6+rqCCFlZWVSqdSkl+XZq6yMREYSAMLjEZmMtLY+fLof6eXlRSIjVyoUii6n9QvF6geVSkUTlVgsViqVRqORfl5UVKTT6QalV3d39zvvvLNgwUcAJCSE5OX1s09bGxk5kkRFkbw8YjCQzz4jv/hFMXU6ODh43759PU7YO7qcWAoFUShIT491Q5Xvv/9+1apV9KLGxMTU19ebvqqtrfXw8JgwYYJSqbRQr5KSkmnTpgGASOSbmqrWavs/aUEB8fXt7QeXLCFFRUaDwZCVlRUREUFbEhQU5HTZy7XEUih6NzZsIMOGkehoIpeT0lJiMDz2UKPRmJmZ6efnBwASiUSpVPbZ4dy5c5MmTaJXetKkSZmZmQPo1dnZmZ6e7u7uDgAhISH5+fkDn721lcjlRCIhAGT+/EtRUVH5+fkGg+HgwYNTpkyhJ91FR/tOgouKtWJFbwagf/z9yZo1P+zbd+PGjX6Pq6mpiY6OptdvxYoVDQ0N/e5mMBhUKlV4eLipn6LZq6SkJDY2ln7o4+MTHx8fFhYGAAKBYMuWLR0dHRY2v6WFvPMOCQ2NMo3tzp8/bzAYDhw4MHz4cLFYfOHChcH/o9gHVxHr3j0ik5EDB3q7wspK0thIVCoik5HgYKrX/73wAgCMGjVKKpUqlcra2lpCiNFoVCqVIpEIAPz8/B5OVA/zKL2uXr1Ks9ewYcMAYOLEiQUFBVb8KC0tLb///e99fX0BwN3dnabAxYsXA8BXX31lRUC74CpiJSQQALJiRf/fVlWRPXt2/fa3AQEB5vfwwsPDJ0+eTLd/+ctfDuoOgk6ny8zMNHWOYWFhubm5hJCjR48CwPDhw20cElG9Nm/eTP+6Zs0aAPjXv/5lS8yhxCXEOnOG8HjE05N8++1j962urlYqlVKplA6nJkyYIJFIDh8+bN2ZafaiHV9xcTEhRK1W0/te1gV8FAkJCQCwZ88ebsOyw/nF6uoikycTAPLuu4M6TqfTJSUlAcCmTZtsbIJOpzN1UgaDgc/n83g8vV5vY1hzNm/eDADbt2/nMCZTnP9Z4bZtcOMGTJsGqamDOs7NzW369OkA0NXVZWMT3Nzcli5dSrf5fD5NV21tbTaGNUcsFgOARqPhMCZTnFssw7VrsGMH8Pmwdy94eFh4VFpaWkBAwP79+xldLRqW9oncxkSxhgKDwTBfJsv+6U/1b7wBc+ZYfmB3d3dzc3NzczNTsbgN6+//mkRyt7U1g8OYTHHieiyFQlF08eKmwMBvjh0TDeZA04V3IrGEQpFaDZwmQbY4a8aqq6vbtm0bAHz44Yf0LpTlmC68RCIBJxFLIgEAcJ6e0MEzVleXRqNpam3VaDRqtVqtVms0Go1GExIS8tFHH2m12nXr1q1cuXKwUftkLG4HQwDAwlexGADFspL33oOCAlCrQaPp/dPdXTJ//pKCgj47zpw58/Lly8OHD9+1a5cV5zFdeKcavAOAM3WFDiBWRgYAQEoKlJVBbu6PvvLwkAiFoaGhEolEIpGI73PkyBEA2LlzZ5876RZiuvDe3t4eHh7d3d3d3d2enp62/yjm8TFj2ZWMDEhJ6d343e9AJgOx+MEfb+/ZAKY5LO3t7bQrrK6urq+v7+npse6c5hdeLBY3NzdrNBrrHH1sfO5iAgC0tgIhwONxGJgV9hbLHELg2rUH/WBrK2g0tSNHLvr6a+qTXq+nO44cORIAEhMTw8LC5s+fP9jzPCyWWq12cLHc3KClBXx9ncMqsL9YYWG9XWFsLBw8COnpfb73mTXru+++o9ve3t60KwwMDJw6dapCoXjppZdKSkpCQkIGdc4+YgFHEhiNRj6fDxwN3o8fh/HjYdq0B3+NiemdgThxoo0tHQrsLVZMDMTE9G7PnQtvvPGgH/T1BbHY29+/UiSiPnmY3Vs3GAwVFRU5OTmrV68uKioSCoWWn9P8wnMill6v37FjR05OTl5enkAgsHHwrlZDairs3QszZkBJCbi7AyEPJiHeL6dweOz9sNJ67t69S8sKNm5MvV+VbilJSUlbt27V6/WrV68GAKurGwghly9fnjFjBgDweLxTp04RQvbu3QsAY8aM+c9//jPYaNnZZNw4AkC8vYlcTvR6olKRp58m771HcnKITEYqK61u6ZDixGIRQm7cuLFw4WtCoXbbNisjvPrqqwCwb98+K47t6emRy+U0jwYHB58+fbqjo2PLli0CgcDLywsA+Hy+VCq1UK/m5uZ169b95CctAOT558nNm+T2bbJ6dW8NLK00Q7GGjhMniJsb4fHIYGvgbt26JZfL/fz8RowYERQUpFKpjIPJe1euXKGTHXg8nkwma2trKyoqomWDbm5ur7322qZNmyzX69ChQ/S3h7CwpRkZRoOBqFRkxAgCQHx9iUJhSdW+Y+H0YhFC/vKX3r6jtPTxO/f09Hz++eexsbECgYAOBujvmADw3HPP5eTkPDZCZ2dnamoqPTw0NDQ/P7+jo8P0ydSpUy9evEj3rK+vT05OHlivnp4eWh0KAC+++GJ1dfWtW22mkv1ly4jZRCFnwhXEIvcrk4OCSGPjI/epqCDbtx8fPXo0vYqenp5r167Nzc3VarUKhWLMmDH08zlz5mRlZT0qe50/f56mJT6fL5PJtFptYWEhHeq5ubmlpqY+XJH8sF595nTEx8cPGzZMLpfTetQRIwJmzLgnFhOlkgx27Og4uIhYXV1k7tzeeXkPf6VSkehowuORwMAqHo83efJkuVzep8K9vb39Yb36hOro6Bg1apQpLbW3t6emptJbDM8888zXX389QAvr6uoepdfdu3fr6urq6upM1YKvvpp+65at/yb2xUXEIoTcvk3mzCHmF7esjCQlET+/3m7Fx4f85jfk4sXyAYL0m73Md1CpVG+//XZXV9eJEyeCgoIAwN3dPTU1tbu725JG9qsXnSlEp+X0O6XRGXEdsSh0jFRZSa5dI0Jhr1LPPkv27OnnjQmPYmC91Gq1TCajk1RnzJhx+fLlwTaytrZ2w4YNdDqrQCCgggLASy+9dOfOncFGc0xcTSw6rTAnh1RWkjffJMnJpKzMylBUL9OYjOqVk5Mzfvx4APDy8kpPT7flrQo0e7m7uwcFBUkkkszMTKtDOSAuKBa3NxK1Wu2f/vQn02+OlLlz51px87Nf3nrrLQBISkriJJrj4KwVpI+CkAePiDiBvg2rpqZGoVBERETEx8fv2LGjsLDQNNPVRiZMmAAAVldqOCz2flbINbduwfTp8MEHHD+pFQqFKSkpycnJPK6rC5xu+o2FuFrGys2F8nLw9mYSnHOrgE0dsyPgUmK1tMC1a+DlBXPn2rspFsOo7t7uuJRY+flgNEJUFKuMxQJX7Qpdaox1+jQAwMKF9m7HYJBIxi1YUOTjM7gZbI4PjxBi7zZwRng4VFRAcTE895y9m2Ixra0gFoOPD3D6qgf74zpdYUODRqfr8fWFyEh7N2UwiEQgEEB7O9wv6HcRXEes06e/qKnxXL58k5tTde88HohEQAi0ttq7KZziOmLl5eUBwJw54fZuyKBxujmDluBqYi10rqE7AKBYjszNmzcbGhoCAgKmmSZMOQ8uKZZTjUcezenTpwFg4cKFLG6OsyYpCaRSCA7mMualS5caGhouXLjw+uuv08eRQ429n4JzgF6vp2+rdpZ3v5qKxiorf7TNCaa5Q/St4O7u7i+//HLlkE/uceKu8M6dO4cOHYqPjw8ICMjLy3v22WedZYBVUQFVVVBZ2budkdG7bfstxeLi4oiIiLS0NL1ev3LlynXr1hmNxv379z/99NMymay2ttbWE1jOEItsI1qt9ssvv0xOTu5TtTJp0qRvLXgXt4NAi8boOgfmBWQff0yiokhurjUxzWcKhYaGnjlzhn7+3XffyWQyNzc3GNrs5RxiVVdXKxSK6Oho85cNCYXC6OhouVx+/fp1ezdwcNCVWWiZK92mYtGl5wDIiy+SQS1qYT6lMTk5ub29nX5eWVm5a9eujo6OodfLccVqampSqVQymeypp54yycTn8yMjI1NTU0+dOmXh/AUnoq2NyOUPZn9Ykr36TGksKSkx//aVV14BgJEjR8rl8vb29qHUy0HF+u9//0tLyymBgYEJCQkqlaqlpcXeTWOOWk3++MdevYTCtri41WfPnu13z8LCQrrmyqOmNGZnZ8+aNYv+G44ZM0ahUPSbvaqqqjj/KRxRLKPROHr0aG9v70WLFikUCq6qy50LqteyZX+mWixcuNBcL/MpjdOnTy8dcA74qVOnZs+eTePQ7NXR0XHz5s3169fTVOfh4bF161Zu2++IYpWXlwPA2LFj7d0Q+9Pa2kpfMEG1iIqKOn369FdffRUYGAiDnNJorldAQADVi2YvgUCwePHivH6Xf7UWRxRLoVAAwMsvv2zvhjgK9+7d27ZtGy1ihvsV0rNnzy4vH2jy7cMYjcasrKzI++UfY8eOpUOLlJQUAHj77bc5bLMj3sdy3qd+jJBIJOnp6fX19XK53MfHx8fHZ+vWrRcuXBjs8ysejxcXF1daWkqz18yZM4cPHw4AoaGhwHl5NIeScoJer6f/NelClUgf6MJSV65csTGO0WhUq9V0OzMzEwDWr19vc+se4HAZq7S0VK1WT5o0yTTxHDHHVCNfWFi4efPmw4cPWxeHx+PRUMCm7t7hxNJfujR/xoyYJUvs3RAHxSTBN998s3PnTvr03UZYTEGzQayMjN4XHnNK1JEjZ8rKMgb/ku0nBBbrtbCYgmatWPTF/ykpvW7ZvJZkL11dcP488HiwYAE3AV0OFuu1OGpXeP48BAfDmTPchOrshBkz4Mcv4UBMmLKLg4tlbaGf+Yv/t2+HO3dg5UrIzoZ582xqTl4eAMCiRTYFcWlYLLYoFot5PF5rayshhKtKSWszVkwMpKTAnDnw6afw17/CK69AWxssW9ZrhtU445TToYWFWAKBQCgUGo1GDtextqE0ua0N4uKguRm0Wvjb34DPh08+gbg4OHoUoqOtDHjpEri5wfPPW98qV4fRKp5isVir1Wo0GvrGStuxYYwlEsHf/w5eXrBjByQmwt69kJAAHR2walVFfr41AQmBnTthyxbg6GdzSUxiiUQiPp+v1Wr1XEx15XyYZdvgfflyOHIEvLzgo48gMRGUSnj99cOzZk2PiTl27Nigo33yCRgM8MEHNjXJ1TElKh6PJxKJCCGc9F8OJhYAxMTAv/8NXl6gVEJSknH37sKIiO7u7jVr1mRlZVkU4cYN+PjjvvcvkEdgfs/JRhuampq0Wi3d5vweKRe3G5Yvh6NHwdv75PXrGzdu3LlzZ0pKSk9Pj1Qq/eKLL/o/RKuFY8dg40YIDoYpUyAhAVpaOGjJE4C5TOPHjw8MDOzs7LQizqFDh6ZNm5aWlmYelst7pFw9dPwuP9/b2xsAEhISDAbD1q1bAcDDw+PIkSN0B51Od+7cuW1/+INx3jwiEPSW3wKQgADy61+TvXt733jsLKsQ2Qna8Q0bNszqCN9///2qVavo1V+6dKlOp6uvrw8JCfHz85s+fXpxcTEn7eSyuqGgoMDHxwcA1q5dq9PptmzZAgCBgYG7d++WSqWmarW7ERHEzY1ERpL0dFJa6nzrD9kbWlXc2dlpxbEqlcrf35+mKKVSaTAY9uzZQ38TpNcOAJYvX25aDshqOC6bKSwsFIlEAPCrX/1Kp9MF/3h6b3h4eHJycuXJk0Sr5fa8TxQpKSlisTg4OFipVOr1eguPMk9Uy5Ytq6+vr6mpib5/Yyg2Nra8vDw9Pd1U8hAdHW2LXtzXY509e5a69dRTT40bN04oFK5YsUKpVNbU1HB+rieTmzdvmlYrnjJlyoEDBwyPy/oqlYrW9NElVegiK/Qy+fn5mS+y0tzcnJaWZspe6efOfWtVFmBS6FdUVBQSEiIQCDw8PDQaDYtTPOH09PRkZmZOur+O75QpUzIzM/vNXrW1tfT9AzQtNTQ0VFdXm6pzpVJpn8WqKD/88EN6evpzP/vZ7NLSyNLS/6mo+GaQerGqID106BAALFiwgFF8hFimV3FxsUAgoGmJJiqajUaNGvXYBYvv9fR82NAw7/LlyNLSyNLSlMpKy7MXK7ESExMB4N1332UUHzHxWL3279/f2NhYVVU1/36Vm1QqbW5utjD+PZ3uf830+l11tSWLKLISi874LioqYhQf6QPVa+L9BTnM9dLpdAqFgr58ZvTo0Z9//rkV8dU6nfLWrflXrmyvry9Sqw82Nh4cYNFRRmLdunULAEQikS2LYyFW8LBe77//vmk6oVQqtXEq+T2d7p5ON7BSFCZi/eMf/6BDRRbBkcdirpdQKASAoKCgEydOcBX/YGNjkVpd/9CMfnOYTKbAiYH2xd3dPT4+/vr162lpae3t7ePGjSsvL1/C6fyUn4rF483e/PMwTMTKz88HgEVYCGpX3N3d169fDwAikYjesuKKtQEBj92He7EqKyvr6ur8/f2feeYZzoMjg8KOC/VwL5apH6TvQkHsiB3XrOP+2tMplNgPOgJCodDNza29vV2n0w3xqTkWixBy5swZQLEcAx6PRysXWod8QRWO3/N+7dq15ubm8ePHT+R26VzEWsZPHe9j8NF0avzBfyjPy7FY2A86Gjwlr76zXj18qFdw5UYso9F49erVkydP0nem4R0sx0EsEAOAxjDU43ebxGpqaiooKMjNzc3OzqaPcQBg9+7dcXFxXLQN4QCnEUtP9MXtxV9qvsxtyxW+Lzy7/yz9PCgoaMl9uJr0iNiORCABRxbrju7OZ/c+O9l68qz2bIexg34474V5sXdjly5dumTJkvBw51so8EmAZiy1wcHGWBlNGQCQEpDyz3v/fLPhTfphiGfICvGKOHHcvJ/M80wY6IERYnccsSvMaMpICUip6q6q6q4ihGwYseEFnxcWixaPch81ZO1DbGS0++gQzxCRgMtnhZbw+K5woudEAODz+HsC97BvD8IxiSMTE0cmDv15B7rzHuYVltGUkdGUUdVdNWQNQriFXkEAON56fCjPyyO2L5KHOCqmwQwAZGuyUwJShuzULrJ0LzIAdDAzxKBYrgwdzABArDh2iE+NXSHCBKzFQ5iAYiFMQLEQJqBYCBNQLIQJKBbCBBQLYQKKhTABxUKYgGIhTECxECagWAgTUCyECSgWwgQUC2ECioUwAcVCmIBiIUxAsRAmoFgIE1AshAkoFsIEFAthAoqFMAHFQpiAYiFMQLEQJqBYCBNQLIQJKBbCBBQLYQKKhTABxUKYgGIhTECxECagWAgTUCyECSgWwgQUC2ECioUwAcVCmIBiIUxAsRAmoFgIE1AshAkoFsIEFAthAoqFMOH/Aa8mPKWWAlnHAAAAAElFTkSuQmCC\" alt=\"Mol\"/></td>\n",
       "      <td>[[0, 0, 0, 0, 0, 0, 0, 0, 0, 0, 0, 0, 0, 0, 0,...</td>\n",
       "      <td>[[0.0, 0.0, 0.0, 0.0, 0.0, 0.0, 0.0, 0.0, 0.0,...</td>\n",
       "      <td>LCC(=O)OCCN1C(=O)Oc2c1cc1c(Nc3cc(L)c(F)cc3)ncn...</td>\n",
       "      <td>[[0.0, 0.0, 0.0, 1.0, 0.0, 0.0, 0.0, 0.0, 0.0,...</td>\n",
       "      <td>[[0.0, 0.0, 0.0, 1.0, 0.0, 0.0, 0.0, 0.0, 0.0,...</td>\n",
       "      <td>[[0.0, 0.0, 0.0, 1.0, 0.0, 0.0, 0.0, 0.0, 0.0,...</td>\n",
       "      <td>[[0.0, 0.0, 0.0, 0.0, 1.0, 0.0, 0.0, 0.0, 0.0,...</td>\n",
       "      <td>[[0.0, 0.0, 0.0, 0.0, 1.0, 0.0, 0.0, 0.0, 0.0,...</td>\n",
       "    </tr>\n",
       "    <tr>\n",
       "      <th>6373</th>\n",
       "      <td>CHEMBL3678951</td>\n",
       "      <td>1.0</td>\n",
       "      <td>nM</td>\n",
       "      <td>FC(F)(F)c1cc(Nc2n(C(C)C)c3nc(Nc4ccc(N5CC[NH+](...</td>\n",
       "      <td>9.000000</td>\n",
       "      <td><img data-content=\"rdkit/molecule\" src=\"data:image/png;base64,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\" alt=\"Mol\"/></td>\n",
       "      <td>[[0, 0, 0, 0, 0, 0, 0, 0, 0, 0, 0, 0, 0, 0, 0,...</td>\n",
       "      <td>[[0.0, 0.0, 0.0, 0.0, 0.0, 0.0, 0.0, 0.0, 0.0,...</td>\n",
       "      <td>FC(F)(F)c1cc(Nc2n(C(C)C)c3nc(Nc4ccc(N5CC[NH+](...</td>\n",
       "      <td>[[0.0, 0.0, 1.0, 0.0, 0.0, 1.0, 0.0, 0.0, 0.0,...</td>\n",
       "      <td>[[0.0, 0.0, 1.0, 0.0, 0.0, 1.0, 0.0, 0.0, 0.0,...</td>\n",
       "      <td>[[0.0, 0.0, 1.0, 0.0, 0.0, 1.0, 0.0, 0.0, 0.0,...</td>\n",
       "      <td>[[0.0, 0.0, 1.0, 0.0, 0.0, 1.0, 0.0, 0.0, 0.0,...</td>\n",
       "      <td>[[0.0, 0.0, 1.0, 0.0, 0.0, 1.0, 0.0, 0.0, 0.0,...</td>\n",
       "    </tr>\n",
       "    <tr>\n",
       "      <th>2442</th>\n",
       "      <td>CHEMBL504034</td>\n",
       "      <td>40.0</td>\n",
       "      <td>nM</td>\n",
       "      <td>Clc1c(OCc2cc(F)ccc2)ccc(Nc2ncnc3c2sc(C#C[C@H]2...</td>\n",
       "      <td>7.397940</td>\n",
       "      <td><img data-content=\"rdkit/molecule\" src=\"data:image/png;base64,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\" alt=\"Mol\"/></td>\n",
       "      <td>[[0, 0, 0, 0, 0, 0, 0, 0, 0, 0, 0, 0, 0, 0, 0,...</td>\n",
       "      <td>[[0.0, 0.0, 0.0, 0.0, 0.0, 0.0, 0.0, 0.0, 0.0,...</td>\n",
       "      <td>Lc1c(OCc2cc(F)ccc2)ccc(Nc2ncnc3c2sc(C#C[C@H]2N...</td>\n",
       "      <td>[[0.0, 0.0, 0.0, 0.0, 0.0, 0.0, 0.0, 0.0, 0.0,...</td>\n",
       "      <td>[[0.0, 0.0, 0.0, 0.0, 0.0, 0.0, 0.0, 0.0, 0.0,...</td>\n",
       "      <td>[[0.0, 0.0, 0.0, 0.0, 0.0, 0.0, 0.0, 0.0, 0.0,...</td>\n",
       "      <td>[[0.0, 0.0, 0.0, 0.0, 0.0, 0.0, 0.0, 0.0, 0.0,...</td>\n",
       "      <td>[[0.0, 0.0, 0.0, 0.0, 0.0, 0.0, 0.0, 0.0, 0.0,...</td>\n",
       "    </tr>\n",
       "    <tr>\n",
       "      <th>1084</th>\n",
       "      <td>CHEMBL158797</td>\n",
       "      <td>43000.0</td>\n",
       "      <td>nM</td>\n",
       "      <td>S(Sc1n(C)c2c(c1C(=O)NCC(O)CO)cccc2)c1n(C)c2c(c...</td>\n",
       "      <td>4.366531</td>\n",
       "      <td><img data-content=\"rdkit/molecule\" src=\"data:image/png;base64,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\" alt=\"Mol\"/></td>\n",
       "      <td>[[0, 0, 0, 0, 0, 0, 0, 0, 0, 0, 0, 0, 0, 0, 0,...</td>\n",
       "      <td>[[0.0, 0.0, 0.0, 0.0, 0.0, 0.0, 0.0, 0.0, 0.0,...</td>\n",
       "      <td>S(Sc1n(C)c2c(c1C(=O)NCC(O)CO)cccc2)c1n(C)c2c(c...</td>\n",
       "      <td>[[0.0, 1.0, 0.0, 0.0, 0.0, 0.0, 1.0, 0.0, 0.0,...</td>\n",
       "      <td>[[0.0, 1.0, 0.0, 0.0, 0.0, 0.0, 1.0, 0.0, 0.0,...</td>\n",
       "      <td>[[0.0, 1.0, 0.0, 0.0, 0.0, 0.0, 1.0, 0.0, 0.0,...</td>\n",
       "      <td>[[0.0, 1.0, 0.0, 0.0, 0.0, 0.0, 1.0, 0.0, 0.0,...</td>\n",
       "      <td>[[0.0, 1.0, 0.0, 0.0, 0.0, 0.0, 1.0, 0.0, 0.0,...</td>\n",
       "    </tr>\n",
       "  </tbody>\n",
       "</table>\n",
       "</div>"
      ],
      "text/plain": [
       "          chembl_id     IC50 units  \\\n",
       "1777   CHEMBL207869     77.0    nM   \n",
       "5785  CHEMBL3940060    330.0    nM   \n",
       "6373  CHEMBL3678951      1.0    nM   \n",
       "2442   CHEMBL504034     40.0    nM   \n",
       "1084   CHEMBL158797  43000.0    nM   \n",
       "\n",
       "                                       canonical_smiles   pIC50\\r  \\\n",
       "1777  Clc1c(OCc2cc(F)ccc2)ccc(Nc2c(C#Cc3ncccn3)cncn2)c1  7.113509   \n",
       "5785  ClCC(=O)OCCN1C(=O)Oc2c1cc1c(Nc3cc(Cl)c(F)cc3)n...  6.481486   \n",
       "6373  FC(F)(F)c1cc(Nc2n(C(C)C)c3nc(Nc4ccc(N5CC[NH+](...  9.000000   \n",
       "2442  Clc1c(OCc2cc(F)ccc2)ccc(Nc2ncnc3c2sc(C#C[C@H]2...  7.397940   \n",
       "1084  S(Sc1n(C)c2c(c1C(=O)NCC(O)CO)cccc2)c1n(C)c2c(c...  4.366531   \n",
       "\n",
       "                                             2D_Figures  \\\n",
       "1777  <img data-content=\"rdkit/molecule\" src=\"data:i...   \n",
       "5785  <img data-content=\"rdkit/molecule\" src=\"data:i...   \n",
       "6373  <img data-content=\"rdkit/molecule\" src=\"data:i...   \n",
       "2442  <img data-content=\"rdkit/molecule\" src=\"data:i...   \n",
       "1084  <img data-content=\"rdkit/molecule\" src=\"data:i...   \n",
       "\n",
       "                                     Own_OneHotEncoding  \\\n",
       "1777  [[0, 0, 0, 0, 0, 0, 0, 0, 0, 0, 0, 0, 0, 0, 0,...   \n",
       "5785  [[0, 0, 0, 0, 0, 0, 0, 0, 0, 0, 0, 0, 0, 0, 0,...   \n",
       "6373  [[0, 0, 0, 0, 0, 0, 0, 0, 0, 0, 0, 0, 0, 0, 0,...   \n",
       "2442  [[0, 0, 0, 0, 0, 0, 0, 0, 0, 0, 0, 0, 0, 0, 0,...   \n",
       "1084  [[0, 0, 0, 0, 0, 0, 0, 0, 0, 0, 0, 0, 0, 0, 0,...   \n",
       "\n",
       "                              UniqueChar_OneHotEncoding  \\\n",
       "1777  [[0.0, 0.0, 0.0, 0.0, 0.0, 0.0, 0.0, 0.0, 0.0,...   \n",
       "5785  [[0.0, 0.0, 0.0, 0.0, 0.0, 0.0, 0.0, 0.0, 0.0,...   \n",
       "6373  [[0.0, 0.0, 0.0, 0.0, 0.0, 0.0, 0.0, 0.0, 0.0,...   \n",
       "2442  [[0.0, 0.0, 0.0, 0.0, 0.0, 0.0, 0.0, 0.0, 0.0,...   \n",
       "1084  [[0.0, 0.0, 0.0, 0.0, 0.0, 0.0, 0.0, 0.0, 0.0,...   \n",
       "\n",
       "                             Processed_canonical_smiles  \\\n",
       "1777   Lc1c(OCc2cc(F)ccc2)ccc(Nc2c(C#Cc3ncccn3)cncn2)c1   \n",
       "5785  LCC(=O)OCCN1C(=O)Oc2c1cc1c(Nc3cc(L)c(F)cc3)ncn...   \n",
       "6373  FC(F)(F)c1cc(Nc2n(C(C)C)c3nc(Nc4ccc(N5CC[NH+](...   \n",
       "2442  Lc1c(OCc2cc(F)ccc2)ccc(Nc2ncnc3c2sc(C#C[C@H]2N...   \n",
       "1084  S(Sc1n(C)c2c(c1C(=O)NCC(O)CO)cccc2)c1n(C)c2c(c...   \n",
       "\n",
       "                               sklearn_OneHotEncoded_WP  \\\n",
       "1777  [[0.0, 0.0, 0.0, 0.0, 0.0, 0.0, 0.0, 0.0, 0.0,...   \n",
       "5785  [[0.0, 0.0, 0.0, 1.0, 0.0, 0.0, 0.0, 0.0, 0.0,...   \n",
       "6373  [[0.0, 0.0, 1.0, 0.0, 0.0, 1.0, 0.0, 0.0, 0.0,...   \n",
       "2442  [[0.0, 0.0, 0.0, 0.0, 0.0, 0.0, 0.0, 0.0, 0.0,...   \n",
       "1084  [[0.0, 1.0, 0.0, 0.0, 0.0, 0.0, 1.0, 0.0, 0.0,...   \n",
       "\n",
       "                            sklearn_OneHotEncoded_later  \\\n",
       "1777  [[0.0, 0.0, 0.0, 0.0, 0.0, 0.0, 0.0, 0.0, 0.0,...   \n",
       "5785  [[0.0, 0.0, 0.0, 1.0, 0.0, 0.0, 0.0, 0.0, 0.0,...   \n",
       "6373  [[0.0, 0.0, 1.0, 0.0, 0.0, 1.0, 0.0, 0.0, 0.0,...   \n",
       "2442  [[0.0, 0.0, 0.0, 0.0, 0.0, 0.0, 0.0, 0.0, 0.0,...   \n",
       "1084  [[0.0, 1.0, 0.0, 0.0, 0.0, 0.0, 1.0, 0.0, 0.0,...   \n",
       "\n",
       "                          sklearn_OneHotEncoded_initial  \\\n",
       "1777  [[0.0, 0.0, 0.0, 0.0, 0.0, 0.0, 0.0, 0.0, 0.0,...   \n",
       "5785  [[0.0, 0.0, 0.0, 1.0, 0.0, 0.0, 0.0, 0.0, 0.0,...   \n",
       "6373  [[0.0, 0.0, 1.0, 0.0, 0.0, 1.0, 0.0, 0.0, 0.0,...   \n",
       "2442  [[0.0, 0.0, 0.0, 0.0, 0.0, 0.0, 0.0, 0.0, 0.0,...   \n",
       "1084  [[0.0, 1.0, 0.0, 0.0, 0.0, 0.0, 1.0, 0.0, 0.0,...   \n",
       "\n",
       "                                    keras_OneHotEncoded  \\\n",
       "1777  [[0.0, 0.0, 0.0, 0.0, 0.0, 0.0, 0.0, 0.0, 0.0,...   \n",
       "5785  [[0.0, 0.0, 0.0, 0.0, 1.0, 0.0, 0.0, 0.0, 0.0,...   \n",
       "6373  [[0.0, 0.0, 1.0, 0.0, 0.0, 1.0, 0.0, 0.0, 0.0,...   \n",
       "2442  [[0.0, 0.0, 0.0, 0.0, 0.0, 0.0, 0.0, 0.0, 0.0,...   \n",
       "1084  [[0.0, 1.0, 0.0, 0.0, 0.0, 0.0, 1.0, 0.0, 0.0,...   \n",
       "\n",
       "                            keras_OneHotEncoded_padding  \n",
       "1777  [[0.0, 0.0, 0.0, 0.0, 0.0, 0.0, 0.0, 0.0, 0.0,...  \n",
       "5785  [[0.0, 0.0, 0.0, 0.0, 1.0, 0.0, 0.0, 0.0, 0.0,...  \n",
       "6373  [[0.0, 0.0, 1.0, 0.0, 0.0, 1.0, 0.0, 0.0, 0.0,...  \n",
       "2442  [[0.0, 0.0, 0.0, 0.0, 0.0, 0.0, 0.0, 0.0, 0.0,...  \n",
       "1084  [[0.0, 1.0, 0.0, 0.0, 0.0, 0.0, 1.0, 0.0, 0.0,...  "
      ]
     },
     "execution_count": 44,
     "metadata": {},
     "output_type": "execute_result"
    }
   ],
   "source": [
    "# Iterate over the SMILES\n",
    "start = timer()\n",
    "for i in range(0, 3906):\n",
    "    canonical_char = split(df['canonical_smiles'].iloc[i])\n",
    "    kerasOHC = keras_OneHotEncode(canonical_char)\n",
    "    kerasOHCPadding = laterPadding(kerasOHC)\n",
    "    df['keras_OneHotEncoded_padding'].iloc[i] = kerasOHCPadding.transpose()\n",
    "end = timer()\n",
    "df.head() # NBVAL_CHECK_OUTPUT"
   ]
  },
  {
   "cell_type": "code",
   "execution_count": 45,
   "metadata": {
    "scrolled": true
   },
   "outputs": [
    {
     "name": "stdout",
     "output_type": "stream",
     "text": [
      "1.3618128000000027 secs\n"
     ]
    }
   ],
   "source": [
    "# Print time required for execution\n",
    "keras_time_WP = end - start\n",
    "print(str(keras_time_WP) + ' secs') # NBVAL_CHECK_OUTPUT"
   ]
  },
  {
   "cell_type": "markdown",
   "metadata": {},
   "source": [
    "##### Visualization with Matplotlib.imshow() function"
   ]
  },
  {
   "cell_type": "code",
   "execution_count": 46,
   "metadata": {},
   "outputs": [
    {
     "data": {
      "image/png": "[encoded data removed]",
      "text/plain": [
       "<Figure size 432x288 with 2 Axes>"
      ]
     },
     "metadata": {
      "needs_background": "light"
     },
     "output_type": "display_data"
    },
    {
     "data": {
      "text/plain": [
       "(37, 267)"
      ]
     },
     "execution_count": 46,
     "metadata": {},
     "output_type": "execute_result"
    }
   ],
   "source": [
    "# Visualization of one hot encoded matrix using matplotlib imshow() function\n",
    "First_OneHotEncoded_matrix9 = df.iloc[0]['keras_OneHotEncoded_padding']\n",
    "im = plt.imshow(First_OneHotEncoded_matrix9, cmap='hot', interpolation='None')\n",
    "plt.colorbar(im, orientation='horizontal')\n",
    "plt.xlabel('Maximum length of string (267)')\n",
    "plt.ylabel('Number of characters in SMILES')\n",
    "plt.title('Visualization of one hot encoded matrix (keras)')\n",
    "# plt.axis('auto')\n",
    "plt.show() # NBVAL_CHECK_OUTPUT\n",
    "\n",
    "# Check dimenion of the hot encoded matrix\n",
    "First_OneHotEncoded_matrix9.shape # NBVAL_CHECK_OUTPUT"
   ]
  },
  {
   "cell_type": "code",
   "execution_count": 47,
   "metadata": {},
   "outputs": [
    {
     "data": {
      "text/html": [
       "<div>\n",
       "<style scoped>\n",
       "    .dataframe tbody tr th:only-of-type {\n",
       "        vertical-align: middle;\n",
       "    }\n",
       "\n",
       "    .dataframe tbody tr th {\n",
       "        vertical-align: top;\n",
       "    }\n",
       "\n",
       "    .dataframe thead th {\n",
       "        text-align: right;\n",
       "    }\n",
       "</style>\n",
       "<table border=\"1\" class=\"dataframe\">\n",
       "  <thead>\n",
       "    <tr style=\"text-align: right;\">\n",
       "      <th></th>\n",
       "      <th>chembl_id</th>\n",
       "      <th>IC50</th>\n",
       "      <th>units</th>\n",
       "      <th>canonical_smiles</th>\n",
       "      <th>pIC50\\r</th>\n",
       "      <th>2D_Figures</th>\n",
       "      <th>Own_OneHotEncoding</th>\n",
       "      <th>UniqueChar_OneHotEncoding</th>\n",
       "      <th>Processed_canonical_smiles</th>\n",
       "      <th>sklearn_OneHotEncoded_WP</th>\n",
       "      <th>sklearn_OneHotEncoded_later</th>\n",
       "      <th>sklearn_OneHotEncoded_initial</th>\n",
       "      <th>keras_OneHotEncoded</th>\n",
       "      <th>keras_OneHotEncoded_padding</th>\n",
       "    </tr>\n",
       "  </thead>\n",
       "  <tbody>\n",
       "    <tr>\n",
       "      <th>1777</th>\n",
       "      <td>CHEMBL207869</td>\n",
       "      <td>77.0</td>\n",
       "      <td>nM</td>\n",
       "      <td>Clc1c(OCc2cc(F)ccc2)ccc(Nc2c(C#Cc3ncccn3)cncn2)c1</td>\n",
       "      <td>7.113509</td>\n",
       "      <td><img data-content=\"rdkit/molecule\" src=\"data:image/png;base64,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\" alt=\"Mol\"/></td>\n",
       "      <td>[[0, 0, 0, 0, 0, 0, 0, 0, 0, 0, 0, 0, 0, 0, 0,...</td>\n",
       "      <td>[[0.0, 0.0, 0.0, 0.0, 0.0, 0.0, 0.0, 0.0, 0.0,...</td>\n",
       "      <td>Lc1c(OCc2cc(F)ccc2)ccc(Nc2c(C#Cc3ncccn3)cncn2)c1</td>\n",
       "      <td>[[0.0, 0.0, 0.0, 0.0, 0.0, 0.0, 0.0, 0.0, 0.0,...</td>\n",
       "      <td>[[0.0, 0.0, 0.0, 0.0, 0.0, 0.0, 0.0, 0.0, 0.0,...</td>\n",
       "      <td>[[0.0, 0.0, 0.0, 0.0, 0.0, 0.0, 0.0, 0.0, 0.0,...</td>\n",
       "      <td>[[0.0, 0.0, 0.0, 0.0, 0.0, 0.0, 0.0, 0.0, 0.0,...</td>\n",
       "      <td>[[0.0, 0.0, 0.0, 0.0, 0.0, 0.0, 0.0, 0.0, 0.0,...</td>\n",
       "    </tr>\n",
       "    <tr>\n",
       "      <th>5785</th>\n",
       "      <td>CHEMBL3940060</td>\n",
       "      <td>330.0</td>\n",
       "      <td>nM</td>\n",
       "      <td>ClCC(=O)OCCN1C(=O)Oc2c1cc1c(Nc3cc(Cl)c(F)cc3)n...</td>\n",
       "      <td>6.481486</td>\n",
       "      <td><img data-content=\"rdkit/molecule\" src=\"data:image/png;base64,iVBORw0KGgoAAAANSUhEUgAAAMgAAADICAIAAAAiOjnJAAAABmJLR0QA/wD/AP+gvaeTAAAXnUlEQVR4nO2de1RU19XA98zwdBhmEMVHFAQUNBqloomWGI3iAxFtjdNWa0iyimM+WUATbcCVptisrGRqqw5fll8zappSo2lHayIGjIogIooEH0hilUd4FKNA0BkYnvM43x8HxwkiDjP3MA/3b/nHdebefQ/en/sc7t3nHh4hBBCEa/j2bgDimqBYCBNQLIQJKBbCBBQLYQKKhTABxUKYgGIhTECxECagWAgTUCyECSgWwgQUC2ECioUwAcVCmIBiIUxAsRAmoFgIE1AshAkoFsIEFAthAoqFMAHFQpiAYiFMQLEQJqBYCBNQLIQJKBbCBBQLYQKKhTABxUKYgGIhTECxECagWAgTUCyECSgWwgQUC2ECioUwAcVCmIBiIUxAsRAmoFgIE1AshAkoFsIEFAthAoqFMAHFQpiAYiFMQLEQJqBYduP4cQCAqiqoqrJ3UxjgZu8GPLlUVEBFBYSFQWgo6HTg7m7vBnEKZiyLuHr16qVLl5qbm20PpdfD9u1QVgYAEBYGX3wB2dkwcSJkZEB3t+3hHQaCDEhjY+OaNWv4fH5gYKBQKExOTr59+7bV0crLyezZBIDMnEl27SKEEJmMLFlCAAgAmTCB7N1Leno4a7wdQbEG4tNPP/X39wcAkUgUGRnJ4/EAQCgUvvXWW01NTYMKpdMRuZx4ehIAMnYsycp68JXBQLKySEREr16BgUShIF1dHP8sQwyK1T+3b9/++c9/TpP60qVL6+rqCCFlZWVSqdSkl+XZq6yMREYSAMLjEZmMtLY+fLof6eXlRSIjVyoUii6n9QvF6geVSkUTlVgsViqVRqORfl5UVKTT6QalV3d39zvvvLNgwUcAJCSE5OX1s09bGxk5kkRFkbw8YjCQzz4jv/hFMXU6ODh43759PU7YO7qcWAoFUShIT491Q5Xvv/9+1apV9KLGxMTU19ebvqqtrfXw8JgwYYJSqbRQr5KSkmnTpgGASOSbmqrWavs/aUEB8fXt7QeXLCFFRUaDwZCVlRUREUFbEhQU5HTZy7XEUih6NzZsIMOGkehoIpeT0lJiMDz2UKPRmJmZ6efnBwASiUSpVPbZ4dy5c5MmTaJXetKkSZmZmQPo1dnZmZ6e7u7uDgAhISH5+fkDn721lcjlRCIhAGT+/EtRUVH5+fkGg+HgwYNTpkyhJ91FR/tOgouKtWJFbwagf/z9yZo1P+zbd+PGjX6Pq6mpiY6OptdvxYoVDQ0N/e5mMBhUKlV4eLipn6LZq6SkJDY2ln7o4+MTHx8fFhYGAAKBYMuWLR0dHRY2v6WFvPMOCQ2NMo3tzp8/bzAYDhw4MHz4cLFYfOHChcH/o9gHVxHr3j0ik5EDB3q7wspK0thIVCoik5HgYKrX/73wAgCMGjVKKpUqlcra2lpCiNFoVCqVIpEIAPz8/B5OVA/zKL2uXr1Ks9ewYcMAYOLEiQUFBVb8KC0tLb///e99fX0BwN3dnabAxYsXA8BXX31lRUC74CpiJSQQALJiRf/fVlWRPXt2/fa3AQEB5vfwwsPDJ0+eTLd/+ctfDuoOgk6ny8zMNHWOYWFhubm5hJCjR48CwPDhw20cElG9Nm/eTP+6Zs0aAPjXv/5lS8yhxCXEOnOG8HjE05N8++1j962urlYqlVKplA6nJkyYIJFIDh8+bN2ZafaiHV9xcTEhRK1W0/te1gV8FAkJCQCwZ88ebsOyw/nF6uoikycTAPLuu4M6TqfTJSUlAcCmTZtsbIJOpzN1UgaDgc/n83g8vV5vY1hzNm/eDADbt2/nMCZTnP9Z4bZtcOMGTJsGqamDOs7NzW369OkA0NXVZWMT3Nzcli5dSrf5fD5NV21tbTaGNUcsFgOARqPhMCZTnFssw7VrsGMH8Pmwdy94eFh4VFpaWkBAwP79+xldLRqW9oncxkSxhgKDwTBfJsv+6U/1b7wBc+ZYfmB3d3dzc3NzczNTsbgN6+//mkRyt7U1g8OYTHHieiyFQlF08eKmwMBvjh0TDeZA04V3IrGEQpFaDZwmQbY4a8aqq6vbtm0bAHz44Yf0LpTlmC68RCIBJxFLIgEAcJ6e0MEzVleXRqNpam3VaDRqtVqtVms0Go1GExIS8tFHH2m12nXr1q1cuXKwUftkLG4HQwDAwlexGADFspL33oOCAlCrQaPp/dPdXTJ//pKCgj47zpw58/Lly8OHD9+1a5cV5zFdeKcavAOAM3WFDiBWRgYAQEoKlJVBbu6PvvLwkAiFoaGhEolEIpGI73PkyBEA2LlzZ5876RZiuvDe3t4eHh7d3d3d3d2enp62/yjm8TFj2ZWMDEhJ6d343e9AJgOx+MEfb+/ZAKY5LO3t7bQrrK6urq+v7+npse6c5hdeLBY3NzdrNBrrHH1sfO5iAgC0tgIhwONxGJgV9hbLHELg2rUH/WBrK2g0tSNHLvr6a+qTXq+nO44cORIAEhMTw8LC5s+fP9jzPCyWWq12cLHc3KClBXx9ncMqsL9YYWG9XWFsLBw8COnpfb73mTXru+++o9ve3t60KwwMDJw6dapCoXjppZdKSkpCQkIGdc4+YgFHEhiNRj6fDxwN3o8fh/HjYdq0B3+NiemdgThxoo0tHQrsLVZMDMTE9G7PnQtvvPGgH/T1BbHY29+/UiSiPnmY3Vs3GAwVFRU5OTmrV68uKioSCoWWn9P8wnMill6v37FjR05OTl5enkAgsHHwrlZDairs3QszZkBJCbi7AyEPJiHeL6dweOz9sNJ67t69S8sKNm5MvV+VbilJSUlbt27V6/WrV68GAKurGwghly9fnjFjBgDweLxTp04RQvbu3QsAY8aM+c9//jPYaNnZZNw4AkC8vYlcTvR6olKRp58m771HcnKITEYqK61u6ZDixGIRQm7cuLFw4WtCoXbbNisjvPrqqwCwb98+K47t6emRy+U0jwYHB58+fbqjo2PLli0CgcDLywsA+Hy+VCq1UK/m5uZ169b95CctAOT558nNm+T2bbJ6dW8NLK00Q7GGjhMniJsb4fHIYGvgbt26JZfL/fz8RowYERQUpFKpjIPJe1euXKGTHXg8nkwma2trKyoqomWDbm5ur7322qZNmyzX69ChQ/S3h7CwpRkZRoOBqFRkxAgCQHx9iUJhSdW+Y+H0YhFC/vKX3r6jtPTxO/f09Hz++eexsbECgYAOBujvmADw3HPP5eTkPDZCZ2dnamoqPTw0NDQ/P7+jo8P0ydSpUy9evEj3rK+vT05OHlivnp4eWh0KAC+++GJ1dfWtW22mkv1ly4jZRCFnwhXEIvcrk4OCSGPjI/epqCDbtx8fPXo0vYqenp5r167Nzc3VarUKhWLMmDH08zlz5mRlZT0qe50/f56mJT6fL5PJtFptYWEhHeq5ubmlpqY+XJH8sF595nTEx8cPGzZMLpfTetQRIwJmzLgnFhOlkgx27Og4uIhYXV1k7tzeeXkPf6VSkehowuORwMAqHo83efJkuVzep8K9vb39Yb36hOro6Bg1apQpLbW3t6emptJbDM8888zXX389QAvr6uoepdfdu3fr6urq6upM1YKvvpp+65at/yb2xUXEIoTcvk3mzCHmF7esjCQlET+/3m7Fx4f85jfk4sXyAYL0m73Md1CpVG+//XZXV9eJEyeCgoIAwN3dPTU1tbu725JG9qsXnSlEp+X0O6XRGXEdsSh0jFRZSa5dI0Jhr1LPPkv27OnnjQmPYmC91Gq1TCajk1RnzJhx+fLlwTaytrZ2w4YNdDqrQCCgggLASy+9dOfOncFGc0xcTSw6rTAnh1RWkjffJMnJpKzMylBUL9OYjOqVk5Mzfvx4APDy8kpPT7flrQo0e7m7uwcFBUkkkszMTKtDOSAuKBa3NxK1Wu2f/vQn02+OlLlz51px87Nf3nrrLQBISkriJJrj4KwVpI+CkAePiDiBvg2rpqZGoVBERETEx8fv2LGjsLDQNNPVRiZMmAAAVldqOCz2flbINbduwfTp8MEHHD+pFQqFKSkpycnJPK6rC5xu+o2FuFrGys2F8nLw9mYSnHOrgE0dsyPgUmK1tMC1a+DlBXPn2rspFsOo7t7uuJRY+flgNEJUFKuMxQJX7Qpdaox1+jQAwMKF9m7HYJBIxi1YUOTjM7gZbI4PjxBi7zZwRng4VFRAcTE895y9m2Ixra0gFoOPD3D6qgf74zpdYUODRqfr8fWFyEh7N2UwiEQgEEB7O9wv6HcRXEes06e/qKnxXL58k5tTde88HohEQAi0ttq7KZziOmLl5eUBwJw54fZuyKBxujmDluBqYi10rqE7AKBYjszNmzcbGhoCAgKmmSZMOQ8uKZZTjUcezenTpwFg4cKFLG6OsyYpCaRSCA7mMualS5caGhouXLjw+uuv08eRQ429n4JzgF6vp2+rdpZ3v5qKxiorf7TNCaa5Q/St4O7u7i+//HLlkE/uceKu8M6dO4cOHYqPjw8ICMjLy3v22WedZYBVUQFVVVBZ2budkdG7bfstxeLi4oiIiLS0NL1ev3LlynXr1hmNxv379z/99NMymay2ttbWE1jOEItsI1qt9ssvv0xOTu5TtTJp0qRvLXgXt4NAi8boOgfmBWQff0yiokhurjUxzWcKhYaGnjlzhn7+3XffyWQyNzc3GNrs5RxiVVdXKxSK6Oho85cNCYXC6OhouVx+/fp1ezdwcNCVWWiZK92mYtGl5wDIiy+SQS1qYT6lMTk5ub29nX5eWVm5a9eujo6OodfLccVqampSqVQymeypp54yycTn8yMjI1NTU0+dOmXh/AUnoq2NyOUPZn9Ykr36TGksKSkx//aVV14BgJEjR8rl8vb29qHUy0HF+u9//0tLyymBgYEJCQkqlaqlpcXeTWOOWk3++MdevYTCtri41WfPnu13z8LCQrrmyqOmNGZnZ8+aNYv+G44ZM0ahUPSbvaqqqjj/KRxRLKPROHr0aG9v70WLFikUCq6qy50LqteyZX+mWixcuNBcL/MpjdOnTy8dcA74qVOnZs+eTePQ7NXR0XHz5s3169fTVOfh4bF161Zu2++IYpWXlwPA2LFj7d0Q+9Pa2kpfMEG1iIqKOn369FdffRUYGAiDnNJorldAQADVi2YvgUCwePHivH6Xf7UWRxRLoVAAwMsvv2zvhjgK9+7d27ZtGy1ihvsV0rNnzy4vH2jy7cMYjcasrKzI++UfY8eOpUOLlJQUAHj77bc5bLMj3sdy3qd+jJBIJOnp6fX19XK53MfHx8fHZ+vWrRcuXBjs8ysejxcXF1daWkqz18yZM4cPHw4AoaGhwHl5NIeScoJer6f/NelClUgf6MJSV65csTGO0WhUq9V0OzMzEwDWr19vc+se4HAZq7S0VK1WT5o0yTTxHDHHVCNfWFi4efPmw4cPWxeHx+PRUMCm7t7hxNJfujR/xoyYJUvs3RAHxSTBN998s3PnTvr03UZYTEGzQayMjN4XHnNK1JEjZ8rKMgb/ku0nBBbrtbCYgmatWPTF/ykpvW7ZvJZkL11dcP488HiwYAE3AV0OFuu1OGpXeP48BAfDmTPchOrshBkz4Mcv4UBMmLKLg4tlbaGf+Yv/t2+HO3dg5UrIzoZ582xqTl4eAMCiRTYFcWlYLLYoFot5PF5rayshhKtKSWszVkwMpKTAnDnw6afw17/CK69AWxssW9ZrhtU445TToYWFWAKBQCgUGo1GDtextqE0ua0N4uKguRm0Wvjb34DPh08+gbg4OHoUoqOtDHjpEri5wfPPW98qV4fRKp5isVir1Wo0GvrGStuxYYwlEsHf/w5eXrBjByQmwt69kJAAHR2walVFfr41AQmBnTthyxbg6GdzSUxiiUQiPp+v1Wr1XEx15XyYZdvgfflyOHIEvLzgo48gMRGUSnj99cOzZk2PiTl27Nigo33yCRgM8MEHNjXJ1TElKh6PJxKJCCGc9F8OJhYAxMTAv/8NXl6gVEJSknH37sKIiO7u7jVr1mRlZVkU4cYN+PjjvvcvkEdgfs/JRhuampq0Wi3d5vweKRe3G5Yvh6NHwdv75PXrGzdu3LlzZ0pKSk9Pj1Qq/eKLL/o/RKuFY8dg40YIDoYpUyAhAVpaOGjJE4C5TOPHjw8MDOzs7LQizqFDh6ZNm5aWlmYelst7pFw9dPwuP9/b2xsAEhISDAbD1q1bAcDDw+PIkSN0B51Od+7cuW1/+INx3jwiEPSW3wKQgADy61+TvXt733jsLKsQ2Qna8Q0bNszqCN9///2qVavo1V+6dKlOp6uvrw8JCfHz85s+fXpxcTEn7eSyuqGgoMDHxwcA1q5dq9PptmzZAgCBgYG7d++WSqWmarW7ERHEzY1ERpL0dFJa6nzrD9kbWlXc2dlpxbEqlcrf35+mKKVSaTAY9uzZQ38TpNcOAJYvX25aDshqOC6bKSwsFIlEAPCrX/1Kp9MF/3h6b3h4eHJycuXJk0Sr5fa8TxQpKSlisTg4OFipVOr1eguPMk9Uy5Ytq6+vr6mpib5/Yyg2Nra8vDw9Pd1U8hAdHW2LXtzXY509e5a69dRTT40bN04oFK5YsUKpVNbU1HB+rieTmzdvmlYrnjJlyoEDBwyPy/oqlYrW9NElVegiK/Qy+fn5mS+y0tzcnJaWZspe6efOfWtVFmBS6FdUVBQSEiIQCDw8PDQaDYtTPOH09PRkZmZOur+O75QpUzIzM/vNXrW1tfT9AzQtNTQ0VFdXm6pzpVJpn8WqKD/88EN6evpzP/vZ7NLSyNLS/6mo+GaQerGqID106BAALFiwgFF8hFimV3FxsUAgoGmJJiqajUaNGvXYBYvv9fR82NAw7/LlyNLSyNLSlMpKy7MXK7ESExMB4N1332UUHzHxWL3279/f2NhYVVU1/36Vm1QqbW5utjD+PZ3uf830+l11tSWLKLISi874LioqYhQf6QPVa+L9BTnM9dLpdAqFgr58ZvTo0Z9//rkV8dU6nfLWrflXrmyvry9Sqw82Nh4cYNFRRmLdunULAEQikS2LYyFW8LBe77//vmk6oVQqtXEq+T2d7p5ON7BSFCZi/eMf/6BDRRbBkcdirpdQKASAoKCgEydOcBX/YGNjkVpd/9CMfnOYTKbAiYH2xd3dPT4+/vr162lpae3t7ePGjSsvL1/C6fyUn4rF483e/PMwTMTKz88HgEVYCGpX3N3d169fDwAikYjesuKKtQEBj92He7EqKyvr6ur8/f2feeYZzoMjg8KOC/VwL5apH6TvQkHsiB3XrOP+2tMplNgPOgJCodDNza29vV2n0w3xqTkWixBy5swZQLEcAx6PRysXWod8QRWO3/N+7dq15ubm8ePHT+R26VzEWsZPHe9j8NF0avzBfyjPy7FY2A86Gjwlr76zXj18qFdw5UYso9F49erVkydP0nem4R0sx0EsEAOAxjDU43ebxGpqaiooKMjNzc3OzqaPcQBg9+7dcXFxXLQN4QCnEUtP9MXtxV9qvsxtyxW+Lzy7/yz9PCgoaMl9uJr0iNiORCABRxbrju7OZ/c+O9l68qz2bIexg34474V5sXdjly5dumTJkvBw51so8EmAZiy1wcHGWBlNGQCQEpDyz3v/fLPhTfphiGfICvGKOHHcvJ/M80wY6IERYnccsSvMaMpICUip6q6q6q4ihGwYseEFnxcWixaPch81ZO1DbGS0++gQzxCRgMtnhZbw+K5woudEAODz+HsC97BvD8IxiSMTE0cmDv15B7rzHuYVltGUkdGUUdVdNWQNQriFXkEAON56fCjPyyO2L5KHOCqmwQwAZGuyUwJShuzULrJ0LzIAdDAzxKBYrgwdzABArDh2iE+NXSHCBKzFQ5iAYiFMQLEQJqBYCBNQLIQJKBbCBBQLYQKKhTABxUKYgGIhTECxECagWAgTUCyECSgWwgQUC2ECioUwAcVCmIBiIUxAsRAmoFgIE1AshAkoFsIEFAthAoqFMAHFQpiAYiFMQLEQJqBYCBNQLIQJKBbCBBQLYQKKhTABxUKYgGIhTECxECagWAgTUCyECSgWwgQUC2ECioUwAcVCmIBiIUxAsRAmoFgIE1AshAkoFsIEFAthAoqFMOH/Aa8mPKWWAlnHAAAAAElFTkSuQmCC\" alt=\"Mol\"/></td>\n",
       "      <td>[[0, 0, 0, 0, 0, 0, 0, 0, 0, 0, 0, 0, 0, 0, 0,...</td>\n",
       "      <td>[[0.0, 0.0, 0.0, 0.0, 0.0, 0.0, 0.0, 0.0, 0.0,...</td>\n",
       "      <td>LCC(=O)OCCN1C(=O)Oc2c1cc1c(Nc3cc(L)c(F)cc3)ncn...</td>\n",
       "      <td>[[0.0, 0.0, 0.0, 1.0, 0.0, 0.0, 0.0, 0.0, 0.0,...</td>\n",
       "      <td>[[0.0, 0.0, 0.0, 1.0, 0.0, 0.0, 0.0, 0.0, 0.0,...</td>\n",
       "      <td>[[0.0, 0.0, 0.0, 1.0, 0.0, 0.0, 0.0, 0.0, 0.0,...</td>\n",
       "      <td>[[0.0, 0.0, 0.0, 0.0, 1.0, 0.0, 0.0, 0.0, 0.0,...</td>\n",
       "      <td>[[0.0, 0.0, 0.0, 0.0, 1.0, 0.0, 0.0, 0.0, 0.0,...</td>\n",
       "    </tr>\n",
       "    <tr>\n",
       "      <th>6373</th>\n",
       "      <td>CHEMBL3678951</td>\n",
       "      <td>1.0</td>\n",
       "      <td>nM</td>\n",
       "      <td>FC(F)(F)c1cc(Nc2n(C(C)C)c3nc(Nc4ccc(N5CC[NH+](...</td>\n",
       "      <td>9.000000</td>\n",
       "      <td><img data-content=\"rdkit/molecule\" src=\"data:image/png;base64,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\" alt=\"Mol\"/></td>\n",
       "      <td>[[0, 0, 0, 0, 0, 0, 0, 0, 0, 0, 0, 0, 0, 0, 0,...</td>\n",
       "      <td>[[0.0, 0.0, 0.0, 0.0, 0.0, 0.0, 0.0, 0.0, 0.0,...</td>\n",
       "      <td>FC(F)(F)c1cc(Nc2n(C(C)C)c3nc(Nc4ccc(N5CC[NH+](...</td>\n",
       "      <td>[[0.0, 0.0, 1.0, 0.0, 0.0, 1.0, 0.0, 0.0, 0.0,...</td>\n",
       "      <td>[[0.0, 0.0, 1.0, 0.0, 0.0, 1.0, 0.0, 0.0, 0.0,...</td>\n",
       "      <td>[[0.0, 0.0, 1.0, 0.0, 0.0, 1.0, 0.0, 0.0, 0.0,...</td>\n",
       "      <td>[[0.0, 0.0, 1.0, 0.0, 0.0, 1.0, 0.0, 0.0, 0.0,...</td>\n",
       "      <td>[[0.0, 0.0, 1.0, 0.0, 0.0, 1.0, 0.0, 0.0, 0.0,...</td>\n",
       "    </tr>\n",
       "    <tr>\n",
       "      <th>2442</th>\n",
       "      <td>CHEMBL504034</td>\n",
       "      <td>40.0</td>\n",
       "      <td>nM</td>\n",
       "      <td>Clc1c(OCc2cc(F)ccc2)ccc(Nc2ncnc3c2sc(C#C[C@H]2...</td>\n",
       "      <td>7.397940</td>\n",
       "      <td><img data-content=\"rdkit/molecule\" src=\"data:image/png;base64,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\" alt=\"Mol\"/></td>\n",
       "      <td>[[0, 0, 0, 0, 0, 0, 0, 0, 0, 0, 0, 0, 0, 0, 0,...</td>\n",
       "      <td>[[0.0, 0.0, 0.0, 0.0, 0.0, 0.0, 0.0, 0.0, 0.0,...</td>\n",
       "      <td>Lc1c(OCc2cc(F)ccc2)ccc(Nc2ncnc3c2sc(C#C[C@H]2N...</td>\n",
       "      <td>[[0.0, 0.0, 0.0, 0.0, 0.0, 0.0, 0.0, 0.0, 0.0,...</td>\n",
       "      <td>[[0.0, 0.0, 0.0, 0.0, 0.0, 0.0, 0.0, 0.0, 0.0,...</td>\n",
       "      <td>[[0.0, 0.0, 0.0, 0.0, 0.0, 0.0, 0.0, 0.0, 0.0,...</td>\n",
       "      <td>[[0.0, 0.0, 0.0, 0.0, 0.0, 0.0, 0.0, 0.0, 0.0,...</td>\n",
       "      <td>[[0.0, 0.0, 0.0, 0.0, 0.0, 0.0, 0.0, 0.0, 0.0,...</td>\n",
       "    </tr>\n",
       "    <tr>\n",
       "      <th>1084</th>\n",
       "      <td>CHEMBL158797</td>\n",
       "      <td>43000.0</td>\n",
       "      <td>nM</td>\n",
       "      <td>S(Sc1n(C)c2c(c1C(=O)NCC(O)CO)cccc2)c1n(C)c2c(c...</td>\n",
       "      <td>4.366531</td>\n",
       "      <td><img data-content=\"rdkit/molecule\" src=\"data:image/png;base64,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\" alt=\"Mol\"/></td>\n",
       "      <td>[[0, 0, 0, 0, 0, 0, 0, 0, 0, 0, 0, 0, 0, 0, 0,...</td>\n",
       "      <td>[[0.0, 0.0, 0.0, 0.0, 0.0, 0.0, 0.0, 0.0, 0.0,...</td>\n",
       "      <td>S(Sc1n(C)c2c(c1C(=O)NCC(O)CO)cccc2)c1n(C)c2c(c...</td>\n",
       "      <td>[[0.0, 1.0, 0.0, 0.0, 0.0, 0.0, 1.0, 0.0, 0.0,...</td>\n",
       "      <td>[[0.0, 1.0, 0.0, 0.0, 0.0, 0.0, 1.0, 0.0, 0.0,...</td>\n",
       "      <td>[[0.0, 1.0, 0.0, 0.0, 0.0, 0.0, 1.0, 0.0, 0.0,...</td>\n",
       "      <td>[[0.0, 1.0, 0.0, 0.0, 0.0, 0.0, 1.0, 0.0, 0.0,...</td>\n",
       "      <td>[[0.0, 1.0, 0.0, 0.0, 0.0, 0.0, 1.0, 0.0, 0.0,...</td>\n",
       "    </tr>\n",
       "  </tbody>\n",
       "</table>\n",
       "</div>"
      ],
      "text/plain": [
       "          chembl_id     IC50 units  \\\n",
       "1777   CHEMBL207869     77.0    nM   \n",
       "5785  CHEMBL3940060    330.0    nM   \n",
       "6373  CHEMBL3678951      1.0    nM   \n",
       "2442   CHEMBL504034     40.0    nM   \n",
       "1084   CHEMBL158797  43000.0    nM   \n",
       "\n",
       "                                       canonical_smiles   pIC50\\r  \\\n",
       "1777  Clc1c(OCc2cc(F)ccc2)ccc(Nc2c(C#Cc3ncccn3)cncn2)c1  7.113509   \n",
       "5785  ClCC(=O)OCCN1C(=O)Oc2c1cc1c(Nc3cc(Cl)c(F)cc3)n...  6.481486   \n",
       "6373  FC(F)(F)c1cc(Nc2n(C(C)C)c3nc(Nc4ccc(N5CC[NH+](...  9.000000   \n",
       "2442  Clc1c(OCc2cc(F)ccc2)ccc(Nc2ncnc3c2sc(C#C[C@H]2...  7.397940   \n",
       "1084  S(Sc1n(C)c2c(c1C(=O)NCC(O)CO)cccc2)c1n(C)c2c(c...  4.366531   \n",
       "\n",
       "                                             2D_Figures  \\\n",
       "1777  <img data-content=\"rdkit/molecule\" src=\"data:i...   \n",
       "5785  <img data-content=\"rdkit/molecule\" src=\"data:i...   \n",
       "6373  <img data-content=\"rdkit/molecule\" src=\"data:i...   \n",
       "2442  <img data-content=\"rdkit/molecule\" src=\"data:i...   \n",
       "1084  <img data-content=\"rdkit/molecule\" src=\"data:i...   \n",
       "\n",
       "                                     Own_OneHotEncoding  \\\n",
       "1777  [[0, 0, 0, 0, 0, 0, 0, 0, 0, 0, 0, 0, 0, 0, 0,...   \n",
       "5785  [[0, 0, 0, 0, 0, 0, 0, 0, 0, 0, 0, 0, 0, 0, 0,...   \n",
       "6373  [[0, 0, 0, 0, 0, 0, 0, 0, 0, 0, 0, 0, 0, 0, 0,...   \n",
       "2442  [[0, 0, 0, 0, 0, 0, 0, 0, 0, 0, 0, 0, 0, 0, 0,...   \n",
       "1084  [[0, 0, 0, 0, 0, 0, 0, 0, 0, 0, 0, 0, 0, 0, 0,...   \n",
       "\n",
       "                              UniqueChar_OneHotEncoding  \\\n",
       "1777  [[0.0, 0.0, 0.0, 0.0, 0.0, 0.0, 0.0, 0.0, 0.0,...   \n",
       "5785  [[0.0, 0.0, 0.0, 0.0, 0.0, 0.0, 0.0, 0.0, 0.0,...   \n",
       "6373  [[0.0, 0.0, 0.0, 0.0, 0.0, 0.0, 0.0, 0.0, 0.0,...   \n",
       "2442  [[0.0, 0.0, 0.0, 0.0, 0.0, 0.0, 0.0, 0.0, 0.0,...   \n",
       "1084  [[0.0, 0.0, 0.0, 0.0, 0.0, 0.0, 0.0, 0.0, 0.0,...   \n",
       "\n",
       "                             Processed_canonical_smiles  \\\n",
       "1777   Lc1c(OCc2cc(F)ccc2)ccc(Nc2c(C#Cc3ncccn3)cncn2)c1   \n",
       "5785  LCC(=O)OCCN1C(=O)Oc2c1cc1c(Nc3cc(L)c(F)cc3)ncn...   \n",
       "6373  FC(F)(F)c1cc(Nc2n(C(C)C)c3nc(Nc4ccc(N5CC[NH+](...   \n",
       "2442  Lc1c(OCc2cc(F)ccc2)ccc(Nc2ncnc3c2sc(C#C[C@H]2N...   \n",
       "1084  S(Sc1n(C)c2c(c1C(=O)NCC(O)CO)cccc2)c1n(C)c2c(c...   \n",
       "\n",
       "                               sklearn_OneHotEncoded_WP  \\\n",
       "1777  [[0.0, 0.0, 0.0, 0.0, 0.0, 0.0, 0.0, 0.0, 0.0,...   \n",
       "5785  [[0.0, 0.0, 0.0, 1.0, 0.0, 0.0, 0.0, 0.0, 0.0,...   \n",
       "6373  [[0.0, 0.0, 1.0, 0.0, 0.0, 1.0, 0.0, 0.0, 0.0,...   \n",
       "2442  [[0.0, 0.0, 0.0, 0.0, 0.0, 0.0, 0.0, 0.0, 0.0,...   \n",
       "1084  [[0.0, 1.0, 0.0, 0.0, 0.0, 0.0, 1.0, 0.0, 0.0,...   \n",
       "\n",
       "                            sklearn_OneHotEncoded_later  \\\n",
       "1777  [[0.0, 0.0, 0.0, 0.0, 0.0, 0.0, 0.0, 0.0, 0.0,...   \n",
       "5785  [[0.0, 0.0, 0.0, 1.0, 0.0, 0.0, 0.0, 0.0, 0.0,...   \n",
       "6373  [[0.0, 0.0, 1.0, 0.0, 0.0, 1.0, 0.0, 0.0, 0.0,...   \n",
       "2442  [[0.0, 0.0, 0.0, 0.0, 0.0, 0.0, 0.0, 0.0, 0.0,...   \n",
       "1084  [[0.0, 1.0, 0.0, 0.0, 0.0, 0.0, 1.0, 0.0, 0.0,...   \n",
       "\n",
       "                          sklearn_OneHotEncoded_initial  \\\n",
       "1777  [[0.0, 0.0, 0.0, 0.0, 0.0, 0.0, 0.0, 0.0, 0.0,...   \n",
       "5785  [[0.0, 0.0, 0.0, 1.0, 0.0, 0.0, 0.0, 0.0, 0.0,...   \n",
       "6373  [[0.0, 0.0, 1.0, 0.0, 0.0, 1.0, 0.0, 0.0, 0.0,...   \n",
       "2442  [[0.0, 0.0, 0.0, 0.0, 0.0, 0.0, 0.0, 0.0, 0.0,...   \n",
       "1084  [[0.0, 1.0, 0.0, 0.0, 0.0, 0.0, 1.0, 0.0, 0.0,...   \n",
       "\n",
       "                                    keras_OneHotEncoded  \\\n",
       "1777  [[0.0, 0.0, 0.0, 0.0, 0.0, 0.0, 0.0, 0.0, 0.0,...   \n",
       "5785  [[0.0, 0.0, 0.0, 0.0, 1.0, 0.0, 0.0, 0.0, 0.0,...   \n",
       "6373  [[0.0, 0.0, 1.0, 0.0, 0.0, 1.0, 0.0, 0.0, 0.0,...   \n",
       "2442  [[0.0, 0.0, 0.0, 0.0, 0.0, 0.0, 0.0, 0.0, 0.0,...   \n",
       "1084  [[0.0, 1.0, 0.0, 0.0, 0.0, 0.0, 1.0, 0.0, 0.0,...   \n",
       "\n",
       "                            keras_OneHotEncoded_padding  \n",
       "1777  [[0.0, 0.0, 0.0, 0.0, 0.0, 0.0, 0.0, 0.0, 0.0,...  \n",
       "5785  [[0.0, 0.0, 0.0, 0.0, 1.0, 0.0, 0.0, 0.0, 0.0,...  \n",
       "6373  [[0.0, 0.0, 1.0, 0.0, 0.0, 1.0, 0.0, 0.0, 0.0,...  \n",
       "2442  [[0.0, 0.0, 0.0, 0.0, 0.0, 0.0, 0.0, 0.0, 0.0,...  \n",
       "1084  [[0.0, 1.0, 0.0, 0.0, 0.0, 0.0, 1.0, 0.0, 0.0,...  "
      ]
     },
     "execution_count": 47,
     "metadata": {},
     "output_type": "execute_result"
    }
   ],
   "source": [
    "# Final dataframe with all the one hot encoded matrices\n",
    "df.head() # NBVAL_CHECK_OUTPUT"
   ]
  },
  {
   "cell_type": "markdown",
   "metadata": {},
   "source": [
    "## Discussion \n",
    "\n",
    "As we can notice from my above implementations, the execution time varies with different implementations, \n",
    "\n",
    "- **Unequal dimension** (when no padding was performed)\n",
    "    - Unexpectedly, our own 'smiles_encoder' function worked the best with 0.89 sec execution time followed by 'Keras' implementation with 1.48 sec and one hot encoding with 'sklearn' implementation executed with 2.42 secs, the highest.  But since we have different dimensions then it won't be much useful for our machine learning Models.\n",
    "    \n",
    "- **Equal dimension** (when padding was performed)\n",
    "    - Surprisingly, even after creating equal dimensions (adding padding), my own functions 'PreprocessingData' along with 'smiles_encoder' again outperformed the other two implementations with execution time of 1.02 secs whereas 'sklearn' required approximately 3.0 secs and 'keras' 1.85 secs. In my opinion, it happened because of additional padding performed on the strings.\n",
    "    \n",
    "\n",
    "I would also like to draw your attention for the time execution difference in sklearn implementation when padding performed\n",
    "\n",
    "- **Before one hot encoding** : Time required was 3.0 secs approx.\n",
    "\n",
    "- **After one hot encoding** : Time required was 2.7 secs approx.\n",
    "\n",
    "One possible reason of this time difference could be, if we perform padding after the label encoding, then we will be having more characters to one hot encode as compared to just add padding after one encoded is accomplished.\n",
    "\n",
    "**Note:** Execution timings might differ depending upon the environment used."
   ]
  },
  {
   "cell_type": "markdown",
   "metadata": {},
   "source": [
    "### Challenges "
   ]
  },
  {
   "cell_type": "markdown",
   "metadata": {},
   "source": [
    "There were several challenges faced during the task, for instance:\n",
    "\n",
    "- Making equal dimensions of the one hot encoded Matrix.\n",
    "\n",
    "- Replacing two letter elements with unique characters.\n",
    "\n",
    "- After searching for 2 letter elements, we found a specific element `Sc` which is a metallic element, but in our dataset both 'S' and 'c' elements are present individually as well. So if we would have replaced `Sc` with single letter element then it might have effected our actual strings. So we assumed that since `Sc` is a metallic element and its rarely present in SMILES, so we did not replace this element."
   ]
  },
  {
   "cell_type": "markdown",
   "metadata": {},
   "source": [
    "### Quiz"
   ]
  },
  {
   "cell_type": "markdown",
   "metadata": {},
   "source": [
    "- Why is it required to have equal dimensions of the one hot encoded matrix ?\n",
    "- Is there any other way to pre-process the data ?\n",
    "- How and which machine learning models can be applied on the above dataset ?"
   ]
  }
 ],
 "metadata": {
  "kernelspec": {
   "display_name": "Python 3",
   "language": "python",
   "name": "python3"
  },
  "language_info": {
   "codemirror_mode": {
    "name": "ipython",
    "version": 3
   },
   "file_extension": ".py",
   "mimetype": "text/x-python",
   "name": "python",
   "nbconvert_exporter": "python",
   "pygments_lexer": "ipython3",
   "version": "3.7.0"
  }
 },
 "nbformat": 4,
 "nbformat_minor": 4
}
